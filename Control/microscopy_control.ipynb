{
 "cells": [
  {
   "cell_type": "code",
   "execution_count": 1,
   "metadata": {},
   "outputs": [],
   "source": [
    "# Python 2/3 compatibility.\n",
    "from __future__ import print_function\n",
    "import sys\n",
    "import os\n",
    "import io\n",
    "sys.path.append('../')\n",
    "sys.path.append('../../')\n",
    "import pprint\n",
    "import time\n",
    "import threading\n",
    "import matplotlib.pyplot as plt\n",
    "import numpy as np\n",
    "import scipy\n",
    "from scipy import interpolate\n",
    "import PIL\n",
    "from Xlib import X, display, Xutil\n",
    "from Xlib.ext import randr, xinerama\n",
    "import subprocess\n",
    "import datetime\n",
    "import pandas as pd\n",
    "os.system('sh -c \\'echo 2000 > /sys/module/usbcore/parameters/usbfs_memory_mb\\'')\n",
    "import warnings\n",
    "warnings.filterwarnings('ignore')\n",
    "\n",
    "import _thread\n",
    "\n",
    "import PySpin\n",
    "\n",
    "from ipywidgets import interact, interactive, fixed, interact_manual, Video\n",
    "import ipywidgets as widgets\n",
    "import IPython.display as ipd\n",
    "from ipyfilechooser import FileChooser\n",
    "import ipysheet\n",
    "\n",
    "\n",
    "from camera import Camera\n",
    "from illumination import Illumination\n",
    "from stage import Stage\n",
    "from widgetCtr import WidgetsPanel\n",
    "\n",
    "import pyfirmata\n",
    "import pause\n",
    "\n",
    "import thorlabs_apt_device\n",
    "\n"
   ]
  },
  {
   "cell_type": "markdown",
   "metadata": {},
   "source": [
    "# Setup connections"
   ]
  },
  {
   "cell_type": "markdown",
   "metadata": {},
   "source": [
    "## List cameras"
   ]
  },
  {
   "cell_type": "code",
   "execution_count": 2,
   "metadata": {},
   "outputs": [],
   "source": [
    "# camera = Camera(camNo = 0, width = 5000, height = 3000, binning = 2, \\\n",
    "#                 exposure = 90000, framerate = 10, \\\n",
    "#                 pixelFormat = 16, gain = 5)\n",
    "# camera.setup_single_camera(isPrint = True)\n",
    "# time.sleep(2)"
   ]
  },
  {
   "cell_type": "code",
   "execution_count": 3,
   "metadata": {},
   "outputs": [
    {
     "name": "stdout",
     "output_type": "stream",
     "text": [
      "Library version: 2.5.0.80\n",
      "Number of cameras detected: 1\n",
      "\n",
      "*** DEVICE INFORMATION ***\n",
      "\n",
      "DeviceID: USB\\VID_1E10&SRL_010AE589\\&2&5&2\n",
      "DeviceSerialNumber: 17491337\n",
      "DeviceVendorName: Point Grey Research\n",
      "DeviceModelName: Grasshopper3 GS3-U3-89S6M\n",
      "DeviceType: USB3Vision\n",
      "DeviceDisplayName: Point Grey Research\n",
      "DeviceAccessStatus: OpenReadWrite\n",
      "DeviceVersion: FW:v2.25.3.01 FPGA:v2.02\n",
      "DeviceDriverVersion: none : 0.0.0.0\n",
      "DeviceUserID: \n",
      "DeviceIsUpdater: 0\n",
      "DeviceInstanceId: USB\\VID_1E10&SRL_010AE589\\&2&5&2\n",
      "DeviceLocation: \n",
      "DeviceCurrentSpeed: SuperSpeed\n",
      "GUIXMLLocation: Device\n",
      "GUIXMLPath: Input.xml\n",
      "GenICamXMLLocation: Device\n",
      "GenICamXMLPath: \n",
      "DeviceU3VProtocol: 1\n",
      "DevicePortId: \n",
      "2048 1080\n",
      "Image Shape: (1080, 2048)\n"
     ]
    }
   ],
   "source": [
    "try:\n",
    "    test_file = open('test.txt', 'w+')\n",
    "except IOError:\n",
    "    print('Unable to write to current directory. Please check permissions.')\n",
    "    input('Press Enter to exit...')\n",
    "    exit(0)\n",
    "\n",
    "test_file.close()\n",
    "os.remove(test_file.name)\n",
    "\n",
    "# Retrieve singleton reference to system object\n",
    "system = PySpin.System.GetInstance()\n",
    "\n",
    "# Get current library version\n",
    "version = system.GetLibraryVersion()\n",
    "print('Library version: %d.%d.%d.%d' % (version.major, version.minor, version.type, version.build))\n",
    "\n",
    "# Retrieve list of cameras from the system\n",
    "cam_list = system.GetCameras() # Somehow cannot be done within Camera class.\n",
    "\n",
    "num_cameras = cam_list.GetSize()\n",
    "\n",
    "print('Number of cameras detected: %d' % num_cameras)\n",
    "\n",
    "# Finish if there are no cameras\n",
    "if num_cameras == 0:\n",
    "\n",
    "    # Clear camera list before releasing system\n",
    "    cam_list.Clear()\n",
    "\n",
    "    # Release system instance\n",
    "    system.ReleaseInstance()\n",
    "\n",
    "    print('Not enough cameras!')\n",
    "    input('Done! Press Enter to exit...')\n",
    "    exit(0)\n",
    "\n",
    "# Get camera\n",
    "for _, cam in enumerate(cam_list):\n",
    "    1\n",
    "    \n",
    "camera = Camera(cam, width = 5000, height = 3000, binning = 2, \\\n",
    "                exposure = 90000, framerate = 10, \\\n",
    "                pixelFormat = 16, gain = 5)\n",
    "camera.setup_single_camera(isPrint = True)\n",
    "# camera.cam.EndAcquisition()\n",
    "time.sleep(2)"
   ]
  },
  {
   "cell_type": "markdown",
   "metadata": {},
   "source": [
    "## Generate illumination object"
   ]
  },
  {
   "cell_type": "code",
   "execution_count": 4,
   "metadata": {},
   "outputs": [],
   "source": [
    "#os.system('xrandr --display :0.0 --size 640x480')\n",
    "# illumination = [Illumination(display=display.Display(':0.0'), screen_id = 0, lht=10)]\n",
    "\n",
    "illumination = [Illumination(display=display.Display(':0.0'), screen_id = 0, lht=10),\n",
    "               Illumination(display=display.Display(':0.0'), screen_id = 1, lht=10)]"
   ]
  },
  {
   "cell_type": "markdown",
   "metadata": {},
   "source": [
    "## Generate stage object"
   ]
  },
  {
   "cell_type": "code",
   "execution_count": 5,
   "metadata": {},
   "outputs": [],
   "source": [
    "stage = Stage()"
   ]
  },
  {
   "cell_type": "code",
   "execution_count": 6,
   "metadata": {},
   "outputs": [
    {
     "name": "stderr",
     "output_type": "stream",
     "text": [
      "Received unknown event notification from APT device 33.\n",
      "Message mot_get_kcubekstloopparams has unrecognised channel=2.\n",
      "Message mot_get_kcubekstloopparams has unrecognised channel=2.\n"
     ]
    }
   ],
   "source": [
    "widgetPanel = WidgetsPanel(camera, illumination, stage, r'/media/pLSM/Samsung_T5/nmeth/')"
   ]
  },
  {
   "cell_type": "markdown",
   "metadata": {},
   "source": [
    "## Start display and configuration"
   ]
  },
  {
   "cell_type": "code",
   "execution_count": 7,
   "metadata": {
    "scrolled": false
   },
   "outputs": [
    {
     "data": {
      "application/vnd.jupyter.widget-view+json": {
       "model_id": "a0a4dc7210bd49ea809579ae3054d46b",
       "version_major": 2,
       "version_minor": 0
      },
      "text/plain": [
       "VBox(children=(VBox(children=(IntRangeSlider(value=(0, 65535), continuous_update=False, description='Range', l…"
      ]
     },
     "metadata": {},
     "output_type": "display_data"
    }
   ],
   "source": [
    "%matplotlib inline\n",
    "\n",
    "ipd.display(widgetPanel.outputPanel)\n"
   ]
  },
  {
   "cell_type": "code",
   "execution_count": 8,
   "metadata": {},
   "outputs": [],
   "source": [
    "# widgetPanel.save_metadata_file(r'.')"
   ]
  },
  {
   "cell_type": "markdown",
   "metadata": {},
   "source": [
    "# Debugging"
   ]
  },
  {
   "cell_type": "code",
   "execution_count": 9,
   "metadata": {},
   "outputs": [],
   "source": [
    "# stage.stop_all()"
   ]
  }
 ],
 "metadata": {
  "kernelspec": {
   "display_name": "Python 3",
   "language": "python",
   "name": "python3"
  },
  "language_info": {
   "codemirror_mode": {
    "name": "ipython",
    "version": 3
   },
   "file_extension": ".py",
   "mimetype": "text/x-python",
   "name": "python",
   "nbconvert_exporter": "python",
   "pygments_lexer": "ipython3",
   "version": "3.6.9"
  },
  "widgets": {
   "application/vnd.jupyter.widget-state+json": {
    "state": {
     "0008fafc45134f8ebd807949b9d873e9": {
      "model_module": "ipysheet",
      "model_module_version": "~0.4.4",
      "model_name": "CellRangeModel",
      "state": {
       "_view_module": null,
       "_view_module_version": "",
       "column_end": 3,
       "column_start": 0,
       "squeeze_column": false,
       "type": "numeric",
       "value": [
        "",
        "",
        "",
        ""
       ]
      }
     },
     "000aca1d23e748b995ebafe4f598a957": {
      "model_module": "@jupyter-widgets/controls",
      "model_module_version": "1.5.0",
      "model_name": "SliderStyleModel",
      "state": {
       "description_width": ""
      }
     },
     "003288d8033f406fbb6d632876e6ddda": {
      "model_module": "@jupyter-widgets/controls",
      "model_module_version": "1.5.0",
      "model_name": "GridBoxModel",
      "state": {
       "children": [
        "IPY_MODEL_2bd4bcc8e29d47a8a62d93498a9a871d",
        "IPY_MODEL_61245fbee4de47c88ef768f1f2574d72",
        "IPY_MODEL_e05f548b05124de6a52ef73ba98ee227",
        "IPY_MODEL_3230a1fd48ec426c8cf10f47ac48fd34",
        "IPY_MODEL_abb98a311273474586c42c7f320288d4",
        "IPY_MODEL_88468fd446c04ddebbaa11835cfb0a19",
        "IPY_MODEL_ee0d28b740ad4b388d6279f89a1085b4"
       ],
       "layout": "IPY_MODEL_f841908b58734801882fd188b792ce61"
      }
     },
     "0129c1507af449d9b029a30a6b18d518": {
      "model_module": "ipysheet",
      "model_module_version": "~0.4.4",
      "model_name": "CellRangeModel",
      "state": {
       "_view_module": null,
       "_view_module_version": "",
       "column_end": 3,
       "column_start": 0,
       "row_end": 3,
       "row_start": 3,
       "squeeze_column": false,
       "type": "numeric",
       "value": [
        "",
        "",
        "",
        ""
       ]
      }
     },
     "018bf8d26e3944009ab8e1732c1e1a12": {
      "model_module": "ipysheet",
      "model_module_version": "~0.4.4",
      "model_name": "CellRangeModel",
      "state": {
       "_view_module": null,
       "_view_module_version": "",
       "column_end": 2,
       "column_start": 2,
       "row_end": 0,
       "row_start": 0,
       "type": "numeric",
       "value": 26.7
      }
     },
     "019bb8a8874b4b409bd7b5dab89d80c1": {
      "model_module": "@jupyter-widgets/controls",
      "model_module_version": "1.5.0",
      "model_name": "BoundedFloatTextModel",
      "state": {
       "description": "Scan min X (um)",
       "layout": "IPY_MODEL_14d6a270dc454fdbadc4b1b29483e89e",
       "max": 50,
       "step": 0.001,
       "style": "IPY_MODEL_bc246759c13941c8baeccc3cfe435497",
       "value": 24.5
      }
     },
     "01a1a021021c4c158affe031e3bb4bc8": {
      "model_module": "@jupyter-widgets/controls",
      "model_module_version": "1.5.0",
      "model_name": "BoundedFloatTextModel",
      "state": {
       "description": "Overlap ratio (%)",
       "layout": "IPY_MODEL_f53828dace2f49cbb1b893d64d3675ae",
       "max": 50,
       "step": 1,
       "style": "IPY_MODEL_ea3497f3642644989e68ca1d138020d7",
       "value": 20
      }
     },
     "021bee16db6247c1b0e4e428351483de": {
      "model_module": "@jupyter-widgets/base",
      "model_module_version": "1.2.0",
      "model_name": "LayoutModel",
      "state": {
       "grid_area": "minY",
       "width": "auto"
      }
     },
     "021f14053bce4034867277e8e8033c40": {
      "model_module": "@jupyter-widgets/controls",
      "model_module_version": "1.5.0",
      "model_name": "IntSliderModel",
      "state": {
       "continuous_update": false,
       "description": "Scan Step",
       "layout": "IPY_MODEL_d33b86fefa824534a5c7e0a7a0771bf1",
       "max": 10,
       "min": 1,
       "style": "IPY_MODEL_182cfeeca9ac48bbafc94cc5f503087a",
       "value": 10
      }
     },
     "025848094019404abfc6525aceec9122": {
      "model_module": "@jupyter-widgets/controls",
      "model_module_version": "1.5.0",
      "model_name": "IntSliderModel",
      "state": {
       "continuous_update": false,
       "description": "Red",
       "layout": "IPY_MODEL_71f73d8c0c8b456aacbe17e6f4326580",
       "max": 255,
       "style": "IPY_MODEL_4ea11dc6762f409da9984587bcc23078"
      }
     },
     "026417d0efe94fb9945b22f460cf0b50": {
      "model_module": "@jupyter-widgets/base",
      "model_module_version": "1.2.0",
      "model_name": "LayoutModel",
      "state": {
       "grid_area": "overlap",
       "width": "auto"
      }
     },
     "02a2c1df691a41bfa18a44ec9bc2872c": {
      "model_module": "@jupyter-widgets/controls",
      "model_module_version": "1.5.0",
      "model_name": "ButtonModel",
      "state": {
       "description": "WideField",
       "layout": "IPY_MODEL_2c05bbe3bae242e2a4c04a2d5f95f206",
       "style": "IPY_MODEL_f53e5fb45af84550b790cafa0b1b382b"
      }
     },
     "030c4c8f1a68473196d4a9089a972f85": {
      "model_module": "ipysheet",
      "model_module_version": "~0.4.4",
      "model_name": "CellRangeModel",
      "state": {
       "_view_module": null,
       "_view_module_version": "",
       "column_end": 0,
       "column_start": 0,
       "row_end": 5,
       "row_start": 5,
       "type": "text",
       "value": ""
      }
     },
     "0338935e5b934edf9d207de8248c102d": {
      "model_module": "@jupyter-widgets/base",
      "model_module_version": "1.2.0",
      "model_name": "LayoutModel",
      "state": {
       "width": "90%"
      }
     },
     "033c2870b4dd44a2b630b438c4d44e0d": {
      "model_module": "@jupyter-widgets/base",
      "model_module_version": "1.2.0",
      "model_name": "LayoutModel",
      "state": {
       "grid_area": "delOffset",
       "width": "auto"
      }
     },
     "033f4e615c8147cabd59c5b30ba0c24c": {
      "model_module": "@jupyter-widgets/output",
      "model_module_version": "1.0.0",
      "model_name": "OutputModel",
      "state": {
       "layout": "IPY_MODEL_a574b782edff435dbb64e194f3ce3c28"
      }
     },
     "0358b7e8649a4874b5f0bc683088ae75": {
      "model_module": "@jupyter-widgets/base",
      "model_module_version": "1.2.0",
      "model_name": "LayoutModel",
      "state": {
       "width": "90%"
      }
     },
     "04858ff4898f4a7d94170bc1d309dab7": {
      "model_module": "@jupyter-widgets/controls",
      "model_module_version": "1.5.0",
      "model_name": "HBoxModel",
      "state": {
       "children": [
        "IPY_MODEL_46c9b8c205174e2681b850d6f7a8fa77",
        "IPY_MODEL_9c08da02346c43749fbd7942a7b1d486"
       ],
       "layout": "IPY_MODEL_90103067cfb0412a82516bce5969aec9"
      }
     },
     "04a0c3e835e7476685e9f74d7003d6d5": {
      "model_module": "ipysheet",
      "model_module_version": "~0.4.4",
      "model_name": "CellRangeModel",
      "state": {
       "_view_module": null,
       "_view_module_version": "",
       "column_end": 3,
       "column_start": 0,
       "squeeze_column": false,
       "type": "numeric",
       "value": [
        26.6,
        49,
        26.5,
        -19
       ]
      }
     },
     "04e735dbe7cc4441bad01bdcea4f2993": {
      "model_module": "@jupyter-widgets/controls",
      "model_module_version": "1.5.0",
      "model_name": "ButtonStyleModel",
      "state": {}
     },
     "04ecf7dc3d4446d5a04f7bdbaa3a9ca6": {
      "model_module": "@jupyter-widgets/controls",
      "model_module_version": "1.5.0",
      "model_name": "VBoxModel",
      "state": {
       "children": [
        "IPY_MODEL_2060e7bf448f4c199e6ffc957f1249f6",
        "IPY_MODEL_f7eeb3054c37476eb2f9dbbc52b7aaad",
        "IPY_MODEL_718f7d45a0b045fe9aa82ab86575331c",
        "IPY_MODEL_9226c54849a945778ddf5188c7b21a05",
        "IPY_MODEL_5c65a701466c4145ae0a1be0a7cb960b"
       ],
       "layout": "IPY_MODEL_d610f322f41446c593774871ccda063f"
      }
     },
     "04f5e32627d842dbbbe15cb95510818c": {
      "model_module": "@jupyter-widgets/controls",
      "model_module_version": "1.5.0",
      "model_name": "VBoxModel",
      "state": {
       "children": [
        "IPY_MODEL_d4b2053654304fa7afecd96aecdf546a",
        "IPY_MODEL_a846d236e19a4a8796aeb8789df2f197",
        "IPY_MODEL_2f9d4dde531e403d8f026e7cf920c350",
        "IPY_MODEL_f944ea103f014b918bd534d6253b4ca7"
       ],
       "layout": "IPY_MODEL_5d204806009744fa99983b1fcedb5896"
      }
     },
     "04f8d1b686184a66a0fa795008160aff": {
      "model_module": "ipysheet",
      "model_module_version": "~0.4.4",
      "model_name": "CellRangeModel",
      "state": {
       "_view_module": null,
       "_view_module_version": "",
       "column_end": 3,
       "column_start": 3,
       "type": "numeric",
       "value": -19
      }
     },
     "05315d54e74341a883011aaa9cc95f20": {
      "model_module": "ipysheet",
      "model_module_version": "~0.4.4",
      "model_name": "CellRangeModel",
      "state": {
       "_view_module": null,
       "_view_module_version": "",
       "column_end": 3,
       "column_start": 0,
       "row_end": 0,
       "row_start": 0,
       "squeeze_column": false,
       "type": "text",
       "value": [
        "",
        "",
        "",
        ""
       ]
      }
     },
     "05832d5923b4454f971b6dba8def8eea": {
      "model_module": "@jupyter-widgets/controls",
      "model_module_version": "1.5.0",
      "model_name": "GridBoxModel",
      "state": {
       "children": [
        "IPY_MODEL_a5d14cd131524a90b7bb48b4c374ce82"
       ],
       "layout": "IPY_MODEL_2e6fb49eb96b4eef9ea081807ef3cb46"
      }
     },
     "05ad22532e26413daa616691f0de2ea3": {
      "model_module": "@jupyter-widgets/controls",
      "model_module_version": "1.5.0",
      "model_name": "SliderStyleModel",
      "state": {
       "description_width": ""
      }
     },
     "05fddd95c894442c86a01541c73a5c9c": {
      "model_module": "@jupyter-widgets/base",
      "model_module_version": "1.2.0",
      "model_name": "LayoutModel",
      "state": {
       "grid_area": "stageX",
       "width": "auto"
      }
     },
     "060c24974cfd462399edff026b9a4549": {
      "model_module": "ipysheet",
      "model_module_version": "~0.4.4",
      "model_name": "CellRangeModel",
      "state": {
       "_view_module": null,
       "_view_module_version": "",
       "column_end": 3,
       "column_start": 0,
       "row_end": 6,
       "row_start": 6,
       "squeeze_column": false,
       "type": "numeric",
       "value": [
        "",
        "",
        "",
        ""
       ]
      }
     },
     "064313c4fdf1459f8eb170eba465ba3a": {
      "model_module": "@jupyter-widgets/controls",
      "model_module_version": "1.5.0",
      "model_name": "VBoxModel",
      "state": {
       "children": [
        "IPY_MODEL_04ecf7dc3d4446d5a04f7bdbaa3a9ca6",
        "IPY_MODEL_c42089d0ec5f4f119e0ca42580e5030e"
       ],
       "layout": "IPY_MODEL_3b23ba9ef8d0473585951cd11560a424"
      }
     },
     "0678f1d4689e4cc68a374aef1447908b": {
      "model_module": "@jupyter-widgets/base",
      "model_module_version": "1.2.0",
      "model_name": "LayoutModel",
      "state": {
       "grid_area": "largeFOV_begin_button",
       "width": "auto"
      }
     },
     "06bba82c1da3439cbd05648c08bca7a7": {
      "model_module": "ipysheet",
      "model_module_version": "~0.4.4",
      "model_name": "CellRangeModel",
      "state": {
       "_view_module": null,
       "_view_module_version": "",
       "column_end": 0,
       "column_start": 0,
       "row_end": 4,
       "row_start": 4,
       "type": "numeric",
       "value": 25
      }
     },
     "06c6cca694f441938bb2aa5426877016": {
      "model_module": "@jupyter-widgets/controls",
      "model_module_version": "1.5.0",
      "model_name": "BoundedFloatTextModel",
      "state": {
       "description": "Scan max Z (um)",
       "layout": "IPY_MODEL_ba922be02cf44ba69979e9ee9f4bfcd6",
       "max": 50,
       "step": 0.001,
       "style": "IPY_MODEL_3f9ba6acac694471931a1005d7b19c90",
       "value": 25.5
      }
     },
     "07154b4b73b742c6be08954a6975d9ee": {
      "model_module": "ipysheet",
      "model_module_version": "~0.4.4",
      "model_name": "CellRangeModel",
      "state": {
       "_view_module": null,
       "_view_module_version": "",
       "column_end": 0,
       "column_start": 0,
       "row_end": 0,
       "row_start": 0,
       "type": "numeric",
       "value": 25.6
      }
     },
     "07172ab11c264062af412e4fe44e31dc": {
      "model_module": "ipysheet",
      "model_module_version": "~0.4.4",
      "model_name": "CellRangeModel",
      "state": {
       "_view_module": null,
       "_view_module_version": "",
       "column_end": 0,
       "column_start": 0,
       "row_end": 2,
       "row_start": 2,
       "type": "numeric",
       "value": 25
      }
     },
     "083344219f994298a73207448f7cd760": {
      "model_module": "ipysheet",
      "model_module_version": "~0.4.4",
      "model_name": "CellRangeModel",
      "state": {
       "_view_module": null,
       "_view_module_version": "",
       "column_end": 3,
       "column_start": 0,
       "row_end": 3,
       "row_start": 3,
       "squeeze_column": false,
       "type": "numeric",
       "value": [
        "",
        "",
        "",
        ""
       ]
      }
     },
     "083c262c9e084397b513accd8eb1bd0d": {
      "model_module": "@jupyter-widgets/base",
      "model_module_version": "1.2.0",
      "model_name": "LayoutModel",
      "state": {}
     },
     "085e02fbfacf47958573441ddfc04d23": {
      "model_module": "@jupyter-widgets/controls",
      "model_module_version": "1.5.0",
      "model_name": "VBoxModel",
      "state": {
       "children": [
        "IPY_MODEL_c30364250b834e4e906dcfc3cde299f7",
        "IPY_MODEL_c0bcb56f5ecf436c8d06ea30c65b5b0a",
        "IPY_MODEL_67bc5dba99ce4597add225870bf9742f",
        "IPY_MODEL_ccaff02ac39949ea9f20aede58800d82"
       ],
       "layout": "IPY_MODEL_5345566cea9441f0aaf4e61d8b3bf79b"
      }
     },
     "08650596c2744c16bd4b0f80169b35c9": {
      "model_module": "ipysheet",
      "model_module_version": "~0.4.4",
      "model_name": "CellRangeModel",
      "state": {
       "_view_module": null,
       "_view_module_version": "",
       "column_end": 2,
       "column_start": 2,
       "row_end": 3,
       "row_start": 3,
       "type": "numeric",
       "value": 25
      }
     },
     "087276b5bba84880aae1e2dc2088c807": {
      "model_module": "@jupyter-widgets/controls",
      "model_module_version": "1.5.0",
      "model_name": "ButtonStyleModel",
      "state": {}
     },
     "08a63afbfb8e48b1b5f58b6c24006605": {
      "model_module": "ipysheet",
      "model_module_version": "~0.4.4",
      "model_name": "CellRangeModel",
      "state": {
       "_view_module": null,
       "_view_module_version": "",
       "column_end": 3,
       "column_start": 0,
       "row_end": 0,
       "row_start": 0,
       "squeeze_column": false,
       "type": "numeric",
       "value": [
        "",
        "",
        "",
        ""
       ]
      }
     },
     "08b3055c1e4a44649d503d91efdaf0ab": {
      "model_module": "ipysheet",
      "model_module_version": "~0.4.4",
      "model_name": "CellRangeModel",
      "state": {
       "_view_module": null,
       "_view_module_version": "",
       "column_end": 3,
       "column_start": 0,
       "row_end": 4,
       "row_start": 4,
       "squeeze_column": false,
       "type": "text",
       "value": [
        "",
        "",
        "",
        ""
       ]
      }
     },
     "092c295c52364eb2b777e77410b1fe00": {
      "model_module": "@jupyter-widgets/base",
      "model_module_version": "1.2.0",
      "model_name": "LayoutModel",
      "state": {}
     },
     "09c890bca33d41bf8b1c5739da449434": {
      "model_module": "@jupyter-widgets/controls",
      "model_module_version": "1.5.0",
      "model_name": "DescriptionStyleModel",
      "state": {
       "description_width": "initial"
      }
     },
     "09cf63f667a54d1cac2c8aafb8d23090": {
      "model_module": "@jupyter-widgets/controls",
      "model_module_version": "1.5.0",
      "model_name": "GridBoxModel",
      "state": {
       "children": [
        "IPY_MODEL_10108d22b4c740b1b0046e8849e0ee66",
        "IPY_MODEL_9c7ea4cc3dc64c5483b411d7fa528139",
        "IPY_MODEL_86541f697b454c2ea7a65dd9bdc0d9d8",
        "IPY_MODEL_dadf5d549e204e5595ce8c001f5fb284",
        "IPY_MODEL_3c689799eb9746be984ded9faad20be0",
        "IPY_MODEL_5a535b7aa90e45e5812765010a10bba5",
        "IPY_MODEL_343f7e167ebc4850864c0a855e89f7e0",
        "IPY_MODEL_1fcb25812cfb4feb862732e52ecf0871"
       ],
       "layout": "IPY_MODEL_b60a5028ca2c4369bc8d48b2a0715fcb"
      }
     },
     "09fcb6453e374c1e9137a343608de61d": {
      "model_module": "@jupyter-widgets/base",
      "model_module_version": "1.2.0",
      "model_name": "LayoutModel",
      "state": {
       "width": "90%"
      }
     },
     "0a05fab7f1004a7e8dd6baf8906cd415": {
      "model_module": "ipysheet",
      "model_module_version": "~0.4.4",
      "model_name": "CellRangeModel",
      "state": {
       "_view_module": null,
       "_view_module_version": "",
       "column_end": 3,
       "column_start": 0,
       "squeeze_column": false,
       "type": "numeric",
       "value": [
        "",
        "",
        "",
        ""
       ]
      }
     },
     "0a6e6a3a22214ae1880081644cdf71c1": {
      "model_module": "@jupyter-widgets/base",
      "model_module_version": "1.2.0",
      "model_name": "LayoutModel",
      "state": {
       "width": "90%"
      }
     },
     "0a9034487b1d4e74b5367adaea4a85b6": {
      "model_module": "ipysheet",
      "model_module_version": "~0.4.4",
      "model_name": "CellRangeModel",
      "state": {
       "_view_module": null,
       "_view_module_version": "",
       "column_end": 3,
       "column_start": 0,
       "row_end": 2,
       "row_start": 2,
       "squeeze_column": false,
       "type": "text",
       "value": [
        "",
        "",
        "",
        ""
       ]
      }
     },
     "0aa41f40627944daa84033817d7b7c79": {
      "model_module": "@jupyter-widgets/controls",
      "model_module_version": "1.5.0",
      "model_name": "DescriptionStyleModel",
      "state": {
       "description_width": ""
      }
     },
     "0af2aa32f0f2419a94e16f4b8bf7deb0": {
      "model_module": "@jupyter-widgets/controls",
      "model_module_version": "1.5.0",
      "model_name": "IntSliderModel",
      "state": {
       "continuous_update": false,
       "description": "Frame rate (HZ)",
       "layout": "IPY_MODEL_5d435de980314bf7aa722634fc717a10",
       "max": 30,
       "min": 1,
       "style": "IPY_MODEL_121b8b58053646beb9cc30a05bf91b58",
       "value": 10
      }
     },
     "0b21c751a3ce4f5d9ffc54dacec53c2e": {
      "model_module": "@jupyter-widgets/base",
      "model_module_version": "1.2.0",
      "model_name": "LayoutModel",
      "state": {
       "width": "90%"
      }
     },
     "0bb984aff1e7452e9c8f4c0fd4b6554e": {
      "model_module": "ipysheet",
      "model_module_version": "~0.4.4",
      "model_name": "CellRangeModel",
      "state": {
       "_view_module": null,
       "_view_module_version": "",
       "column_end": 3,
       "column_start": 0,
       "row_end": 5,
       "row_start": 5,
       "squeeze_column": false,
       "type": "numeric",
       "value": [
        25,
        25,
        25,
        5
       ]
      }
     },
     "0be140bc0752409ea8e2a2e3a9c476cd": {
      "model_module": "@jupyter-widgets/base",
      "model_module_version": "1.2.0",
      "model_name": "LayoutModel",
      "state": {}
     },
     "0c754fa9057f43e8aa9dc843d776be8f": {
      "model_module": "@jupyter-widgets/controls",
      "model_module_version": "1.5.0",
      "model_name": "DescriptionStyleModel",
      "state": {
       "description_width": "initial"
      }
     },
     "0cde4d5c22e64d5e9a6ac7add12545dc": {
      "model_module": "@jupyter-widgets/base",
      "model_module_version": "1.2.0",
      "model_name": "LayoutModel",
      "state": {
       "width": "90%"
      }
     },
     "0cf26a6ca1d34539ba5ee130a0175bdd": {
      "model_module": "@jupyter-widgets/controls",
      "model_module_version": "1.5.0",
      "model_name": "SliderStyleModel",
      "state": {
       "description_width": ""
      }
     },
     "0d3a80ac05564d55aeee131e0b89b80c": {
      "model_module": "@jupyter-widgets/base",
      "model_module_version": "1.2.0",
      "model_name": "LayoutModel",
      "state": {
       "width": "50%"
      }
     },
     "0d6311c5649b4309816afae9596a37f7": {
      "model_module": "@jupyter-widgets/controls",
      "model_module_version": "1.5.0",
      "model_name": "IntSliderModel",
      "state": {
       "continuous_update": false,
       "description": "Center",
       "layout": "IPY_MODEL_408a18f74cde465cabd14526cae2cbcd",
       "max": 200,
       "min": -200,
       "style": "IPY_MODEL_29244d0e7a7c49299bc955c21a05aa97"
      }
     },
     "0d8a624a926f45649bd1f76b002df8c9": {
      "model_module": "@jupyter-widgets/controls",
      "model_module_version": "1.5.0",
      "model_name": "BoundedFloatTextModel",
      "state": {
       "description": "Scan max X (um)",
       "layout": "IPY_MODEL_ddd7eb28a5f940d7aa40db07bc4f3487",
       "max": 50,
       "step": 0.001,
       "style": "IPY_MODEL_8be9ce7231bd4b289ae5977910f238c2",
       "value": 25.5
      }
     },
     "0d9ec6ee7ed54caab36160a35dabe2a6": {
      "model_module": "@jupyter-widgets/controls",
      "model_module_version": "1.5.0",
      "model_name": "SliderStyleModel",
      "state": {
       "description_width": ""
      }
     },
     "0e1b09a8a0bb4a8ea2756ba2ecb2b9ee": {
      "model_module": "@jupyter-widgets/base",
      "model_module_version": "1.2.0",
      "model_name": "LayoutModel",
      "state": {}
     },
     "0e2207c13f7342df918cb8e591c66c33": {
      "model_module": "@jupyter-widgets/controls",
      "model_module_version": "1.5.0",
      "model_name": "BoundedIntTextModel",
      "state": {
       "description": "Light Sheet Offset",
       "layout": "IPY_MODEL_1a6e3f55e6114338a7360a6100a36946",
       "max": 300,
       "min": -300,
       "style": "IPY_MODEL_89ca9102ecb44d6a9cf4d89eab6f7a90"
      }
     },
     "0e5b79c56c29413fb75bed74e1c61294": {
      "model_module": "@jupyter-widgets/controls",
      "model_module_version": "1.5.0",
      "model_name": "DescriptionStyleModel",
      "state": {
       "description_width": "initial"
      }
     },
     "0e5f472bd1f44ad9bb399d7e80d0b606": {
      "model_module": "@jupyter-widgets/controls",
      "model_module_version": "1.5.0",
      "model_name": "DescriptionStyleModel",
      "state": {
       "description_width": "initial"
      }
     },
     "0f55b3ce6ed24fb4aef20406105d06a2": {
      "model_module": "@jupyter-widgets/controls",
      "model_module_version": "1.5.0",
      "model_name": "ButtonModel",
      "state": {
       "description": "Exit",
       "layout": "IPY_MODEL_e3b7dfcf4fc24683bb1521d71a11baa9",
       "style": "IPY_MODEL_9e8668e4ba7a462ca39e224085d7d27c"
      }
     },
     "0f932b8f487c4c40a44bc63a49befbe9": {
      "model_module": "@jupyter-widgets/base",
      "model_module_version": "1.2.0",
      "model_name": "LayoutModel",
      "state": {
       "width": "90%"
      }
     },
     "0fafe238ebe14cb3b32cc39444eba295": {
      "model_module": "@jupyter-widgets/controls",
      "model_module_version": "1.5.0",
      "model_name": "SliderStyleModel",
      "state": {
       "description_width": "initial"
      }
     },
     "100e43d24e974defb213a4f081bb5578": {
      "model_module": "ipysheet",
      "model_module_version": "~0.4.4",
      "model_name": "CellRangeModel",
      "state": {
       "_view_module": null,
       "_view_module_version": "",
       "row_end": 5,
       "row_start": 5,
       "type": "text",
       "value": ""
      }
     },
     "10108d22b4c740b1b0046e8849e0ee66": {
      "model_module": "@jupyter-widgets/controls",
      "model_module_version": "1.5.0",
      "model_name": "BoundedFloatTextModel",
      "state": {
       "description": "Scan min X (um)",
       "layout": "IPY_MODEL_c29f93837cde4b739139b312d7d4e33f",
       "max": 50,
       "step": 0.001,
       "style": "IPY_MODEL_b62f3d56784045e7be160096e1b1ad32",
       "value": 24.5
      }
     },
     "1024ddfb1e2945e2bf2571d6767a85a8": {
      "model_module": "@jupyter-widgets/base",
      "model_module_version": "1.2.0",
      "model_name": "LayoutModel",
      "state": {}
     },
     "1073f4191e344758833d0a3c19387075": {
      "model_module": "@jupyter-widgets/controls",
      "model_module_version": "1.5.0",
      "model_name": "SliderStyleModel",
      "state": {
       "description_width": ""
      }
     },
     "1076ba7dbee64c268339693d0ea50b05": {
      "model_module": "@jupyter-widgets/controls",
      "model_module_version": "1.5.0",
      "model_name": "DescriptionStyleModel",
      "state": {
       "description_width": "initial"
      }
     },
     "10b841e71169468aa272b663d2423bcc": {
      "model_module": "@jupyter-widgets/base",
      "model_module_version": "1.2.0",
      "model_name": "LayoutModel",
      "state": {
       "width": "90%"
      }
     },
     "10c4a95827b0462b939eec79d65ac633": {
      "model_module": "@jupyter-widgets/base",
      "model_module_version": "1.2.0",
      "model_name": "LayoutModel",
      "state": {
       "grid_area": "maxZ",
       "width": "auto"
      }
     },
     "10cf625872384a60bede4a5c78e0f4e7": {
      "model_module": "@jupyter-widgets/controls",
      "model_module_version": "1.5.0",
      "model_name": "TextModel",
      "state": {
       "description": "Saving to:",
       "layout": "IPY_MODEL_ab9b27dc52984de79d64e0be42c2edf2",
       "placeholder": "Saving path",
       "style": "IPY_MODEL_e5f455adcec547bfa73c3a4b8623d900",
       "value": "/media/yannan/Samsung_T5/acquisition"
      }
     },
     "10e1d1b4030344c69b3c96678ab79d0a": {
      "model_module": "ipysheet",
      "model_module_version": "~0.4.4",
      "model_name": "CellRangeModel",
      "state": {
       "_view_module": null,
       "_view_module_version": "",
       "column_end": 3,
       "column_start": 0,
       "row_end": 4,
       "row_start": 4,
       "squeeze_column": false,
       "type": "numeric",
       "value": [
        "",
        "",
        "",
        ""
       ]
      }
     },
     "10ee218f1c3c41ceb066c0ee8e3c095b": {
      "model_module": "ipysheet",
      "model_module_version": "~0.4.4",
      "model_name": "CellRangeModel",
      "state": {
       "_view_module": null,
       "_view_module_version": "",
       "column_end": 3,
       "column_start": 0,
       "row_end": 0,
       "row_start": 0,
       "squeeze_column": false,
       "type": "numeric",
       "value": [
        "",
        "",
        "",
        ""
       ]
      }
     },
     "113be71d30c64a6d9129c89a384fe6fb": {
      "model_module": "@jupyter-widgets/base",
      "model_module_version": "1.2.0",
      "model_name": "LayoutModel",
      "state": {
       "grid_area": "stageX",
       "width": "auto"
      }
     },
     "11423121a86946a4ae847b561910e65e": {
      "model_module": "@jupyter-widgets/controls",
      "model_module_version": "1.5.0",
      "model_name": "VBoxModel",
      "state": {
       "children": [
        "IPY_MODEL_be91a793d86342af81bfa551d17b91af",
        "IPY_MODEL_55cb7e5d1a0949af917fcb2cb6367af6"
       ],
       "layout": "IPY_MODEL_b60992a981bd4e5eaa61728b961ede69"
      }
     },
     "118104858f644295afa5df537bd337d2": {
      "model_module": "ipysheet",
      "model_module_version": "~0.4.4",
      "model_name": "CellRangeModel",
      "state": {
       "_view_module": null,
       "_view_module_version": "",
       "column_end": 2,
       "column_start": 2,
       "row_end": 3,
       "row_start": 3,
       "type": "text",
       "value": 25
      }
     },
     "11e819dea0e94a828b82fbdb3e034be0": {
      "model_module": "@jupyter-widgets/base",
      "model_module_version": "1.2.0",
      "model_name": "LayoutModel",
      "state": {
       "width": "50%"
      }
     },
     "121b8b58053646beb9cc30a05bf91b58": {
      "model_module": "@jupyter-widgets/controls",
      "model_module_version": "1.5.0",
      "model_name": "SliderStyleModel",
      "state": {
       "description_width": "initial"
      }
     },
     "127ea4cf8d9c47eea6ae31686778a1aa": {
      "model_module": "ipysheet",
      "model_module_version": "~0.4.4",
      "model_name": "CellRangeModel",
      "state": {
       "_view_module": null,
       "_view_module_version": "",
       "column_end": 0,
       "column_start": 0,
       "row_end": 3,
       "row_start": 3,
       "type": "numeric",
       "value": 25
      }
     },
     "12bd4d883f144f6bb913996833ece07d": {
      "model_module": "@jupyter-widgets/controls",
      "model_module_version": "1.5.0",
      "model_name": "DescriptionStyleModel",
      "state": {
       "description_width": "initial"
      }
     },
     "12dbae392441489d88d140abfca40ae1": {
      "model_module": "@jupyter-widgets/base",
      "model_module_version": "1.2.0",
      "model_name": "LayoutModel",
      "state": {
       "grid_area": "delRow",
       "width": "auto"
      }
     },
     "13281f937bc44e7f8affc30f552bd807": {
      "model_module": "ipysheet",
      "model_module_version": "~0.4.4",
      "model_name": "CellRangeModel",
      "state": {
       "_view_module": null,
       "_view_module_version": "",
       "column_end": 3,
       "column_start": 0,
       "row_end": 3,
       "row_start": 3,
       "squeeze_column": false,
       "type": "numeric",
       "value": [
        "",
        "",
        "",
        ""
       ]
      }
     },
     "143e0988c20f44218ed52572ce065474": {
      "model_module": "ipysheet",
      "model_module_version": "~0.4.4",
      "model_name": "CellRangeModel",
      "state": {
       "_view_module": null,
       "_view_module_version": "",
       "column_end": 3,
       "column_start": 0,
       "row_end": 3,
       "row_start": 3,
       "squeeze_column": false,
       "type": "numeric",
       "value": [
        25,
        25,
        25,
        5
       ]
      }
     },
     "145852c074bc4131b4b4c7254366bacd": {
      "model_module": "@jupyter-widgets/controls",
      "model_module_version": "1.5.0",
      "model_name": "ButtonStyleModel",
      "state": {}
     },
     "14d6a270dc454fdbadc4b1b29483e89e": {
      "model_module": "@jupyter-widgets/base",
      "model_module_version": "1.2.0",
      "model_name": "LayoutModel",
      "state": {
       "grid_area": "minX",
       "width": "auto"
      }
     },
     "14d87b3fb6744a648c8bf4c1a6494f44": {
      "model_module": "@jupyter-widgets/controls",
      "model_module_version": "1.5.0",
      "model_name": "IntSliderModel",
      "state": {
       "continuous_update": false,
       "description": "Height",
       "layout": "IPY_MODEL_d50a5b9f269547f7813cb21b247d06bc",
       "max": 720,
       "style": "IPY_MODEL_4279d949847443fc806d60e26ee84829",
       "value": 200
      }
     },
     "14e872b2006f46d9b978a9886f9ea048": {
      "model_module": "ipysheet",
      "model_module_version": "~0.4.4",
      "model_name": "CellRangeModel",
      "state": {
       "_view_module": null,
       "_view_module_version": "",
       "type": "numeric",
       "value": 49
      }
     },
     "15b14db61e2743e7a8f6560bbc1944b4": {
      "model_module": "@jupyter-widgets/base",
      "model_module_version": "1.2.0",
      "model_name": "LayoutModel",
      "state": {}
     },
     "15d542c4b64e491888b39e2deadc5a56": {
      "model_module": "@jupyter-widgets/controls",
      "model_module_version": "1.5.0",
      "model_name": "ButtonModel",
      "state": {
       "description": "Stop Acquisition",
       "layout": "IPY_MODEL_b0f94a0d2e3b45f9b7df4b2724c53a4d",
       "style": "IPY_MODEL_9a96a9f16fd94aaaa794ccba34ed70bf"
      }
     },
     "15e338e0f7134e208a7db7c3d228acc6": {
      "model_module": "@jupyter-widgets/base",
      "model_module_version": "1.2.0",
      "model_name": "LayoutModel",
      "state": {
       "width": "90%"
      }
     },
     "163ddf2a53094832b1f03d9bbef6bf38": {
      "model_module": "@jupyter-widgets/controls",
      "model_module_version": "1.5.0",
      "model_name": "ButtonStyleModel",
      "state": {}
     },
     "16950d15bab446bf83cab2b9bccfac48": {
      "model_module": "ipysheet",
      "model_module_version": "~0.4.4",
      "model_name": "CellRangeModel",
      "state": {
       "_view_module": null,
       "_view_module_version": "",
       "column_end": 0,
       "column_start": 0,
       "row_end": 5,
       "row_start": 5,
       "type": "numeric",
       "value": 25
      }
     },
     "16c8ecb7cf4c4ccb92ddc4101c7afb38": {
      "model_module": "@jupyter-widgets/base",
      "model_module_version": "1.2.0",
      "model_name": "LayoutModel",
      "state": {
       "grid_area": "stageY",
       "width": "auto"
      }
     },
     "16f34fa034a74d158e2d2f348063d248": {
      "model_module": "ipysheet",
      "model_module_version": "~0.4.4",
      "model_name": "CellRangeModel",
      "state": {
       "_view_module": null,
       "_view_module_version": "",
       "column_end": 3,
       "column_start": 0,
       "row_end": 3,
       "row_start": 3,
       "squeeze_column": false,
       "type": "numeric",
       "value": [
        25,
        25,
        25,
        5
       ]
      }
     },
     "16fcd9ebe5ae4866a070acd0c419ac98": {
      "model_module": "@jupyter-widgets/controls",
      "model_module_version": "1.5.0",
      "model_name": "IntSliderModel",
      "state": {
       "continuous_update": false,
       "description": "Height",
       "layout": "IPY_MODEL_8edd0736626b41069a9ef1cefc140a7a",
       "max": 720,
       "style": "IPY_MODEL_f8e8d629be43499ebef4367c9c3d37c2",
       "value": 200
      }
     },
     "16fce01159bf49169391414303122e9f": {
      "model_module": "ipysheet",
      "model_module_version": "~0.4.4",
      "model_name": "CellRangeModel",
      "state": {
       "_view_module": null,
       "_view_module_version": "",
       "column_end": 3,
       "column_start": 0,
       "row_end": 5,
       "row_start": 5,
       "squeeze_column": false,
       "type": "numeric",
       "value": [
        "",
        "",
        "",
        ""
       ]
      }
     },
     "1724cd007a184550a5c8d35d7468e225": {
      "model_module": "@jupyter-widgets/base",
      "model_module_version": "1.2.0",
      "model_name": "LayoutModel",
      "state": {
       "grid_area": "overlap",
       "width": "auto"
      }
     },
     "173f8d27aecf450488af830707d289de": {
      "model_module": "@jupyter-widgets/controls",
      "model_module_version": "1.5.0",
      "model_name": "VBoxModel",
      "state": {
       "children": [
        "IPY_MODEL_56b4ff4071ea480ab77eafabc895777f",
        "IPY_MODEL_021f14053bce4034867277e8e8033c40",
        "IPY_MODEL_555a38c736fa455db06ee11e37a5ab10"
       ],
       "layout": "IPY_MODEL_f89e51444ba046efb31cb3f5cb38edbc"
      }
     },
     "17403cbe4b8a466e9ce17ee2696bd948": {
      "model_module": "ipysheet",
      "model_module_version": "~0.4.4",
      "model_name": "CellRangeModel",
      "state": {
       "_view_module": null,
       "_view_module_version": "",
       "column_end": 3,
       "column_start": 0,
       "row_end": -1,
       "row_start": -1,
       "squeeze_column": false,
       "type": "text",
       "value": [
        "",
        "",
        "",
        ""
       ]
      }
     },
     "17d87e467fa74bb3be4fc327394821b6": {
      "model_module": "@jupyter-widgets/controls",
      "model_module_version": "1.5.0",
      "model_name": "BoundedIntTextModel",
      "state": {
       "description": "Delete row",
       "layout": "IPY_MODEL_f4481e7f5ba04156aa3c23254600b91f",
       "max": 6,
       "min": 1,
       "style": "IPY_MODEL_842283b0727542baab377e411fda85e4",
       "value": 1
      }
     },
     "17dc5b188dda4f93adb4c127ef154ed4": {
      "model_module": "@jupyter-widgets/controls",
      "model_module_version": "1.5.0",
      "model_name": "CheckboxModel",
      "state": {
       "description": "Flip90",
       "disabled": false,
       "layout": "IPY_MODEL_8ce4462887434ec89c05bb7c1738ae75",
       "style": "IPY_MODEL_9194ac91691a471292f853c12f4fe11b",
       "value": true
      }
     },
     "17f183e48bfe4395be82b75436ddbc68": {
      "model_module": "@jupyter-widgets/base",
      "model_module_version": "1.2.0",
      "model_name": "LayoutModel",
      "state": {
       "grid_area": "stageZ",
       "width": "auto"
      }
     },
     "17fba54d599f489a98d40c94b1a44318": {
      "model_module": "@jupyter-widgets/base",
      "model_module_version": "1.2.0",
      "model_name": "LayoutModel",
      "state": {
       "width": "90%"
      }
     },
     "182cfeeca9ac48bbafc94cc5f503087a": {
      "model_module": "@jupyter-widgets/controls",
      "model_module_version": "1.5.0",
      "model_name": "SliderStyleModel",
      "state": {
       "description_width": ""
      }
     },
     "182d49cd464048b8b6bb3797be8714a6": {
      "model_module": "@jupyter-widgets/controls",
      "model_module_version": "1.5.0",
      "model_name": "ButtonModel",
      "state": {
       "description": "WideField",
       "layout": "IPY_MODEL_083c262c9e084397b513accd8eb1bd0d",
       "style": "IPY_MODEL_7d8ec1cc3e5244208a811dfec579e1bd"
      }
     },
     "1937fcb9ac094b098ed24998cef06883": {
      "model_module": "@jupyter-widgets/base",
      "model_module_version": "1.2.0",
      "model_name": "LayoutModel",
      "state": {}
     },
     "195498a33c884b25a81a28a0119d529f": {
      "model_module": "@jupyter-widgets/controls",
      "model_module_version": "1.5.0",
      "model_name": "VBoxModel",
      "state": {
       "children": [
        "IPY_MODEL_7fd5a3188b884491af1873f4bfbc0dcb",
        "IPY_MODEL_173f8d27aecf450488af830707d289de"
       ],
       "layout": "IPY_MODEL_37841fcaead14ec3b95719c507a25da4"
      }
     },
     "1959285c24cf4dda90e4c2433d3a939d": {
      "model_module": "@jupyter-widgets/controls",
      "model_module_version": "1.5.0",
      "model_name": "SliderStyleModel",
      "state": {
       "description_width": "initial"
      }
     },
     "195edb4ca8244364b57f21f20b1d0b7e": {
      "model_module": "@jupyter-widgets/controls",
      "model_module_version": "1.5.0",
      "model_name": "ButtonModel",
      "state": {
       "description": "Delete Offset",
       "layout": "IPY_MODEL_4991d5a0b6c14847b423afbd3938a17b",
       "style": "IPY_MODEL_96829f0078064bcbaaa89c9dc8b58c62"
      }
     },
     "199a9aeb8859420b821d394b87a98f2b": {
      "model_module": "@jupyter-widgets/base",
      "model_module_version": "1.2.0",
      "model_name": "LayoutModel",
      "state": {}
     },
     "19c3f906ba9f4fba8720fec8ed2edfb4": {
      "model_module": "@jupyter-widgets/base",
      "model_module_version": "1.2.0",
      "model_name": "LayoutModel",
      "state": {}
     },
     "19fcfc332ee24b7bab3796469b13adcf": {
      "model_module": "ipysheet",
      "model_module_version": "~0.4.4",
      "model_name": "CellRangeModel",
      "state": {
       "_view_module": null,
       "_view_module_version": "",
       "column_end": 3,
       "column_start": 0,
       "row_end": 8,
       "row_start": 8,
       "squeeze_column": false,
       "type": "text",
       "value": [
        "",
        "",
        "",
        ""
       ]
      }
     },
     "1a28e29aeae2483a9de06751dea28bda": {
      "model_module": "@jupyter-widgets/controls",
      "model_module_version": "1.5.0",
      "model_name": "IntSliderModel",
      "state": {
       "continuous_update": false,
       "description": "Width",
       "layout": "IPY_MODEL_5be9ba2ab3334f3687bc565458223e09",
       "max": 1280,
       "style": "IPY_MODEL_05ad22532e26413daa616691f0de2ea3",
       "value": 10
      }
     },
     "1a43241d29254aa194fde5405b0b792d": {
      "model_module": "@jupyter-widgets/controls",
      "model_module_version": "1.5.0",
      "model_name": "ButtonModel",
      "state": {
       "description": "WideField",
       "layout": "IPY_MODEL_6635ab10281e48a39949c6f1b0cd1842",
       "style": "IPY_MODEL_087276b5bba84880aae1e2dc2088c807"
      }
     },
     "1a5b10054634449fa9944fbba66ace61": {
      "model_module": "@jupyter-widgets/controls",
      "model_module_version": "1.5.0",
      "model_name": "ButtonStyleModel",
      "state": {}
     },
     "1a6e3f55e6114338a7360a6100a36946": {
      "model_module": "@jupyter-widgets/base",
      "model_module_version": "1.2.0",
      "model_name": "LayoutModel",
      "state": {
       "grid_area": "lsOffset",
       "width": "auto"
      }
     },
     "1a9d1f5696d34ec4b099dd49ea5158d7": {
      "model_module": "@jupyter-widgets/base",
      "model_module_version": "1.2.0",
      "model_name": "LayoutModel",
      "state": {
       "grid_area": "overlap",
       "width": "auto"
      }
     },
     "1b0ad6d3eac74f53bdbfb51bdbac3e4f": {
      "model_module": "@jupyter-widgets/base",
      "model_module_version": "1.2.0",
      "model_name": "LayoutModel",
      "state": {}
     },
     "1b27511f6f834731a797dc0dac8aa98b": {
      "model_module": "ipysheet",
      "model_module_version": "~0.4.4",
      "model_name": "CellRangeModel",
      "state": {
       "_view_module": null,
       "_view_module_version": "",
       "row_end": 0,
       "row_start": 0,
       "type": "numeric",
       "value": 49.5
      }
     },
     "1b3dfab0f2434e83a39c6dd41c6285cd": {
      "model_module": "@jupyter-widgets/controls",
      "model_module_version": "1.5.0",
      "model_name": "DescriptionStyleModel",
      "state": {
       "description_width": "initial"
      }
     },
     "1b71c86bb65f448683933ad1f44eb0f7": {
      "model_module": "@jupyter-widgets/controls",
      "model_module_version": "1.5.0",
      "model_name": "DescriptionStyleModel",
      "state": {
       "description_width": "initial"
      }
     },
     "1bc4294961c149a3928565530577a64c": {
      "model_module": "@jupyter-widgets/controls",
      "model_module_version": "1.5.0",
      "model_name": "SliderStyleModel",
      "state": {
       "description_width": ""
      }
     },
     "1bdd2e4010aa473bb52b72ef8bb8218e": {
      "model_module": "@jupyter-widgets/base",
      "model_module_version": "1.2.0",
      "model_name": "LayoutModel",
      "state": {
       "width": "90%"
      }
     },
     "1c01df53b6e64693b21e72ca5eb95632": {
      "model_module": "@jupyter-widgets/controls",
      "model_module_version": "1.5.0",
      "model_name": "VBoxModel",
      "state": {
       "children": [
        "IPY_MODEL_3358ef72978c481b9be9bb647ca59e82",
        "IPY_MODEL_3c529c9696f84ddaa5d690f59cdbef4f"
       ],
       "layout": "IPY_MODEL_95a1b4b67b3b44d29830ef2fc5f7dfd8"
      }
     },
     "1c31f2aeedaa48eca8a989933934d565": {
      "model_module": "@jupyter-widgets/base",
      "model_module_version": "1.2.0",
      "model_name": "LayoutModel",
      "state": {
       "grid_area": "stageX",
       "width": "auto"
      }
     },
     "1c3cfda22b2548f38bb887b7820a35d2": {
      "model_module": "@jupyter-widgets/controls",
      "model_module_version": "1.5.0",
      "model_name": "SliderStyleModel",
      "state": {
       "description_width": ""
      }
     },
     "1c86f1e91f6b47a4a3a405e42c02cade": {
      "model_module": "@jupyter-widgets/base",
      "model_module_version": "1.2.0",
      "model_name": "LayoutModel",
      "state": {
       "grid_area": "lsOffset",
       "width": "auto"
      }
     },
     "1cc0eb1dd39a43f98af4673c5da29613": {
      "model_module": "@jupyter-widgets/controls",
      "model_module_version": "1.5.0",
      "model_name": "BoundedFloatTextModel",
      "state": {
       "description": "Scan min Z (um)",
       "layout": "IPY_MODEL_7d9b2e29770e442baa4ed39d70b4cb60",
       "max": 50,
       "step": 0.001,
       "style": "IPY_MODEL_8d81b377d7f243d0beef2f714973796f",
       "value": 24.5
      }
     },
     "1cf162cf0ea143a78c2b896dfc6084e2": {
      "model_module": "@jupyter-widgets/base",
      "model_module_version": "1.2.0",
      "model_name": "LayoutModel",
      "state": {}
     },
     "1d36a9b18ed549bda9a9db35ba053adc": {
      "model_module": "@jupyter-widgets/controls",
      "model_module_version": "1.5.0",
      "model_name": "SliderStyleModel",
      "state": {
       "description_width": ""
      }
     },
     "1d9b2f9e85c4486da6ecbd9c1d0ca3bb": {
      "model_module": "@jupyter-widgets/controls",
      "model_module_version": "1.5.0",
      "model_name": "DescriptionStyleModel",
      "state": {
       "description_width": "initial"
      }
     },
     "1ddc2b028dc143ee88d9121883787f8c": {
      "model_module": "@jupyter-widgets/base",
      "model_module_version": "1.2.0",
      "model_name": "LayoutModel",
      "state": {
       "width": "90%"
      }
     },
     "1dec90388452411f93b3ec70d87ab880": {
      "model_module": "@jupyter-widgets/base",
      "model_module_version": "1.2.0",
      "model_name": "LayoutModel",
      "state": {
       "grid_area": "minZ",
       "width": "auto"
      }
     },
     "1e1188a1296f477a968db361f938a09d": {
      "model_module": "@jupyter-widgets/controls",
      "model_module_version": "1.5.0",
      "model_name": "VBoxModel",
      "state": {
       "children": [
        "IPY_MODEL_d81a63f38cb64a00901400adf6274dc6",
        "IPY_MODEL_e649f012e3c64886a57cd4df6251477e",
        "IPY_MODEL_a99af1ff30784e709719dbd622b00d6c"
       ],
       "layout": "IPY_MODEL_6e4e92626c56487a915553c3584a7247"
      }
     },
     "1e20a11e5a984ecd89c327143ab96670": {
      "model_module": "@jupyter-widgets/controls",
      "model_module_version": "1.5.0",
      "model_name": "BoundedFloatTextModel",
      "state": {
       "description": "Scan min Y (um)",
       "layout": "IPY_MODEL_d065e188d2ef4e85af0fc0b59cef1ecc",
       "max": 50,
       "step": 0.001,
       "style": "IPY_MODEL_fd31a72eb87e4cc5aba73615c4180213",
       "value": 24.5
      }
     },
     "1e2e51d939c24440b82955ed2719dd9f": {
      "model_module": "@jupyter-widgets/base",
      "model_module_version": "1.2.0",
      "model_name": "LayoutModel",
      "state": {
       "width": "50%"
      }
     },
     "1e669101535442728dbb394dadeb06da": {
      "model_module": "@jupyter-widgets/controls",
      "model_module_version": "1.5.0",
      "model_name": "ButtonModel",
      "state": {
       "button_style": "danger",
       "description": "Begin Experiment",
       "layout": "IPY_MODEL_910554a0b99a40919eba3c33fadf3e87",
       "style": "IPY_MODEL_c74128a1c9b44e2e800d9566be3444d0"
      }
     },
     "1e697a6959884bde91ae1647d30160b8": {
      "model_module": "@jupyter-widgets/base",
      "model_module_version": "1.2.0",
      "model_name": "LayoutModel",
      "state": {}
     },
     "1e74df5c08534a9597ce272fe9c03abc": {
      "model_module": "@jupyter-widgets/base",
      "model_module_version": "1.2.0",
      "model_name": "LayoutModel",
      "state": {
       "grid_template_areas": "\n                                        \". . largeFOV_begin_button\"\n                                    ",
       "grid_template_columns": "40% 40% 20%",
       "grid_template_rows": "auto",
       "width": "100%"
      }
     },
     "1ec29ab7864e49a2bc41ebbddb1a8b04": {
      "model_module": "@jupyter-widgets/controls",
      "model_module_version": "1.5.0",
      "model_name": "BoundedFloatTextModel",
      "state": {
       "description": "Stage X (um)",
       "layout": "IPY_MODEL_764b4778762f479ebbd36b946d8e0fe4",
       "max": 50,
       "step": 0.001,
       "style": "IPY_MODEL_9aee0a0cd510460f9b435d245af42e7c",
       "value": 25
      }
     },
     "1ecc844f696f40af89436f9e3baa8768": {
      "model_module": "@jupyter-widgets/base",
      "model_module_version": "1.2.0",
      "model_name": "LayoutModel",
      "state": {
       "width": "90%"
      }
     },
     "1fcb25812cfb4feb862732e52ecf0871": {
      "model_module": "@jupyter-widgets/controls",
      "model_module_version": "1.5.0",
      "model_name": "BoundedFloatTextModel",
      "state": {
       "description": "Overlap ratio (%)",
       "layout": "IPY_MODEL_b255642ce5344e6c8db3b91adbf29f59",
       "max": 50,
       "step": 1,
       "style": "IPY_MODEL_b490adef6eb7458c9c965acb6863dfc2",
       "value": 20
      }
     },
     "2046993a85bf43818c95bcffc33ac44b": {
      "model_module": "@jupyter-widgets/controls",
      "model_module_version": "1.5.0",
      "model_name": "ButtonStyleModel",
      "state": {}
     },
     "2060e7bf448f4c199e6ffc957f1249f6": {
      "model_module": "@jupyter-widgets/controls",
      "model_module_version": "1.5.0",
      "model_name": "LabelModel",
      "state": {
       "layout": "IPY_MODEL_1024ddfb1e2945e2bf2571d6767a85a8",
       "style": "IPY_MODEL_33e636d5996d4bf394ed524f194fc33a",
       "value": "Please stop acquisition and laser first to start experiment"
      }
     },
     "208f021df96e40cca5110077d94af259": {
      "model_module": "@jupyter-widgets/base",
      "model_module_version": "1.2.0",
      "model_name": "LayoutModel",
      "state": {}
     },
     "20b5c469da6f43d8b685c54791a99e9a": {
      "model_module": "@jupyter-widgets/controls",
      "model_module_version": "1.5.0",
      "model_name": "DescriptionStyleModel",
      "state": {
       "description_width": ""
      }
     },
     "212e73c0c76f4585862ad87fa423445c": {
      "model_module": "@jupyter-widgets/controls",
      "model_module_version": "1.5.0",
      "model_name": "BoundedFloatTextModel",
      "state": {
       "description": "Overlap ratio (%)",
       "layout": "IPY_MODEL_1a9d1f5696d34ec4b099dd49ea5158d7",
       "max": 50,
       "step": 1,
       "style": "IPY_MODEL_a37032ec15c649eb8633b4281df6c0ce",
       "value": 20
      }
     },
     "21315a0e82c84ae8ae9518539a23e8cf": {
      "model_module": "@jupyter-widgets/controls",
      "model_module_version": "1.5.0",
      "model_name": "IntSliderModel",
      "state": {
       "continuous_update": false,
       "description": "Blue",
       "layout": "IPY_MODEL_61052e31c7c24ecda710ccb19b1f128e",
       "max": 255,
       "style": "IPY_MODEL_726ced0ba64542f1b0fed49a73c2a47e"
      }
     },
     "21333aa405e74a38a4cf8f5a4b351a6c": {
      "model_module": "@jupyter-widgets/controls",
      "model_module_version": "1.5.0",
      "model_name": "DescriptionStyleModel",
      "state": {
       "description_width": "initial"
      }
     },
     "2145552e96db42fb9d92fe8e8f614c92": {
      "model_module": "@jupyter-widgets/base",
      "model_module_version": "1.2.0",
      "model_name": "LayoutModel",
      "state": {
       "grid_area": "stageZ",
       "width": "auto"
      }
     },
     "219b38dc179449969813b8043cf3e91f": {
      "model_module": "@jupyter-widgets/base",
      "model_module_version": "1.2.0",
      "model_name": "LayoutModel",
      "state": {
       "grid_area": "addOffset",
       "width": "auto"
      }
     },
     "21e7fd508958400a8721a5a9050bb455": {
      "model_module": "@jupyter-widgets/controls",
      "model_module_version": "1.5.0",
      "model_name": "DescriptionStyleModel",
      "state": {
       "description_width": "initial"
      }
     },
     "22457980d5f64a0aa4c246607c0abea7": {
      "model_module": "@jupyter-widgets/output",
      "model_module_version": "1.0.0",
      "model_name": "OutputModel",
      "state": {
       "layout": "IPY_MODEL_269961d5c67f466b80a7a9b446041c87"
      }
     },
     "2246b6ac8b2b4137b67a9fe73e8c2637": {
      "buffers": [
       {
        "data": "/9j/4AAQSkZJRgABAQAAAQABAAD/2wBDAAgGBgcGBQgHBwcJCQgKDBQNDAsLDBkSEw8UHRofHh0aHBwgJC4nICIsIxwcKDcpLDAxNDQ0Hyc5PTgyPC4zNDL/2wBDAQkJCQwLDBgNDRgyIRwhMjIyMjIyMjIyMjIyMjIyMjIyMjIyMjIyMjIyMjIyMjIyMjIyMjIyMjIyMjIyMjIyMjL/wAARCAMABAADASIAAhEBAxEB/8QAHwAAAQUBAQEBAQEAAAAAAAAAAAECAwQFBgcICQoL/8QAtRAAAgEDAwIEAwUFBAQAAAF9AQIDAAQRBRIhMUEGE1FhByJxFDKBkaEII0KxwRVS0fAkM2JyggkKFhcYGRolJicoKSo0NTY3ODk6Q0RFRkdISUpTVFVWV1hZWmNkZWZnaGlqc3R1dnd4eXqDhIWGh4iJipKTlJWWl5iZmqKjpKWmp6ipqrKztLW2t7i5usLDxMXGx8jJytLT1NXW19jZ2uHi4+Tl5ufo6erx8vP09fb3+Pn6/8QAHwEAAwEBAQEBAQEBAQAAAAAAAAECAwQFBgcICQoL/8QAtREAAgECBAQDBAcFBAQAAQJ3AAECAxEEBSExBhJBUQdhcRMiMoEIFEKRobHBCSMzUvAVYnLRChYkNOEl8RcYGRomJygpKjU2Nzg5OkNERUZHSElKU1RVVldYWVpjZGVmZ2hpanN0dXZ3eHl6goOEhYaHiImKkpOUlZaXmJmaoqOkpaanqKmqsrO0tba3uLm6wsPExcbHyMnK0tPU1dbX2Nna4uPk5ebn6Onq8vP09fb3+Pn6/9oADAMBAAIRAxEAPwDw2iiigAooooAKKKKACiiigAopaKAEooooAKKKKACiiigAooooAKKKKACiiigAooooAKKKKACiiigAooooAKKKKACiiigAooooAKKKKAFpKKKACilpKACiiigAooooAKKKKACiiigAooooAKKKKACiiigAooooAKKKKACiiigAooooAKKKKACiiigAooooAKKKKACiiigAooooAKKKKACiiloASilpKACiiigAooooAKKKKACiiigAooooAKKKKACiiigAooooAKKKKACiiigAooooAKKKKACiiigAooooAKKKKACiiigAooooAKKKKACiiigAoopaAEooooAKKKWgApKKKACiiigAooooAKKKKACiiigAooooAKKKKACiiigAopaSgAooooAKKKKACiiigAooooAKKKKACiiigAooooAKKKKACiiigAooooAKKKKACiiigAooooAKKKKACiiigAooooAKKKKACiiigAooooAKKKKACiiigAooooAKKKKACiiigAooooAKKKKACiiigAooooAKKWkoAKKKKACiiigAooooAKKWkoAKKKKACilpKACiiigAooooAKKWkoAKKKKACiiigAooooAKKKKACiiigAooooAKKKKACiiigAooooAKKKKACiiigAooooAKKKKACiiigAooooAKKKKACiiigAopaSgAooooAKKKKACiiigAooooAKKKKACiiloASiiigAooooAKKWkoAKKKKACiiigAooooAKKKKACiiigAooooAKKKKACiiigAooooAKKKWgBKKKKACilpKACiiigAooooAKKKKACiiigAooooAKKKKACiiigAopaSgAoopaAEoopaAEooooAKKKKACilooASilpKAFpKKKACiiloASiiloASloooASiiloASilpKACilooASiiloASilpKACilooASiiigAooooAKKKWgBKKKKACiiigAopaSgAooooAKKKKACiiigAooooAKKKKACiiigAoopaAEooooAKKKKACilooASlpKWgBKKWkoAKKKKACiiigAooooAKKKKACiiigAooooAKKKKACiiigAooooAKKKKACiiigAooooAKKKKACiiigAooooAKKKKACiiigBaSiigAooooAKKKKACiiigAooooAKKKKACiiigAooooAKKKKACiiigAooooAKKKKACiiigAooooAKKKKACiiigAooooAKKKWgBKKKKACiiloASilpKACiiigAoopaAEooooAKKWkoAKKKKACiiigAoopaAEopaSgAoopaAEooooAKKKKAFpKKKACiiigAooooAKKKKACiiigAooooAKKKKACiiigAooooAKKKKACiiigAoopaAEooooAKKKKACilpKACiiigAooooAKKKKACiiigAooooAKKKKACiiigAooooAKKKKACiiigAooooAKKKKACiiigAooooAKKKKACiiigAooooAKKKKACiiigAooooAKKKKACiiigAooooAKKKKACiiigAooooAKKKKACiiigAooooAKKKKACiiigAooooAKKKKACilpKACiiigAooooAKKKWgBKKKKACilpKACiiigAoopaACkoooAWkoooAKKKKACiiigAooooAWkoooAKKKKACiiigAooooAKKKKACiiigAooooAKKKKACiiigAooooAKKKKACiiigAooooAKKKKACiiigAooooAKKKKACiiigAooooAKKKKACiiigAooooAKKKKACiiigAooooAKKKKACiiigAooooAKKWkoAKKKKACiiigAooooAKKKKACiiigAooooAKKKKACiiigAooooAKKKKACiiigAooooAKKKKACiiigAooooAKKKKACiiigAooooAKKKKACiiigAooooAKKKKACiiigAopaSgAopaSgAopaSgBaSiloASiiigAooooAKKKKACiiigAooooAKKKKACilpKACiiigAooooAKKWkoAKKKKACiiigAooooAKKKKACiiigAooooAKKKKACiiigAooooAKKKKACiiigAooooAKKKKACiiigAooooAKKKKAFpKKKACiiigAooooAKKKKACiiigAooooAKKKKACiiigAooooAKKKKACiiigAooooAKKKKACiiigAooooAKKKKACiiigAooooAKKKKACiiigAooooAKKKKACiiigAooooAKKKKACiiigAooooAKKKKACiiigAooooAKKKKACiiigAooooAKKKKACiiigApaSigAopaSgAoopaAEooooAKKKKACilooASiiigAopaSgAooooAKKKKACiiigAooooAKKKKACiiigAooooAKKKKACiiigAooooAKKKKACiiigAooooAKKKKACiiigAooooAKKKKACiiigAopaSgAooooAKKKKAClopKACiiigAooooAKKKKACiiigAooooAKKKKACiiigAooooAKKKKACiiigAooooAKKKKACiiloASiiigAooooAKKKKACiiigAooooAKKKKACiiigAooooAKKKKACiiigAooooAKKKKACiiigAooooAKKKKACiiigAooooAWikooAWkoooAKWkpaAEoopaACkoooAKKWkoAKKKKACiiloASiiigApaSloASiiigBaKSigBaSlpKACiiloAKSlooAKSiigBaSiigApaSloASilpKACilpKACiiigAooooAKKKKACiiloASiiigAooooAKKKKACiiigAoopaAEooooAWkopaACikpaACkpaSgBaSlpKACiiigAooooAKKKKACiiigAooooAKKKKACiiigAooooAKKKKACiiigAooooAKKKKACiiigAooooAKKKKACiiigAooooAKKKKACiiigAooooAKKKKACiiigAooooAKKKKACiiigAooooAKKKKACiiigAooooAKKKKACiiigAooooAKKKKACiiigAooooAKKKKACilpKACiiigAooooAKKKKACiiigAopaSgAooooAKKKKACiiigAooooAKKKKACiiloASiiigAooooAKKKKACiiigAooooAKKKKACiiigAooooAKKKKACiiigAooooAKKKKAFpKKKACiiloASiiigAooooAKKKKACiiigAooooAKKKKACiiigAooooAKKKKACiiigAooooAKKKKACiiigAooooAKKKKACiiigAooooAKKKKACiiigAooooAKKKKACiiigAooooAKKKKACiiigAooooAKKKKACiiigAooooAKKKKACiiigAooooAKKKKACiiigAooooAKKKKAClpKKACiiigBaKSigApaSigApaSigAooooAWkoooAKWkooAKKKKACiiigBaSiigBaSiigAooooAKKKKAFpKKKACiiigAooooAKKKKAFpKKKACiiigAooooAKKKKACiiigApaSigAooooAKKKKAFpKKKAClpKKAFpKKKAFpKKKACiiigAooooAWkoooAKKKKACiiigAooooAKKKKACiiigAooooAKKKKACiiigAooooAKKKKACiiigAooooAKKKKACiiigAooooAKKKKACiiigAooooAKKKKACiiigAooooAKKKKACiiigAooooAKKKKACiiigAooooAKKKKACiiloASiiigAooooAKKKKAClpKKACiiloASlpKKACiiigAooooAKKKKAFpKWigBKKKKACiiloASilpKACiiigAooooAKKKKACiiigAoopaAEooooAKKKKACiiigAooooAKKKKACiiigAooooAKKKKAClopKACiiigAooooAKKKWgBKKKKAClopKACiiigAooooAKKKKACiiigAooooAKKKKACiiigAooooAKKKKACiiigAooooAKKKKACiiigAooooAKKKKACiiigAooooAKKKKACiiigAooooAKKKKACiiigAooooAKKKKACiiigAopaSgAooooAKKKKACiiigAooooAKKKKACiiigAooooAKKKKACiiigAooooAKKKKACiiigAooooAKKKKACiiigAooooAKKWkoAKKKKACiiigAooooAKKKKACiiigAooooAKKKKACiiigAooooAKKKKACiiigAooooAKKKKACiiigAooooAKKKKACiiigAooooAKKKKACiiigAooooAKKKKACiiigAooooAKKKKACiiigAooooAKKKKACiiigAooooAKKKKACiiigAooooAKKKKACiiigAooooAKKKKACiiigAooooAKKKKACiiigAooooAKKKKACiiigAooooAKKWkoAKKKKACilpKACiiigAooooAKKKKACiiigAooooAKKKKACilpKACiiigApaSigAooooAKWkooAKKKKAClpKKACiiloASiiigBaSlpKAFpKKWgApKKKACiiigAooooAKWkpaAEooooAKKKKACiiigAooooAKKKKACiiigAooooAKKKKAFpKKKACiiigAooooAKKKKACilpKAFpKKWgBKKKWgBKKWkoAKKKKACiiigAooooAKKKKACiiigAooooAKKKKACiiigAooooAKKKKACiiigAooooAKKKKACiiigAooooAKKKKACiiigAooooAKKKKACiiigAooooAKKKKACiiigAooooAKKKKACiiloASiiigAooooAKKKKACiiigAooooAKKKKACiiigBaSiloASiiigAooooAKKKKACiiigApaSigAooooAKKKKACiiigAooooAKKKWgApKKKACilpKACilpKACiiigAooooAKKKKACiiigAooooAKKKKACiiigAooooAKKWkoAKKWkoAKKWkoAWkopaAEooooAKWkooAKKKWgBKKWigBKKWigBKKKKACiiloASiiigAooooAKKKKACiiigAooooAKKKKACiiigAooooAKKKKACiiigAooooAKKKKACiiigAooooAKKKKACiiigAooooAKKKKACiiigAooooAKKKKACiiigAooooAKKKKACiiigAooooAKKWkoAKKKKACiiigAooooAKKKWgBKKWigBKKWigBKKKKACiiigAopaSgAooooAKKWigBKKKKACiiloASilpKAFpKWigBKKWkoAKKKKACilpKACiiigAooooAKKKKACiiigAooooAKKKKACiiigAooooAKKKKACiiloASiiigBaKSigAooooAKKKKACilpKACloooASiiloASiiigAooooAKKKKACiiigAooooAKKKKACiiigAooooAKKKKACiiigAooooAKKKKACiiigAooooAKKKKACiiigAooooAKKKKACiiigAooooAKKKKACiiigAooooAKWkooAKKKKACiiigAooooAKKKWgBKKKKAClpKKAFpKKWgBKKKWgBKWkpaAEoopaAEooooAKKKKACilooASilpKAClpKKACiiigAooooAKKKKACiiigAopaKACkopaAEoopaAEooooAKKKKACilooASiiigAooooAKKKKACiiigAooooAKKKKACiiigAooooAKKKKAFpKWkoAKKKWgBKKWigBKKKWgAooooASilooASiiigAoopaAEooooAKKKKACiiigAooooAKKKKACiiigAooooAKKKKACiiigAooooAKKKKACiiigAooooAKKKKACiiigAooooAKKKKACiiigAooooAKKKKACiiigAooooAKKKKACiiigAooooAKKKKACiiigAooooAKKKKACiiigAooooAKKKKACiiigAooooAKKKKACiiigAoopaAEooooAKKKKACiiigAooooAKKWigBKKKWgBKKWkoAKKKKACiiigAooooAKKKKACiiigAooooAKKKKACiiigAooooAKKKKACiiigAooooAKKKKACiiigAooooAKKKKAFpKWkoAKKKKACiiigAoopaAEopaSgAooooAKKKKACiiigAooooAKKKKACiiigAooooAKKKKACiiigAooooAKKKKACiiigAooooAKKKKACiiigAooooAKKKKACiiigAooooAKKKKACiiigAooooAKKKKACiiigAooooAKKKKACiiigBaSiigAooooAKKKKACiiigAooooAKKKKACilpKACiiigAooooAKKKKACiiigAooooAKKKWgBKKKKAFpKWkoAKKKKACiiigAooooAKKKKACiiigAooooAKKKKACiiigAooooAKKKKACiiigAooooAKKKKACiiloASiiigAooooAKKKKACiiigAooooAKKKKACiiigAooooAKKKKACiiigAooooAKKKKACiiigAooooAKKKKACiiigAooooAKKKKACiiigAooooAKKKKACiiigAooooAKKKKACiiigAooooAKKKKACiiloASiiigAooooAKKKKACiiigAoopaAEooooAKWkooAKKKKAClpKKAFpKKWgBKKKKAClpKWgBKKKKACiiigAopaSgAooooAKKKKACilooASiiigAoopaACkopaACikooAKKKKACilpKACiiigBaSiigAooooAKKKKACiiigAooooAKKKKACiiigAooooAKKKKAClpKKACiiigAooooAKKKKACilpKACiiigAooooAKKKKACiiloASiiigAooooAKKKKACiiigAooooAKKKKACiiigAooooAKKKKACiiigAooooAKKKKACiiigAooooAKKKKACiiigAooooAKKKKACiiigAooooAKKKKACiiigAoopaAEooooAKKWkoAKKKWgBKKKKAClpKWgBKKKWgBKKKKACilooASiiigAopaKAEoopaAEopaSgAopaSgAopaSgAooooAKKKKACiiigAopaKAEopaSgAopaKAEoopaAEooooAKKKKACiiigAopaSgAooooAKKKKACiiigAooooAKKKKACiiigAopaSgAooooAKKKKACilooASiiloASilooASiiloASiiigAooooAKWkooAKKKKACiiigAooooAKKKKACiiigAooooAKKKKACiiigAooooAKKKKACiiigAooooAKKKKACiiigAooooAKKKKACiiigAooooAKKKKACiiigAooooAKKKKACiiigAooooAKWkooAWikooAKKKKACiiloASiiloAKSiigApaKSgAooooAKWikoAKKKKAClpKKAFpKKKACiiigAopaKACkopaACkoooAKKKKAFoopKAClopKAClpKKAFpKKKACiiigAooooAKKKKACiiigAooooAKKKKACiiigAooooAKKKKACiiigAooooAKWkooAKWiigApKWkoAWiikoAWikooAKWkooAKKKKACiiigAooooAKKKKACiiigAooooAKKKKACiiigAooooAKKKKACiiigAooooAKKKKACiiigAooooAKKKKACiiigAooooAKKKKACiiigAooooAKKKKAClpKKACiiigAooooAKWkooAKKKKACiiigBaSiigApaSigAooooAKKKKACiiigApaSigAooooAKKKKACiiigAooooAKKKKACiiigAooooAWikooAKKKKACiiigApaSigAopaSgAooooAKWkooAKWkooAKKKKACiiigAooooAKKKKACiiigAooooAKKKKACiiigAooooAKKKKAFpKKKAFpKKKACiiigApaSigAooooAKKKKACiiloASiiigAooooAKKKKACiiigAooooAKKKKACiiigAooooAKKKKAClpKKACiiigAooooAKKKKACiiigAooooAKKKKACiiigAooooAKKKKACiiigAooooAWkoooAKKKKACiiloASiiigAooooAKKKKACiiloASiiigApaSigApaKSgAooooAKKKKACiiigBaKKSgAooooAKKKKACiiigAooooAKKKKAFpKKKACiiigAooooAWkpaSgAooooAKKKKACiiigAooooAKKKKACiiigAooooAKKKKACiiigAooooAKKKKACiiigAooooAKKKKACiiigApaSigAooooAWkoooAKKKKACiiigAooooAKKKKACiiigAooooAKKKKACiiigAooooAKKKKACiiigAooooAKKKKACiiigAooooAKKKKACiiigAooooAKKKKACiiigAooooAKKKKACiiigAooooAKKKKACiiigAooooAKKKKACiiigAooooAWkpaSgAooooAKKKKACiiigAooooAKKKKACiiigAooooAKKKKACiiigAooooAKKKKACiiigAooooAWkoooAKKKKACiiigAooooAKKKKACiiigAooooAKKKKACiiigAooooAKKKKACiiigAooooAKKKKACiiloASiiigAooooAKKKKACiiigAooooAKKKKACiiloASiiigAooooAKKKKACiiigAooooAKKKKACiiigAooooAKKKKACiiigAooooAKKKKACiiigAooooAKKKKACiiigAooooAKKKKACiiigAooooAKWkooAKKKKACiiigAooooAKKKKACiiloASiiigBaSlpKACiiigApaSloASiiloASiiigApaSloASiiigBaSlpKACiiigAooooAKKKKACiiigAooooAKKKKACiiigAooooAKKKKAFpKKKACiiigAooooAKKKKACiiigAooooAKKKKACiiigAooooAKKKWgBKKKKACiiigAooooAKWkpaAEoopaAEoopaAEoopaAEopaSgAooooAKKKKACiiigAooooAKKKKACiiigAooooAKKKKACiiigAooooAKKKKACiiigAooooAKKKKACiiigAooooAKKKKACiiigAooooAKKKKACiiigAooooAKKKKACiiigAooooAWkoooAKKKKAClpKKACiiigAooooAKKKKACiiigBaSiigAooooAKKKKACiiigBaKSigAooooAKKWkoAKKKKACiiigAooooAKKKKAFpKKKACiiigBaSiigBaKSigAooooAKKKKACiiigAooooAKKKKACiiigAooooAKKKKACiiigAooooAKKKKAClpKKACiiigBaKSigAooooAKWkooAKKKKACiiigAooooAKKKKACiiigAooooAKKKKACiiigAooooAKKKKACiiigAooooAKKKWgBKKKKACiiigAooooAKKKKACiiigAooooAKKKKACiiigAooooAKKKKACiiigAooooAKKKKACiiigAooooAKKKKACiiigAooooAWkoooAKKKKACiiigAooooAKKKKACiiigAooooAKKKKACiiigBaSiigAooooAWkoooAKKKKACiiigBaSiloASiiigBaSiigAooooAKWkooAKKKKACiiigAooooAKKKKACiiigAooooAKKKKACiiigAooooAKKWkoAKKKKACiiigBaKSigAooooAKWkooAKKKKACiiigAooooAKKKKACiiigAooooAKKKKACiiigAooooAKKKKACilpKACiiigAooooAKKKKACiiigAooooAKKKKACiiigAooooAKKKKACiiigAooooAKKKKACiiigApaSigAopaKAEooooAKKWkoAKKKKACiiigAooooAKKKKACiiigAooooAKKKKACiiigAooooAWkoooAKWkooAKKKKACilpKACiiigBaSiigAooooAKKKKACiiigBaSiigAooooAKKWkoAKKKKACiiigAooooAKKKKACiiigAooooAKKKKACiiigAooooAKKKKACiiigAooooAKKKKAClpKWgBKKKWgBKKKKACiiigAooooAKKKKACiiigAooooAKKKKACiiigAooooAKKKKACiiigAooooAKKKKACiiigAooooAKKKKACiiigAooooAKKKKACiiigAooooAKKKKACiiigAooooAKKKKACiiigAooooAKKKKACiiigAooooAKKKKACiiigAooooAKKKKACiiigAooooAKKKKACiiigAooooAKKKKACiiigAooooAKWkooAKKKKACiiigAooooAKKKKACiiigAooooAKKKKACiiigAooooAKKKKACiiigAooooAKKKKACiiigAooooAKKKKACiiigAooooAKKKKACiiigAooooAKKKKACiiigAooooAKKKKACiiigAooooAKKKKACiiigAooooAKKKKACiiigAooooAKKKKACiiigAooooAKKKKACiiigAooooAKKKKACiiigAooooAKKKKACiiigAooooAKKKKAClpKKACiiigAoopaAEooooAKKKKACilpKACiiigAooooAKKWkoAKKKKACiiigAooooAKKKKACiiigAooooAKKKKACiiigAoopaAEooooAKKKKACiiigAooooAKKKKACiiigAooooAKKKKACiiigAooooAKKKKACiiigAooooAKKKKACiiigAooooAKKKWgBKKWkoAKKKKACiiloASiiloASilpKACiiloASiiigAooooAKKKKACiiigAooooAKKKKACiiigAooooAKKKKACiiigAooooAKKKKACiiigAooooAKKKKACiiigAooooAKKKKACiiigAooooAKKKKACiiigAoopaAEooooAKKKKACiiigAooooAKKKKACiiigAooooAKKKKACiiigAooooAWkopaAEooooAKKKWgApKWigApKKKAClpKKACiiigAoopaAEooooAKKKKACiiloASilpKACilpKACiiigAooooAKKKKACiiigAooooAKKKKACiiigAooooAKKKKACiiigAooooAKKKKACilpKACiiigAopaSgAopaSgAooooAKKKKACiiigAooooAKKKKACiiigAooooAKKKKACiiigAooooAKKKKACiiigAooooAKKKKACiiigAooooAKKKKACiiigAooooAKKKKACiiigAooooAKKKKACiiigAooooAKKKKAFpKKKAClpKKACiiigBaSiigApaSigAooooAKKKKACiiigApaSigApaSigAooooAKKKKACiiigAooooAWkoooAKWkooAWikooAKKKKAClpKKAFpKKKAFpKKKACiiigAooooAKKKKACiiigAooooAKKKKACiiigAooooAKKKKACiiigAooooAKKKKACiiigAooooAKKKKAFpKKWgBKKKKACiiigAooooAKKKKACiiigAooooAKKKKACiiigAooooAKKKKACiiigAooooAKKKKACiiigAooooAKKKKACiiigAooooAKKKKACiiigAooooAKKKKACiiigAooooAKKKKACiiigAooooAKKKKAFopKWgBKKKKAFpKKKACiiigApaSigBaKSigAopaKAEpaSigApaSloASlopKAClopKAClpKKACiiigAopaSgApaSigAooooAWkoooAKKKKAClpKKACiiigAooooAKKKKAFpKKKACiiigAooooAKKKKACiiigAooooAKWkooAKKKKACiiigAooooAKKKKAClpKKAFopKKAClopKAClpKWgBKKKKACiiigAooooAKKKKACiiigAooooAKKKKACiiigAoopaAEooooAKKKKACiiigAooooAKKKKACiiigAooooAKKKKACiiigAooooAKKKKACiiigAooooAKKKKACiiigAooooAKKKKACiiigAooooAKKKKACiiigAooooAKKKWgBKKKKACiiloASiiigAooooAKKKKACilooASiiigAopaKAEopaSgAooooAKKWkoAKKWkoAKKKKACiiigAooooAKKKKACiiigAooooAKKWkoAKKKKACiiigAooooAKKKKACiiloASiiigAoopaAEopaSgAoopaAEopaSgAopaKAEopaKAEooooAWkpaSgAooooAKKKKACiiigAooooAKKKKACiiigAooooAKKKKACiiigAooooAKKKKACiiigAooooAKKKKACiiigAooooAKKKKACiiigAooooAKKKKACiiigAooooAKKKKACiiigAooooAKKKKACiiigAooooAKKKKAFpKWkoAKKKKACiiigBaKKSgApaSigBaKSigApaSigAooooAWkopaAEooooAKWkooAKKWkoAKKKKAFpKWkoAKKKKAClpKKACiiigAooooAKKKKACiiigAooooAKKKKACiiigAooooAKKKKACiiigAooooAWkoooAKKKKAFopKKAClpKKACiiigAooooAKKWkoAKKKKACiiigAooooAKKKKACiiigAooooAKKKKACiiigAooooAKKKKACilpKACiiigAooooAKKKKACiiigAooooAKKKKACiiigAooooAKKKKACiiigAooooAKKKKACiiigAooooAKKKKACiiigAooooAKKKKACiiigAooooAKKKKACiiigAopaKAEooooAKKKKAClpKKACiiigAopaSgAoopaAEopaSgAopaSgAopaSgApaSigAopaSgAoopaAEopaSgAooooAKKKKACiiigAooooAKKKKACiiigAooooAKKKKACiiigAooooAKKWkoAKKKWgBKKKKACiiigApaSloASiiigAopaKAEooooAKKKKACiiigAooooAKKKKACiiigAooooAKKKKACiiigAooooAKKKKACiiigAooooAKKKKACiiigAooooAKKKKACiiigAooooAKKKKACiiigAooooAKKKKACiiigAooooAKKKKACiiigAooooAKKKKACiiigAooooAKKKKACiiigAooooAKKKKACiiigApaSloASlpKKAFpKKKAClpKWgBKKWkoAKKKKAFoopKACiiigAooooAKKKKAFopKKACiiigAooooAKKKKACiiigAooooAKKKKACiiigAooooAKKKKACiiigAooooAKKKKACiiigBaKSigAoopaACikooAWkpaSgAooooAKWkpaAEooooAKKKKACiiigAooooAKKKKACiiigAooooAKKKKACiiigAooooAKKKKACiiigAooooAKKKKACiiigAooooAKKKKACiiigAooooAKKKKACiiigAooooAKKKKAFpKKKACiiigAooooAKKKKACiiigAooooAKKKKACiiigAooooAKKKKACilpKACiiigBaSiloASilpKACiiigAopaSgAooooAKKKKACilpKACiiigAooooAKKKKACiiigAooooAKKKKACiiigAoopaAEooooAKKKKACiiigAooooAKKKKACiiigAooooAKWkooAWikooAKWkooAKKKKACiiigAooooAKKKKACiiigAooooAKKKKACiiigAoopaAEooooAKKKKACiiigAooooAKKKWgBKKKKACiiigAooooAKKKKACiiigAooooAKKKKACiiigAooooAKKKKACiiigAooooAKKKKACiiigAooooAKKKWgBKKKKACiiigAooooAKKKKACiiigAoopaAEopaSgAoopaAEopaKAEoopaAEopaSgBaSiigAooooAKWikoAKKKKACiiloASiiigAopaSgBaSlpKACiiloASiiigAooooAKKKKACiiloASiiigAooooAKKKKACiiigAooooAKKKKACiiigAooooAKKWkoAKKKKACiiloASiiloASiiigAooooAKKKKACiiigAooooAKKKKACiiigAooooAKKKKACiiigAooooAKKKKACiiigAooooAKKKKACiiigAooooAKKKKACiiigAooooAKKKKACiiigAooooAKKKKACiiigAooooAKKKKACiiigApaSigAooooAKKKKACiiigAopaSgAooooAKWkooAKWiigBKWkooAKKKWgBKKKKAFpKKKAFoopKAFpKKKAFpKKWgAopKKACiiigAooooAKWkooAKKKKACiiigAooooAKKKKAFpKKKACiiigAooooAKKKKACiiigAooooAWkoooAKKKKACiiigBaSiigApaKSgBaKKSgAoopaAEooooAKKKKACiiigAooooAKKKKACiiigAooooAKKKKACiiigAooooAKKKKACiiigAooooAKKKKACiiigAooooAKKKKACiiigAooooAKKKKACiiigAooooAKKKKACiiigAooooAKKKKACiiigAooooAKKKKACiiigAooooAKKKKAFpKKKACiiigBaSiigBaSiigAooooAKWkooAWikooAWkoooAKKKKAFpKKKAFpKKKACiiigAooooAKKKKACiiigAooooAKKKKACiiigAooooAKKKKACiiigAooooAKKKKACiiigAooooAKKKKACiiigAooooAWkoooAKWkooAWikooAKWkooAKKKKACiiigAooooAKKKKACiiigAooooAKKKKACiiigAooooAKKKKACiiigAooooAKKKKACiiigAooooAKKKKACiiigAooooAKKKKACiiigAooooAKKKKACiiigAooooAKKKKACiiigAooooAKKWkoAKKKKACiiigAooooAKKKKACiiigAoopaAEooooAKKKKACiiigAooooAKKKKACiiigAooooAKKKWgBKKKKACiiigAooooAKKKKACiiigAooooAKKKKACiiigAooooAKKKKACiiigAooooAKKKKACiiigAoopaAEooooAKKKKACilpKACiiigAopaKAEopaSgAopaSgAooooAKKKKACiiigAooooAKKKKACiiigAooooAKKKKACiiigAooooAKKKKACiiigAooooAKKKKACiiigAooooAKKKKACiiigAooooAKKKKACiiigAooooAKKKKACiiigAooooAKKKKACiiigAooooAKKKKACiiigAooooAKKKKACiiigAooooAKKKKACiiloASlpKKACiiigAooooAKKKKACiiigAooooAKKKKACiiigAooooAKKKKACiiigAooooAKKKKACiiigAooooAKKKKACiiigAooooAKKKKACiiigAooooAKKKKACiiigAooooAKKKKACiiloASiiloASilooASiiigAooooAKKKKACiiigAooooAKKKKACiiigAooooAKKKKACiiigAooooAKKKKACiiigAooooAKKKKACiiigAooooAKKKKACiiigAooooAKKKKACiiigAooooAKKKKACiiigAooooAKKKKACiiigAooooAKKKKACiiigAooooAKKKKACiiigAooooAKKKKACiiigAooooAWkoooAWikooAKKKKAClpKKACiiigAooooAKKKKACiiigAooooAKKKKACiiigAooooAKKKKACiiigApaSigAooooAKKKKACiiigAooooAKKKKACiiigAooooAKKKKACiiigBaSiigBaKSigAooooAKKKKACiiloASiiigAooooAKKKKACiiigAooooAKKKKACiiigAooooAKKKKACiiigAooooAKKKKACiiigAooooAKKKKACiiigAooooAKKKKACiiigAooooAKKKKACiiigAooooAKKKKACiiigAooooAKKKKACiiigAooooAKKKKACiiigAopaSgAoopaAEooooAKKWigBKKWkoAKKKKAFpKKKAFpKKKAClpKKACiiigAooooAKKKKACiiloASiiigAooooAKKKKACiiigAoopaAEooooAKKKKACiiigAooooAKKKKACiiigAooooAKKKKACilpKACiiigAooooAKKWigBKKKKACiiigAooooAKKKKACiiigAooooAKKKKACiiigAooooAKKKKACiiigAooooAKKKKACiiigAooooAKKKKACiiigAooooAKKKKACiiigAooooAKKKKACiiigAooooAKKKKACiiigAooooAKKKKACiiigAooooAKKKKACiiigAooooAKKKKACiiigAooooAKKKKAFpKKKACiiigAooooAKKKKACilpKACiiigAooooAKKKKACiiigAooooAKKKKACiiigAooooAKKKKACiiigAooooAKKKKACilpKACiiigAooooAKKKKACiiigAooooAKKKKACiiigAooooAKKWigBKKKKACiiigAooooAKKKKACiiigApaSigAooooAKKKKACiiigAooooAKKKKACiiigAooooAKKKKACiiigAooooAKKKKACiiigAooooAKKKKACiiigAooooAKKKKACiiigAooooAKKKKACiiigAooooAKKKKACiiigAooooAKKKKACiiigApaSigBaSiigAooooAKKKKACiiigApaSigAooooAKKKKACiiigBaSiigApaSigAooooAKKKKACiiigAooooAKKKKACiiigAooooAKKKKAClpKKACiiigAooooAKKKKACiiigAooooAKKKKACiiigAopaSgAoopaACkoooAKKKKACiiigAooooAKKKKACiiigAooooAKKKKACiiigAooooAKKKKACiiigAooooAKKKKACiiigAooooAKKKKACiiigAooooAKKKKACiiigAooooAKKKWgBKKKKACiiigAooooAKKKKACiiigAooooAKKKKACiiigAooooAKKKKACiiigAooooAKKKKACiiigAooooAKKKKACiiigAooooAKKKKACiiigAooooAKKWkoAKKKKACiiigAooooAKKKKACiiigAooooAKKKKACiiigAooooAKKKKACiiigAooooAKKKKACiiigAooooAKKKKACiiigAooooAKKKKACiiigAooooA//Z",
        "encoding": "base64",
        "path": [
         "value"
        ]
       }
      ],
      "model_module": "@jupyter-widgets/controls",
      "model_module_version": "1.5.0",
      "model_name": "ImageModel",
      "state": {
       "format": "jpeg",
       "height": "500",
       "layout": "IPY_MODEL_9b3790bb22b441e88ab4feceaf6da3f1",
       "value": {},
       "width": "1000"
      }
     },
     "2277a0c6d6514f6a94c76c2ef0eff3ef": {
      "model_module": "ipysheet",
      "model_module_version": "~0.4.4",
      "model_name": "CellRangeModel",
      "state": {
       "_view_module": null,
       "_view_module_version": "",
       "column_end": 2,
       "column_start": 2,
       "type": "numeric",
       "value": 26.5
      }
     },
     "228534f1926147669964a8980fdb8bcd": {
      "model_module": "@jupyter-widgets/controls",
      "model_module_version": "1.5.0",
      "model_name": "DescriptionStyleModel",
      "state": {
       "description_width": "initial"
      }
     },
     "228ea62fd15446ada2d789438ef2879e": {
      "model_module": "@jupyter-widgets/base",
      "model_module_version": "1.2.0",
      "model_name": "LayoutModel",
      "state": {
       "grid_area": "maxZ",
       "width": "auto"
      }
     },
     "229666bb696a4e54a44b0ed7a20fe730": {
      "model_module": "@jupyter-widgets/controls",
      "model_module_version": "1.5.0",
      "model_name": "DescriptionStyleModel",
      "state": {
       "description_width": "initial"
      }
     },
     "22f0487ec6ff447caef62f6a4c909dd2": {
      "model_module": "ipysheet",
      "model_module_version": "~0.4.4",
      "model_name": "CellRangeModel",
      "state": {
       "_view_module": null,
       "_view_module_version": "",
       "column_end": 2,
       "column_start": 2,
       "row_end": 2,
       "row_start": 2,
       "type": "numeric",
       "value": 25
      }
     },
     "233025bc27e545e9bad0609773e1ab45": {
      "model_module": "@jupyter-widgets/controls",
      "model_module_version": "1.5.0",
      "model_name": "DescriptionStyleModel",
      "state": {
       "description_width": "initial"
      }
     },
     "233d72c8af3e49f380faf5e9ec8d1ad2": {
      "model_module": "ipysheet",
      "model_module_version": "~0.4.4",
      "model_name": "CellRangeModel",
      "state": {
       "_view_module": null,
       "_view_module_version": "",
       "column_end": 3,
       "column_start": 0,
       "row_end": 0,
       "row_start": 0,
       "squeeze_column": false,
       "type": "text",
       "value": [
        "",
        "",
        "",
        ""
       ]
      }
     },
     "234baf873d8344c980b507e1b39e812e": {
      "model_module": "ipysheet",
      "model_module_version": "~0.4.4",
      "model_name": "CellRangeModel",
      "state": {
       "_view_module": null,
       "_view_module_version": "",
       "column_end": 3,
       "column_start": 0,
       "row_end": 3,
       "row_start": 3,
       "squeeze_column": false,
       "type": "numeric",
       "value": [
        "",
        "",
        "",
        ""
       ]
      }
     },
     "237c8a4635b74135a6a2350d01073b0f": {
      "model_module": "@jupyter-widgets/controls",
      "model_module_version": "1.5.0",
      "model_name": "BoundedIntTextModel",
      "state": {
       "description": "Light Sheet Offset",
       "layout": "IPY_MODEL_f83d3811b80d4275adafade34ad154b4",
       "max": 300,
       "min": -300,
       "style": "IPY_MODEL_0e5f472bd1f44ad9bb399d7e80d0b606"
      }
     },
     "238b6c72ed74439bb8be6ba68414f990": {
      "model_module": "@jupyter-widgets/controls",
      "model_module_version": "1.5.0",
      "model_name": "BoundedFloatTextModel",
      "state": {
       "description": "Stage X (um)",
       "layout": "IPY_MODEL_603fb34afab04fc3b26a9179861e4ef3",
       "max": 50,
       "step": 0.001,
       "style": "IPY_MODEL_23c8c95906b74ea2b2a4f3937b6e92ca",
       "value": 25
      }
     },
     "23903fe1baa447ad944417735738746c": {
      "model_module": "@jupyter-widgets/controls",
      "model_module_version": "1.5.0",
      "model_name": "ButtonModel",
      "state": {
       "button_style": "danger",
       "description": "Begin Experiment",
       "layout": "IPY_MODEL_28efda3d11794a4e91828f7b2c394e18",
       "style": "IPY_MODEL_aba3a948a68e4a6eae707d8f70fcc426"
      }
     },
     "239ba5ccd2af40eebb28523663219222": {
      "model_module": "ipysheet",
      "model_module_version": "~0.4.4",
      "model_name": "CellRangeModel",
      "state": {
       "_view_module": null,
       "_view_module_version": "",
       "column_end": 3,
       "column_start": 0,
       "row_end": 0,
       "row_start": 0,
       "squeeze_column": false,
       "type": "numeric",
       "value": [
        "",
        "",
        "",
        ""
       ]
      }
     },
     "23c0ad0296584b2ba9881d8ab66e03c0": {
      "model_module": "@jupyter-widgets/controls",
      "model_module_version": "1.5.0",
      "model_name": "DescriptionStyleModel",
      "state": {
       "description_width": "initial"
      }
     },
     "23c8c95906b74ea2b2a4f3937b6e92ca": {
      "model_module": "@jupyter-widgets/controls",
      "model_module_version": "1.5.0",
      "model_name": "DescriptionStyleModel",
      "state": {
       "description_width": "initial"
      }
     },
     "23da5e9361244a318826f895c4912794": {
      "model_module": "@jupyter-widgets/base",
      "model_module_version": "1.2.0",
      "model_name": "LayoutModel",
      "state": {
       "grid_area": "maxX",
       "width": "auto"
      }
     },
     "23e87254e21a46f9bf86d065ffaa7f8c": {
      "model_module": "@jupyter-widgets/controls",
      "model_module_version": "1.5.0",
      "model_name": "HBoxModel",
      "state": {
       "children": [
        "IPY_MODEL_a65a3474c5d942be8b507583aa00d097",
        "IPY_MODEL_68d1867994d84004b46613b58f378bd6"
       ],
       "layout": "IPY_MODEL_fc2d9ec9bd3646a7887715d416ab8e0a"
      }
     },
     "241bc4b581ae43edbee63431dcae16a4": {
      "model_module": "@jupyter-widgets/base",
      "model_module_version": "1.2.0",
      "model_name": "LayoutModel",
      "state": {
       "width": "50%"
      }
     },
     "24511fe83cd5400faa7394a5f56964ae": {
      "model_module": "@jupyter-widgets/controls",
      "model_module_version": "1.5.0",
      "model_name": "BoundedFloatTextModel",
      "state": {
       "description": "Exp Inverval (h)",
       "layout": "IPY_MODEL_6d5f190e78b5455d83bcb22ab9abaca8",
       "min": 0.01,
       "step": 0.01,
       "style": "IPY_MODEL_88d07968094e415289e7b4ca2405cb6b",
       "value": 0.01
      }
     },
     "248e54f916f54f96b316632c7363d61b": {
      "model_module": "@jupyter-widgets/base",
      "model_module_version": "1.2.0",
      "model_name": "LayoutModel",
      "state": {
       "grid_area": "stageY",
       "width": "auto"
      }
     },
     "24ae480605914974bcb683a343d61562": {
      "model_module": "ipysheet",
      "model_module_version": "~0.4.4",
      "model_name": "CellRangeModel",
      "state": {
       "_view_module": null,
       "_view_module_version": "",
       "column_end": 3,
       "column_start": 0,
       "row_end": 2,
       "row_start": 2,
       "squeeze_column": false,
       "type": "numeric",
       "value": [
        "",
        "",
        "",
        ""
       ]
      }
     },
     "24b4320e47294d7b89b13772258372e5": {
      "model_module": "@jupyter-widgets/base",
      "model_module_version": "1.2.0",
      "model_name": "LayoutModel",
      "state": {
       "width": "90%"
      }
     },
     "24c7c3cd248e4deeb2c9407697e20d75": {
      "model_module": "ipysheet",
      "model_module_version": "~0.4.4",
      "model_name": "CellRangeModel",
      "state": {
       "_view_module": null,
       "_view_module_version": "",
       "column_end": 0,
       "column_start": 0,
       "row_end": 3,
       "row_start": 3,
       "type": "text",
       "value": 25
      }
     },
     "24d9953eef8145cb9ca4bef3169f16f2": {
      "model_module": "@jupyter-widgets/controls",
      "model_module_version": "1.5.0",
      "model_name": "DescriptionStyleModel",
      "state": {
       "description_width": "initial"
      }
     },
     "25b6dc1e091d4279831193d13d5af357": {
      "model_module": "ipysheet",
      "model_module_version": "~0.4.4",
      "model_name": "CellRangeModel",
      "state": {
       "_view_module": null,
       "_view_module_version": "",
       "column_end": 3,
       "column_start": 0,
       "row_end": 2,
       "row_start": 2,
       "squeeze_column": false,
       "type": "numeric",
       "value": [
        "",
        "",
        "",
        ""
       ]
      }
     },
     "266c3c3dbfb14eba927c5ae7841fb3f5": {
      "model_module": "@jupyter-widgets/base",
      "model_module_version": "1.2.0",
      "model_name": "LayoutModel",
      "state": {}
     },
     "269961d5c67f466b80a7a9b446041c87": {
      "model_module": "@jupyter-widgets/base",
      "model_module_version": "1.2.0",
      "model_name": "LayoutModel",
      "state": {}
     },
     "2738ac0259f04dfbbab16afbec9541eb": {
      "model_module": "@jupyter-widgets/controls",
      "model_module_version": "1.5.0",
      "model_name": "VBoxModel",
      "state": {
       "_dom_classes": [
        "widget-interact"
       ],
       "children": [
        "IPY_MODEL_0af2aa32f0f2419a94e16f4b8bf7deb0",
        "IPY_MODEL_9741bb91880d4ff7aedf9e76b0355420",
        "IPY_MODEL_e607549dc67642aab5d6f9f4a55e061d",
        "IPY_MODEL_6935e7778d674117885a53c1bd27de14"
       ],
       "layout": "IPY_MODEL_0be140bc0752409ea8e2a2e3a9c476cd"
      }
     },
     "273ffc91d67349d5af187bd9b8bbd9e7": {
      "model_module": "@jupyter-widgets/controls",
      "model_module_version": "1.5.0",
      "model_name": "DescriptionStyleModel",
      "state": {
       "description_width": "initial"
      }
     },
     "277163baebb94d0ba446d1e31f65a4e8": {
      "model_module": "@jupyter-widgets/controls",
      "model_module_version": "1.5.0",
      "model_name": "DescriptionStyleModel",
      "state": {
       "description_width": "initial"
      }
     },
     "2774debe38294ebf940bd4a0f10a7369": {
      "model_module": "@jupyter-widgets/base",
      "model_module_version": "1.2.0",
      "model_name": "LayoutModel",
      "state": {}
     },
     "27fdf5c7444c4fa48b2fe9291d225c9d": {
      "model_module": "@jupyter-widgets/controls",
      "model_module_version": "1.5.0",
      "model_name": "DescriptionStyleModel",
      "state": {
       "description_width": "initial"
      }
     },
     "285ed3b7688f4448ba75aa6fa0f868ae": {
      "model_module": "@jupyter-widgets/controls",
      "model_module_version": "1.5.0",
      "model_name": "SliderStyleModel",
      "state": {
       "description_width": ""
      }
     },
     "28da0b1fb0d0411d87bfc5a0890e2f63": {
      "model_module": "@jupyter-widgets/controls",
      "model_module_version": "1.5.0",
      "model_name": "SliderStyleModel",
      "state": {
       "description_width": ""
      }
     },
     "28efda3d11794a4e91828f7b2c394e18": {
      "model_module": "@jupyter-widgets/base",
      "model_module_version": "1.2.0",
      "model_name": "LayoutModel",
      "state": {
       "grid_area": "largeFOV_begin_button",
       "width": "auto"
      }
     },
     "2900ee2dc6574b13927217aaadf94c6f": {
      "model_module": "@jupyter-widgets/base",
      "model_module_version": "1.2.0",
      "model_name": "LayoutModel",
      "state": {
       "width": "90%"
      }
     },
     "29244d0e7a7c49299bc955c21a05aa97": {
      "model_module": "@jupyter-widgets/controls",
      "model_module_version": "1.5.0",
      "model_name": "SliderStyleModel",
      "state": {
       "description_width": ""
      }
     },
     "29854744305f4bc3882d6543e6ccee65": {
      "model_module": "@jupyter-widgets/base",
      "model_module_version": "1.2.0",
      "model_name": "LayoutModel",
      "state": {}
     },
     "298af603f9144bc8a9de8126293a7b47": {
      "model_module": "@jupyter-widgets/base",
      "model_module_version": "1.2.0",
      "model_name": "LayoutModel",
      "state": {}
     },
     "29bb8ba137234912b48512d5e6ff64b4": {
      "model_module": "@jupyter-widgets/controls",
      "model_module_version": "1.5.0",
      "model_name": "ButtonModel",
      "state": {
       "description": "Add Offset",
       "layout": "IPY_MODEL_219b38dc179449969813b8043cf3e91f",
       "style": "IPY_MODEL_71c01ea683844c65ad8d826d57b9df75"
      }
     },
     "29e7b5109120445681419ad2e630ed8d": {
      "model_module": "@jupyter-widgets/base",
      "model_module_version": "1.2.0",
      "model_name": "LayoutModel",
      "state": {
       "width": "90%"
      }
     },
     "2a0eabc513b545d9813c806413bbcb8e": {
      "model_module": "ipysheet",
      "model_module_version": "~0.4.4",
      "model_name": "CellRangeModel",
      "state": {
       "_view_module": null,
       "_view_module_version": "",
       "column_end": 3,
       "column_start": 3,
       "row_end": 5,
       "row_start": 5,
       "type": "text",
       "value": 5
      }
     },
     "2a52d23c1c9d49f3a0673fd85cdca2d2": {
      "model_module": "ipysheet",
      "model_module_version": "~0.4.4",
      "model_name": "CellRangeModel",
      "state": {
       "_view_module": null,
       "_view_module_version": "",
       "column_end": 3,
       "column_start": 0,
       "row_end": 5,
       "row_start": 5,
       "squeeze_column": false,
       "type": "text",
       "value": [
        "",
        "",
        "",
        ""
       ]
      }
     },
     "2a8972bc48ad40d694bb4b975328500b": {
      "model_module": "@jupyter-widgets/base",
      "model_module_version": "1.2.0",
      "model_name": "LayoutModel",
      "state": {
       "grid_area": "minZ",
       "width": "auto"
      }
     },
     "2aa424d07ca643b8aad37e0bd7516ce3": {
      "model_module": "@jupyter-widgets/controls",
      "model_module_version": "1.5.0",
      "model_name": "FloatSliderModel",
      "state": {
       "continuous_update": false,
       "description": "Exposure (ms)",
       "layout": "IPY_MODEL_b47df24c09204e428bb8be7c1bf57099",
       "min": 16.83,
       "step": 16.83,
       "style": "IPY_MODEL_ba3d74bea29a4591872aaf5938637a92",
       "value": 16.83
      }
     },
     "2ace6cdca7dc42bda47bba879a722032": {
      "model_module": "ipysheet",
      "model_module_version": "~0.4.4",
      "model_name": "CellRangeModel",
      "state": {
       "_view_module": null,
       "_view_module_version": "",
       "column_end": 3,
       "column_start": 0,
       "row_end": 2,
       "row_start": 2,
       "squeeze_column": false,
       "type": "numeric",
       "value": [
        "",
        "",
        "",
        ""
       ]
      }
     },
     "2ae9530c5be745ba8551d7272bacd0bf": {
      "model_module": "@jupyter-widgets/controls",
      "model_module_version": "1.5.0",
      "model_name": "VBoxModel",
      "state": {
       "_dom_classes": [
        "widget-interact"
       ],
       "children": [
        "IPY_MODEL_4f1da2c377224495bd2b1a46ff53c848",
        "IPY_MODEL_ab32d68a83214a91ae548f2597e76d8f",
        "IPY_MODEL_b1bc541216fb45b6b998968814bb2365",
        "IPY_MODEL_1a28e29aeae2483a9de06751dea28bda",
        "IPY_MODEL_d7e69fed86784b3b849255649c75e595",
        "IPY_MODEL_b13b1c10eabd4d058bcad650eaeafb2b",
        "IPY_MODEL_6b53974009ec4e5ea14fbbcf1701d5cc",
        "IPY_MODEL_a484e19282644f5ba77c6bbd82cef857",
        "IPY_MODEL_c7647c6e3f69466eb7cf7613c7bd8e27"
       ],
       "layout": "IPY_MODEL_bb5094018ae84ef09c0fbd8ca860f6c9"
      }
     },
     "2b2b7e4bfb4948ddbb8ecd6943dd458b": {
      "model_module": "@jupyter-widgets/controls",
      "model_module_version": "1.5.0",
      "model_name": "TabModel",
      "state": {
       "_titles": {
        "0": "Light sheet scan",
        "1": "Wide Field",
        "2": "Large FOV"
       },
       "children": [
        "IPY_MODEL_195498a33c884b25a81a28a0119d529f",
        "IPY_MODEL_beb789f32a0a4f089fb7695b455ce6c0",
        "IPY_MODEL_c9024d16284642229a9cfbf442d159e3"
       ],
       "layout": "IPY_MODEL_2774debe38294ebf940bd4a0f10a7369",
       "selected_index": 2
      }
     },
     "2b4f05844f334a15b13af31e43af0a29": {
      "model_module": "ipysheet",
      "model_module_version": "~0.4.4",
      "model_name": "CellRangeModel",
      "state": {
       "_view_module": null,
       "_view_module_version": "",
       "column_end": 3,
       "column_start": 0,
       "row_end": 3,
       "row_start": 3,
       "squeeze_column": false,
       "type": "text",
       "value": [
        "",
        "",
        "",
        ""
       ]
      }
     },
     "2b4f411adfd343ce8f68366a05141c8f": {
      "model_module": "@jupyter-widgets/controls",
      "model_module_version": "1.5.0",
      "model_name": "IntSliderModel",
      "state": {
       "continuous_update": false,
       "description": "Gain",
       "layout": "IPY_MODEL_b019aeb59ab74e54b204069835f5d5f6",
       "max": 47,
       "min": 1,
       "style": "IPY_MODEL_c731a2a634d24e13991f8fa53f817bc2",
       "value": 1
      }
     },
     "2b554f7d76354c39b96c8ee749f6a539": {
      "model_module": "@jupyter-widgets/controls",
      "model_module_version": "1.5.0",
      "model_name": "IntSliderModel",
      "state": {
       "continuous_update": false,
       "description": "Green",
       "layout": "IPY_MODEL_5fbb4537a10b461da48d7e2f42a1a85d",
       "max": 255,
       "style": "IPY_MODEL_285ed3b7688f4448ba75aa6fa0f868ae"
      }
     },
     "2b87516f73a24ceb9f5723dbbae5178c": {
      "model_module": "ipysheet",
      "model_module_version": "~0.4.4",
      "model_name": "CellRangeModel",
      "state": {
       "_view_module": null,
       "_view_module_version": "",
       "column_end": 3,
       "column_start": 0,
       "row_end": 0,
       "row_start": 0,
       "squeeze_column": false,
       "type": "numeric",
       "value": [
        "",
        "",
        "",
        ""
       ]
      }
     },
     "2bb7a8130268488f985f6d6af102b33e": {
      "model_module": "@jupyter-widgets/controls",
      "model_module_version": "1.5.0",
      "model_name": "DescriptionStyleModel",
      "state": {
       "description_width": "initial"
      }
     },
     "2bd4bcc8e29d47a8a62d93498a9a871d": {
      "model_module": "@jupyter-widgets/controls",
      "model_module_version": "1.5.0",
      "model_name": "ButtonModel",
      "state": {
       "description": "Add Offset",
       "layout": "IPY_MODEL_e5e6c666168848788855fc3d8bef9990",
       "style": "IPY_MODEL_145852c074bc4131b4b4c7254366bacd"
      }
     },
     "2be9f538a8e84343a209c203fe5c578f": {
      "model_module": "@jupyter-widgets/base",
      "model_module_version": "1.2.0",
      "model_name": "LayoutModel",
      "state": {}
     },
     "2c05bbe3bae242e2a4c04a2d5f95f206": {
      "model_module": "@jupyter-widgets/base",
      "model_module_version": "1.2.0",
      "model_name": "LayoutModel",
      "state": {}
     },
     "2c174e530846460d93543412fd96e364": {
      "model_module": "@jupyter-widgets/controls",
      "model_module_version": "1.5.0",
      "model_name": "LabelModel",
      "state": {
       "layout": "IPY_MODEL_8e3d9f03b33d43639b5850e65c6d6392",
       "style": "IPY_MODEL_a48429a7f15d4f92b5df59f80722e695",
       "value": "Please stop acquisition and laser first to start experiment"
      }
     },
     "2c423d8562a74502963c19d05f6c54d5": {
      "model_module": "@jupyter-widgets/base",
      "model_module_version": "1.2.0",
      "model_name": "LayoutModel",
      "state": {
       "grid_area": "overlap",
       "width": "auto"
      }
     },
     "2c8dd3f59292488f8a8e681d1d69ec5e": {
      "model_module": "ipysheet",
      "model_module_version": "~0.4.4",
      "model_name": "CellRangeModel",
      "state": {
       "_view_module": null,
       "_view_module_version": "",
       "column_end": 3,
       "column_start": 3,
       "row_end": 4,
       "row_start": 4,
       "type": "text",
       "value": ""
      }
     },
     "2ce115b2079c48f2a57684c8ebaad134": {
      "model_module": "@jupyter-widgets/base",
      "model_module_version": "1.2.0",
      "model_name": "LayoutModel",
      "state": {
       "border": "solid 1px",
       "grid_template_areas": "\n                                        \"addOffset . . .\"\n                                        \"stageX stageY stageZ lsOffset\"\n                                        \"delOffset delRow . .\"\n                                    ",
       "grid_template_columns": "25% 25% 25% 25%",
       "grid_template_rows": "auto auto auto",
       "width": "100%"
      }
     },
     "2cf8cf75923c49969c1b7316f65640e4": {
      "model_module": "@jupyter-widgets/base",
      "model_module_version": "1.2.0",
      "model_name": "LayoutModel",
      "state": {
       "grid_area": "maxY",
       "width": "auto"
      }
     },
     "2d062f8be55e491e9d43f8669f7e0626": {
      "model_module": "@jupyter-widgets/base",
      "model_module_version": "1.2.0",
      "model_name": "LayoutModel",
      "state": {
       "width": "90%"
      }
     },
     "2d0f71d522ec45a68fca6b6af602e402": {
      "model_module": "@jupyter-widgets/controls",
      "model_module_version": "1.5.0",
      "model_name": "ButtonModel",
      "state": {
       "description": "Start Acquisition",
       "layout": "IPY_MODEL_ee6e0693516c48f2aeafa4da41c41851",
       "style": "IPY_MODEL_04e735dbe7cc4441bad01bdcea4f2993"
      }
     },
     "2d539fdda0034ab5a934afd08cca30f3": {
      "model_module": "ipysheet",
      "model_module_version": "~0.4.4",
      "model_name": "CellRangeModel",
      "state": {
       "_view_module": null,
       "_view_module_version": "",
       "column_end": 3,
       "column_start": 0,
       "row_end": 0,
       "row_start": 0,
       "squeeze_column": false,
       "type": "numeric",
       "value": [
        25.6,
        49.5,
        26.7,
        0
       ]
      }
     },
     "2e33795829ac446587e78a719eb12724": {
      "model_module": "@jupyter-widgets/base",
      "model_module_version": "1.2.0",
      "model_name": "LayoutModel",
      "state": {
       "width": "90%"
      }
     },
     "2e4807c053024feb8b6ad773c2f50748": {
      "model_module": "@jupyter-widgets/controls",
      "model_module_version": "1.5.0",
      "model_name": "ButtonStyleModel",
      "state": {}
     },
     "2e65c9d4f67f446693713663ca73fdbb": {
      "model_module": "@jupyter-widgets/controls",
      "model_module_version": "1.5.0",
      "model_name": "BoundedFloatTextModel",
      "state": {
       "description": "Scan max X (um)",
       "layout": "IPY_MODEL_23da5e9361244a318826f895c4912794",
       "max": 50,
       "step": 0.001,
       "style": "IPY_MODEL_277163baebb94d0ba446d1e31f65a4e8",
       "value": 25.5
      }
     },
     "2e6fb49eb96b4eef9ea081807ef3cb46": {
      "model_module": "@jupyter-widgets/base",
      "model_module_version": "1.2.0",
      "model_name": "LayoutModel",
      "state": {
       "grid_template_areas": "\n                                        \". . largeFOV_begin_button\"\n                                    ",
       "grid_template_columns": "40% 40% 20%",
       "grid_template_rows": "auto",
       "width": "100%"
      }
     },
     "2e89e975d6104f56bcb55d714ea69580": {
      "model_module": "@jupyter-widgets/base",
      "model_module_version": "1.2.0",
      "model_name": "LayoutModel",
      "state": {
       "width": "90%"
      }
     },
     "2e8e84d6d433438bb6cd7e474638063b": {
      "model_module": "@jupyter-widgets/base",
      "model_module_version": "1.2.0",
      "model_name": "LayoutModel",
      "state": {
       "border": "solid 1px",
       "grid_template_areas": "\n                                        \"addOffset . . .\"\n                                        \"stageX stageY stageZ lsOffset\"\n                                        \"delOffset delRow . .\"\n                                    ",
       "grid_template_columns": "25% 25% 25% 25%",
       "grid_template_rows": "auto auto auto",
       "width": "100%"
      }
     },
     "2ee1ced7adcb4c938c8c3223f6011ddf": {
      "model_module": "@jupyter-widgets/base",
      "model_module_version": "1.2.0",
      "model_name": "LayoutModel",
      "state": {
       "width": "50%"
      }
     },
     "2eeba8b5a3c14d4f920b4cbcc8e6dc42": {
      "model_module": "@jupyter-widgets/controls",
      "model_module_version": "1.5.0",
      "model_name": "VBoxModel",
      "state": {
       "children": [
        "IPY_MODEL_b4968bbf604d41fd95b409de40473fde",
        "IPY_MODEL_ffc28c012cf54a9bbbcbba7a3f84826b",
        "IPY_MODEL_ac6583bc86b04a1e964e73f997c5c380",
        "IPY_MODEL_e30351df9958466bb3e7fbd452735887"
       ],
       "layout": "IPY_MODEL_c9e45337cdd443d8802ca9fd424d86af"
      }
     },
     "2f97b9fc24b34e0a8994e6b869c67984": {
      "model_module": "@jupyter-widgets/base",
      "model_module_version": "1.2.0",
      "model_name": "LayoutModel",
      "state": {
       "width": "90%"
      }
     },
     "2f9d4dde531e403d8f026e7cf920c350": {
      "model_module": "@jupyter-widgets/controls",
      "model_module_version": "1.5.0",
      "model_name": "GridBoxModel",
      "state": {
       "children": [
        "IPY_MODEL_f84ac46e943b4f37bf42cf860551acd4",
        "IPY_MODEL_466b59af317b403b99d3ef31438cb4e0",
        "IPY_MODEL_78815bb280454f44a7faba26a23c6ee2",
        "IPY_MODEL_9c5a1ba174c84e3da24449b89de781c3",
        "IPY_MODEL_c0de1fc4c5de48918bcaafd88303081d",
        "IPY_MODEL_9de8853705a44b1f8d96177718d9e636",
        "IPY_MODEL_17d87e467fa74bb3be4fc327394821b6"
       ],
       "layout": "IPY_MODEL_ff8b0eb6784f4b45b8259de1b55d0106"
      }
     },
     "2fb21faf9d2b4d20bdbf7e4edf64e6a9": {
      "model_module": "@jupyter-widgets/output",
      "model_module_version": "1.0.0",
      "model_name": "OutputModel",
      "state": {
       "layout": "IPY_MODEL_89c95558f3954741b5c97e3f6419a4b1"
      }
     },
     "2fe9535aa4c347fe99f23aab73f7744c": {
      "model_module": "@jupyter-widgets/controls",
      "model_module_version": "1.5.0",
      "model_name": "BoundedFloatTextModel",
      "state": {
       "description": "Stage Z (um)",
       "layout": "IPY_MODEL_694e9c42110b45acb648dd06ae575572",
       "max": 50,
       "step": 0.001,
       "style": "IPY_MODEL_7b54498457c94a5b8720e0062b21bb61",
       "value": 25
      }
     },
     "2fe980afd1c24dce96469f1ff99b7980": {
      "model_module": "@jupyter-widgets/base",
      "model_module_version": "1.2.0",
      "model_name": "LayoutModel",
      "state": {
       "width": "90%"
      }
     },
     "315880945ccc41fc85fff11a6052018b": {
      "model_module": "@jupyter-widgets/base",
      "model_module_version": "1.2.0",
      "model_name": "LayoutModel",
      "state": {}
     },
     "316141f63a3245dbadee3db172e49328": {
      "model_module": "@jupyter-widgets/controls",
      "model_module_version": "1.5.0",
      "model_name": "SliderStyleModel",
      "state": {
       "description_width": ""
      }
     },
     "316cb419f6364553868a93392519ec9c": {
      "model_module": "@jupyter-widgets/controls",
      "model_module_version": "1.5.0",
      "model_name": "IntSliderModel",
      "state": {
       "continuous_update": false,
       "description": "Frame rate (HZ)",
       "layout": "IPY_MODEL_09fcb6453e374c1e9137a343608de61d",
       "max": 30,
       "min": 1,
       "style": "IPY_MODEL_bd4a9e5b05044bac9599107bc6393f8d",
       "value": 10
      }
     },
     "318f9c674e9045f095fc7ea16286dc86": {
      "model_module": "@jupyter-widgets/controls",
      "model_module_version": "1.5.0",
      "model_name": "VBoxModel",
      "state": {
       "children": [
        "IPY_MODEL_39121ce53613486aabfc654d98c6933c",
        "IPY_MODEL_efacb02684e64c55b05dc98cb51de620",
        "IPY_MODEL_2246b6ac8b2b4137b67a9fe73e8c2637"
       ],
       "layout": "IPY_MODEL_4dc0ff3c1bad402daf52e8e061372be5"
      }
     },
     "31cc359bc34b4c7a94d62d75060a24f0": {
      "model_module": "@jupyter-widgets/base",
      "model_module_version": "1.2.0",
      "model_name": "LayoutModel",
      "state": {
       "width": "90%"
      }
     },
     "31d74b4ca73b42df914d5bd6eb8e0b62": {
      "model_module": "@jupyter-widgets/base",
      "model_module_version": "1.2.0",
      "model_name": "LayoutModel",
      "state": {}
     },
     "3230a1fd48ec426c8cf10f47ac48fd34": {
      "model_module": "@jupyter-widgets/controls",
      "model_module_version": "1.5.0",
      "model_name": "BoundedFloatTextModel",
      "state": {
       "description": "Stage Y (um)",
       "layout": "IPY_MODEL_d59401ac86864e659a4c97f1c1d888ae",
       "max": 50,
       "step": 0.001,
       "style": "IPY_MODEL_273ffc91d67349d5af187bd9b8bbd9e7",
       "value": 25
      }
     },
     "3249b579590742bc8bde5f837ca515bd": {
      "model_module": "ipysheet",
      "model_module_version": "~0.4.4",
      "model_name": "SheetModel",
      "state": {
       "cells": [
        "IPY_MODEL_c9e03dd3fc9f4bce874f3dc910545e4f",
        "IPY_MODEL_4251a5eda8314aa4bdec732d760a791d",
        "IPY_MODEL_5f7bcd4a3e7d4a78abccce82c924557c",
        "IPY_MODEL_829bc4dbc05b491089a80d5205899c9a",
        "IPY_MODEL_c1e675e3da4d459c9b050033e11e42c0",
        "IPY_MODEL_0129c1507af449d9b029a30a6b18d518",
        "IPY_MODEL_d3ddf4f50e184527aeee4862ab30468e",
        "IPY_MODEL_8102740951e24facac3d8ef1399f9fa3",
        "IPY_MODEL_2ace6cdca7dc42bda47bba879a722032",
        "IPY_MODEL_81e289dfdc7f4cbfac5433ed07a30a79",
        "IPY_MODEL_e47c699b8e75477d93d3770facebd31e",
        "IPY_MODEL_703cd7cf62814f8ba153f6a19082e740",
        "IPY_MODEL_bd815f8edd6944ca8191f3417beeadd3",
        "IPY_MODEL_9f49bc551ee14407bd66e6e66e0d75bf",
        "IPY_MODEL_996e62044e3b4cc9889d6f5c8614a11a",
        "IPY_MODEL_05315d54e74341a883011aaa9cc95f20"
       ],
       "column_headers": [
        "X",
        "Y",
        "Z",
        "Offset"
       ],
       "layout": "IPY_MODEL_acb480322520450fa388d24a99876a30",
       "rows": 20
      }
     },
     "326d683f55ba4c549acb25ebe0d2975a": {
      "model_module": "@jupyter-widgets/base",
      "model_module_version": "1.2.0",
      "model_name": "LayoutModel",
      "state": {
       "width": "50%"
      }
     },
     "328e67f187444800ac2509783e3acd9d": {
      "model_module": "@jupyter-widgets/controls",
      "model_module_version": "1.5.0",
      "model_name": "ButtonModel",
      "state": {
       "description": "Exit",
       "layout": "IPY_MODEL_1b0ad6d3eac74f53bdbfb51bdbac3e4f",
       "style": "IPY_MODEL_890a1c1e34ed41f3be6ef18d002c04c1"
      }
     },
     "33030391b283455d927ad214d5cbfecc": {
      "model_module": "@jupyter-widgets/controls",
      "model_module_version": "1.5.0",
      "model_name": "DescriptionStyleModel",
      "state": {
       "description_width": "initial"
      }
     },
     "33262465102c40be9cbb6b1426fcb433": {
      "model_module": "@jupyter-widgets/base",
      "model_module_version": "1.2.0",
      "model_name": "LayoutModel",
      "state": {
       "width": "90%"
      }
     },
     "3350f17f24864ee8877602ba0c59f578": {
      "model_module": "ipysheet",
      "model_module_version": "~0.4.4",
      "model_name": "SheetModel",
      "state": {
       "column_headers": [
        "X",
        "Y",
        "Z",
        "Offset"
       ],
       "layout": "IPY_MODEL_ab276fff3c8a4076b13b114c28b98b0a",
       "rows": 20
      }
     },
     "3358ef72978c481b9be9bb647ca59e82": {
      "model_module": "@jupyter-widgets/controls",
      "model_module_version": "1.5.0",
      "model_name": "VBoxModel",
      "state": {
       "children": [
        "IPY_MODEL_ada87ada24544b66b2ae50a7ff76b980",
        "IPY_MODEL_545c30c98d9a421ebb6c017822841b68",
        "IPY_MODEL_335b1b5af1694d3ab66d6599a7bcbb9e",
        "IPY_MODEL_d4f333f11aa24a829d217b97ca76972a",
        "IPY_MODEL_e07ba76ba44c4ff8b540c95169a746ab"
       ],
       "layout": "IPY_MODEL_1e2e51d939c24440b82955ed2719dd9f"
      }
     },
     "335b1b5af1694d3ab66d6599a7bcbb9e": {
      "model_module": "@jupyter-widgets/controls",
      "model_module_version": "1.5.0",
      "model_name": "BoundedIntTextModel",
      "state": {
       "description": "3D Volume #",
       "layout": "IPY_MODEL_0cde4d5c22e64d5e9a6ac7add12545dc",
       "max": 100000,
       "min": 1,
       "style": "IPY_MODEL_2bb7a8130268488f985f6d6af102b33e",
       "value": 1
      }
     },
     "33865f270c164c75bec22e764a4e0ec3": {
      "model_module": "@jupyter-widgets/base",
      "model_module_version": "1.2.0",
      "model_name": "LayoutModel",
      "state": {}
     },
     "339c50ab8ff149629480d0e6ad7d2cd8": {
      "model_module": "ipysheet",
      "model_module_version": "~0.4.4",
      "model_name": "CellRangeModel",
      "state": {
       "_view_module": null,
       "_view_module_version": "",
       "column_end": 2,
       "column_start": 2,
       "row_end": 3,
       "row_start": 3,
       "type": "numeric",
       "value": 25
      }
     },
     "33af0d5c438f42b39fe38c571865d322": {
      "model_module": "@jupyter-widgets/controls",
      "model_module_version": "1.5.0",
      "model_name": "SliderStyleModel",
      "state": {
       "description_width": ""
      }
     },
     "33cc0668ad204d5c90a65f44a39ca369": {
      "model_module": "@jupyter-widgets/controls",
      "model_module_version": "1.5.0",
      "model_name": "GridBoxModel",
      "state": {
       "children": [
        "IPY_MODEL_9326a43b8b9e42d5ae16f0396563464d"
       ],
       "layout": "IPY_MODEL_97322b19dc884d1eb816a5b27037dc70"
      }
     },
     "33e636d5996d4bf394ed524f194fc33a": {
      "model_module": "@jupyter-widgets/controls",
      "model_module_version": "1.5.0",
      "model_name": "DescriptionStyleModel",
      "state": {
       "description_width": ""
      }
     },
     "340559c9436b434ea5aab25b83c5a04f": {
      "model_module": "@jupyter-widgets/controls",
      "model_module_version": "1.5.0",
      "model_name": "BoundedFloatTextModel",
      "state": {
       "description": "Stage X (um)",
       "layout": "IPY_MODEL_05fddd95c894442c86a01541c73a5c9c",
       "max": 50,
       "step": 0.001,
       "style": "IPY_MODEL_365473aa4fe44c1f96dcdf938a39103a",
       "value": 25
      }
     },
     "340bc387f1a5497c9a58a1266440c6e7": {
      "model_module": "@jupyter-widgets/base",
      "model_module_version": "1.2.0",
      "model_name": "LayoutModel",
      "state": {
       "border": "solid 1px",
       "grid_template_areas": "\n                                        \"addOffset . . .\"\n                                        \"stageX stageY stageZ lsOffset\"\n                                        \"delOffset delRow . .\"\n                                    ",
       "grid_template_columns": "25% 25% 25% 25%",
       "grid_template_rows": "auto auto auto",
       "width": "100%"
      }
     },
     "3427b780e0914596bb3a0ffa025c2ee9": {
      "model_module": "@jupyter-widgets/base",
      "model_module_version": "1.2.0",
      "model_name": "LayoutModel",
      "state": {}
     },
     "343f7e167ebc4850864c0a855e89f7e0": {
      "model_module": "@jupyter-widgets/controls",
      "model_module_version": "1.5.0",
      "model_name": "BoundedFloatTextModel",
      "state": {
       "description": "delta Z (um)",
       "layout": "IPY_MODEL_a85cc1036a2a4a00b2c929a920e904f9",
       "max": 10,
       "min": 0.001,
       "step": 0.001,
       "style": "IPY_MODEL_1d9b2f9e85c4486da6ecbd9c1d0ca3bb",
       "value": 0.1
      }
     },
     "344785eec2f1458095c726bcc49b1e13": {
      "model_module": "ipysheet",
      "model_module_version": "~0.4.4",
      "model_name": "CellRangeModel",
      "state": {
       "_view_module": null,
       "_view_module_version": "",
       "column_end": 3,
       "column_start": 3,
       "type": "numeric",
       "value": -19
      }
     },
     "345b93a5857649028919514cecd4bc19": {
      "model_module": "ipysheet",
      "model_module_version": "~0.4.4",
      "model_name": "CellRangeModel",
      "state": {
       "_view_module": null,
       "_view_module_version": "",
       "row_end": 3,
       "row_start": 3,
       "type": "numeric",
       "value": 25
      }
     },
     "34d72d292417450092fdf69394ac6a1b": {
      "model_module": "ipysheet",
      "model_module_version": "~0.4.4",
      "model_name": "CellRangeModel",
      "state": {
       "_view_module": null,
       "_view_module_version": "",
       "column_end": 0,
       "column_start": 0,
       "row_end": 4,
       "row_start": 4,
       "type": "text",
       "value": 25
      }
     },
     "3525d1e2044d40a18893f7307c5affe8": {
      "model_module": "@jupyter-widgets/base",
      "model_module_version": "1.2.0",
      "model_name": "LayoutModel",
      "state": {}
     },
     "35339b542a50497f954ea42f95898ccc": {
      "model_module": "@jupyter-widgets/base",
      "model_module_version": "1.2.0",
      "model_name": "LayoutModel",
      "state": {}
     },
     "353e3cd3dcd448a8a7bbd874b427eaf1": {
      "model_module": "@jupyter-widgets/controls",
      "model_module_version": "1.5.0",
      "model_name": "BoundedFloatTextModel",
      "state": {
       "description": "Scan min X (um)",
       "layout": "IPY_MODEL_626d188009004aafa90773d78a47fda3",
       "max": 50,
       "step": 0.001,
       "style": "IPY_MODEL_a4d6e2046735408aa097b662bd74cf7c",
       "value": 24.5
      }
     },
     "3577a658efe4499f9084ec7be3f1c074": {
      "model_module": "@jupyter-widgets/base",
      "model_module_version": "1.2.0",
      "model_name": "LayoutModel",
      "state": {}
     },
     "35a635ae89d2494f913859ef73bcfdc2": {
      "model_module": "@jupyter-widgets/controls",
      "model_module_version": "1.5.0",
      "model_name": "SliderStyleModel",
      "state": {
       "description_width": ""
      }
     },
     "3609bff30d0b4ca697ab06e8b9f2d5b2": {
      "model_module": "@jupyter-widgets/controls",
      "model_module_version": "1.5.0",
      "model_name": "ButtonModel",
      "state": {
       "description": "Add Offset",
       "layout": "IPY_MODEL_53cee1c4e6cf40398aab6dfca296ecc0",
       "style": "IPY_MODEL_c4919633a48640c99a3b718dc98a2086"
      }
     },
     "365473aa4fe44c1f96dcdf938a39103a": {
      "model_module": "@jupyter-widgets/controls",
      "model_module_version": "1.5.0",
      "model_name": "DescriptionStyleModel",
      "state": {
       "description_width": "initial"
      }
     },
     "369fc0aba7354305bc9df83282b580b3": {
      "model_module": "@jupyter-widgets/controls",
      "model_module_version": "1.5.0",
      "model_name": "DescriptionStyleModel",
      "state": {
       "description_width": "initial"
      }
     },
     "375a6675a0d24e289dcbb2f88fc1b5f8": {
      "model_module": "@jupyter-widgets/base",
      "model_module_version": "1.2.0",
      "model_name": "LayoutModel",
      "state": {
       "grid_area": "minY",
       "width": "auto"
      }
     },
     "37841fcaead14ec3b95719c507a25da4": {
      "model_module": "@jupyter-widgets/base",
      "model_module_version": "1.2.0",
      "model_name": "LayoutModel",
      "state": {}
     },
     "379e3b7ae9f54de591589e8a1d13857f": {
      "model_module": "@jupyter-widgets/controls",
      "model_module_version": "1.5.0",
      "model_name": "IntSliderModel",
      "state": {
       "continuous_update": false,
       "description": "Width",
       "layout": "IPY_MODEL_ba16a7f0a4ab446e8e935893fb3c1ca6",
       "max": 1280,
       "style": "IPY_MODEL_d54f401b07a04f9aab7e0854865821f4",
       "value": 10
      }
     },
     "37e070d3939d41a1867b63ad936fe320": {
      "model_module": "ipysheet",
      "model_module_version": "~0.4.4",
      "model_name": "CellRangeModel",
      "state": {
       "_view_module": null,
       "_view_module_version": "",
       "column_end": 3,
       "column_start": 3,
       "row_end": 2,
       "row_start": 2,
       "type": "numeric",
       "value": 0
      }
     },
     "37f3126a555d4671885675310461edb4": {
      "model_module": "@jupyter-widgets/controls",
      "model_module_version": "1.5.0",
      "model_name": "DescriptionStyleModel",
      "state": {
       "description_width": "initial"
      }
     },
     "38751b6814b94b61ad78871a9d831b57": {
      "model_module": "@jupyter-widgets/base",
      "model_module_version": "1.2.0",
      "model_name": "LayoutModel",
      "state": {
       "width": "50%"
      }
     },
     "38abb58577f54537b26cda856d1a5996": {
      "model_module": "@jupyter-widgets/base",
      "model_module_version": "1.2.0",
      "model_name": "LayoutModel",
      "state": {
       "width": "90%"
      }
     },
     "39121ce53613486aabfc654d98c6933c": {
      "model_module": "@jupyter-widgets/controls",
      "model_module_version": "1.5.0",
      "model_name": "IntRangeSliderModel",
      "state": {
       "_model_name": "IntRangeSliderModel",
       "_view_name": "IntRangeSliderView",
       "continuous_update": false,
       "description": "Range",
       "layout": "IPY_MODEL_77ad45f21acf43bab13fa3d762e98a32",
       "max": 65535,
       "style": "IPY_MODEL_a43e844745eb44cf84dcf26526a00e61",
       "value": [
        0,
        65535
       ]
      }
     },
     "391443ba736945d19dc3e7a8a6301aad": {
      "model_module": "@jupyter-widgets/base",
      "model_module_version": "1.2.0",
      "model_name": "LayoutModel",
      "state": {}
     },
     "396bdb5d749446eebb6cdad3c7c3bb03": {
      "model_module": "@jupyter-widgets/controls",
      "model_module_version": "1.5.0",
      "model_name": "ButtonStyleModel",
      "state": {}
     },
     "399f96333a0741628981ebd401fa3cdd": {
      "model_module": "@jupyter-widgets/controls",
      "model_module_version": "1.5.0",
      "model_name": "TabModel",
      "state": {
       "_titles": {
        "0": "Light sheet scan",
        "1": "Wide Field",
        "2": "Large FOV"
       },
       "children": [
        "IPY_MODEL_064313c4fdf1459f8eb170eba465ba3a",
        "IPY_MODEL_3f433d1a6bc646389487179daa2c3537",
        "IPY_MODEL_2eeba8b5a3c14d4f920b4cbcc8e6dc42"
       ],
       "layout": "IPY_MODEL_298af603f9144bc8a9de8126293a7b47",
       "selected_index": 2
      }
     },
     "39df149cd2d043558f1d71956a4d4f59": {
      "model_module": "@jupyter-widgets/controls",
      "model_module_version": "1.5.0",
      "model_name": "DescriptionStyleModel",
      "state": {
       "description_width": "initial"
      }
     },
     "39e3ccdb5ffb4aa2a836a1e8557bbd50": {
      "model_module": "@jupyter-widgets/controls",
      "model_module_version": "1.5.0",
      "model_name": "BoundedFloatTextModel",
      "state": {
       "description": "Stage X (um)",
       "layout": "IPY_MODEL_dd76118fc9ec42049e0017e1c1d4026c",
       "max": 50,
       "step": 0.001,
       "style": "IPY_MODEL_c9521c5422354e479af21d183e7be3d4",
       "value": 25
      }
     },
     "3a080a0b718a4a31b8d7aa5546b2850c": {
      "model_module": "@jupyter-widgets/controls",
      "model_module_version": "1.5.0",
      "model_name": "BoundedFloatTextModel",
      "state": {
       "description": "Exp Inverval (h)",
       "layout": "IPY_MODEL_d1b1bad806a743c9b09fa1d764f8fbed",
       "min": 0.01,
       "step": 0.01,
       "style": "IPY_MODEL_430642912fba42b3bfdb30788c269f20",
       "value": 0.01
      }
     },
     "3a1acf33e4e049d18ff412ace7a1ebf7": {
      "model_module": "@jupyter-widgets/controls",
      "model_module_version": "1.5.0",
      "model_name": "IntSliderModel",
      "state": {
       "continuous_update": false,
       "description": "Center",
       "layout": "IPY_MODEL_a5b9d0811ee940e9a1a305e9822a880b",
       "max": 200,
       "min": -200,
       "style": "IPY_MODEL_0d9ec6ee7ed54caab36160a35dabe2a6"
      }
     },
     "3a3ee139eccb4abaa8ea842ea17abe14": {
      "model_module": "@jupyter-widgets/controls",
      "model_module_version": "1.5.0",
      "model_name": "DescriptionStyleModel",
      "state": {
       "description_width": "initial"
      }
     },
     "3a41caef7f3845739bbbde8830b4e5bf": {
      "model_module": "ipysheet",
      "model_module_version": "~0.4.4",
      "model_name": "CellRangeModel",
      "state": {
       "_view_module": null,
       "_view_module_version": "",
       "row_end": 6,
       "row_start": 6,
       "type": "text",
       "value": ""
      }
     },
     "3a5801869bcc4315999710834f70ddbd": {
      "model_module": "@jupyter-widgets/base",
      "model_module_version": "1.2.0",
      "model_name": "LayoutModel",
      "state": {
       "width": "90%"
      }
     },
     "3a8faa0cb6cd4e47a347d4651593dda0": {
      "model_module": "@jupyter-widgets/controls",
      "model_module_version": "1.5.0",
      "model_name": "SliderStyleModel",
      "state": {
       "description_width": ""
      }
     },
     "3ab2264e0093460a9721c521f1ba0409": {
      "model_module": "@jupyter-widgets/output",
      "model_module_version": "1.0.0",
      "model_name": "OutputModel",
      "state": {
       "layout": "IPY_MODEL_208f021df96e40cca5110077d94af259"
      }
     },
     "3af4818bdd5940f9b285ff69840861e0": {
      "model_module": "@jupyter-widgets/base",
      "model_module_version": "1.2.0",
      "model_name": "LayoutModel",
      "state": {}
     },
     "3b20d8626a884f5484ce1c20c3d3dea7": {
      "model_module": "@jupyter-widgets/base",
      "model_module_version": "1.2.0",
      "model_name": "LayoutModel",
      "state": {
       "width": "90%"
      }
     },
     "3b23ba9ef8d0473585951cd11560a424": {
      "model_module": "@jupyter-widgets/base",
      "model_module_version": "1.2.0",
      "model_name": "LayoutModel",
      "state": {}
     },
     "3b622a0404c94073a27ee2c79f79dd24": {
      "model_module": "@jupyter-widgets/controls",
      "model_module_version": "1.5.0",
      "model_name": "SliderStyleModel",
      "state": {
       "description_width": "initial"
      }
     },
     "3b7f26e40a824446ae8151ba29d6b307": {
      "model_module": "@jupyter-widgets/base",
      "model_module_version": "1.2.0",
      "model_name": "LayoutModel",
      "state": {
       "grid_area": "deltaZ",
       "width": "auto"
      }
     },
     "3b92e3c88f15443b9cd12d51ecee4792": {
      "model_module": "@jupyter-widgets/base",
      "model_module_version": "1.2.0",
      "model_name": "LayoutModel",
      "state": {
       "grid_area": "stageZ",
       "width": "auto"
      }
     },
     "3bdbeff36fbc4ca08c6a7e1539a4dd8a": {
      "model_module": "@jupyter-widgets/controls",
      "model_module_version": "1.5.0",
      "model_name": "VBoxModel",
      "state": {
       "children": [
        "IPY_MODEL_e661d4cdbe9042b0989f22c023e18811",
        "IPY_MODEL_23e87254e21a46f9bf86d065ffaa7f8c",
        "IPY_MODEL_9767edfaad054ea393ff133deac65e86",
        "IPY_MODEL_0f55b3ce6ed24fb4aef20406105d06a2"
       ],
       "layout": "IPY_MODEL_77eb8767a28743bc82d3ff2d566d7912"
      }
     },
     "3c0edeae96744cfeb7badfefc312df9d": {
      "model_module": "@jupyter-widgets/base",
      "model_module_version": "1.2.0",
      "model_name": "LayoutModel",
      "state": {
       "width": "90%"
      }
     },
     "3c529c9696f84ddaa5d690f59cdbef4f": {
      "model_module": "@jupyter-widgets/controls",
      "model_module_version": "1.5.0",
      "model_name": "VBoxModel",
      "state": {
       "children": [
        "IPY_MODEL_dd773d73970b4597b6d30e424a085673",
        "IPY_MODEL_98f076e18ed64181bbaa5a78c0ab4135",
        "IPY_MODEL_546615b7fe094c26b9a5274e87e02a8b"
       ],
       "layout": "IPY_MODEL_e42f6169921446dd9cef614f9af55f0d"
      }
     },
     "3c689799eb9746be984ded9faad20be0": {
      "model_module": "@jupyter-widgets/controls",
      "model_module_version": "1.5.0",
      "model_name": "BoundedFloatTextModel",
      "state": {
       "description": "Scan max Y (um)",
       "layout": "IPY_MODEL_48d5050eeed942baa7e94ca40a825374",
       "max": 50,
       "step": 0.001,
       "style": "IPY_MODEL_ee1f438e2efc4e2e925f165b8654cc28",
       "value": 25.5
      }
     },
     "3c6d140afc4c4b1fb993ca8708497657": {
      "model_module": "@jupyter-widgets/base",
      "model_module_version": "1.2.0",
      "model_name": "LayoutModel",
      "state": {}
     },
     "3c854293e4e7416cb47c961a26451b39": {
      "model_module": "@jupyter-widgets/controls",
      "model_module_version": "1.5.0",
      "model_name": "TabModel",
      "state": {
       "_titles": {
        "0": "Light sheet scan",
        "1": "Wide Field",
        "2": "Large FOV"
       },
       "children": [
        "IPY_MODEL_88842303645445f8a4c2d9b83c27a048",
        "IPY_MODEL_ca3363c63e5d4649910b9196e714d598",
        "IPY_MODEL_7721829d9d634252a52c3198618e8c7f"
       ],
       "layout": "IPY_MODEL_ebc1c36870c0481ca476fc8bd45046fa",
       "selected_index": 2
      }
     },
     "3ce1570b14c740068fb99646866fed0b": {
      "model_module": "ipysheet",
      "model_module_version": "~0.4.4",
      "model_name": "CellRangeModel",
      "state": {
       "_view_module": null,
       "_view_module_version": "",
       "column_end": 3,
       "column_start": 3,
       "row_end": 5,
       "row_start": 5,
       "type": "numeric",
       "value": 5
      }
     },
     "3cf1d9da990e4bf2b83cd5b8b208f95a": {
      "model_module": "@jupyter-widgets/base",
      "model_module_version": "1.2.0",
      "model_name": "LayoutModel",
      "state": {
       "grid_area": "delOffset",
       "width": "auto"
      }
     },
     "3cf820c7f2fa4a6fbfb2fa25f803de51": {
      "model_module": "@jupyter-widgets/base",
      "model_module_version": "1.2.0",
      "model_name": "LayoutModel",
      "state": {
       "border": "solid 1px",
       "grid_template_areas": "\n                                        \"minX minY minZ\"\n                                        \"maxX maxY maxZ\"\n                                        \"deltaZ overlap .\"\n                                    ",
       "grid_template_columns": "30% 30% 30%",
       "grid_template_rows": "auto auto",
       "width": "100%"
      }
     },
     "3d8d053236034388ae54f06d0936df3e": {
      "model_module": "ipysheet",
      "model_module_version": "~0.4.4",
      "model_name": "CellRangeModel",
      "state": {
       "_view_module": null,
       "_view_module_version": "",
       "column_end": 0,
       "column_start": 0,
       "row_end": 0,
       "row_start": 0,
       "type": "numeric",
       "value": 25.6
      }
     },
     "3db85507c443475dbb7dff87df480098": {
      "model_module": "@jupyter-widgets/base",
      "model_module_version": "1.2.0",
      "model_name": "LayoutModel",
      "state": {}
     },
     "3dc60ecd3b29457a8dfbebf6d29bd58a": {
      "model_module": "@jupyter-widgets/controls",
      "model_module_version": "1.5.0",
      "model_name": "ButtonModel",
      "state": {
       "description": "Delete Offset",
       "layout": "IPY_MODEL_3cf1d9da990e4bf2b83cd5b8b208f95a",
       "style": "IPY_MODEL_ab14da0d9b304a50ad3f7d950bdefc5a"
      }
     },
     "3e82d2e7169f401797a912d12749eaa5": {
      "model_module": "@jupyter-widgets/controls",
      "model_module_version": "1.5.0",
      "model_name": "SliderStyleModel",
      "state": {
       "description_width": ""
      }
     },
     "3f208ea1dc364025aaccb7bc2347335d": {
      "model_module": "@jupyter-widgets/controls",
      "model_module_version": "1.5.0",
      "model_name": "CheckboxModel",
      "state": {
       "description": "Flip90",
       "disabled": false,
       "layout": "IPY_MODEL_4618e8e897534c269bbf50ecac181944",
       "style": "IPY_MODEL_0aa41f40627944daa84033817d7b7c79",
       "value": true
      }
     },
     "3f433d1a6bc646389487179daa2c3537": {
      "model_module": "@jupyter-widgets/controls",
      "model_module_version": "1.5.0",
      "model_name": "VBoxModel",
      "state": {
       "children": [
        "IPY_MODEL_828fb6e0fa1c467b87b70faef1b33e71",
        "IPY_MODEL_86e36edd34774348a434ade3bdddf96a"
       ],
       "layout": "IPY_MODEL_326d683f55ba4c549acb25ebe0d2975a"
      }
     },
     "3f70fc209c804bba87035a600b7ec334": {
      "model_module": "@jupyter-widgets/controls",
      "model_module_version": "1.5.0",
      "model_name": "ButtonModel",
      "state": {
       "description": "Delete Offset",
       "layout": "IPY_MODEL_b9c9b0c20b77405c9fbc6a037ee197d9",
       "style": "IPY_MODEL_163ddf2a53094832b1f03d9bbef6bf38"
      }
     },
     "3f9ba6acac694471931a1005d7b19c90": {
      "model_module": "@jupyter-widgets/controls",
      "model_module_version": "1.5.0",
      "model_name": "DescriptionStyleModel",
      "state": {
       "description_width": "initial"
      }
     },
     "3f9fcb8541cf49aa9f4521c25d9a1ca1": {
      "model_module": "ipysheet",
      "model_module_version": "~0.4.4",
      "model_name": "CellRangeModel",
      "state": {
       "_view_module": null,
       "_view_module_version": "",
       "column_end": 3,
       "column_start": 0,
       "row_end": 0,
       "row_start": 0,
       "squeeze_column": false,
       "type": "numeric",
       "value": [
        "",
        "",
        "",
        ""
       ]
      }
     },
     "3fb5ce1b5992450e96e79e648d83bd95": {
      "model_module": "@jupyter-widgets/controls",
      "model_module_version": "1.5.0",
      "model_name": "ButtonStyleModel",
      "state": {}
     },
     "3fc528b82acf4333a928a5b4bdec1d17": {
      "model_module": "@jupyter-widgets/base",
      "model_module_version": "1.2.0",
      "model_name": "LayoutModel",
      "state": {
       "width": "90%"
      }
     },
     "3fdd7eb254f44e2881d5d53b0adb6780": {
      "model_module": "@jupyter-widgets/controls",
      "model_module_version": "1.5.0",
      "model_name": "SliderStyleModel",
      "state": {
       "description_width": "initial"
      }
     },
     "40198c63c57747b2a2d307c2e3531f17": {
      "model_module": "@jupyter-widgets/controls",
      "model_module_version": "1.5.0",
      "model_name": "VBoxModel",
      "state": {
       "children": [
        "IPY_MODEL_f6f98894766c4f12ae1fe53c577d300f",
        "IPY_MODEL_7d6184337b0d46698667a5523a3abecc"
       ],
       "layout": "IPY_MODEL_b57c075dc7404cc0942f9de9d244c8ad"
      }
     },
     "405cc4f9a9904df9a93584fe17ed6588": {
      "model_module": "@jupyter-widgets/base",
      "model_module_version": "1.2.0",
      "model_name": "LayoutModel",
      "state": {
       "width": "90%"
      }
     },
     "4075ef47aaeb46ebaafeeb9fd7bb532c": {
      "model_module": "@jupyter-widgets/base",
      "model_module_version": "1.2.0",
      "model_name": "LayoutModel",
      "state": {
       "width": "50%"
      }
     },
     "408a18f74cde465cabd14526cae2cbcd": {
      "model_module": "@jupyter-widgets/base",
      "model_module_version": "1.2.0",
      "model_name": "LayoutModel",
      "state": {
       "width": "90%"
      }
     },
     "409454fb2f4646df9f0619716c55d156": {
      "model_module": "ipysheet",
      "model_module_version": "~0.4.4",
      "model_name": "CellRangeModel",
      "state": {
       "_view_module": null,
       "_view_module_version": "",
       "column_end": 3,
       "column_start": 0,
       "squeeze_column": false,
       "type": "numeric",
       "value": [
        25,
        25,
        25,
        5
       ]
      }
     },
     "40a7a7ab56664415b9e34f2461fd7ac9": {
      "model_module": "@jupyter-widgets/base",
      "model_module_version": "1.2.0",
      "model_name": "LayoutModel",
      "state": {}
     },
     "40ab500463e542db9b7268f6cf2c5d05": {
      "model_module": "@jupyter-widgets/controls",
      "model_module_version": "1.5.0",
      "model_name": "VBoxModel",
      "state": {
       "children": [
        "IPY_MODEL_318f9c674e9045f095fc7ea16286dc86",
        "IPY_MODEL_a83c697512ae41099dd2f0eaca6962e3",
        "IPY_MODEL_f9d9a8fc179c41eab603b2015f285f62",
        "IPY_MODEL_943b7d1ad85244439938692a61a3731f"
       ],
       "layout": "IPY_MODEL_8382022784234914830fdfa7c29109b9"
      }
     },
     "40af3f7b2b9d4842a2634a39cce77019": {
      "model_module": "@jupyter-widgets/base",
      "model_module_version": "1.2.0",
      "model_name": "LayoutModel",
      "state": {}
     },
     "40dbc375c6c241e88b89f7c8eff64ab3": {
      "model_module": "@jupyter-widgets/base",
      "model_module_version": "1.2.0",
      "model_name": "LayoutModel",
      "state": {
       "grid_area": "minZ",
       "width": "auto"
      }
     },
     "40f9d3a845514efcb980f7e9e8b8375d": {
      "model_module": "ipysheet",
      "model_module_version": "~0.4.4",
      "model_name": "CellRangeModel",
      "state": {
       "_view_module": null,
       "_view_module_version": "",
       "type": "numeric",
       "value": 49
      }
     },
     "414177ae52d24ae496b83939d17c8600": {
      "model_module": "@jupyter-widgets/base",
      "model_module_version": "1.2.0",
      "model_name": "LayoutModel",
      "state": {}
     },
     "41b018afc2124667b0e82a9830ebbaa4": {
      "model_module": "ipysheet",
      "model_module_version": "~0.4.4",
      "model_name": "CellRangeModel",
      "state": {
       "_view_module": null,
       "_view_module_version": "",
       "row_end": 5,
       "row_start": 5,
       "type": "numeric",
       "value": 25
      }
     },
     "41bf7845d3634703a7cc5e960fbbe176": {
      "model_module": "@jupyter-widgets/controls",
      "model_module_version": "1.5.0",
      "model_name": "BoundedFloatTextModel",
      "state": {
       "description": "delta Z (um)",
       "layout": "IPY_MODEL_6d5f3c486aa64bd2803f295ca9c32b1f",
       "max": 10,
       "min": 0.001,
       "step": 0.001,
       "style": "IPY_MODEL_efd5a18382444cf9980d7935464d02fc",
       "value": 0.1
      }
     },
     "420c33bacf8d4849874ad4305ac5803d": {
      "model_module": "ipysheet",
      "model_module_version": "~0.4.4",
      "model_name": "CellRangeModel",
      "state": {
       "_view_module": null,
       "_view_module_version": "",
       "column_end": 3,
       "column_start": 0,
       "row_end": 5,
       "row_start": 5,
       "squeeze_column": false,
       "type": "numeric",
       "value": [
        "",
        "",
        "",
        ""
       ]
      }
     },
     "4251a5eda8314aa4bdec732d760a791d": {
      "model_module": "ipysheet",
      "model_module_version": "~0.4.4",
      "model_name": "CellRangeModel",
      "state": {
       "_view_module": null,
       "_view_module_version": "",
       "column_end": 3,
       "column_start": 0,
       "row_end": 0,
       "row_start": 0,
       "squeeze_column": false,
       "type": "text",
       "value": [
        "",
        "",
        "",
        ""
       ]
      }
     },
     "4279d949847443fc806d60e26ee84829": {
      "model_module": "@jupyter-widgets/controls",
      "model_module_version": "1.5.0",
      "model_name": "SliderStyleModel",
      "state": {
       "description_width": ""
      }
     },
     "42b6aef28fd14d1eac86a023432f6252": {
      "model_module": "@jupyter-widgets/controls",
      "model_module_version": "1.5.0",
      "model_name": "IntSliderModel",
      "state": {
       "continuous_update": false,
       "description": "Frame",
       "layout": "IPY_MODEL_8d2c7b0aec314be3b001e52a13ed38fb",
       "max": 10000000,
       "style": "IPY_MODEL_c4217297e6164ca9842cc0d3e3223b2d"
      }
     },
     "42dc12712f204b77a4f261665abdd245": {
      "model_module": "@jupyter-widgets/base",
      "model_module_version": "1.2.0",
      "model_name": "LayoutModel",
      "state": {
       "grid_area": "lsOffset",
       "width": "auto"
      }
     },
     "430642912fba42b3bfdb30788c269f20": {
      "model_module": "@jupyter-widgets/controls",
      "model_module_version": "1.5.0",
      "model_name": "DescriptionStyleModel",
      "state": {
       "description_width": "initial"
      }
     },
     "43ddaf1784dd465f897ab0586b5b3e18": {
      "model_module": "ipysheet",
      "model_module_version": "~0.4.4",
      "model_name": "CellRangeModel",
      "state": {
       "_view_module": null,
       "_view_module_version": "",
       "column_end": 3,
       "column_start": 0,
       "row_end": 0,
       "row_start": 0,
       "squeeze_column": false,
       "type": "numeric",
       "value": [
        25,
        25,
        25,
        0
       ]
      }
     },
     "43ea921a0fd241bca1de5356db884fea": {
      "model_module": "@jupyter-widgets/controls",
      "model_module_version": "1.5.0",
      "model_name": "BoundedFloatTextModel",
      "state": {
       "description": "Total Duration (h)",
       "layout": "IPY_MODEL_e80b93910a384820ae4d236a5fb0ed3e",
       "step": 0.01,
       "style": "IPY_MODEL_7249fdad2580482ba39b33cc8b445203",
       "value": 0.01
      }
     },
     "43ec858116684e3886f8cd0164ef085d": {
      "model_module": "@jupyter-widgets/controls",
      "model_module_version": "1.5.0",
      "model_name": "SliderStyleModel",
      "state": {
       "description_width": ""
      }
     },
     "442640be480e4f999545b66883341d72": {
      "model_module": "@jupyter-widgets/base",
      "model_module_version": "1.2.0",
      "model_name": "LayoutModel",
      "state": {
       "grid_area": "deltaZ",
       "width": "auto"
      }
     },
     "443182bbeb0545209b9b165b822326b0": {
      "model_module": "@jupyter-widgets/controls",
      "model_module_version": "1.5.0",
      "model_name": "BoundedFloatTextModel",
      "state": {
       "description": "Exp Inverval (h)",
       "layout": "IPY_MODEL_dcb00231a9be40b5b433d52fa2e90c4a",
       "min": 0.01,
       "step": 0.01,
       "style": "IPY_MODEL_dc5dea9ededa4bb0ac3ad7508416e3e8",
       "value": 0.01
      }
     },
     "4476f3542a6640fb81ce046d98361a45": {
      "model_module": "@jupyter-widgets/controls",
      "model_module_version": "1.5.0",
      "model_name": "ButtonStyleModel",
      "state": {}
     },
     "44a4b18a76094cf49fef31820f693ffd": {
      "model_module": "@jupyter-widgets/controls",
      "model_module_version": "1.5.0",
      "model_name": "BoundedFloatTextModel",
      "state": {
       "description": "Scan min Y (um)",
       "layout": "IPY_MODEL_375a6675a0d24e289dcbb2f88fc1b5f8",
       "max": 50,
       "step": 0.001,
       "style": "IPY_MODEL_f6dfb547886a47e6b1f4326fa5614b7e",
       "value": 24.5
      }
     },
     "44b254965a9e41108748a9ae47d00c6c": {
      "model_module": "@jupyter-widgets/controls",
      "model_module_version": "1.5.0",
      "model_name": "TextModel",
      "state": {
       "description": "Saving to:",
       "layout": "IPY_MODEL_e1fdc3a259f6400ea22bea0da6f03a9f",
       "placeholder": "Saving path",
       "style": "IPY_MODEL_e5fad192924f430f8474a6be1d8ccaba",
       "value": "/media/yannan/Samsung_T5/acquisition"
      }
     },
     "44b9de78b56647bea2aaf003008b1c6a": {
      "model_module": "@jupyter-widgets/controls",
      "model_module_version": "1.5.0",
      "model_name": "VBoxModel",
      "state": {
       "children": [
        "IPY_MODEL_318f9c674e9045f095fc7ea16286dc86",
        "IPY_MODEL_c169dd78c3714cdc8a0b97397e2c2f9e",
        "IPY_MODEL_399f96333a0741628981ebd401fa3cdd",
        "IPY_MODEL_943b7d1ad85244439938692a61a3731f"
       ],
       "layout": "IPY_MODEL_1e697a6959884bde91ae1647d30160b8"
      }
     },
     "45340c3f0c55418db367b4c7a3a47e9b": {
      "model_module": "ipysheet",
      "model_module_version": "~0.4.4",
      "model_name": "CellRangeModel",
      "state": {
       "_view_module": null,
       "_view_module_version": "",
       "column_end": 0,
       "column_start": 0,
       "type": "numeric",
       "value": 26.6
      }
     },
     "45754a55224d4c1b8f5f50db0f7ced72": {
      "model_module": "@jupyter-widgets/controls",
      "model_module_version": "1.5.0",
      "model_name": "SliderStyleModel",
      "state": {
       "description_width": ""
      }
     },
     "45a37de041cb4c3096e5688ff68692fe": {
      "model_module": "@jupyter-widgets/base",
      "model_module_version": "1.2.0",
      "model_name": "LayoutModel",
      "state": {}
     },
     "45b735bf0e7f4be3b4cc1ea8a4842b4c": {
      "model_module": "@jupyter-widgets/controls",
      "model_module_version": "1.5.0",
      "model_name": "ButtonStyleModel",
      "state": {}
     },
     "45c08c3ab21d4b38887f9bcad8e7aa7c": {
      "model_module": "@jupyter-widgets/controls",
      "model_module_version": "1.5.0",
      "model_name": "ButtonModel",
      "state": {
       "description": "Start Illumination",
       "layout": "IPY_MODEL_a217bebf4bad49f79e1aef9c0c00230e",
       "style": "IPY_MODEL_a02e56b14f0c45e783eb04b107247f0f"
      }
     },
     "45c0af2227cd4dd3b097efddc0ac2097": {
      "model_module": "@jupyter-widgets/output",
      "model_module_version": "1.0.0",
      "model_name": "OutputModel",
      "state": {
       "layout": "IPY_MODEL_846ad27dc79745a8ae24cbed8799d5d9"
      }
     },
     "45c7f678cdcc4621936f6b50e84eb7fc": {
      "model_module": "@jupyter-widgets/controls",
      "model_module_version": "1.5.0",
      "model_name": "BoundedFloatTextModel",
      "state": {
       "description": "Stage Z (um)",
       "layout": "IPY_MODEL_db206e55c16248538af60b86c4866763",
       "max": 50,
       "step": 0.001,
       "style": "IPY_MODEL_decea33883774d4f96762469cefdff6d",
       "value": 25
      }
     },
     "45d26b82f107437c8d43a13e48cc6bde": {
      "model_module": "ipysheet",
      "model_module_version": "~0.4.4",
      "model_name": "CellRangeModel",
      "state": {
       "_view_module": null,
       "_view_module_version": "",
       "column_end": 3,
       "column_start": 0,
       "row_end": 4,
       "row_start": 4,
       "squeeze_column": false,
       "type": "text",
       "value": [
        "",
        "",
        "",
        ""
       ]
      }
     },
     "45de4e4d2aba4e8d999968926441c263": {
      "model_module": "@jupyter-widgets/base",
      "model_module_version": "1.2.0",
      "model_name": "LayoutModel",
      "state": {
       "grid_area": "largeFOV_begin_button",
       "width": "auto"
      }
     },
     "4618e8e897534c269bbf50ecac181944": {
      "model_module": "@jupyter-widgets/base",
      "model_module_version": "1.2.0",
      "model_name": "LayoutModel",
      "state": {}
     },
     "466b59af317b403b99d3ef31438cb4e0": {
      "model_module": "@jupyter-widgets/controls",
      "model_module_version": "1.5.0",
      "model_name": "ButtonModel",
      "state": {
       "description": "Delete Offset",
       "layout": "IPY_MODEL_b5164ea60dd84c2282a1aed490326af6",
       "style": "IPY_MODEL_bb5c5fb99104465292c54042cf0f0a04"
      }
     },
     "4690f0561a6942d8b90e02e2bb880cab": {
      "model_module": "ipysheet",
      "model_module_version": "~0.4.4",
      "model_name": "CellRangeModel",
      "state": {
       "_view_module": null,
       "_view_module_version": "",
       "column_end": 3,
       "column_start": 0,
       "row_end": 2,
       "row_start": 2,
       "squeeze_column": false,
       "type": "numeric",
       "value": [
        "",
        "",
        "",
        ""
       ]
      }
     },
     "46a418377773436698a28460905d1511": {
      "model_module": "ipysheet",
      "model_module_version": "~0.4.4",
      "model_name": "CellRangeModel",
      "state": {
       "_view_module": null,
       "_view_module_version": "",
       "column_end": 3,
       "column_start": 0,
       "row_end": 3,
       "row_start": 3,
       "squeeze_column": false,
       "type": "numeric",
       "value": [
        "",
        "",
        "",
        ""
       ]
      }
     },
     "46c9b8c205174e2681b850d6f7a8fa77": {
      "model_module": "@jupyter-widgets/controls",
      "model_module_version": "1.5.0",
      "model_name": "VBoxModel",
      "state": {
       "children": [
        "IPY_MODEL_2d0f71d522ec45a68fca6b6af602e402",
        "IPY_MODEL_9130c88ca1dd41c3a392fc12d27f2c93"
       ],
       "layout": "IPY_MODEL_38751b6814b94b61ad78871a9d831b57"
      }
     },
     "4712edf388a64700b281e60226ee1574": {
      "model_module": "@jupyter-widgets/controls",
      "model_module_version": "1.5.0",
      "model_name": "DescriptionStyleModel",
      "state": {
       "description_width": "initial"
      }
     },
     "473dbb4bfe3649a98fd859e2f35e42b3": {
      "model_module": "@jupyter-widgets/controls",
      "model_module_version": "1.5.0",
      "model_name": "DescriptionStyleModel",
      "state": {
       "description_width": ""
      }
     },
     "47d27b98d6044ad69fdf8bf03951c21b": {
      "model_module": "@jupyter-widgets/controls",
      "model_module_version": "1.5.0",
      "model_name": "BoundedFloatTextModel",
      "state": {
       "description": "Scan min Y (um)",
       "layout": "IPY_MODEL_53293b7888034d6a813cd74180ad34d5",
       "max": 50,
       "step": 0.001,
       "style": "IPY_MODEL_c45fac6f0b6e485aba2291b560a972e4",
       "value": 24.5
      }
     },
     "4815d46666cd496abd014cfebdc17a10": {
      "model_module": "@jupyter-widgets/controls",
      "model_module_version": "1.5.0",
      "model_name": "DescriptionStyleModel",
      "state": {
       "description_width": "initial"
      }
     },
     "482477bd35364a8ab844a7e9b706fade": {
      "model_module": "@jupyter-widgets/controls",
      "model_module_version": "1.5.0",
      "model_name": "IntRangeSliderModel",
      "state": {
       "_model_name": "IntRangeSliderModel",
       "_view_name": "IntRangeSliderView",
       "continuous_update": false,
       "description": "Range",
       "layout": "IPY_MODEL_3a5801869bcc4315999710834f70ddbd",
       "max": 65535,
       "style": "IPY_MODEL_817951fa1ef94927a828e5e27e7cb6c6",
       "value": [
        0,
        65535
       ]
      }
     },
     "4874ae6a718247d5b72eecf1b0dee522": {
      "model_module": "@jupyter-widgets/base",
      "model_module_version": "1.2.0",
      "model_name": "LayoutModel",
      "state": {
       "width": "70%"
      }
     },
     "488d90bf20674d25ac49c9453894b15c": {
      "model_module": "@jupyter-widgets/controls",
      "model_module_version": "1.5.0",
      "model_name": "IntSliderModel",
      "state": {
       "continuous_update": false,
       "description": "Red",
       "layout": "IPY_MODEL_f0a2afdf223f4a33b81c172427e1e46c",
       "max": 255,
       "style": "IPY_MODEL_1d36a9b18ed549bda9a9db35ba053adc"
      }
     },
     "48d3cc2d997747a9a36364419c628133": {
      "model_module": "@jupyter-widgets/base",
      "model_module_version": "1.2.0",
      "model_name": "LayoutModel",
      "state": {
       "grid_area": "stageY",
       "width": "auto"
      }
     },
     "48d5050eeed942baa7e94ca40a825374": {
      "model_module": "@jupyter-widgets/base",
      "model_module_version": "1.2.0",
      "model_name": "LayoutModel",
      "state": {
       "grid_area": "maxY",
       "width": "auto"
      }
     },
     "48e65d182e1c49f080f1612b933dfa2a": {
      "model_module": "@jupyter-widgets/controls",
      "model_module_version": "1.5.0",
      "model_name": "SliderStyleModel",
      "state": {
       "description_width": ""
      }
     },
     "495a86002486495eaaede98ab36973fc": {
      "model_module": "@jupyter-widgets/controls",
      "model_module_version": "1.5.0",
      "model_name": "SliderStyleModel",
      "state": {
       "description_width": "initial"
      }
     },
     "4991d5a0b6c14847b423afbd3938a17b": {
      "model_module": "@jupyter-widgets/base",
      "model_module_version": "1.2.0",
      "model_name": "LayoutModel",
      "state": {
       "grid_area": "delOffset",
       "width": "auto"
      }
     },
     "49989ab9a1534d86a7de535fad180325": {
      "model_module": "@jupyter-widgets/base",
      "model_module_version": "1.2.0",
      "model_name": "LayoutModel",
      "state": {
       "grid_area": "minZ",
       "width": "auto"
      }
     },
     "49ab98edf7d04e2f9bf1c3184cdec25a": {
      "model_module": "ipysheet",
      "model_module_version": "~0.4.4",
      "model_name": "CellRangeModel",
      "state": {
       "_view_module": null,
       "_view_module_version": "",
       "column_end": 3,
       "column_start": 0,
       "squeeze_column": false,
       "type": "numeric",
       "value": [
        "",
        "",
        "",
        ""
       ]
      }
     },
     "49abf1a3b9834a2ba871aaadb278c9f5": {
      "model_module": "ipysheet",
      "model_module_version": "~0.4.4",
      "model_name": "CellRangeModel",
      "state": {
       "_view_module": null,
       "_view_module_version": "",
       "column_end": 3,
       "column_start": 3,
       "row_end": 2,
       "row_start": 2,
       "type": "numeric",
       "value": 0
      }
     },
     "49aca2ae43bd482380972dc5cc84ae27": {
      "model_module": "@jupyter-widgets/output",
      "model_module_version": "1.0.0",
      "model_name": "OutputModel",
      "state": {
       "layout": "IPY_MODEL_315880945ccc41fc85fff11a6052018b"
      }
     },
     "49c719bb71b44174b1f8bafdac29295b": {
      "model_module": "@jupyter-widgets/controls",
      "model_module_version": "1.5.0",
      "model_name": "DescriptionStyleModel",
      "state": {
       "description_width": "initial"
      }
     },
     "49cf5716f774462f93c082cd05e58f7f": {
      "model_module": "@jupyter-widgets/base",
      "model_module_version": "1.2.0",
      "model_name": "LayoutModel",
      "state": {}
     },
     "4a10d225e0384fa6a38d00f889459e35": {
      "model_module": "@jupyter-widgets/controls",
      "model_module_version": "1.5.0",
      "model_name": "CheckboxModel",
      "state": {
       "description": "Flip90",
       "disabled": false,
       "layout": "IPY_MODEL_7fde1c8611224f568c6fbf0b7965d1d5",
       "style": "IPY_MODEL_20b5c469da6f43d8b685c54791a99e9a",
       "value": true
      }
     },
     "4a44081568ab49a283f016496fed0262": {
      "model_module": "@jupyter-widgets/controls",
      "model_module_version": "1.5.0",
      "model_name": "DescriptionStyleModel",
      "state": {
       "description_width": "initial"
      }
     },
     "4a7b37b016c845a1bb30bebc8660502c": {
      "model_module": "@jupyter-widgets/output",
      "model_module_version": "1.0.0",
      "model_name": "OutputModel",
      "state": {
       "layout": "IPY_MODEL_fc086ec1bfe344318e0eee08fcbfeb94"
      }
     },
     "4ab746bbe2d24da481090467273bef15": {
      "model_module": "@jupyter-widgets/controls",
      "model_module_version": "1.5.0",
      "model_name": "VBoxModel",
      "state": {
       "children": [
        "IPY_MODEL_aacadea5b1364cf9898489222be856f2",
        "IPY_MODEL_b4f9469657c74f59a1db52752cdd36db",
        "IPY_MODEL_c901cf92d328453aa007789422d01de5"
       ],
       "layout": "IPY_MODEL_fb2752bc991642489b9ef2a5e63cf4f5"
      }
     },
     "4b7b5e7c06ed46b1bb50acb05c4945af": {
      "model_module": "@jupyter-widgets/controls",
      "model_module_version": "1.5.0",
      "model_name": "ButtonStyleModel",
      "state": {}
     },
     "4b9b9b6ce71044f9af57e24f12dbee51": {
      "model_module": "@jupyter-widgets/base",
      "model_module_version": "1.2.0",
      "model_name": "LayoutModel",
      "state": {}
     },
     "4bee9a31cd0a4af795489396148db9bd": {
      "model_module": "@jupyter-widgets/controls",
      "model_module_version": "1.5.0",
      "model_name": "ButtonStyleModel",
      "state": {}
     },
     "4c1d704fd4f74f008259ea243aaa5c4b": {
      "model_module": "@jupyter-widgets/controls",
      "model_module_version": "1.5.0",
      "model_name": "VBoxModel",
      "state": {
       "_dom_classes": [
        "widget-interact"
       ],
       "children": [
        "IPY_MODEL_5d863caa4fff4fe5a395f47df8559d27",
        "IPY_MODEL_ad2f5472f23343a38b2e0507267b9350",
        "IPY_MODEL_b297271485d24efb8589bb77dbbb2164",
        "IPY_MODEL_379e3b7ae9f54de591589e8a1d13857f",
        "IPY_MODEL_cb7fa15e6d044783a256bcd039116114",
        "IPY_MODEL_3a1acf33e4e049d18ff412ace7a1ebf7",
        "IPY_MODEL_a1b0577360624722b4080668ebe1a1e2",
        "IPY_MODEL_3f208ea1dc364025aaccb7bc2347335d",
        "IPY_MODEL_45c0af2227cd4dd3b097efddc0ac2097"
       ],
       "layout": "IPY_MODEL_1937fcb9ac094b098ed24998cef06883"
      }
     },
     "4c4afa39a0b8461a94b07d94a829037c": {
      "model_module": "@jupyter-widgets/controls",
      "model_module_version": "1.5.0",
      "model_name": "TextModel",
      "state": {
       "description": "Saving to:",
       "layout": "IPY_MODEL_e38cbfd889024e04bc19255d510ed409",
       "placeholder": "Saving path",
       "style": "IPY_MODEL_1b71c86bb65f448683933ad1f44eb0f7",
       "value": "/media/yannan/Samsung_T5/acquisition"
      }
     },
     "4c59dc2eb11e44c197453f6586ccb984": {
      "model_module": "@jupyter-widgets/base",
      "model_module_version": "1.2.0",
      "model_name": "LayoutModel",
      "state": {
       "grid_area": "overlap",
       "width": "auto"
      }
     },
     "4c5e488f98c841e0992fa8b739e27155": {
      "model_module": "@jupyter-widgets/controls",
      "model_module_version": "1.5.0",
      "model_name": "DescriptionStyleModel",
      "state": {
       "description_width": "initial"
      }
     },
     "4c9ca2cc25b64ef580861131bbc3cd61": {
      "model_module": "@jupyter-widgets/base",
      "model_module_version": "1.2.0",
      "model_name": "LayoutModel",
      "state": {
       "grid_area": "delRow",
       "width": "auto"
      }
     },
     "4cf702a32a3146908bd1f9bffc74fde3": {
      "model_module": "ipysheet",
      "model_module_version": "~0.4.4",
      "model_name": "CellRangeModel",
      "state": {
       "_view_module": null,
       "_view_module_version": "",
       "column_end": 3,
       "column_start": 3,
       "type": "numeric",
       "value": -19
      }
     },
     "4d61a7df6ad84837823f7c89278da5b8": {
      "model_module": "@jupyter-widgets/controls",
      "model_module_version": "1.5.0",
      "model_name": "BoundedFloatTextModel",
      "state": {
       "description": "Scan min X (um)",
       "layout": "IPY_MODEL_78b538738fde4a819a7b5c2992a8601b",
       "max": 50,
       "step": 0.001,
       "style": "IPY_MODEL_a1865f19a7684ec1a2e27bca6dcad4e2",
       "value": 24.5
      }
     },
     "4d871f3bc01346e1a23dacf47bba3c06": {
      "model_module": "@jupyter-widgets/base",
      "model_module_version": "1.2.0",
      "model_name": "LayoutModel",
      "state": {
       "grid_area": "deltaZ",
       "width": "auto"
      }
     },
     "4da9d94f371342c4b7314f747a7a1c67": {
      "model_module": "ipysheet",
      "model_module_version": "~0.4.4",
      "model_name": "CellRangeModel",
      "state": {
       "_view_module": null,
       "_view_module_version": "",
       "column_end": 3,
       "column_start": 3,
       "row_end": 4,
       "row_start": 4,
       "type": "text",
       "value": 0
      }
     },
     "4dc0ff3c1bad402daf52e8e061372be5": {
      "model_module": "@jupyter-widgets/base",
      "model_module_version": "1.2.0",
      "model_name": "LayoutModel",
      "state": {}
     },
     "4dfca476cc53413b9e05833ef0986551": {
      "model_module": "@jupyter-widgets/base",
      "model_module_version": "1.2.0",
      "model_name": "LayoutModel",
      "state": {
       "width": "90%"
      }
     },
     "4e2f586bdd6f4b59bbffebcacfae277d": {
      "model_module": "@jupyter-widgets/base",
      "model_module_version": "1.2.0",
      "model_name": "LayoutModel",
      "state": {}
     },
     "4e680897b9324568948e57accf7d6662": {
      "model_module": "@jupyter-widgets/controls",
      "model_module_version": "1.5.0",
      "model_name": "SliderStyleModel",
      "state": {
       "description_width": "initial"
      }
     },
     "4e7da5c73386407c9bbcd93d27f13e4c": {
      "model_module": "@jupyter-widgets/base",
      "model_module_version": "1.2.0",
      "model_name": "LayoutModel",
      "state": {}
     },
     "4ea11dc6762f409da9984587bcc23078": {
      "model_module": "@jupyter-widgets/controls",
      "model_module_version": "1.5.0",
      "model_name": "SliderStyleModel",
      "state": {
       "description_width": ""
      }
     },
     "4f1da2c377224495bd2b1a46ff53c848": {
      "model_module": "@jupyter-widgets/controls",
      "model_module_version": "1.5.0",
      "model_name": "IntSliderModel",
      "state": {
       "continuous_update": false,
       "description": "Red",
       "layout": "IPY_MODEL_f22e25f1dd48455d8ba92022da8ace81",
       "max": 255,
       "style": "IPY_MODEL_e72e1ce9e00a4fc5acd7867e673dcab1"
      }
     },
     "4f5ccb047e854ae5ad7bd0236664982c": {
      "model_module": "@jupyter-widgets/base",
      "model_module_version": "1.2.0",
      "model_name": "LayoutModel",
      "state": {
       "grid_area": "stageX",
       "width": "auto"
      }
     },
     "4f6115a9a5d544d9a3e786acea711281": {
      "model_module": "@jupyter-widgets/base",
      "model_module_version": "1.2.0",
      "model_name": "LayoutModel",
      "state": {}
     },
     "4fc43b3fd63e4c06bd51537fcc6ebfcf": {
      "model_module": "ipysheet",
      "model_module_version": "~0.4.4",
      "model_name": "CellRangeModel",
      "state": {
       "_view_module": null,
       "_view_module_version": "",
       "column_end": 3,
       "column_start": 3,
       "type": "numeric",
       "value": -19
      }
     },
     "50c0e75b720a4c9294aafb2653c4432d": {
      "model_module": "@jupyter-widgets/controls",
      "model_module_version": "1.5.0",
      "model_name": "ButtonStyleModel",
      "state": {}
     },
     "50d781719811423bac560cd18d13cf77": {
      "model_module": "@jupyter-widgets/base",
      "model_module_version": "1.2.0",
      "model_name": "LayoutModel",
      "state": {
       "grid_area": "maxZ",
       "width": "auto"
      }
     },
     "51821f303f6a436d884f07256e1f0d1b": {
      "model_module": "ipysheet",
      "model_module_version": "~0.4.4",
      "model_name": "CellRangeModel",
      "state": {
       "_view_module": null,
       "_view_module_version": "",
       "row_end": 4,
       "row_start": 4,
       "type": "text",
       "value": 25
      }
     },
     "51be63ea4c7d42d8ade1d724d1e915b3": {
      "model_module": "@jupyter-widgets/base",
      "model_module_version": "1.2.0",
      "model_name": "LayoutModel",
      "state": {
       "grid_area": "lsOffset",
       "width": "auto"
      }
     },
     "51cc6b7dcfdf41a1a58166567ae2fd0c": {
      "model_module": "ipysheet",
      "model_module_version": "~0.4.4",
      "model_name": "CellRangeModel",
      "state": {
       "_view_module": null,
       "_view_module_version": "",
       "column_end": 2,
       "column_start": 2,
       "row_end": 6,
       "row_start": 6,
       "type": "text",
       "value": ""
      }
     },
     "51dc6be589c544e7b454830f34522902": {
      "model_module": "@jupyter-widgets/base",
      "model_module_version": "1.2.0",
      "model_name": "LayoutModel",
      "state": {
       "width": "90%"
      }
     },
     "5213be02fb7c479e8222f45c22a9406f": {
      "model_module": "@jupyter-widgets/base",
      "model_module_version": "1.2.0",
      "model_name": "LayoutModel",
      "state": {
       "width": "90%"
      }
     },
     "525a519e3f934d0bba1f8770b71b2fed": {
      "model_module": "@jupyter-widgets/controls",
      "model_module_version": "1.5.0",
      "model_name": "BoundedFloatTextModel",
      "state": {
       "description": "Stage Y (um)",
       "layout": "IPY_MODEL_16c8ecb7cf4c4ccb92ddc4101c7afb38",
       "max": 50,
       "step": 0.001,
       "style": "IPY_MODEL_cdf2d847d34d4a34b7232d8ffcdc196e",
       "value": 25
      }
     },
     "52a8d4f64a7b4a8e85cadccd6bec8b10": {
      "model_module": "@jupyter-widgets/base",
      "model_module_version": "1.2.0",
      "model_name": "LayoutModel",
      "state": {}
     },
     "52d7fa521c514fb98940c5ec4d06c5f5": {
      "model_module": "@jupyter-widgets/base",
      "model_module_version": "1.2.0",
      "model_name": "LayoutModel",
      "state": {
       "width": "50%"
      }
     },
     "53123148dc684eb481b6113c916ee442": {
      "model_module": "ipysheet",
      "model_module_version": "~0.4.4",
      "model_name": "CellRangeModel",
      "state": {
       "_view_module": null,
       "_view_module_version": "",
       "column_end": 3,
       "column_start": 3,
       "row_end": 2,
       "row_start": 2,
       "type": "numeric",
       "value": 0
      }
     },
     "531a932f3b57479ea378fe1f2adb7e47": {
      "model_module": "@jupyter-widgets/base",
      "model_module_version": "1.2.0",
      "model_name": "LayoutModel",
      "state": {
       "border": "solid 1px",
       "grid_template_areas": "\n                                        \"minX minY minZ\"\n                                        \"maxX maxY maxZ\"\n                                        \"deltaZ overlap .\"\n                                    ",
       "grid_template_columns": "30% 30% 30%",
       "grid_template_rows": "auto auto",
       "width": "100%"
      }
     },
     "53293b7888034d6a813cd74180ad34d5": {
      "model_module": "@jupyter-widgets/base",
      "model_module_version": "1.2.0",
      "model_name": "LayoutModel",
      "state": {
       "grid_area": "minY",
       "width": "auto"
      }
     },
     "532dea80fa3b4e43ba6abf69ef36b05e": {
      "model_module": "@jupyter-widgets/controls",
      "model_module_version": "1.5.0",
      "model_name": "VBoxModel",
      "state": {
       "children": [
        "IPY_MODEL_76b30a31605a499c8626c4fa30a260b3",
        "IPY_MODEL_8162513240124df393ca3008696ee23e",
        "IPY_MODEL_75665cd267f04667a129f3b0e2e98b7d",
        "IPY_MODEL_f5e0a54bf17f4820bbba233dc17e5c40"
       ],
       "layout": "IPY_MODEL_663d3a8f0f0944c6ae87dbbe00b2bffc"
      }
     },
     "5345566cea9441f0aaf4e61d8b3bf79b": {
      "model_module": "@jupyter-widgets/base",
      "model_module_version": "1.2.0",
      "model_name": "LayoutModel",
      "state": {
       "width": "90%"
      }
     },
     "53cee1c4e6cf40398aab6dfca296ecc0": {
      "model_module": "@jupyter-widgets/base",
      "model_module_version": "1.2.0",
      "model_name": "LayoutModel",
      "state": {
       "grid_area": "addOffset",
       "width": "auto"
      }
     },
     "5425a21d66e14fd58ec7a16a1979a9d9": {
      "model_module": "ipysheet",
      "model_module_version": "~0.4.4",
      "model_name": "CellRangeModel",
      "state": {
       "_view_module": null,
       "_view_module_version": "",
       "row_end": 4,
       "row_start": 4,
       "type": "numeric",
       "value": 25
      }
     },
     "542701ad4add4ecbb8049b6521d167eb": {
      "model_module": "@jupyter-widgets/base",
      "model_module_version": "1.2.0",
      "model_name": "LayoutModel",
      "state": {}
     },
     "542d7a68885e41979ab2c884903d99f7": {
      "model_module": "@jupyter-widgets/controls",
      "model_module_version": "1.5.0",
      "model_name": "BoundedFloatTextModel",
      "state": {
       "description": "Scan max Z (um)",
       "layout": "IPY_MODEL_6e2c762cba4c4c06a969b5bcabcb986c",
       "max": 50,
       "step": 0.001,
       "style": "IPY_MODEL_70db4bbf2ecf48c08cb25f42bd99e81b",
       "value": 25.5
      }
     },
     "5459489eb3944eb68117417fcdd8334d": {
      "model_module": "ipysheet",
      "model_module_version": "~0.4.4",
      "model_name": "CellRangeModel",
      "state": {
       "_view_module": null,
       "_view_module_version": "",
       "column_end": 3,
       "column_start": 0,
       "squeeze_column": false,
       "type": "numeric",
       "value": [
        "",
        "",
        "",
        ""
       ]
      }
     },
     "545c30c98d9a421ebb6c017822841b68": {
      "model_module": "@jupyter-widgets/controls",
      "model_module_version": "1.5.0",
      "model_name": "TextModel",
      "state": {
       "description": "Saving to:",
       "layout": "IPY_MODEL_e0546294ec794e26aec99c5940bafc5d",
       "placeholder": "Saving path",
       "style": "IPY_MODEL_97655924417640b9a74fb916b09f1033",
       "value": "/media/yannan/Samsung_T5/acquisition"
      }
     },
     "546615b7fe094c26b9a5274e87e02a8b": {
      "model_module": "@jupyter-widgets/controls",
      "model_module_version": "1.5.0",
      "model_name": "ButtonModel",
      "state": {
       "description": "Preview Scan",
       "layout": "IPY_MODEL_80eb083aca0c47d891ebe24d90948b30",
       "style": "IPY_MODEL_4bee9a31cd0a4af795489396148db9bd"
      }
     },
     "5473ff5a3ba44bab8861adbef1888664": {
      "model_module": "@jupyter-widgets/controls",
      "model_module_version": "1.5.0",
      "model_name": "BoundedIntTextModel",
      "state": {
       "description": "WideField Frames",
       "layout": "IPY_MODEL_634052db43cb411d913246b3ad2f86bb",
       "max": 10000,
       "min": 1,
       "style": "IPY_MODEL_5ded0321766b40899c9616b5d0945231",
       "value": 1
      }
     },
     "5542269c0e0741519184ac0efc35153b": {
      "model_module": "@jupyter-widgets/controls",
      "model_module_version": "1.5.0",
      "model_name": "DescriptionStyleModel",
      "state": {
       "description_width": "initial"
      }
     },
     "555a38c736fa455db06ee11e37a5ab10": {
      "model_module": "@jupyter-widgets/controls",
      "model_module_version": "1.5.0",
      "model_name": "ButtonModel",
      "state": {
       "description": "Preview Scan",
       "layout": "IPY_MODEL_748bdf09d6f345e0b14c72d5e86b87ff",
       "style": "IPY_MODEL_92a8e7167e6243fb98e816ff7f0fe152"
      }
     },
     "55cb7e5d1a0949af917fcb2cb6367af6": {
      "model_module": "@jupyter-widgets/controls",
      "model_module_version": "1.5.0",
      "model_name": "VBoxModel",
      "state": {
       "_dom_classes": [
        "widget-interact"
       ],
       "children": [
        "IPY_MODEL_ff4712e862814fc58e31c3667a15493b",
        "IPY_MODEL_2aa424d07ca643b8aad37e0bd7516ce3",
        "IPY_MODEL_cc3a50bfc92044279d34da227536ceee",
        "IPY_MODEL_5a560c2fbd764bf0ae828903ac02260d"
       ],
       "layout": "IPY_MODEL_f421955b4a3d470284385f374d00eda5"
      }
     },
     "561c89faae744cbc89e3718dd012fbca": {
      "model_module": "@jupyter-widgets/controls",
      "model_module_version": "1.5.0",
      "model_name": "FloatSliderModel",
      "state": {
       "continuous_update": false,
       "description": "Exposure (ms)",
       "layout": "IPY_MODEL_33262465102c40be9cbb6b1426fcb433",
       "min": 16.83,
       "step": 16.83,
       "style": "IPY_MODEL_58525d2c97f54eaeb392f208dfa0f06d",
       "value": 16.83
      }
     },
     "5629f2244945430e8cd3106da7391662": {
      "model_module": "@jupyter-widgets/controls",
      "model_module_version": "1.5.0",
      "model_name": "BoundedFloatTextModel",
      "state": {
       "description": "Stage Z (um)",
       "layout": "IPY_MODEL_de217bc8623c474da21270e48f7acbfd",
       "max": 50,
       "step": 0.001,
       "style": "IPY_MODEL_228534f1926147669964a8980fdb8bcd",
       "value": 25
      }
     },
     "569aa1672c404e8695c090d5e5599fa8": {
      "model_module": "@jupyter-widgets/controls",
      "model_module_version": "1.5.0",
      "model_name": "BoundedFloatTextModel",
      "state": {
       "description": "Scan max Y (um)",
       "layout": "IPY_MODEL_839f085677ca4b829a06c14aed373b24",
       "max": 50,
       "step": 0.001,
       "style": "IPY_MODEL_5542269c0e0741519184ac0efc35153b",
       "value": 25.5
      }
     },
     "56b4ff4071ea480ab77eafabc895777f": {
      "model_module": "@jupyter-widgets/controls",
      "model_module_version": "1.5.0",
      "model_name": "IntSliderModel",
      "state": {
       "continuous_update": false,
       "description": "Scan Range",
       "layout": "IPY_MODEL_24b4320e47294d7b89b13772258372e5",
       "max": 1280,
       "min": 1,
       "style": "IPY_MODEL_883f8aff856f4d3fbe88d75b529d40db",
       "value": 100
      }
     },
     "570db780b29f4062a747abaa942dd185": {
      "model_module": "@jupyter-widgets/base",
      "model_module_version": "1.2.0",
      "model_name": "LayoutModel",
      "state": {
       "grid_area": "maxY",
       "width": "auto"
      }
     },
     "5745a13013a8444ea51309f46906a6cd": {
      "model_module": "ipysheet",
      "model_module_version": "~0.4.4",
      "model_name": "CellRangeModel",
      "state": {
       "_view_module": null,
       "_view_module_version": "",
       "column_end": 3,
       "column_start": 0,
       "row_end": 2,
       "row_start": 2,
       "squeeze_column": false,
       "type": "numeric",
       "value": [
        25,
        25,
        25,
        5
       ]
      }
     },
     "5747e247c9134a46a4c4124bf81d174b": {
      "model_module": "@jupyter-widgets/controls",
      "model_module_version": "1.5.0",
      "model_name": "DescriptionStyleModel",
      "state": {
       "description_width": "initial"
      }
     },
     "5767b2577cd44ba88225892ec4c7dd1b": {
      "model_module": "@jupyter-widgets/controls",
      "model_module_version": "1.5.0",
      "model_name": "DescriptionStyleModel",
      "state": {
       "description_width": ""
      }
     },
     "5785c014f31a45d38c3d4ac5bcd215a4": {
      "model_module": "@jupyter-widgets/base",
      "model_module_version": "1.2.0",
      "model_name": "LayoutModel",
      "state": {
       "width": "90%"
      }
     },
     "57a7b351becb43148d98b98bb06dac54": {
      "model_module": "@jupyter-widgets/controls",
      "model_module_version": "1.5.0",
      "model_name": "ButtonModel",
      "state": {
       "description": "Start Illumination",
       "layout": "IPY_MODEL_774eb1988161448183a78d6eb06c016d",
       "style": "IPY_MODEL_fb2fc14595b9401c837567c748a55001"
      }
     },
     "581029e524694b859e45a61ed7c38c34": {
      "model_module": "@jupyter-widgets/controls",
      "model_module_version": "1.5.0",
      "model_name": "ButtonStyleModel",
      "state": {}
     },
     "58131ea8ef454337a9f216fb7d217f72": {
      "model_module": "@jupyter-widgets/controls",
      "model_module_version": "1.5.0",
      "model_name": "DescriptionStyleModel",
      "state": {
       "description_width": ""
      }
     },
     "58525d2c97f54eaeb392f208dfa0f06d": {
      "model_module": "@jupyter-widgets/controls",
      "model_module_version": "1.5.0",
      "model_name": "SliderStyleModel",
      "state": {
       "description_width": "initial"
      }
     },
     "5852998624d5464498ba3d08791e73f4": {
      "model_module": "@jupyter-widgets/base",
      "model_module_version": "1.2.0",
      "model_name": "LayoutModel",
      "state": {
       "width": "90%"
      }
     },
     "587909913c914b05ac96b7d834bf5e5b": {
      "model_module": "ipysheet",
      "model_module_version": "~0.4.4",
      "model_name": "CellRangeModel",
      "state": {
       "_view_module": null,
       "_view_module_version": "",
       "column_end": 3,
       "column_start": 0,
       "row_end": 5,
       "row_start": 5,
       "squeeze_column": false,
       "type": "text",
       "value": [
        "",
        "",
        "",
        ""
       ]
      }
     },
     "5884e7d7ac554672bc600a20c4f6a8cc": {
      "model_module": "@jupyter-widgets/controls",
      "model_module_version": "1.5.0",
      "model_name": "BoundedIntTextModel",
      "state": {
       "description": "Light Sheet Offset",
       "layout": "IPY_MODEL_c0e70098530348c4b220f7572dbd1434",
       "max": 300,
       "min": -300,
       "style": "IPY_MODEL_ca6af887c91d413a94b41b7eca22a074"
      }
     },
     "5908c19485b748e1a69dc2e3359a2d3a": {
      "model_module": "@jupyter-widgets/controls",
      "model_module_version": "1.5.0",
      "model_name": "ButtonStyleModel",
      "state": {}
     },
     "59262d663fed4c11bfe506fe49c9eb2c": {
      "model_module": "@jupyter-widgets/base",
      "model_module_version": "1.2.0",
      "model_name": "LayoutModel",
      "state": {}
     },
     "5986e03fcc4042e1854d91811bc9d562": {
      "model_module": "ipysheet",
      "model_module_version": "~0.4.4",
      "model_name": "CellRangeModel",
      "state": {
       "_view_module": null,
       "_view_module_version": "",
       "column_end": 0,
       "column_start": 0,
       "row_end": 3,
       "row_start": 3,
       "type": "numeric",
       "value": 25
      }
     },
     "5a03ad25330c4ee0b523e7f3efabbb3a": {
      "model_module": "@jupyter-widgets/base",
      "model_module_version": "1.2.0",
      "model_name": "LayoutModel",
      "state": {}
     },
     "5a1a6bb49e3f41518622152b8fa228af": {
      "model_module": "@jupyter-widgets/controls",
      "model_module_version": "1.5.0",
      "model_name": "DescriptionStyleModel",
      "state": {
       "description_width": "initial"
      }
     },
     "5a45aaef490649d8ab1e22c9bb426baa": {
      "model_module": "@jupyter-widgets/base",
      "model_module_version": "1.2.0",
      "model_name": "LayoutModel",
      "state": {}
     },
     "5a535b7aa90e45e5812765010a10bba5": {
      "model_module": "@jupyter-widgets/controls",
      "model_module_version": "1.5.0",
      "model_name": "BoundedFloatTextModel",
      "state": {
       "description": "Scan max Z (um)",
       "layout": "IPY_MODEL_73769856a2d341da9be9256c5b85205e",
       "max": 50,
       "step": 0.001,
       "style": "IPY_MODEL_6ee48ea5b6644e35b8c80116334ce4e9",
       "value": 25.5
      }
     },
     "5a560c2fbd764bf0ae828903ac02260d": {
      "model_module": "@jupyter-widgets/output",
      "model_module_version": "1.0.0",
      "model_name": "OutputModel",
      "state": {
       "layout": "IPY_MODEL_98c85c7875c04db995ab0bf664dd9d59"
      }
     },
     "5a689aa162ae468e8196d377f60c2e9c": {
      "model_module": "@jupyter-widgets/controls",
      "model_module_version": "1.5.0",
      "model_name": "DescriptionStyleModel",
      "state": {
       "description_width": "initial"
      }
     },
     "5a73ccfb82b04291a458d2f5e98ab26f": {
      "model_module": "@jupyter-widgets/base",
      "model_module_version": "1.2.0",
      "model_name": "LayoutModel",
      "state": {
       "grid_area": "delOffset",
       "width": "auto"
      }
     },
     "5aa07fc64f6d48809478c6050a0f7ea3": {
      "model_module": "@jupyter-widgets/base",
      "model_module_version": "1.2.0",
      "model_name": "LayoutModel",
      "state": {}
     },
     "5ad331d745fa4e2cbb8315d12d7ab60b": {
      "model_module": "@jupyter-widgets/base",
      "model_module_version": "1.2.0",
      "model_name": "LayoutModel",
      "state": {
       "width": "90%"
      }
     },
     "5add980b86194dabbc0e37cc8a909775": {
      "model_module": "@jupyter-widgets/base",
      "model_module_version": "1.2.0",
      "model_name": "LayoutModel",
      "state": {
       "grid_area": "maxX",
       "width": "auto"
      }
     },
     "5b07027a079c4ba39dddd5e9c54e37fc": {
      "model_module": "@jupyter-widgets/controls",
      "model_module_version": "1.5.0",
      "model_name": "BoundedFloatTextModel",
      "state": {
       "description": "Scan min Y (um)",
       "layout": "IPY_MODEL_8decfa8b5c0945e58c556ee70444c6cb",
       "max": 50,
       "step": 0.001,
       "style": "IPY_MODEL_c56c366f411d461099f1c53523db27f3",
       "value": 24.5
      }
     },
     "5b7563c517d74c589c9b38ce02789aa6": {
      "model_module": "@jupyter-widgets/controls",
      "model_module_version": "1.5.0",
      "model_name": "VBoxModel",
      "state": {
       "children": [
        "IPY_MODEL_57a7b351becb43148d98b98bb06dac54",
        "IPY_MODEL_af01df6aa9264781ba3a2bee47c3006d"
       ],
       "layout": "IPY_MODEL_d10c28883b694dc4bf5d2ccea7264300"
      }
     },
     "5b82329cbc1a4e219a63b686043a5dc2": {
      "model_module": "@jupyter-widgets/base",
      "model_module_version": "1.2.0",
      "model_name": "LayoutModel",
      "state": {
       "width": "90%"
      }
     },
     "5ba2c44e9d304c278e56383d6450cce8": {
      "model_module": "@jupyter-widgets/controls",
      "model_module_version": "1.5.0",
      "model_name": "BoundedFloatTextModel",
      "state": {
       "description": "Total Duration (h)",
       "layout": "IPY_MODEL_3b20d8626a884f5484ce1c20c3d3dea7",
       "step": 0.01,
       "style": "IPY_MODEL_27fdf5c7444c4fa48b2fe9291d225c9d",
       "value": 0.01
      }
     },
     "5be9ba2ab3334f3687bc565458223e09": {
      "model_module": "@jupyter-widgets/base",
      "model_module_version": "1.2.0",
      "model_name": "LayoutModel",
      "state": {
       "width": "90%"
      }
     },
     "5c20658ed76a41b9b267a847a3ac5961": {
      "model_module": "@jupyter-widgets/controls",
      "model_module_version": "1.5.0",
      "model_name": "IntSliderModel",
      "state": {
       "continuous_update": false,
       "description": "Width",
       "layout": "IPY_MODEL_dc806d5b8ee344e2817206d21b59abde",
       "max": 1280,
       "style": "IPY_MODEL_aa2c839a275a448cb2bd92777862cc3d",
       "value": 10
      }
     },
     "5c3c513e4ad24fa68f263eadad0bdd82": {
      "model_module": "@jupyter-widgets/controls",
      "model_module_version": "1.5.0",
      "model_name": "IntSliderModel",
      "state": {
       "continuous_update": false,
       "description": "Offset",
       "layout": "IPY_MODEL_1bdd2e4010aa473bb52b72ef8bb8218e",
       "max": 300,
       "min": -300,
       "style": "IPY_MODEL_43ec858116684e3886f8cd0164ef085d"
      }
     },
     "5c65a701466c4145ae0a1be0a7cb960b": {
      "model_module": "@jupyter-widgets/controls",
      "model_module_version": "1.5.0",
      "model_name": "BoundedFloatTextModel",
      "state": {
       "description": "Exp Inverval (h)",
       "layout": "IPY_MODEL_79d0da3f16954eed828f5d75a35b72e7",
       "min": 0.01,
       "step": 0.01,
       "style": "IPY_MODEL_c091f32df50840b18ccc8e6723faf9a2",
       "value": 0.01
      }
     },
     "5d204806009744fa99983b1fcedb5896": {
      "model_module": "@jupyter-widgets/base",
      "model_module_version": "1.2.0",
      "model_name": "LayoutModel",
      "state": {
       "width": "90%"
      }
     },
     "5d2099ddbccb4df789eff681c37d1b5c": {
      "model_module": "@jupyter-widgets/base",
      "model_module_version": "1.2.0",
      "model_name": "LayoutModel",
      "state": {
       "width": "90%"
      }
     },
     "5d435de980314bf7aa722634fc717a10": {
      "model_module": "@jupyter-widgets/base",
      "model_module_version": "1.2.0",
      "model_name": "LayoutModel",
      "state": {
       "width": "90%"
      }
     },
     "5d700223d13548629170c3104cee0b55": {
      "model_module": "@jupyter-widgets/controls",
      "model_module_version": "1.5.0",
      "model_name": "DescriptionStyleModel",
      "state": {
       "description_width": "initial"
      }
     },
     "5d863caa4fff4fe5a395f47df8559d27": {
      "model_module": "@jupyter-widgets/controls",
      "model_module_version": "1.5.0",
      "model_name": "IntSliderModel",
      "state": {
       "continuous_update": false,
       "description": "Red",
       "layout": "IPY_MODEL_51dc6be589c544e7b454830f34522902",
       "max": 255,
       "style": "IPY_MODEL_0cf26a6ca1d34539ba5ee130a0175bdd",
       "value": 255
      }
     },
     "5ded0321766b40899c9616b5d0945231": {
      "model_module": "@jupyter-widgets/controls",
      "model_module_version": "1.5.0",
      "model_name": "DescriptionStyleModel",
      "state": {
       "description_width": "initial"
      }
     },
     "5ebe70ca3ab14ddf8573433fbd274fae": {
      "model_module": "@jupyter-widgets/controls",
      "model_module_version": "1.5.0",
      "model_name": "ButtonModel",
      "state": {
       "description": "Add Offset",
       "layout": "IPY_MODEL_cf83cac70dc44a0f88eb7b674b6e0965",
       "style": "IPY_MODEL_d50772f724fa4100972d32703042f8ba"
      }
     },
     "5ee48308cc8a4c16b7db305cb0cfaf86": {
      "model_module": "@jupyter-widgets/base",
      "model_module_version": "1.2.0",
      "model_name": "LayoutModel",
      "state": {
       "width": "90%"
      }
     },
     "5ef4b96079014241b9b1e95a8ad1a037": {
      "model_module": "@jupyter-widgets/controls",
      "model_module_version": "1.5.0",
      "model_name": "DescriptionStyleModel",
      "state": {
       "description_width": "initial"
      }
     },
     "5f27fd9d347645878ec622b3d7641997": {
      "model_module": "@jupyter-widgets/controls",
      "model_module_version": "1.5.0",
      "model_name": "DescriptionStyleModel",
      "state": {
       "description_width": "initial"
      }
     },
     "5f528afdfff14c24be62da1eab2f48cb": {
      "model_module": "ipysheet",
      "model_module_version": "~0.4.4",
      "model_name": "CellRangeModel",
      "state": {
       "_view_module": null,
       "_view_module_version": "",
       "column_end": 0,
       "column_start": 0,
       "row_end": 5,
       "row_start": 5,
       "type": "text",
       "value": 25
      }
     },
     "5f7bcd4a3e7d4a78abccce82c924557c": {
      "model_module": "ipysheet",
      "model_module_version": "~0.4.4",
      "model_name": "CellRangeModel",
      "state": {
       "_view_module": null,
       "_view_module_version": "",
       "column_end": 3,
       "column_start": 0,
       "row_end": 0,
       "row_start": 0,
       "squeeze_column": false,
       "type": "numeric",
       "value": [
        "",
        "",
        "",
        ""
       ]
      }
     },
     "5fbb4537a10b461da48d7e2f42a1a85d": {
      "model_module": "@jupyter-widgets/base",
      "model_module_version": "1.2.0",
      "model_name": "LayoutModel",
      "state": {
       "width": "90%"
      }
     },
     "5fbf433d4163472db140ba3c787efbb1": {
      "model_module": "@jupyter-widgets/controls",
      "model_module_version": "1.5.0",
      "model_name": "BoundedFloatTextModel",
      "state": {
       "description": "Scan min Z (um)",
       "layout": "IPY_MODEL_40dbc375c6c241e88b89f7c8eff64ab3",
       "max": 50,
       "step": 0.001,
       "style": "IPY_MODEL_fe20405937064b52b473bdeb0ab1d416",
       "value": 24.5
      }
     },
     "5fef106aeb374685bdd21e7f6c63964f": {
      "model_module": "ipysheet",
      "model_module_version": "~0.4.4",
      "model_name": "CellRangeModel",
      "state": {
       "_view_module": null,
       "_view_module_version": "",
       "column_end": 3,
       "column_start": 0,
       "row_end": 7,
       "row_start": 7,
       "squeeze_column": false,
       "type": "numeric",
       "value": [
        "",
        "",
        "",
        ""
       ]
      }
     },
     "6007397e16d042fda93a6d11d723651c": {
      "model_module": "@jupyter-widgets/controls",
      "model_module_version": "1.5.0",
      "model_name": "ButtonStyleModel",
      "state": {}
     },
     "603fb34afab04fc3b26a9179861e4ef3": {
      "model_module": "@jupyter-widgets/base",
      "model_module_version": "1.2.0",
      "model_name": "LayoutModel",
      "state": {
       "grid_area": "stageX",
       "width": "auto"
      }
     },
     "60af9009d7f34af68bd4949b4e84fbcf": {
      "model_module": "@jupyter-widgets/base",
      "model_module_version": "1.2.0",
      "model_name": "LayoutModel",
      "state": {}
     },
     "60dca6b5391d4e8da348b31a53d79b12": {
      "model_module": "@jupyter-widgets/base",
      "model_module_version": "1.2.0",
      "model_name": "LayoutModel",
      "state": {
       "width": "90%"
      }
     },
     "61016370dc764d8482a3882fe345be8a": {
      "model_module": "@jupyter-widgets/controls",
      "model_module_version": "1.5.0",
      "model_name": "SliderStyleModel",
      "state": {
       "description_width": ""
      }
     },
     "61052e31c7c24ecda710ccb19b1f128e": {
      "model_module": "@jupyter-widgets/base",
      "model_module_version": "1.2.0",
      "model_name": "LayoutModel",
      "state": {
       "width": "90%"
      }
     },
     "61245fbee4de47c88ef768f1f2574d72": {
      "model_module": "@jupyter-widgets/controls",
      "model_module_version": "1.5.0",
      "model_name": "ButtonModel",
      "state": {
       "description": "Delete Offset",
       "layout": "IPY_MODEL_e01ba8e429464894b55dbc475446759e",
       "style": "IPY_MODEL_9d3d5029eb364432a4a641ec7320bbdf"
      }
     },
     "6155df2ca49d49edb7e3f15233e9a02e": {
      "model_module": "@jupyter-widgets/base",
      "model_module_version": "1.2.0",
      "model_name": "LayoutModel",
      "state": {}
     },
     "618f17b9792b464098ea8d058b91656d": {
      "model_module": "ipysheet",
      "model_module_version": "~0.4.4",
      "model_name": "CellRangeModel",
      "state": {
       "_view_module": null,
       "_view_module_version": "",
       "column_end": 3,
       "column_start": 0,
       "row_end": 2,
       "row_start": 2,
       "squeeze_column": false,
       "type": "numeric",
       "value": [
        "",
        "",
        "",
        ""
       ]
      }
     },
     "61a5dd0cba7143fc95383124cd70c1e7": {
      "model_module": "@jupyter-widgets/controls",
      "model_module_version": "1.5.0",
      "model_name": "IntSliderModel",
      "state": {
       "continuous_update": false,
       "description": "Width",
       "layout": "IPY_MODEL_8ce6cef85b6d4d4a8e10a494958de659",
       "max": 1280,
       "style": "IPY_MODEL_65e040d78d0749aead7ce51348f0778d",
       "value": 10
      }
     },
     "61cf2103c9cb439cac7034360c46ae89": {
      "model_module": "@jupyter-widgets/base",
      "model_module_version": "1.2.0",
      "model_name": "LayoutModel",
      "state": {
       "width": "90%"
      }
     },
     "620bc8401a6a4b88834677eea3e52697": {
      "model_module": "@jupyter-widgets/controls",
      "model_module_version": "1.5.0",
      "model_name": "DescriptionStyleModel",
      "state": {
       "description_width": "initial"
      }
     },
     "621450be034243a78422660d51b1edf8": {
      "model_module": "@jupyter-widgets/base",
      "model_module_version": "1.2.0",
      "model_name": "LayoutModel",
      "state": {
       "width": "90%"
      }
     },
     "62403de16bac473290ed0411909e9cfd": {
      "model_module": "@jupyter-widgets/base",
      "model_module_version": "1.2.0",
      "model_name": "LayoutModel",
      "state": {
       "border": "solid 1px",
       "grid_template_areas": "\n                                        \"minX minY minZ\"\n                                        \"maxX maxY maxZ\"\n                                        \"deltaZ overlap .\"\n                                    ",
       "grid_template_columns": "30% 30% 30%",
       "grid_template_rows": "auto auto",
       "width": "100%"
      }
     },
     "625e36a7b0f144d28e6a088302bcd9aa": {
      "model_module": "@jupyter-widgets/base",
      "model_module_version": "1.2.0",
      "model_name": "LayoutModel",
      "state": {
       "grid_area": "stageZ",
       "width": "auto"
      }
     },
     "626d188009004aafa90773d78a47fda3": {
      "model_module": "@jupyter-widgets/base",
      "model_module_version": "1.2.0",
      "model_name": "LayoutModel",
      "state": {
       "grid_area": "minX",
       "width": "auto"
      }
     },
     "62b04b3c2c434c36b9d4b8db56b34827": {
      "model_module": "@jupyter-widgets/controls",
      "model_module_version": "1.5.0",
      "model_name": "ButtonStyleModel",
      "state": {}
     },
     "62f2f473462c4cd29a9b50dfd6f2de81": {
      "model_module": "ipysheet",
      "model_module_version": "~0.4.4",
      "model_name": "CellRangeModel",
      "state": {
       "_view_module": null,
       "_view_module_version": "",
       "column_end": 3,
       "column_start": 0,
       "squeeze_column": false,
       "type": "numeric",
       "value": [
        25,
        25,
        25,
        0
       ]
      }
     },
     "63056304993244dfa70575d99bb81a8f": {
      "model_module": "@jupyter-widgets/controls",
      "model_module_version": "1.5.0",
      "model_name": "BoundedFloatTextModel",
      "state": {
       "description": "Total Duration (h)",
       "layout": "IPY_MODEL_ea0f97443e8a41b9908a9200e5057527",
       "step": 0.01,
       "style": "IPY_MODEL_5a689aa162ae468e8196d377f60c2e9c",
       "value": 0.01
      }
     },
     "630c5ff81264403eb07af53c0ab3f3ab": {
      "model_module": "@jupyter-widgets/controls",
      "model_module_version": "1.5.0",
      "model_name": "IntRangeSliderModel",
      "state": {
       "_model_name": "IntRangeSliderModel",
       "_view_name": "IntRangeSliderView",
       "continuous_update": false,
       "description": "Range",
       "layout": "IPY_MODEL_919777972a3d4dc084870e0cb0db0542",
       "max": 65535,
       "style": "IPY_MODEL_bc7709b8cb3f4fc5934f2c0ed8d8278a",
       "value": [
        0,
        65535
       ]
      }
     },
     "634052db43cb411d913246b3ad2f86bb": {
      "model_module": "@jupyter-widgets/base",
      "model_module_version": "1.2.0",
      "model_name": "LayoutModel",
      "state": {
       "width": "90%"
      }
     },
     "6348dac755394ec1bede7ff1da8243ca": {
      "model_module": "@jupyter-widgets/controls",
      "model_module_version": "1.5.0",
      "model_name": "BoundedFloatTextModel",
      "state": {
       "description": "Overlap ratio (%)",
       "layout": "IPY_MODEL_4c59dc2eb11e44c197453f6586ccb984",
       "max": 50,
       "step": 1,
       "style": "IPY_MODEL_b89d0f1fcd704af5b5212a37ed8efc34",
       "value": 20
      }
     },
     "638aa7d08b2e4d2b8240e1232e67973d": {
      "model_module": "ipysheet",
      "model_module_version": "~0.4.4",
      "model_name": "CellRangeModel",
      "state": {
       "_view_module": null,
       "_view_module_version": "",
       "column_end": 3,
       "column_start": 0,
       "row_end": 0,
       "row_start": 0,
       "squeeze_column": false,
       "type": "numeric",
       "value": [
        "",
        "",
        "",
        ""
       ]
      }
     },
     "638d7bf5eb8e4eb5a6a56fa868bb17f7": {
      "model_module": "@jupyter-widgets/controls",
      "model_module_version": "1.5.0",
      "model_name": "FloatSliderModel",
      "state": {
       "continuous_update": false,
       "description": "Exposure (ms)",
       "layout": "IPY_MODEL_4dfca476cc53413b9e05833ef0986551",
       "min": 16.83,
       "step": 16.83,
       "style": "IPY_MODEL_f0e72a8698cd464da9578f0aa96b4922",
       "value": 16.83
      }
     },
     "6396ae13f05e41869e4eaa573dd03373": {
      "model_module": "@jupyter-widgets/output",
      "model_module_version": "1.0.0",
      "model_name": "OutputModel",
      "state": {
       "layout": "IPY_MODEL_96ae2a2fe1254724b71f7d21b9c3bc74"
      }
     },
     "639fa68447c546b9ac560bd599e7369c": {
      "model_module": "@jupyter-widgets/controls",
      "model_module_version": "1.5.0",
      "model_name": "SliderStyleModel",
      "state": {
       "description_width": "initial"
      }
     },
     "63d3f9bbae284d8d87012aa607f80684": {
      "model_module": "@jupyter-widgets/base",
      "model_module_version": "1.2.0",
      "model_name": "LayoutModel",
      "state": {}
     },
     "63dde2666460413dbcee9f20d302ea8d": {
      "model_module": "@jupyter-widgets/controls",
      "model_module_version": "1.5.0",
      "model_name": "SliderStyleModel",
      "state": {
       "description_width": "initial"
      }
     },
     "63f3cead437c46b2b9bf2baf36062e1d": {
      "model_module": "ipysheet",
      "model_module_version": "~0.4.4",
      "model_name": "CellRangeModel",
      "state": {
       "_view_module": null,
       "_view_module_version": "",
       "column_end": 0,
       "column_start": 0,
       "type": "numeric",
       "value": 26.6
      }
     },
     "6433995870ee432c834194295d013abc": {
      "model_module": "@jupyter-widgets/base",
      "model_module_version": "1.2.0",
      "model_name": "LayoutModel",
      "state": {
       "grid_area": "minY",
       "width": "auto"
      }
     },
     "644ae8b029d04c26a0c999cff0f316de": {
      "model_module": "@jupyter-widgets/base",
      "model_module_version": "1.2.0",
      "model_name": "LayoutModel",
      "state": {
       "width": "50%"
      }
     },
     "6485eb523424472485cef1c7b7610f73": {
      "model_module": "@jupyter-widgets/controls",
      "model_module_version": "1.5.0",
      "model_name": "SliderStyleModel",
      "state": {
       "description_width": ""
      }
     },
     "64bf840f78014167a51df16dc1e26c78": {
      "model_module": "@jupyter-widgets/controls",
      "model_module_version": "1.5.0",
      "model_name": "BoundedFloatTextModel",
      "state": {
       "description": "delta Z (um)",
       "layout": "IPY_MODEL_957c3ac85b8d4424bc18fd56364604cd",
       "max": 10,
       "min": 0.001,
       "step": 0.001,
       "style": "IPY_MODEL_cdf654fbb6fd47709ffcc1a0397ff9f6",
       "value": 0.1
      }
     },
     "64efc709e9a241fb8f0fb8c06ef15fa5": {
      "model_module": "@jupyter-widgets/controls",
      "model_module_version": "1.5.0",
      "model_name": "TabModel",
      "state": {
       "_titles": {
        "0": "Light sheet scan",
        "1": "Wide Field",
        "2": "Large FOV"
       },
       "children": [
        "IPY_MODEL_b1c81827dd934eefaa4810b16c5fe896",
        "IPY_MODEL_dbe27ff0ee484818a7fd6705e6fe44a7",
        "IPY_MODEL_7596e0cae56a4b48ac258b6f5093d54d"
       ],
       "layout": "IPY_MODEL_9cc5d6def8ba4fa1b44c3befe0b31d38",
       "selected_index": 2
      }
     },
     "651ecfd208dd4a64ab3dd85d513989b7": {
      "model_module": "@jupyter-widgets/controls",
      "model_module_version": "1.5.0",
      "model_name": "ButtonStyleModel",
      "state": {}
     },
     "65230718fee94dc29d72d7221f94e25e": {
      "model_module": "ipysheet",
      "model_module_version": "~0.4.4",
      "model_name": "CellRangeModel",
      "state": {
       "_view_module": null,
       "_view_module_version": "",
       "column_end": 3,
       "column_start": 0,
       "row_end": 3,
       "row_start": 3,
       "squeeze_column": false,
       "type": "numeric",
       "value": [
        "",
        "",
        "",
        ""
       ]
      }
     },
     "652defc2267a4064a25fcbb2617d8bbe": {
      "model_module": "ipysheet",
      "model_module_version": "~0.4.4",
      "model_name": "CellRangeModel",
      "state": {
       "_view_module": null,
       "_view_module_version": "",
       "column_end": 3,
       "column_start": 3,
       "row_end": 4,
       "row_start": 4,
       "type": "numeric",
       "value": 0
      }
     },
     "6536ec41b65845d2b715087d7697dabf": {
      "model_module": "@jupyter-widgets/controls",
      "model_module_version": "1.5.0",
      "model_name": "BoundedFloatTextModel",
      "state": {
       "description": "Scan max Z (um)",
       "layout": "IPY_MODEL_a5432bb5239f4a73a65bafc5c44fe340",
       "max": 50,
       "step": 0.001,
       "style": "IPY_MODEL_c3326a454aa145a0a0aadd55b8a3dc7f",
       "value": 25.5
      }
     },
     "65e040d78d0749aead7ce51348f0778d": {
      "model_module": "@jupyter-widgets/controls",
      "model_module_version": "1.5.0",
      "model_name": "SliderStyleModel",
      "state": {
       "description_width": ""
      }
     },
     "6635ab10281e48a39949c6f1b0cd1842": {
      "model_module": "@jupyter-widgets/base",
      "model_module_version": "1.2.0",
      "model_name": "LayoutModel",
      "state": {}
     },
     "663d3a8f0f0944c6ae87dbbe00b2bffc": {
      "model_module": "@jupyter-widgets/base",
      "model_module_version": "1.2.0",
      "model_name": "LayoutModel",
      "state": {}
     },
     "664c103c64e64caa88d4b52de00ffe83": {
      "model_module": "@jupyter-widgets/base",
      "model_module_version": "1.2.0",
      "model_name": "LayoutModel",
      "state": {
       "width": "90%"
      }
     },
     "6661d99c692342589d6ee00ea305f4e1": {
      "model_module": "ipysheet",
      "model_module_version": "~0.4.4",
      "model_name": "CellRangeModel",
      "state": {
       "_view_module": null,
       "_view_module_version": "",
       "column_end": 3,
       "column_start": 3,
       "row_end": 2,
       "row_start": 2,
       "type": "numeric",
       "value": 0
      }
     },
     "66af387d6ceb4714beb14be4f9a758a3": {
      "model_module": "@jupyter-widgets/controls",
      "model_module_version": "1.5.0",
      "model_name": "VBoxModel",
      "state": {
       "children": [
        "IPY_MODEL_05832d5923b4454f971b6dba8def8eea",
        "IPY_MODEL_69849263f8d749eb95ae9e0ce0aaf028",
        "IPY_MODEL_003288d8033f406fbb6d632876e6ddda",
        "IPY_MODEL_89cb6e295c064288b4e4a774ab0fe27b"
       ],
       "layout": "IPY_MODEL_5b82329cbc1a4e219a63b686043a5dc2"
      }
     },
     "66d3f3c5366740e19867ec332d809104": {
      "model_module": "@jupyter-widgets/controls",
      "model_module_version": "1.5.0",
      "model_name": "DescriptionStyleModel",
      "state": {
       "description_width": "initial"
      }
     },
     "6706bec4675a4f9891bb0f1e7fa86584": {
      "model_module": "@jupyter-widgets/base",
      "model_module_version": "1.2.0",
      "model_name": "LayoutModel",
      "state": {
       "width": "50%"
      }
     },
     "679963343f2541beb4a8eaacf64be70b": {
      "model_module": "@jupyter-widgets/base",
      "model_module_version": "1.2.0",
      "model_name": "LayoutModel",
      "state": {
       "grid_area": "minY",
       "width": "auto"
      }
     },
     "67bc5dba99ce4597add225870bf9742f": {
      "model_module": "@jupyter-widgets/controls",
      "model_module_version": "1.5.0",
      "model_name": "GridBoxModel",
      "state": {
       "children": [
        "IPY_MODEL_953a41f5e1504e22afe7a7f533c719be",
        "IPY_MODEL_991f5598441d4306a4fcf1d4455852bb",
        "IPY_MODEL_340559c9436b434ea5aab25b83c5a04f",
        "IPY_MODEL_eb5e0d6983df4f6e9d65876214d9a363",
        "IPY_MODEL_2fe9535aa4c347fe99f23aab73f7744c",
        "IPY_MODEL_ed8ab8dd65c24c36a40d5b321cb961a0",
        "IPY_MODEL_98766ba27c2249d9bad234a7c77de964"
       ],
       "layout": "IPY_MODEL_340bc387f1a5497c9a58a1266440c6e7"
      }
     },
     "6824b77fdc764df5bb8e7b8f168a6933": {
      "model_module": "@jupyter-widgets/controls",
      "model_module_version": "1.5.0",
      "model_name": "IntSliderModel",
      "state": {
       "continuous_update": false,
       "description": "Green",
       "layout": "IPY_MODEL_9e7480903d954d4f8675f72d5aa0fc77",
       "max": 255,
       "style": "IPY_MODEL_28da0b1fb0d0411d87bfc5a0890e2f63"
      }
     },
     "6826e8e8041442c6ac66a34f4292579d": {
      "model_module": "@jupyter-widgets/controls",
      "model_module_version": "1.5.0",
      "model_name": "ButtonModel",
      "state": {
       "button_style": "danger",
       "description": "Begin Experiment",
       "layout": "IPY_MODEL_0678f1d4689e4cc68a374aef1447908b",
       "style": "IPY_MODEL_966d7c8999c64296b39cedef02feb8bf"
      }
     },
     "682b740d5ba34409b255da131ee80b44": {
      "model_module": "@jupyter-widgets/base",
      "model_module_version": "1.2.0",
      "model_name": "LayoutModel",
      "state": {
       "width": "90%"
      }
     },
     "68497ab14866462e906ed1fde3da7426": {
      "model_module": "ipysheet",
      "model_module_version": "~0.4.4",
      "model_name": "CellRangeModel",
      "state": {
       "_view_module": null,
       "_view_module_version": "",
       "column_end": 0,
       "column_start": 0,
       "row_end": 0,
       "row_start": 0,
       "type": "numeric",
       "value": 25.6
      }
     },
     "685cb3fc37a44c19b5661278f0e33942": {
      "model_module": "ipysheet",
      "model_module_version": "~0.4.4",
      "model_name": "CellRangeModel",
      "state": {
       "_view_module": null,
       "_view_module_version": "",
       "column_end": 2,
       "column_start": 2,
       "row_end": 4,
       "row_start": 4,
       "type": "text",
       "value": 25
      }
     },
     "6881f703ed774edc9e9c6b5a42b9cecd": {
      "model_module": "@jupyter-widgets/controls",
      "model_module_version": "1.5.0",
      "model_name": "ButtonStyleModel",
      "state": {}
     },
     "68d1867994d84004b46613b58f378bd6": {
      "model_module": "@jupyter-widgets/controls",
      "model_module_version": "1.5.0",
      "model_name": "VBoxModel",
      "state": {
       "children": [
        "IPY_MODEL_6ec1385e97ab4491a009cf416df9b4f3",
        "IPY_MODEL_9754b0055df54aeea83b5af1d3990aa4"
       ],
       "layout": "IPY_MODEL_d4b86f2b1ba642fdb1aedbe0fabefabb"
      }
     },
     "6906b0bfe1b84e15b500e496f23b944c": {
      "model_module": "@jupyter-widgets/base",
      "model_module_version": "1.2.0",
      "model_name": "LayoutModel",
      "state": {
       "grid_area": "stageY",
       "width": "auto"
      }
     },
     "691e763b976e4a0f82a5b79ceba88601": {
      "model_module": "@jupyter-widgets/controls",
      "model_module_version": "1.5.0",
      "model_name": "ButtonModel",
      "state": {
       "button_style": "danger",
       "description": "Begin Experiment",
       "layout": "IPY_MODEL_a8b709ea64634138952220f65511e62c",
       "style": "IPY_MODEL_4b7b5e7c06ed46b1bb50acb05c4945af"
      }
     },
     "691fba9c7d25429ebbd0ad7818c16105": {
      "buffers": [
       {
        "data": "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",
        "encoding": "base64",
        "path": [
         "value"
        ]
       }
      ],
      "model_module": "@jupyter-widgets/controls",
      "model_module_version": "1.5.0",
      "model_name": "ImageModel",
      "state": {
       "format": "jpeg",
       "height": "500",
       "layout": "IPY_MODEL_0b21c751a3ce4f5d9ffc54dacec53c2e",
       "value": {},
       "width": "1000"
      }
     },
     "69247b89f7de4420befaebc735ca600b": {
      "model_module": "ipysheet",
      "model_module_version": "~0.4.4",
      "model_name": "CellRangeModel",
      "state": {
       "_view_module": null,
       "_view_module_version": "",
       "column_end": 2,
       "column_start": 2,
       "row_end": 2,
       "row_start": 2,
       "type": "numeric",
       "value": 25
      }
     },
     "6935e7778d674117885a53c1bd27de14": {
      "model_module": "@jupyter-widgets/output",
      "model_module_version": "1.0.0",
      "model_name": "OutputModel",
      "state": {
       "layout": "IPY_MODEL_3db85507c443475dbb7dff87df480098"
      }
     },
     "694e9c42110b45acb648dd06ae575572": {
      "model_module": "@jupyter-widgets/base",
      "model_module_version": "1.2.0",
      "model_name": "LayoutModel",
      "state": {
       "grid_area": "stageZ",
       "width": "auto"
      }
     },
     "696cc6aac7ed4f939e65777cffbc1e9b": {
      "model_module": "ipysheet",
      "model_module_version": "~0.4.4",
      "model_name": "CellRangeModel",
      "state": {
       "_view_module": null,
       "_view_module_version": "",
       "column_end": 3,
       "column_start": 3,
       "row_end": 0,
       "row_start": 0,
       "type": "numeric",
       "value": 0
      }
     },
     "69849263f8d749eb95ae9e0ce0aaf028": {
      "model_module": "@jupyter-widgets/controls",
      "model_module_version": "1.5.0",
      "model_name": "GridBoxModel",
      "state": {
       "children": [
        "IPY_MODEL_87664c8ed9e944159bdfbb6dc8b34d8d",
        "IPY_MODEL_e6f4bc292cd44f01b9265a879e8cc710",
        "IPY_MODEL_1cc0eb1dd39a43f98af4673c5da29613",
        "IPY_MODEL_bb41aff37c724c68962adbe5206e8605",
        "IPY_MODEL_d8d6db7f0b0846b2925ad58c55ccd55a",
        "IPY_MODEL_6b65887005584e5fb499dfc164ca47ff",
        "IPY_MODEL_6a01e304eac84599b3d32a19f666344f",
        "IPY_MODEL_812cdcfbd9a24637b8645f77cf0456e2"
       ],
       "layout": "IPY_MODEL_62403de16bac473290ed0411909e9cfd"
      }
     },
     "69c1ee7a5d4e45c68f481cbe2b4eef1a": {
      "model_module": "@jupyter-widgets/base",
      "model_module_version": "1.2.0",
      "model_name": "LayoutModel",
      "state": {
       "grid_area": "minX",
       "width": "auto"
      }
     },
     "69ced4b1ea1042e4bf8785011dc00f34": {
      "model_module": "@jupyter-widgets/base",
      "model_module_version": "1.2.0",
      "model_name": "LayoutModel",
      "state": {
       "width": "50%"
      }
     },
     "6a01e304eac84599b3d32a19f666344f": {
      "model_module": "@jupyter-widgets/controls",
      "model_module_version": "1.5.0",
      "model_name": "BoundedFloatTextModel",
      "state": {
       "description": "delta Z (um)",
       "layout": "IPY_MODEL_3b7f26e40a824446ae8151ba29d6b307",
       "max": 10,
       "min": 0.001,
       "step": 0.001,
       "style": "IPY_MODEL_8ee9f9023baf44e6a6e4c6579b4e999e",
       "value": 0.1
      }
     },
     "6a9cb92cb4654804a0f7eacf86094c92": {
      "model_module": "@jupyter-widgets/base",
      "model_module_version": "1.2.0",
      "model_name": "LayoutModel",
      "state": {
       "height": "auto",
       "width": "auto"
      }
     },
     "6ada4adca2fd4ebfb00f0702b9ab2801": {
      "model_module": "@jupyter-widgets/base",
      "model_module_version": "1.2.0",
      "model_name": "LayoutModel",
      "state": {
       "width": "90%"
      }
     },
     "6b02ab5d882d4c41be03203ead545d34": {
      "model_module": "@jupyter-widgets/controls",
      "model_module_version": "1.5.0",
      "model_name": "SliderStyleModel",
      "state": {
       "description_width": "initial"
      }
     },
     "6b53974009ec4e5ea14fbbcf1701d5cc": {
      "model_module": "@jupyter-widgets/controls",
      "model_module_version": "1.5.0",
      "model_name": "IntSliderModel",
      "state": {
       "continuous_update": false,
       "description": "Offset",
       "layout": "IPY_MODEL_1ecc844f696f40af89436f9e3baa8768",
       "max": 300,
       "min": -300,
       "style": "IPY_MODEL_35a635ae89d2494f913859ef73bcfdc2"
      }
     },
     "6b65887005584e5fb499dfc164ca47ff": {
      "model_module": "@jupyter-widgets/controls",
      "model_module_version": "1.5.0",
      "model_name": "BoundedFloatTextModel",
      "state": {
       "description": "Scan max Z (um)",
       "layout": "IPY_MODEL_50d781719811423bac560cd18d13cf77",
       "max": 50,
       "step": 0.001,
       "style": "IPY_MODEL_ec2350536ea64eb6a6b1466496aa5654",
       "value": 25.5
      }
     },
     "6ba98cab23ae415e97c9026cb6c6c83b": {
      "model_module": "@jupyter-widgets/base",
      "model_module_version": "1.2.0",
      "model_name": "LayoutModel",
      "state": {}
     },
     "6bbb010115604470ab3cc86dcff78ff6": {
      "model_module": "ipysheet",
      "model_module_version": "~0.4.4",
      "model_name": "CellRangeModel",
      "state": {
       "_view_module": null,
       "_view_module_version": "",
       "column_end": 3,
       "column_start": 0,
       "row_end": 4,
       "row_start": 4,
       "squeeze_column": false,
       "type": "numeric",
       "value": [
        "",
        "",
        "",
        ""
       ]
      }
     },
     "6bc3f8bd0c63451691d03b6a01b382c1": {
      "buffers": [
       {
        "data": "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",
        "encoding": "base64",
        "path": [
         "value"
        ]
       }
      ],
      "model_module": "@jupyter-widgets/controls",
      "model_module_version": "1.5.0",
      "model_name": "ImageModel",
      "state": {
       "format": "jpeg",
       "height": "500",
       "layout": "IPY_MODEL_717f5f67162a484baeea02fa5664325e",
       "value": {},
       "width": "1000"
      }
     },
     "6bc62e9ed25044739fc02bb62fa0efe9": {
      "model_module": "@jupyter-widgets/controls",
      "model_module_version": "1.5.0",
      "model_name": "SliderStyleModel",
      "state": {
       "description_width": ""
      }
     },
     "6c0c9cb1994348dabf90ce138827bd35": {
      "model_module": "@jupyter-widgets/controls",
      "model_module_version": "1.5.0",
      "model_name": "BoundedFloatTextModel",
      "state": {
       "description": "Scan min X (um)",
       "layout": "IPY_MODEL_69c1ee7a5d4e45c68f481cbe2b4eef1a",
       "max": 50,
       "step": 0.001,
       "style": "IPY_MODEL_d5337591dd52424bad7b969f953b82af",
       "value": 24.5
      }
     },
     "6c6d941d61f24b3cbeb8a653b8635b3a": {
      "model_module": "@jupyter-widgets/base",
      "model_module_version": "1.2.0",
      "model_name": "LayoutModel",
      "state": {
       "width": "50%"
      }
     },
     "6d1776fda7284841afbad518ce125c71": {
      "model_module": "@jupyter-widgets/base",
      "model_module_version": "1.2.0",
      "model_name": "LayoutModel",
      "state": {
       "grid_area": "maxX",
       "width": "auto"
      }
     },
     "6d1c58ee7bea460ba0435b82407ab60a": {
      "model_module": "@jupyter-widgets/base",
      "model_module_version": "1.2.0",
      "model_name": "LayoutModel",
      "state": {
       "grid_area": "overlap",
       "width": "auto"
      }
     },
     "6d323419feb0495580860f8e173ba8e2": {
      "model_module": "@jupyter-widgets/controls",
      "model_module_version": "1.5.0",
      "model_name": "DescriptionStyleModel",
      "state": {
       "description_width": "initial"
      }
     },
     "6d5f190e78b5455d83bcb22ab9abaca8": {
      "model_module": "@jupyter-widgets/base",
      "model_module_version": "1.2.0",
      "model_name": "LayoutModel",
      "state": {
       "width": "90%"
      }
     },
     "6d5f3c486aa64bd2803f295ca9c32b1f": {
      "model_module": "@jupyter-widgets/base",
      "model_module_version": "1.2.0",
      "model_name": "LayoutModel",
      "state": {
       "grid_area": "deltaZ",
       "width": "auto"
      }
     },
     "6da12b0704e9430e945f516c79f32756": {
      "model_module": "@jupyter-widgets/base",
      "model_module_version": "1.2.0",
      "model_name": "LayoutModel",
      "state": {}
     },
     "6dd03cd9af614ffd8ce76e3ffe64d83a": {
      "model_module": "@jupyter-widgets/controls",
      "model_module_version": "1.5.0",
      "model_name": "BoundedFloatTextModel",
      "state": {
       "description": "Scan max Y (um)",
       "layout": "IPY_MODEL_570db780b29f4062a747abaa942dd185",
       "max": 50,
       "step": 0.001,
       "style": "IPY_MODEL_f5323419c2474ef78f05bb73c42fbe0c",
       "value": 25.5
      }
     },
     "6dfec860c72e4c3393585c6cfeabc8c9": {
      "model_module": "@jupyter-widgets/base",
      "model_module_version": "1.2.0",
      "model_name": "LayoutModel",
      "state": {
       "border": "solid 1px",
       "grid_template_areas": "\n                                        \"addOffset . . .\"\n                                        \"stageX stageY stageZ lsOffset\"\n                                        \"delOffset delRow . .\"\n                                    ",
       "grid_template_columns": "25% 25% 25% 25%",
       "grid_template_rows": "auto auto auto",
       "width": "100%"
      }
     },
     "6e2c762cba4c4c06a969b5bcabcb986c": {
      "model_module": "@jupyter-widgets/base",
      "model_module_version": "1.2.0",
      "model_name": "LayoutModel",
      "state": {
       "grid_area": "maxZ",
       "width": "auto"
      }
     },
     "6e471c3ff4ef462aab84d5d26928cc0d": {
      "model_module": "@jupyter-widgets/base",
      "model_module_version": "1.2.0",
      "model_name": "LayoutModel",
      "state": {
       "width": "90%"
      }
     },
     "6e4e92626c56487a915553c3584a7247": {
      "model_module": "@jupyter-widgets/base",
      "model_module_version": "1.2.0",
      "model_name": "LayoutModel",
      "state": {}
     },
     "6e72918e58da4cdebf8fc38eba1e9016": {
      "model_module": "@jupyter-widgets/base",
      "model_module_version": "1.2.0",
      "model_name": "LayoutModel",
      "state": {
       "width": "90%"
      }
     },
     "6e9c19954a3a45679de5dce0f5d9a460": {
      "model_module": "@jupyter-widgets/base",
      "model_module_version": "1.2.0",
      "model_name": "LayoutModel",
      "state": {
       "width": "90%"
      }
     },
     "6ea00ac955e34b7f85664bc16d9f3fb5": {
      "model_module": "ipysheet",
      "model_module_version": "~0.4.4",
      "model_name": "CellRangeModel",
      "state": {
       "_view_module": null,
       "_view_module_version": "",
       "row_end": 2,
       "row_start": 2,
       "type": "numeric",
       "value": 25
      }
     },
     "6eb4a60982214550b14b612f0edba6c2": {
      "model_module": "@jupyter-widgets/controls",
      "model_module_version": "1.5.0",
      "model_name": "BoundedFloatTextModel",
      "state": {
       "description": "delta Z (um)",
       "layout": "IPY_MODEL_442640be480e4f999545b66883341d72",
       "max": 10,
       "min": 0.001,
       "step": 0.001,
       "style": "IPY_MODEL_e0903b2f7be74827bb7a1d07bf4342e3",
       "value": 0.1
      }
     },
     "6ec1385e97ab4491a009cf416df9b4f3": {
      "model_module": "@jupyter-widgets/controls",
      "model_module_version": "1.5.0",
      "model_name": "ButtonModel",
      "state": {
       "description": "Stop Illumination",
       "layout": "IPY_MODEL_c00c393d96be4b2e88c5b13706e868bf",
       "style": "IPY_MODEL_b638adfbc5c44b0eab2fcc7f9bb8a73f"
      }
     },
     "6ec1e4d8c9954ce1bb07e048fb914cea": {
      "model_module": "@jupyter-widgets/controls",
      "model_module_version": "1.5.0",
      "model_name": "DescriptionStyleModel",
      "state": {
       "description_width": "initial"
      }
     },
     "6ee48ea5b6644e35b8c80116334ce4e9": {
      "model_module": "@jupyter-widgets/controls",
      "model_module_version": "1.5.0",
      "model_name": "DescriptionStyleModel",
      "state": {
       "description_width": "initial"
      }
     },
     "6f06da8e47db4657977e9c4c1bb15801": {
      "model_module": "@jupyter-widgets/controls",
      "model_module_version": "1.5.0",
      "model_name": "BoundedIntTextModel",
      "state": {
       "description": "3D Volume #",
       "layout": "IPY_MODEL_ea764238b37d4230a4f2b77fefbf39e9",
       "max": 100000,
       "min": 1,
       "style": "IPY_MODEL_f72de42f27fb471ea6f330559e1cf204",
       "value": 1
      }
     },
     "6f28d8aa1e8a475e9d1018b472e6712d": {
      "model_module": "@jupyter-widgets/output",
      "model_module_version": "1.0.0",
      "model_name": "OutputModel",
      "state": {
       "layout": "IPY_MODEL_adbe973d30cf40a3a8c1b89b57c11b2d"
      }
     },
     "6f65f15aa05e4b338d7e44d429d74e70": {
      "model_module": "@jupyter-widgets/base",
      "model_module_version": "1.2.0",
      "model_name": "LayoutModel",
      "state": {
       "width": "90%"
      }
     },
     "6f77e889186948e9b6623d17d951a117": {
      "model_module": "@jupyter-widgets/base",
      "model_module_version": "1.2.0",
      "model_name": "LayoutModel",
      "state": {}
     },
     "6f7acf98d9ba447f9ca7f12170048abc": {
      "model_module": "@jupyter-widgets/controls",
      "model_module_version": "1.5.0",
      "model_name": "ButtonModel",
      "state": {
       "description": "Stop Illumination",
       "layout": "IPY_MODEL_fd8884732e624927b6d86716a068b49e",
       "style": "IPY_MODEL_d101c360d7f14fa4974c0e6367087008"
      }
     },
     "6fdaf9ef23d54192868a0fc7b8a1d09f": {
      "model_module": "@jupyter-widgets/controls",
      "model_module_version": "1.5.0",
      "model_name": "BoundedFloatTextModel",
      "state": {
       "description": "Stage Y (um)",
       "layout": "IPY_MODEL_7d4e5615ccd54f7bb48d48dacdb87108",
       "max": 50,
       "step": 0.001,
       "style": "IPY_MODEL_86dfd1f3e64d4017afb282ad49eb64f5",
       "value": 25
      }
     },
     "703cd7cf62814f8ba153f6a19082e740": {
      "model_module": "ipysheet",
      "model_module_version": "~0.4.4",
      "model_name": "CellRangeModel",
      "state": {
       "_view_module": null,
       "_view_module_version": "",
       "column_end": 3,
       "column_start": 0,
       "squeeze_column": false,
       "type": "numeric",
       "value": [
        "",
        "",
        "",
        ""
       ]
      }
     },
     "70cfcc02ee3d483cab1ab58168e890e5": {
      "model_module": "@jupyter-widgets/controls",
      "model_module_version": "1.5.0",
      "model_name": "BoundedFloatTextModel",
      "state": {
       "description": "Scan max X (um)",
       "layout": "IPY_MODEL_cb711995401a4da09e3df66d3706a2be",
       "max": 50,
       "step": 0.001,
       "style": "IPY_MODEL_4712edf388a64700b281e60226ee1574",
       "value": 25.5
      }
     },
     "70db4bbf2ecf48c08cb25f42bd99e81b": {
      "model_module": "@jupyter-widgets/controls",
      "model_module_version": "1.5.0",
      "model_name": "DescriptionStyleModel",
      "state": {
       "description_width": "initial"
      }
     },
     "7104a3fefa824d1b856c4025066beb07": {
      "model_module": "ipysheet",
      "model_module_version": "~0.4.4",
      "model_name": "CellRangeModel",
      "state": {
       "_view_module": null,
       "_view_module_version": "",
       "column_end": 3,
       "column_start": 3,
       "row_end": 3,
       "row_start": 3,
       "type": "text",
       "value": 0
      }
     },
     "712cabca357344dd81f4a0ef808bc22e": {
      "model_module": "@jupyter-widgets/controls",
      "model_module_version": "1.5.0",
      "model_name": "ButtonModel",
      "state": {
       "description": "Start Illumination",
       "layout": "IPY_MODEL_49cf5716f774462f93c082cd05e58f7f",
       "style": "IPY_MODEL_926b62eae0544b7cb7a1ec8390858fbb"
      }
     },
     "71541cc013df4db2accd58a0b500a54c": {
      "model_module": "@jupyter-widgets/base",
      "model_module_version": "1.2.0",
      "model_name": "LayoutModel",
      "state": {
       "grid_template_areas": "\n                                        \". . largeFOV_begin_button\"\n                                    ",
       "grid_template_columns": "40% 40% 20%",
       "grid_template_rows": "auto",
       "width": "100%"
      }
     },
     "715992297f8747ff88c253da1f5f4e00": {
      "model_module": "@jupyter-widgets/controls",
      "model_module_version": "1.5.0",
      "model_name": "BoundedFloatTextModel",
      "state": {
       "description": "Stage Y (um)",
       "layout": "IPY_MODEL_99b16dd3aee248a8993b7fdccbf2014d",
       "max": 50,
       "step": 0.001,
       "style": "IPY_MODEL_49c719bb71b44174b1f8bafdac29295b",
       "value": 25
      }
     },
     "715ce74e2769476fa55b375736f921a2": {
      "model_module": "@jupyter-widgets/controls",
      "model_module_version": "1.5.0",
      "model_name": "BoundedIntTextModel",
      "state": {
       "description": "WideField Frames",
       "layout": "IPY_MODEL_87c8463129354c73ae4179034bd64beb",
       "max": 10000,
       "min": 1,
       "style": "IPY_MODEL_8d0106d4e6874f83a86665150b619c76",
       "value": 1
      }
     },
     "71667b0878444e4ea0c6187407fbadcd": {
      "model_module": "@jupyter-widgets/base",
      "model_module_version": "1.2.0",
      "model_name": "LayoutModel",
      "state": {
       "border": "solid 1px",
       "grid_template_areas": "\n                                        \"addOffset . . .\"\n                                        \"stageX stageY stageZ lsOffset\"\n                                        \"delOffset delRow . .\"\n                                    ",
       "grid_template_columns": "25% 25% 25% 25%",
       "grid_template_rows": "auto auto auto",
       "width": "100%"
      }
     },
     "717f5f67162a484baeea02fa5664325e": {
      "model_module": "@jupyter-widgets/base",
      "model_module_version": "1.2.0",
      "model_name": "LayoutModel",
      "state": {
       "width": "90%"
      }
     },
     "718f7d45a0b045fe9aa82ab86575331c": {
      "model_module": "@jupyter-widgets/controls",
      "model_module_version": "1.5.0",
      "model_name": "BoundedIntTextModel",
      "state": {
       "description": "3D Volume #",
       "layout": "IPY_MODEL_682b740d5ba34409b255da131ee80b44",
       "max": 100000,
       "min": 1,
       "style": "IPY_MODEL_c1a3f87538e84709a4ec8f0c98232a2b",
       "value": 1
      }
     },
     "71a3cbfc143c4f279f61b9e2e71b48cb": {
      "model_module": "ipysheet",
      "model_module_version": "~0.4.4",
      "model_name": "CellRangeModel",
      "state": {
       "_view_module": null,
       "_view_module_version": "",
       "column_end": 3,
       "column_start": 0,
       "row_end": 4,
       "row_start": 4,
       "squeeze_column": false,
       "type": "numeric",
       "value": [
        "",
        "",
        "",
        ""
       ]
      }
     },
     "71ada0c0f58c441cba807a3a9da0751e": {
      "model_module": "@jupyter-widgets/controls",
      "model_module_version": "1.5.0",
      "model_name": "DescriptionStyleModel",
      "state": {
       "description_width": "initial"
      }
     },
     "71c01ea683844c65ad8d826d57b9df75": {
      "model_module": "@jupyter-widgets/controls",
      "model_module_version": "1.5.0",
      "model_name": "ButtonStyleModel",
      "state": {}
     },
     "71f73d8c0c8b456aacbe17e6f4326580": {
      "model_module": "@jupyter-widgets/base",
      "model_module_version": "1.2.0",
      "model_name": "LayoutModel",
      "state": {
       "width": "90%"
      }
     },
     "7216f09446a043559c12f0b1fd152029": {
      "model_module": "@jupyter-widgets/base",
      "model_module_version": "1.2.0",
      "model_name": "LayoutModel",
      "state": {
       "width": "90%"
      }
     },
     "7249fdad2580482ba39b33cc8b445203": {
      "model_module": "@jupyter-widgets/controls",
      "model_module_version": "1.5.0",
      "model_name": "DescriptionStyleModel",
      "state": {
       "description_width": "initial"
      }
     },
     "726ced0ba64542f1b0fed49a73c2a47e": {
      "model_module": "@jupyter-widgets/controls",
      "model_module_version": "1.5.0",
      "model_name": "SliderStyleModel",
      "state": {
       "description_width": ""
      }
     },
     "72a9fd4208ee42e48e3ab0318838299e": {
      "model_module": "@jupyter-widgets/controls",
      "model_module_version": "1.5.0",
      "model_name": "SliderStyleModel",
      "state": {
       "description_width": ""
      }
     },
     "72c74aed29d94f5c9358c9c26df2b595": {
      "model_module": "ipysheet",
      "model_module_version": "~0.4.4",
      "model_name": "CellRangeModel",
      "state": {
       "_view_module": null,
       "_view_module_version": "",
       "column_end": 3,
       "column_start": 0,
       "row_end": 4,
       "row_start": 4,
       "squeeze_column": false,
       "type": "numeric",
       "value": [
        "",
        "",
        "",
        ""
       ]
      }
     },
     "72d38bd450a7497a8da3c9259b659ca1": {
      "model_module": "@jupyter-widgets/controls",
      "model_module_version": "1.5.0",
      "model_name": "BoundedFloatTextModel",
      "state": {
       "description": "Overlap ratio (%)",
       "layout": "IPY_MODEL_2c423d8562a74502963c19d05f6c54d5",
       "max": 50,
       "step": 1,
       "style": "IPY_MODEL_33030391b283455d927ad214d5cbfecc",
       "value": 20
      }
     },
     "73534ddb8fc444e9af4b2058dfba7070": {
      "model_module": "@jupyter-widgets/base",
      "model_module_version": "1.2.0",
      "model_name": "LayoutModel",
      "state": {
       "width": "90%"
      }
     },
     "7354dd36fa7f49a0b0620cfaeb98768f": {
      "model_module": "@jupyter-widgets/base",
      "model_module_version": "1.2.0",
      "model_name": "LayoutModel",
      "state": {}
     },
     "73769856a2d341da9be9256c5b85205e": {
      "model_module": "@jupyter-widgets/base",
      "model_module_version": "1.2.0",
      "model_name": "LayoutModel",
      "state": {
       "grid_area": "maxZ",
       "width": "auto"
      }
     },
     "738bfba6e7ef4caa9e6e9319a142f339": {
      "model_module": "@jupyter-widgets/base",
      "model_module_version": "1.2.0",
      "model_name": "LayoutModel",
      "state": {}
     },
     "7398a984a0ab4aa1bf67908150967070": {
      "model_module": "@jupyter-widgets/controls",
      "model_module_version": "1.5.0",
      "model_name": "ButtonStyleModel",
      "state": {}
     },
     "73e374c8507a4800b1749ffb0f29c0ec": {
      "model_module": "@jupyter-widgets/controls",
      "model_module_version": "1.5.0",
      "model_name": "DescriptionStyleModel",
      "state": {
       "description_width": "initial"
      }
     },
     "7432149447b74a709dcb11ec5a7b931f": {
      "model_module": "ipysheet",
      "model_module_version": "~0.4.4",
      "model_name": "CellRangeModel",
      "state": {
       "_view_module": null,
       "_view_module_version": "",
       "row_end": 2,
       "row_start": 2,
       "type": "numeric",
       "value": 25
      }
     },
     "7480fcd17e78426eabd5c2535ccdd51c": {
      "model_module": "@jupyter-widgets/controls",
      "model_module_version": "1.5.0",
      "model_name": "BoundedFloatTextModel",
      "state": {
       "description": "Exp Inverval (h)",
       "layout": "IPY_MODEL_cdc39e3bd251464698059d63e7184e8b",
       "min": 0.01,
       "step": 0.01,
       "style": "IPY_MODEL_abef0c6c157142d7a0ba5a91073b12ba",
       "value": 0.01
      }
     },
     "748bdf09d6f345e0b14c72d5e86b87ff": {
      "model_module": "@jupyter-widgets/base",
      "model_module_version": "1.2.0",
      "model_name": "LayoutModel",
      "state": {}
     },
     "74be4918c31543338a6cca636c31e3b3": {
      "model_module": "@jupyter-widgets/controls",
      "model_module_version": "1.5.0",
      "model_name": "SliderStyleModel",
      "state": {
       "description_width": ""
      }
     },
     "7537361763554f6fba9e5fda30ae54fc": {
      "model_module": "@jupyter-widgets/controls",
      "model_module_version": "1.5.0",
      "model_name": "DescriptionStyleModel",
      "state": {
       "description_width": "initial"
      }
     },
     "755844497c7c4edda9eebf00c857eabf": {
      "model_module": "@jupyter-widgets/controls",
      "model_module_version": "1.5.0",
      "model_name": "SliderStyleModel",
      "state": {
       "description_width": ""
      }
     },
     "7560f64ca6d64d0090d488929bc85a62": {
      "model_module": "@jupyter-widgets/base",
      "model_module_version": "1.2.0",
      "model_name": "LayoutModel",
      "state": {
       "grid_area": "largeFOV_begin_button",
       "width": "auto"
      }
     },
     "75665cd267f04667a129f3b0e2e98b7d": {
      "model_module": "@jupyter-widgets/controls",
      "model_module_version": "1.5.0",
      "model_name": "TabModel",
      "state": {
       "_titles": {
        "0": "Light sheet scan",
        "1": "Wide Field",
        "2": "Large FOV"
       },
       "children": [
        "IPY_MODEL_a14644a068f64062a8e1c0f13f77c878",
        "IPY_MODEL_ca3363c63e5d4649910b9196e714d598",
        "IPY_MODEL_085e02fbfacf47958573441ddfc04d23"
       ],
       "layout": "IPY_MODEL_c35186d342184ea588ac0df3eefbf9dd",
       "selected_index": 2
      }
     },
     "758a56593110420a8cf5368c59f9e829": {
      "model_module": "@jupyter-widgets/controls",
      "model_module_version": "1.5.0",
      "model_name": "IntSliderModel",
      "state": {
       "continuous_update": false,
       "description": "Gain",
       "layout": "IPY_MODEL_e449c09f8d0f4121928e9bf1e18e2773",
       "max": 47,
       "min": 1,
       "style": "IPY_MODEL_7a1136517ede486185ecbc256a714b93",
       "value": 1
      }
     },
     "7596e0cae56a4b48ac258b6f5093d54d": {
      "model_module": "@jupyter-widgets/controls",
      "model_module_version": "1.5.0",
      "model_name": "VBoxModel",
      "state": {
       "children": [
        "IPY_MODEL_d322ee43e966404693999ae689b25f46",
        "IPY_MODEL_d593797b15f04ef686a47f3fc260067b",
        "IPY_MODEL_b23b7fed31a446e1ba0cc361426cb581",
        "IPY_MODEL_f5d0e9583ac24952afebac9f2ea156ab"
       ],
       "layout": "IPY_MODEL_621450be034243a78422660d51b1edf8"
      }
     },
     "7605664dcf124efc9b9de70918417fb6": {
      "model_module": "@jupyter-widgets/controls",
      "model_module_version": "1.5.0",
      "model_name": "SliderStyleModel",
      "state": {
       "description_width": ""
      }
     },
     "764b4778762f479ebbd36b946d8e0fe4": {
      "model_module": "@jupyter-widgets/base",
      "model_module_version": "1.2.0",
      "model_name": "LayoutModel",
      "state": {
       "grid_area": "stageX",
       "width": "auto"
      }
     },
     "76b30a31605a499c8626c4fa30a260b3": {
      "model_module": "@jupyter-widgets/controls",
      "model_module_version": "1.5.0",
      "model_name": "VBoxModel",
      "state": {
       "children": [
        "IPY_MODEL_630c5ff81264403eb07af53c0ab3f3ab",
        "IPY_MODEL_f5913ebc591140ed814c9e921afb50f2",
        "IPY_MODEL_9b8d1f6da31e47bb83ba5c0c1ed3c01c"
       ],
       "layout": "IPY_MODEL_0e1b09a8a0bb4a8ea2756ba2ecb2b9ee"
      }
     },
     "76f68d07cd9d4ef5b0ad3dc17d45b1f8": {
      "model_module": "@jupyter-widgets/base",
      "model_module_version": "1.2.0",
      "model_name": "LayoutModel",
      "state": {
       "width": "90%"
      }
     },
     "770a6677456c4145bef550aed2847d74": {
      "model_module": "ipysheet",
      "model_module_version": "~0.4.4",
      "model_name": "CellRangeModel",
      "state": {
       "_view_module": null,
       "_view_module_version": "",
       "column_end": 3,
       "column_start": 0,
       "squeeze_column": false,
       "type": "numeric",
       "value": [
        "",
        "",
        "",
        ""
       ]
      }
     },
     "7721829d9d634252a52c3198618e8c7f": {
      "model_module": "@jupyter-widgets/controls",
      "model_module_version": "1.5.0",
      "model_name": "VBoxModel",
      "state": {
       "children": [
        "IPY_MODEL_33cc0668ad204d5c90a65f44a39ca369",
        "IPY_MODEL_09cf63f667a54d1cac2c8aafb8d23090",
        "IPY_MODEL_85fc0de50afe47d7b82745a227844ef0",
        "IPY_MODEL_3249b579590742bc8bde5f837ca515bd"
       ],
       "layout": "IPY_MODEL_5785c014f31a45d38c3d4ac5bcd215a4"
      }
     },
     "774eb1988161448183a78d6eb06c016d": {
      "model_module": "@jupyter-widgets/base",
      "model_module_version": "1.2.0",
      "model_name": "LayoutModel",
      "state": {}
     },
     "7773c53b20f84178af75f36968808655": {
      "model_module": "@jupyter-widgets/base",
      "model_module_version": "1.2.0",
      "model_name": "LayoutModel",
      "state": {
       "width": "90%"
      }
     },
     "77ad45f21acf43bab13fa3d762e98a32": {
      "model_module": "@jupyter-widgets/base",
      "model_module_version": "1.2.0",
      "model_name": "LayoutModel",
      "state": {
       "width": "90%"
      }
     },
     "77e6051183904dbfbb1f790444560926": {
      "model_module": "ipysheet",
      "model_module_version": "~0.4.4",
      "model_name": "CellRangeModel",
      "state": {
       "_view_module": null,
       "_view_module_version": "",
       "column_end": 2,
       "column_start": 2,
       "type": "numeric",
       "value": 26.5
      }
     },
     "77eb8767a28743bc82d3ff2d566d7912": {
      "model_module": "@jupyter-widgets/base",
      "model_module_version": "1.2.0",
      "model_name": "LayoutModel",
      "state": {}
     },
     "77ebd524c46d4a02bfa59a6e9aec6074": {
      "model_module": "@jupyter-widgets/controls",
      "model_module_version": "1.5.0",
      "model_name": "BoundedFloatTextModel",
      "state": {
       "description": "Scan min Z (um)",
       "layout": "IPY_MODEL_49989ab9a1534d86a7de535fad180325",
       "max": 50,
       "step": 0.001,
       "style": "IPY_MODEL_b2c7107eed664c57b15f79c6234357ff",
       "value": 24.5
      }
     },
     "782443bda44843b7a5e9dcddb4ba85b1": {
      "model_module": "@jupyter-widgets/base",
      "model_module_version": "1.2.0",
      "model_name": "LayoutModel",
      "state": {
       "grid_area": "stageZ",
       "width": "auto"
      }
     },
     "786acddc19df41ee83fe3ef20b936b67": {
      "model_module": "@jupyter-widgets/base",
      "model_module_version": "1.2.0",
      "model_name": "LayoutModel",
      "state": {
       "grid_area": "minX",
       "width": "auto"
      }
     },
     "78815bb280454f44a7faba26a23c6ee2": {
      "model_module": "@jupyter-widgets/controls",
      "model_module_version": "1.5.0",
      "model_name": "BoundedFloatTextModel",
      "state": {
       "description": "Stage X (um)",
       "layout": "IPY_MODEL_1c31f2aeedaa48eca8a989933934d565",
       "max": 50,
       "step": 0.001,
       "style": "IPY_MODEL_bf07e94adc094da8a3415d181c849d19",
       "value": 25
      }
     },
     "78b538738fde4a819a7b5c2992a8601b": {
      "model_module": "@jupyter-widgets/base",
      "model_module_version": "1.2.0",
      "model_name": "LayoutModel",
      "state": {
       "grid_area": "minX",
       "width": "auto"
      }
     },
     "78c6a9bcfc96471397613e1f3ebaf20b": {
      "model_module": "@jupyter-widgets/base",
      "model_module_version": "1.2.0",
      "model_name": "LayoutModel",
      "state": {
       "grid_area": "maxX",
       "width": "auto"
      }
     },
     "78dfb43aeb214a6a9cac96c062438a38": {
      "model_module": "@jupyter-widgets/controls",
      "model_module_version": "1.5.0",
      "model_name": "DescriptionStyleModel",
      "state": {
       "description_width": "initial"
      }
     },
     "791988ba607f4fd99420becb02917e9e": {
      "model_module": "ipysheet",
      "model_module_version": "~0.4.4",
      "model_name": "CellRangeModel",
      "state": {
       "_view_module": null,
       "_view_module_version": "",
       "column_end": 3,
       "column_start": 0,
       "row_end": 4,
       "row_start": 4,
       "squeeze_column": false,
       "type": "numeric",
       "value": [
        "",
        "",
        "",
        ""
       ]
      }
     },
     "79a10c1766bb4f0384c81a4fb88d009f": {
      "model_module": "@jupyter-widgets/base",
      "model_module_version": "1.2.0",
      "model_name": "LayoutModel",
      "state": {
       "width": "90%"
      }
     },
     "79d0da3f16954eed828f5d75a35b72e7": {
      "model_module": "@jupyter-widgets/base",
      "model_module_version": "1.2.0",
      "model_name": "LayoutModel",
      "state": {
       "width": "90%"
      }
     },
     "79fc6ee5c3264ec38298244b800186de": {
      "model_module": "@jupyter-widgets/controls",
      "model_module_version": "1.5.0",
      "model_name": "BoundedFloatTextModel",
      "state": {
       "description": "Scan min X (um)",
       "layout": "IPY_MODEL_92b57cbcb148423f83b7af00655282ab",
       "max": 50,
       "step": 0.001,
       "style": "IPY_MODEL_7537361763554f6fba9e5fda30ae54fc",
       "value": 24.5
      }
     },
     "7a1136517ede486185ecbc256a714b93": {
      "model_module": "@jupyter-widgets/controls",
      "model_module_version": "1.5.0",
      "model_name": "SliderStyleModel",
      "state": {
       "description_width": "initial"
      }
     },
     "7a34fab359ff4c68a02ccd202d1a84f8": {
      "model_module": "@jupyter-widgets/base",
      "model_module_version": "1.2.0",
      "model_name": "LayoutModel",
      "state": {
       "height": "auto",
       "width": "auto"
      }
     },
     "7b2bb000c21d4e8bae1b7133eb8c8c87": {
      "model_module": "ipysheet",
      "model_module_version": "~0.4.4",
      "model_name": "CellRangeModel",
      "state": {
       "_view_module": null,
       "_view_module_version": "",
       "row_end": 3,
       "row_start": 3,
       "type": "numeric",
       "value": 25
      }
     },
     "7b42e5db7eac46aaab5b7efc96c9c690": {
      "buffers": [
       {
        "data": "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",
        "encoding": "base64",
        "path": [
         "value"
        ]
       }
      ],
      "model_module": "@jupyter-widgets/controls",
      "model_module_version": "1.5.0",
      "model_name": "ImageModel",
      "state": {
       "format": "jpeg",
       "height": "500",
       "layout": "IPY_MODEL_cce8b0a5f2c642c29eb3312b64b3a451",
       "value": {},
       "width": "1000"
      }
     },
     "7b54498457c94a5b8720e0062b21bb61": {
      "model_module": "@jupyter-widgets/controls",
      "model_module_version": "1.5.0",
      "model_name": "DescriptionStyleModel",
      "state": {
       "description_width": "initial"
      }
     },
     "7bb0dfec06fc465bbb605b42e762d868": {
      "model_module": "ipysheet",
      "model_module_version": "~0.4.4",
      "model_name": "CellRangeModel",
      "state": {
       "_view_module": null,
       "_view_module_version": "",
       "column_end": 3,
       "column_start": 0,
       "row_end": 3,
       "row_start": 3,
       "squeeze_column": false,
       "type": "numeric",
       "value": [
        25,
        25,
        25,
        0
       ]
      }
     },
     "7c0a600910b749ddb5ceade1227ad6a2": {
      "model_module": "@jupyter-widgets/controls",
      "model_module_version": "1.5.0",
      "model_name": "DescriptionStyleModel",
      "state": {
       "description_width": "initial"
      }
     },
     "7c177c946ce1417da7ebad894c7ec155": {
      "model_module": "ipysheet",
      "model_module_version": "~0.4.4",
      "model_name": "CellRangeModel",
      "state": {
       "_view_module": null,
       "_view_module_version": "",
       "column_end": 3,
       "column_start": 0,
       "row_end": 4,
       "row_start": 4,
       "squeeze_column": false,
       "type": "numeric",
       "value": [
        25,
        25,
        25,
        0
       ]
      }
     },
     "7c8e094cbb2e40dda998b234fa2bdce8": {
      "model_module": "ipysheet",
      "model_module_version": "~0.4.4",
      "model_name": "CellRangeModel",
      "state": {
       "_view_module": null,
       "_view_module_version": "",
       "column_end": 3,
       "column_start": 0,
       "squeeze_column": false,
       "type": "numeric",
       "value": [
        25,
        25,
        25,
        0
       ]
      }
     },
     "7cc7eb41314a43d9a03397364231aa5e": {
      "model_module": "ipysheet",
      "model_module_version": "~0.4.4",
      "model_name": "CellRangeModel",
      "state": {
       "_view_module": null,
       "_view_module_version": "",
       "column_end": 3,
       "column_start": 0,
       "squeeze_column": false,
       "type": "numeric",
       "value": [
        "",
        "",
        "",
        ""
       ]
      }
     },
     "7cea265e58174295ba32c37e8eb4b39f": {
      "model_module": "@jupyter-widgets/controls",
      "model_module_version": "1.5.0",
      "model_name": "ButtonStyleModel",
      "state": {}
     },
     "7cf1c2852e2d4af39d337e6acb11d3b4": {
      "model_module": "@jupyter-widgets/base",
      "model_module_version": "1.2.0",
      "model_name": "LayoutModel",
      "state": {
       "grid_area": "addOffset",
       "width": "auto"
      }
     },
     "7d25911939974c11b55e12ed80a98c92": {
      "model_module": "@jupyter-widgets/controls",
      "model_module_version": "1.5.0",
      "model_name": "SliderStyleModel",
      "state": {
       "description_width": ""
      }
     },
     "7d4e5615ccd54f7bb48d48dacdb87108": {
      "model_module": "@jupyter-widgets/base",
      "model_module_version": "1.2.0",
      "model_name": "LayoutModel",
      "state": {
       "grid_area": "stageY",
       "width": "auto"
      }
     },
     "7d6184337b0d46698667a5523a3abecc": {
      "model_module": "@jupyter-widgets/controls",
      "model_module_version": "1.5.0",
      "model_name": "VBoxModel",
      "state": {
       "_dom_classes": [
        "widget-interact"
       ],
       "children": [
        "IPY_MODEL_f13ad93f85d141418925ef8409ae9b1d",
        "IPY_MODEL_91807c0029cc493983a08939ca4e7149",
        "IPY_MODEL_fb4665de110c433ea272a38d6097a41a",
        "IPY_MODEL_6396ae13f05e41869e4eaa573dd03373"
       ],
       "layout": "IPY_MODEL_f1bd88eefd774905967b521cd0f65194"
      }
     },
     "7d8ec1cc3e5244208a811dfec579e1bd": {
      "model_module": "@jupyter-widgets/controls",
      "model_module_version": "1.5.0",
      "model_name": "ButtonStyleModel",
      "state": {}
     },
     "7d9b2e29770e442baa4ed39d70b4cb60": {
      "model_module": "@jupyter-widgets/base",
      "model_module_version": "1.2.0",
      "model_name": "LayoutModel",
      "state": {
       "grid_area": "minZ",
       "width": "auto"
      }
     },
     "7dbbabac6e46462b9bf5e6db66ca147b": {
      "model_module": "@jupyter-widgets/controls",
      "model_module_version": "1.5.0",
      "model_name": "BoundedFloatTextModel",
      "state": {
       "description": "Scan min Z (um)",
       "layout": "IPY_MODEL_2a8972bc48ad40d694bb4b975328500b",
       "max": 50,
       "step": 0.001,
       "style": "IPY_MODEL_7e873846fc4048a0813a9cfda938322e",
       "value": 24.5
      }
     },
     "7dd3f0cf29e3420390f1ca4d695eb533": {
      "model_module": "@jupyter-widgets/controls",
      "model_module_version": "1.5.0",
      "model_name": "SliderStyleModel",
      "state": {
       "description_width": "initial"
      }
     },
     "7e250989a6d64272bb6a5ae9f2d30ed8": {
      "model_module": "@jupyter-widgets/controls",
      "model_module_version": "1.5.0",
      "model_name": "DescriptionStyleModel",
      "state": {
       "description_width": "initial"
      }
     },
     "7e7f1b0a852f48839bb85bf32721935e": {
      "model_module": "@jupyter-widgets/controls",
      "model_module_version": "1.5.0",
      "model_name": "IntSliderModel",
      "state": {
       "continuous_update": false,
       "description": "Offset",
       "layout": "IPY_MODEL_b9045248efde46dfb3f0faf1f5c564ab",
       "max": 300,
       "min": -300,
       "style": "IPY_MODEL_000aca1d23e748b995ebafe4f598a957"
      }
     },
     "7e873846fc4048a0813a9cfda938322e": {
      "model_module": "@jupyter-widgets/controls",
      "model_module_version": "1.5.0",
      "model_name": "DescriptionStyleModel",
      "state": {
       "description_width": "initial"
      }
     },
     "7f720a81895c466ca9a9b6f12b906fde": {
      "model_module": "@jupyter-widgets/base",
      "model_module_version": "1.2.0",
      "model_name": "LayoutModel",
      "state": {
       "width": "90%"
      }
     },
     "7f9b1a72fab94ba2bac499f89b7fc2b7": {
      "model_module": "@jupyter-widgets/controls",
      "model_module_version": "1.5.0",
      "model_name": "VBoxModel",
      "state": {
       "children": [
        "IPY_MODEL_e8ea6c5d4817444dab33430c5976a6ea",
        "IPY_MODEL_4ab746bbe2d24da481090467273bef15"
       ],
       "layout": "IPY_MODEL_33865f270c164c75bec22e764a4e0ec3"
      }
     },
     "7fd26f7083f94363a6943f87a5894561": {
      "model_module": "ipysheet",
      "model_module_version": "~0.4.4",
      "model_name": "CellRangeModel",
      "state": {
       "_view_module": null,
       "_view_module_version": "",
       "column_end": 0,
       "column_start": 0,
       "row_end": 2,
       "row_start": 2,
       "type": "numeric",
       "value": 25
      }
     },
     "7fd5a3188b884491af1873f4bfbc0dcb": {
      "model_module": "@jupyter-widgets/controls",
      "model_module_version": "1.5.0",
      "model_name": "VBoxModel",
      "state": {
       "children": [
        "IPY_MODEL_9b01553fdd1d423b9fca66bffb42bc52",
        "IPY_MODEL_10cf625872384a60bede4a5c78e0f4e7",
        "IPY_MODEL_c424fd652b4f459bbfb8ba97fe7d12f2",
        "IPY_MODEL_aca4f5e7fc7b4f46883d542953113219",
        "IPY_MODEL_7480fcd17e78426eabd5c2535ccdd51c"
       ],
       "layout": "IPY_MODEL_6706bec4675a4f9891bb0f1e7fa86584"
      }
     },
     "7fde1c8611224f568c6fbf0b7965d1d5": {
      "model_module": "@jupyter-widgets/base",
      "model_module_version": "1.2.0",
      "model_name": "LayoutModel",
      "state": {}
     },
     "80214c1dc65041b59726722ae31d379e": {
      "model_module": "ipysheet",
      "model_module_version": "~0.4.4",
      "model_name": "CellRangeModel",
      "state": {
       "_view_module": null,
       "_view_module_version": "",
       "column_end": 0,
       "column_start": 0,
       "type": "numeric",
       "value": 26.6
      }
     },
     "80a78630322c41fe8ae744c6c3f0dc69": {
      "model_module": "@jupyter-widgets/base",
      "model_module_version": "1.2.0",
      "model_name": "LayoutModel",
      "state": {
       "grid_area": "delRow",
       "width": "auto"
      }
     },
     "80eb083aca0c47d891ebe24d90948b30": {
      "model_module": "@jupyter-widgets/base",
      "model_module_version": "1.2.0",
      "model_name": "LayoutModel",
      "state": {}
     },
     "80ee1f2f2a5e4ab6a87b975ae23fb47d": {
      "model_module": "@jupyter-widgets/base",
      "model_module_version": "1.2.0",
      "model_name": "LayoutModel",
      "state": {
       "width": "90%"
      }
     },
     "8102740951e24facac3d8ef1399f9fa3": {
      "model_module": "ipysheet",
      "model_module_version": "~0.4.4",
      "model_name": "CellRangeModel",
      "state": {
       "_view_module": null,
       "_view_module_version": "",
       "column_end": 3,
       "column_start": 0,
       "squeeze_column": false,
       "type": "numeric",
       "value": [
        "",
        "",
        "",
        ""
       ]
      }
     },
     "812cdcfbd9a24637b8645f77cf0456e2": {
      "model_module": "@jupyter-widgets/controls",
      "model_module_version": "1.5.0",
      "model_name": "BoundedFloatTextModel",
      "state": {
       "description": "Overlap ratio (%)",
       "layout": "IPY_MODEL_1724cd007a184550a5c8d35d7468e225",
       "max": 50,
       "step": 1,
       "style": "IPY_MODEL_4c5e488f98c841e0992fa8b739e27155",
       "value": 20
      }
     },
     "814d5d254d7c427b94d3a7b4efefa476": {
      "model_module": "@jupyter-widgets/base",
      "model_module_version": "1.2.0",
      "model_name": "LayoutModel",
      "state": {
       "width": "50%"
      }
     },
     "8162513240124df393ca3008696ee23e": {
      "model_module": "@jupyter-widgets/controls",
      "model_module_version": "1.5.0",
      "model_name": "HBoxModel",
      "state": {
       "children": [
        "IPY_MODEL_46c9b8c205174e2681b850d6f7a8fa77",
        "IPY_MODEL_9c08da02346c43749fbd7942a7b1d486"
       ],
       "layout": "IPY_MODEL_ea2f8e98c8e04ca4ae4244c968112b52"
      }
     },
     "817951fa1ef94927a828e5e27e7cb6c6": {
      "model_module": "@jupyter-widgets/controls",
      "model_module_version": "1.5.0",
      "model_name": "SliderStyleModel",
      "state": {
       "description_width": "initial"
      }
     },
     "818b5c810d0840f3a09cb10e5f3a20f4": {
      "model_module": "@jupyter-widgets/controls",
      "model_module_version": "1.5.0",
      "model_name": "BoundedFloatTextModel",
      "state": {
       "description": "delta Z (um)",
       "layout": "IPY_MODEL_d599ac898d754aaabb36c087442b8acd",
       "max": 10,
       "min": 0.001,
       "step": 0.001,
       "style": "IPY_MODEL_ff354afae42d4cd68a448627544f2cec",
       "value": 0.1
      }
     },
     "81b9f4c7de8b4bf19614852302213834": {
      "model_module": "@jupyter-widgets/controls",
      "model_module_version": "1.5.0",
      "model_name": "SliderStyleModel",
      "state": {
       "description_width": "initial"
      }
     },
     "81e289dfdc7f4cbfac5433ed07a30a79": {
      "model_module": "ipysheet",
      "model_module_version": "~0.4.4",
      "model_name": "CellRangeModel",
      "state": {
       "_view_module": null,
       "_view_module_version": "",
       "column_end": 3,
       "column_start": 0,
       "row_end": 3,
       "row_start": 3,
       "squeeze_column": false,
       "type": "text",
       "value": [
        "",
        "",
        "",
        ""
       ]
      }
     },
     "8269480bd5ec439492b18137fb2100e9": {
      "model_module": "@jupyter-widgets/output",
      "model_module_version": "1.0.0",
      "model_name": "OutputModel",
      "state": {
       "layout": "IPY_MODEL_60af9009d7f34af68bd4949b4e84fbcf"
      }
     },
     "828fb6e0fa1c467b87b70faef1b33e71": {
      "model_module": "@jupyter-widgets/controls",
      "model_module_version": "1.5.0",
      "model_name": "BoundedIntTextModel",
      "state": {
       "description": "WideField Frames",
       "layout": "IPY_MODEL_15e338e0f7134e208a7db7c3d228acc6",
       "max": 10000,
       "min": 1,
       "style": "IPY_MODEL_a9a12756639b438b8afcb738d6d78834",
       "value": 1
      }
     },
     "829bc4dbc05b491089a80d5205899c9a": {
      "model_module": "ipysheet",
      "model_module_version": "~0.4.4",
      "model_name": "CellRangeModel",
      "state": {
       "_view_module": null,
       "_view_module_version": "",
       "column_end": 3,
       "column_start": 0,
       "squeeze_column": false,
       "type": "numeric",
       "value": [
        "",
        "",
        "",
        ""
       ]
      }
     },
     "82a209faa8f84bbabbcefb84cccabdca": {
      "model_module": "@jupyter-widgets/base",
      "model_module_version": "1.2.0",
      "model_name": "LayoutModel",
      "state": {
       "grid_area": "maxY",
       "width": "auto"
      }
     },
     "834bae92083e4583b086740311631e6e": {
      "model_module": "@jupyter-widgets/base",
      "model_module_version": "1.2.0",
      "model_name": "LayoutModel",
      "state": {
       "width": "90%"
      }
     },
     "8382022784234914830fdfa7c29109b9": {
      "model_module": "@jupyter-widgets/base",
      "model_module_version": "1.2.0",
      "model_name": "LayoutModel",
      "state": {}
     },
     "839f085677ca4b829a06c14aed373b24": {
      "model_module": "@jupyter-widgets/base",
      "model_module_version": "1.2.0",
      "model_name": "LayoutModel",
      "state": {
       "grid_area": "maxY",
       "width": "auto"
      }
     },
     "839ff60751f9471c9ab700a36dd61013": {
      "model_module": "@jupyter-widgets/controls",
      "model_module_version": "1.5.0",
      "model_name": "IntSliderModel",
      "state": {
       "continuous_update": false,
       "description": "Center",
       "layout": "IPY_MODEL_405cc4f9a9904df9a93584fe17ed6588",
       "max": 200,
       "min": -200,
       "style": "IPY_MODEL_ff3be810aa9c4636893996078dae9c16"
      }
     },
     "83c708f78acf455b89ddf65f1f55a50d": {
      "model_module": "@jupyter-widgets/base",
      "model_module_version": "1.2.0",
      "model_name": "LayoutModel",
      "state": {}
     },
     "842283b0727542baab377e411fda85e4": {
      "model_module": "@jupyter-widgets/controls",
      "model_module_version": "1.5.0",
      "model_name": "DescriptionStyleModel",
      "state": {
       "description_width": "initial"
      }
     },
     "84350d686e5242d3b1d66d6b820fd9c2": {
      "model_module": "@jupyter-widgets/base",
      "model_module_version": "1.2.0",
      "model_name": "LayoutModel",
      "state": {
       "width": "90%"
      }
     },
     "846416b4efb9469c887109eafc8451fe": {
      "model_module": "@jupyter-widgets/controls",
      "model_module_version": "1.5.0",
      "model_name": "DescriptionStyleModel",
      "state": {
       "description_width": "initial"
      }
     },
     "846ad27dc79745a8ae24cbed8799d5d9": {
      "model_module": "@jupyter-widgets/base",
      "model_module_version": "1.2.0",
      "model_name": "LayoutModel",
      "state": {}
     },
     "84ea3905a8ef4135b76c6ad3b9d19f88": {
      "model_module": "@jupyter-widgets/base",
      "model_module_version": "1.2.0",
      "model_name": "LayoutModel",
      "state": {}
     },
     "855a704a0a1648d19f2488d1e3995ac2": {
      "model_module": "@jupyter-widgets/base",
      "model_module_version": "1.2.0",
      "model_name": "LayoutModel",
      "state": {}
     },
     "85afa7091cad4d9faa6ee5e598986872": {
      "model_module": "ipysheet",
      "model_module_version": "~0.4.4",
      "model_name": "CellRangeModel",
      "state": {
       "_view_module": null,
       "_view_module_version": "",
       "column_end": 3,
       "column_start": 0,
       "row_end": 0,
       "row_start": 0,
       "squeeze_column": false,
       "type": "numeric",
       "value": [
        25,
        25,
        25,
        0
       ]
      }
     },
     "85fc0de50afe47d7b82745a227844ef0": {
      "model_module": "@jupyter-widgets/controls",
      "model_module_version": "1.5.0",
      "model_name": "GridBoxModel",
      "state": {
       "children": [
        "IPY_MODEL_fe6a66976aa94e3494cde4a82b39b9ec",
        "IPY_MODEL_195edb4ca8244364b57f21f20b1d0b7e",
        "IPY_MODEL_e89cb359809b4175bde14289b400589c",
        "IPY_MODEL_525a519e3f934d0bba1f8770b71b2fed",
        "IPY_MODEL_45c7f678cdcc4621936f6b50e84eb7fc",
        "IPY_MODEL_237c8a4635b74135a6a2350d01073b0f",
        "IPY_MODEL_ca7ae29ab7414a3c893ad1b8859120af"
       ],
       "layout": "IPY_MODEL_71667b0878444e4ea0c6187407fbadcd"
      }
     },
     "86541f697b454c2ea7a65dd9bdc0d9d8": {
      "model_module": "@jupyter-widgets/controls",
      "model_module_version": "1.5.0",
      "model_name": "BoundedFloatTextModel",
      "state": {
       "description": "Scan min Z (um)",
       "layout": "IPY_MODEL_ffe77c4bb5e840049e4e2c7437852975",
       "max": 50,
       "step": 0.001,
       "style": "IPY_MODEL_21e7fd508958400a8721a5a9050bb455",
       "value": 24.5
      }
     },
     "8668b36f54304e5693b91ca4f178ab5a": {
      "model_module": "ipysheet",
      "model_module_version": "~0.4.4",
      "model_name": "CellRangeModel",
      "state": {
       "_view_module": null,
       "_view_module_version": "",
       "column_end": 3,
       "column_start": 3,
       "row_end": 0,
       "row_start": 0,
       "type": "numeric",
       "value": 0
      }
     },
     "86ab18bbd48347fdaad579e5a0be2f89": {
      "model_module": "ipysheet",
      "model_module_version": "~0.4.4",
      "model_name": "CellRangeModel",
      "state": {
       "_view_module": null,
       "_view_module_version": "",
       "column_end": 3,
       "column_start": 3,
       "row_end": 3,
       "row_start": 3,
       "type": "numeric",
       "value": 0
      }
     },
     "86afebbaefb04d6f9bd4e79c9d075355": {
      "model_module": "@jupyter-widgets/base",
      "model_module_version": "1.2.0",
      "model_name": "LayoutModel",
      "state": {}
     },
     "86dfd1f3e64d4017afb282ad49eb64f5": {
      "model_module": "@jupyter-widgets/controls",
      "model_module_version": "1.5.0",
      "model_name": "DescriptionStyleModel",
      "state": {
       "description_width": "initial"
      }
     },
     "86e36edd34774348a434ade3bdddf96a": {
      "model_module": "@jupyter-widgets/controls",
      "model_module_version": "1.5.0",
      "model_name": "ButtonModel",
      "state": {
       "description": "WideField",
       "layout": "IPY_MODEL_f605c9b9874342eea2130dc265ba8fac",
       "style": "IPY_MODEL_2e4807c053024feb8b6ad773c2f50748"
      }
     },
     "8701d06be8b24ff3b69cc9b070d8a50f": {
      "model_module": "@jupyter-widgets/controls",
      "model_module_version": "1.5.0",
      "model_name": "ButtonModel",
      "state": {
       "description": "Exit",
       "layout": "IPY_MODEL_895b69d4dc654327b723d240cf039f60",
       "style": "IPY_MODEL_4476f3542a6640fb81ce046d98361a45"
      }
     },
     "87435ad7110a441c90628872106831ca": {
      "model_module": "@jupyter-widgets/controls",
      "model_module_version": "1.5.0",
      "model_name": "ButtonStyleModel",
      "state": {}
     },
     "87664c8ed9e944159bdfbb6dc8b34d8d": {
      "model_module": "@jupyter-widgets/controls",
      "model_module_version": "1.5.0",
      "model_name": "BoundedFloatTextModel",
      "state": {
       "description": "Scan min X (um)",
       "layout": "IPY_MODEL_acfd6cc0428a424eb35aea5b02fb973a",
       "max": 50,
       "step": 0.001,
       "style": "IPY_MODEL_3a3ee139eccb4abaa8ea842ea17abe14",
       "value": 24.5
      }
     },
     "87c8463129354c73ae4179034bd64beb": {
      "model_module": "@jupyter-widgets/base",
      "model_module_version": "1.2.0",
      "model_name": "LayoutModel",
      "state": {
       "width": "90%"
      }
     },
     "883f8aff856f4d3fbe88d75b529d40db": {
      "model_module": "@jupyter-widgets/controls",
      "model_module_version": "1.5.0",
      "model_name": "SliderStyleModel",
      "state": {
       "description_width": ""
      }
     },
     "88468fd446c04ddebbaa11835cfb0a19": {
      "model_module": "@jupyter-widgets/controls",
      "model_module_version": "1.5.0",
      "model_name": "BoundedIntTextModel",
      "state": {
       "description": "Light Sheet Offset",
       "layout": "IPY_MODEL_51be63ea4c7d42d8ade1d724d1e915b3",
       "max": 300,
       "min": -300,
       "style": "IPY_MODEL_37f3126a555d4671885675310461edb4",
       "value": 1
      }
     },
     "8855b7b90b84457f8645f398bd2280e1": {
      "model_module": "@jupyter-widgets/controls",
      "model_module_version": "1.5.0",
      "model_name": "BoundedFloatTextModel",
      "state": {
       "description": "Stage X (um)",
       "layout": "IPY_MODEL_4f5ccb047e854ae5ad7bd0236664982c",
       "max": 50,
       "step": 0.001,
       "style": "IPY_MODEL_369fc0aba7354305bc9df83282b580b3",
       "value": 25
      }
     },
     "88842303645445f8a4c2d9b83c27a048": {
      "model_module": "@jupyter-widgets/controls",
      "model_module_version": "1.5.0",
      "model_name": "VBoxModel",
      "state": {
       "children": [
        "IPY_MODEL_be87d3681d2b44eb85eea61ad67270f6",
        "IPY_MODEL_928674cfc0b74262b3f4ee4921ff27e1"
       ],
       "layout": "IPY_MODEL_092c295c52364eb2b777e77410b1fe00"
      }
     },
     "888c4416993743568a11dcf697ad9827": {
      "model_module": "ipysheet",
      "model_module_version": "~0.4.4",
      "model_name": "CellRangeModel",
      "state": {
       "_view_module": null,
       "_view_module_version": "",
       "column_end": 2,
       "column_start": 2,
       "row_end": 2,
       "row_start": 2,
       "type": "numeric",
       "value": 25
      }
     },
     "88bdf05231b748e79acccc7eb13d87cf": {
      "model_module": "@jupyter-widgets/controls",
      "model_module_version": "1.5.0",
      "model_name": "DescriptionStyleModel",
      "state": {
       "description_width": "initial"
      }
     },
     "88d07968094e415289e7b4ca2405cb6b": {
      "model_module": "@jupyter-widgets/controls",
      "model_module_version": "1.5.0",
      "model_name": "DescriptionStyleModel",
      "state": {
       "description_width": "initial"
      }
     },
     "88d6afed16604b55ba9ac5c05b556e73": {
      "model_module": "@jupyter-widgets/controls",
      "model_module_version": "1.5.0",
      "model_name": "LabelModel",
      "state": {
       "layout": "IPY_MODEL_bd891bc27961421abb6e13414500ba40",
       "style": "IPY_MODEL_58131ea8ef454337a9f216fb7d217f72",
       "value": "Please stop acquisition and laser first to start experiment"
      }
     },
     "88f2c9ec98c646afa43396039236173c": {
      "model_module": "@jupyter-widgets/controls",
      "model_module_version": "1.5.0",
      "model_name": "DescriptionStyleModel",
      "state": {
       "description_width": "initial"
      }
     },
     "88faeb5a47d54570b1ee3cc10508610c": {
      "model_module": "ipysheet",
      "model_module_version": "~0.4.4",
      "model_name": "CellRangeModel",
      "state": {
       "_view_module": null,
       "_view_module_version": "",
       "column_end": 3,
       "column_start": 0,
       "row_end": 3,
       "row_start": 3,
       "squeeze_column": false,
       "type": "numeric",
       "value": [
        25,
        25,
        25,
        1
       ]
      }
     },
     "890a1c1e34ed41f3be6ef18d002c04c1": {
      "model_module": "@jupyter-widgets/controls",
      "model_module_version": "1.5.0",
      "model_name": "ButtonStyleModel",
      "state": {}
     },
     "8949db31fd6c43c2b041a06ca523c3f6": {
      "model_module": "@jupyter-widgets/controls",
      "model_module_version": "1.5.0",
      "model_name": "ButtonStyleModel",
      "state": {}
     },
     "895b69d4dc654327b723d240cf039f60": {
      "model_module": "@jupyter-widgets/base",
      "model_module_version": "1.2.0",
      "model_name": "LayoutModel",
      "state": {}
     },
     "89726ff1796248b08ecb4205788bedcf": {
      "model_module": "@jupyter-widgets/base",
      "model_module_version": "1.2.0",
      "model_name": "LayoutModel",
      "state": {}
     },
     "89c95558f3954741b5c97e3f6419a4b1": {
      "model_module": "@jupyter-widgets/base",
      "model_module_version": "1.2.0",
      "model_name": "LayoutModel",
      "state": {}
     },
     "89ca9102ecb44d6a9cf4d89eab6f7a90": {
      "model_module": "@jupyter-widgets/controls",
      "model_module_version": "1.5.0",
      "model_name": "DescriptionStyleModel",
      "state": {
       "description_width": "initial"
      }
     },
     "89cb6e295c064288b4e4a774ab0fe27b": {
      "model_module": "ipysheet",
      "model_module_version": "~0.4.4",
      "model_name": "SheetModel",
      "state": {
       "cells": [
        "IPY_MODEL_08a63afbfb8e48b1b5f58b6c24006605",
        "IPY_MODEL_49ab98edf7d04e2f9bf1c3184cdec25a",
        "IPY_MODEL_a055a17e885644aa986fe51892d4515c",
        "IPY_MODEL_65230718fee94dc29d72d7221f94e25e",
        "IPY_MODEL_791988ba607f4fd99420becb02917e9e",
        "IPY_MODEL_16fce01159bf49169391414303122e9f",
        "IPY_MODEL_e20164f898eb47c0b49b3c794f0abd4d",
        "IPY_MODEL_d1c87c06be504d0a9c1eea7cb621faed",
        "IPY_MODEL_96fcaedcaa714c1e8890c5a3f6566434",
        "IPY_MODEL_10ee218f1c3c41ceb066c0ee8e3c095b",
        "IPY_MODEL_770a6677456c4145bef550aed2847d74",
        "IPY_MODEL_24ae480605914974bcb683a343d61562",
        "IPY_MODEL_8f80b58b9d634d579a3459c4bf3cc237",
        "IPY_MODEL_962b9ce61c7944158a2fdd1182eb0ac9",
        "IPY_MODEL_e6750208e94b493a9b4e9ed860be1120",
        "IPY_MODEL_060c24974cfd462399edff026b9a4549",
        "IPY_MODEL_5fef106aeb374685bdd21e7f6c63964f",
        "IPY_MODEL_19fcfc332ee24b7bab3796469b13adcf",
        "IPY_MODEL_a0e013e668f04fd5b15b75d55f47e1fa",
        "IPY_MODEL_d4ac30537bbb45a5a1d853e3e68c7106",
        "IPY_MODEL_4690f0561a6942d8b90e02e2bb880cab",
        "IPY_MODEL_96f11ec7823d420f97081a8c418650b6",
        "IPY_MODEL_72c74aed29d94f5c9358c9c26df2b595",
        "IPY_MODEL_a77dec942d9e4fd582f74b43e261c4f9",
        "IPY_MODEL_da6a6887a919483884a89fd223a57af1",
        "IPY_MODEL_d946e250652c4e1d8d232a1c43cd1295",
        "IPY_MODEL_fb1f218d7bad4df79b7e962ab47a9627",
        "IPY_MODEL_0a05fab7f1004a7e8dd6baf8906cd415",
        "IPY_MODEL_8f05f22d03144777bfbfbe38732012ba",
        "IPY_MODEL_13281f937bc44e7f8affc30f552bd807",
        "IPY_MODEL_de97cfe3baab41779f70329d06339913",
        "IPY_MODEL_9cc57cf0c5fb4db4a238347c5b437ad9",
        "IPY_MODEL_bf8e56bda9424ed69a9e7b218c5900b7",
        "IPY_MODEL_638aa7d08b2e4d2b8240e1232e67973d",
        "IPY_MODEL_0008fafc45134f8ebd807949b9d873e9",
        "IPY_MODEL_9fdd019733f84d80beefa5ede195c5be",
        "IPY_MODEL_083344219f994298a73207448f7cd760",
        "IPY_MODEL_a46606003a804a3c9d5f35ea34e0de8d",
        "IPY_MODEL_587909913c914b05ac96b7d834bf5e5b",
        "IPY_MODEL_45d26b82f107437c8d43a13e48cc6bde",
        "IPY_MODEL_2b4f05844f334a15b13af31e43af0a29",
        "IPY_MODEL_e68707b9b3dc41e787f3d989f40dfabf",
        "IPY_MODEL_7cc7eb41314a43d9a03397364231aa5e",
        "IPY_MODEL_0a9034487b1d4e74b5367adaea4a85b6",
        "IPY_MODEL_3f9fcb8541cf49aa9f4521c25d9a1ca1",
        "IPY_MODEL_a351b0654a8d4084bd744cc527d33bd4",
        "IPY_MODEL_e4585e75debb4af5a594872ad5d8d607",
        "IPY_MODEL_17403cbe4b8a466e9ce17ee2696bd948"
       ],
       "column_headers": [
        "X",
        "Y",
        "Z",
        "Offset"
       ],
       "layout": "IPY_MODEL_fc9ed7c61fe24db8a6d0141360754cf2",
       "rows": 20
      }
     },
     "8a1a2c54926c486186dd50b0977f7e4c": {
      "model_module": "ipysheet",
      "model_module_version": "~0.4.4",
      "model_name": "CellRangeModel",
      "state": {
       "_view_module": null,
       "_view_module_version": "",
       "row_end": 3,
       "row_start": 3,
       "type": "numeric",
       "value": 25
      }
     },
     "8a1b5cf132f94bfd874cd899b478856c": {
      "model_module": "@jupyter-widgets/controls",
      "model_module_version": "1.5.0",
      "model_name": "IntSliderModel",
      "state": {
       "continuous_update": false,
       "description": "Frame",
       "layout": "IPY_MODEL_9fe428c12e214fc7ad3a91c36782927c",
       "max": 10000000,
       "style": "IPY_MODEL_f845f13255874db19797d8faad0e7da9"
      }
     },
     "8ba7233d80054f0db6d3eda370f9e3d6": {
      "model_module": "@jupyter-widgets/base",
      "model_module_version": "1.2.0",
      "model_name": "LayoutModel",
      "state": {
       "width": "90%"
      }
     },
     "8ba7831e199d49d7824847144372e218": {
      "model_module": "@jupyter-widgets/controls",
      "model_module_version": "1.5.0",
      "model_name": "VBoxModel",
      "state": {
       "children": [
        "IPY_MODEL_1e1188a1296f477a968db361f938a09d",
        "IPY_MODEL_f5a73f13139e4e668501f073b7ce3b43",
        "IPY_MODEL_64efc709e9a241fb8f0fb8c06ef15fa5",
        "IPY_MODEL_328e67f187444800ac2509783e3acd9d"
       ],
       "layout": "IPY_MODEL_15b14db61e2743e7a8f6560bbc1944b4"
      }
     },
     "8bc241bd79ca47629fe5690155641878": {
      "model_module": "@jupyter-widgets/controls",
      "model_module_version": "1.5.0",
      "model_name": "ButtonModel",
      "state": {
       "description": "Preview Scan",
       "layout": "IPY_MODEL_b7eea2fbf7b242e181973b6e0779bf22",
       "style": "IPY_MODEL_ca5a982e75d341289832a05aa37d0e16"
      }
     },
     "8be9ce7231bd4b289ae5977910f238c2": {
      "model_module": "@jupyter-widgets/controls",
      "model_module_version": "1.5.0",
      "model_name": "DescriptionStyleModel",
      "state": {
       "description_width": "initial"
      }
     },
     "8c4ee53f741748ab882519a79997e302": {
      "model_module": "@jupyter-widgets/base",
      "model_module_version": "1.2.0",
      "model_name": "LayoutModel",
      "state": {
       "width": "90%"
      }
     },
     "8ce4462887434ec89c05bb7c1738ae75": {
      "model_module": "@jupyter-widgets/base",
      "model_module_version": "1.2.0",
      "model_name": "LayoutModel",
      "state": {}
     },
     "8ce6cef85b6d4d4a8e10a494958de659": {
      "model_module": "@jupyter-widgets/base",
      "model_module_version": "1.2.0",
      "model_name": "LayoutModel",
      "state": {
       "width": "90%"
      }
     },
     "8d0106d4e6874f83a86665150b619c76": {
      "model_module": "@jupyter-widgets/controls",
      "model_module_version": "1.5.0",
      "model_name": "DescriptionStyleModel",
      "state": {
       "description_width": "initial"
      }
     },
     "8d17a73216a5403b9f50b7c9fa046ba0": {
      "model_module": "@jupyter-widgets/controls",
      "model_module_version": "1.5.0",
      "model_name": "SliderStyleModel",
      "state": {
       "description_width": ""
      }
     },
     "8d2c7b0aec314be3b001e52a13ed38fb": {
      "model_module": "@jupyter-widgets/base",
      "model_module_version": "1.2.0",
      "model_name": "LayoutModel",
      "state": {}
     },
     "8d419bf4d6b54a90b9ee3a1db978b17b": {
      "model_module": "ipysheet",
      "model_module_version": "~0.4.4",
      "model_name": "CellRangeModel",
      "state": {
       "_view_module": null,
       "_view_module_version": "",
       "row_end": 2,
       "row_start": 2,
       "type": "numeric",
       "value": 25
      }
     },
     "8d5abd57b661492cad29c941bd1a6a4c": {
      "model_module": "@jupyter-widgets/base",
      "model_module_version": "1.2.0",
      "model_name": "LayoutModel",
      "state": {
       "height": "auto",
       "width": "auto"
      }
     },
     "8d81b377d7f243d0beef2f714973796f": {
      "model_module": "@jupyter-widgets/controls",
      "model_module_version": "1.5.0",
      "model_name": "DescriptionStyleModel",
      "state": {
       "description_width": "initial"
      }
     },
     "8de7b91fd7a84f70b5173df56539eaa1": {
      "model_module": "@jupyter-widgets/base",
      "model_module_version": "1.2.0",
      "model_name": "LayoutModel",
      "state": {}
     },
     "8decfa8b5c0945e58c556ee70444c6cb": {
      "model_module": "@jupyter-widgets/base",
      "model_module_version": "1.2.0",
      "model_name": "LayoutModel",
      "state": {
       "grid_area": "minY",
       "width": "auto"
      }
     },
     "8e2513a256874f2d82528fc2e1359446": {
      "model_module": "ipysheet",
      "model_module_version": "~0.4.4",
      "model_name": "CellRangeModel",
      "state": {
       "_view_module": null,
       "_view_module_version": "",
       "column_end": 3,
       "column_start": 0,
       "row_end": 4,
       "row_start": 4,
       "squeeze_column": false,
       "type": "numeric",
       "value": [
        25,
        25,
        25,
        0
       ]
      }
     },
     "8e38a7fb36af413e8224cc90fa324d2d": {
      "model_module": "@jupyter-widgets/controls",
      "model_module_version": "1.5.0",
      "model_name": "ButtonModel",
      "state": {
       "description": "WideField",
       "layout": "IPY_MODEL_6155df2ca49d49edb7e3f15233e9a02e",
       "style": "IPY_MODEL_6881f703ed774edc9e9c6b5a42b9cecd"
      }
     },
     "8e3d9f03b33d43639b5850e65c6d6392": {
      "model_module": "@jupyter-widgets/base",
      "model_module_version": "1.2.0",
      "model_name": "LayoutModel",
      "state": {}
     },
     "8edd0736626b41069a9ef1cefc140a7a": {
      "model_module": "@jupyter-widgets/base",
      "model_module_version": "1.2.0",
      "model_name": "LayoutModel",
      "state": {
       "width": "90%"
      }
     },
     "8ee9f9023baf44e6a6e4c6579b4e999e": {
      "model_module": "@jupyter-widgets/controls",
      "model_module_version": "1.5.0",
      "model_name": "DescriptionStyleModel",
      "state": {
       "description_width": "initial"
      }
     },
     "8f05f22d03144777bfbfbe38732012ba": {
      "model_module": "ipysheet",
      "model_module_version": "~0.4.4",
      "model_name": "CellRangeModel",
      "state": {
       "_view_module": null,
       "_view_module_version": "",
       "column_end": 3,
       "column_start": 0,
       "row_end": 2,
       "row_start": 2,
       "squeeze_column": false,
       "type": "numeric",
       "value": [
        "",
        "",
        "",
        ""
       ]
      }
     },
     "8f31de65499c413ab253baaac75a9aaa": {
      "model_module": "@jupyter-widgets/base",
      "model_module_version": "1.2.0",
      "model_name": "LayoutModel",
      "state": {}
     },
     "8f80b58b9d634d579a3459c4bf3cc237": {
      "model_module": "ipysheet",
      "model_module_version": "~0.4.4",
      "model_name": "CellRangeModel",
      "state": {
       "_view_module": null,
       "_view_module_version": "",
       "column_end": 3,
       "column_start": 0,
       "row_end": 3,
       "row_start": 3,
       "squeeze_column": false,
       "type": "numeric",
       "value": [
        "",
        "",
        "",
        ""
       ]
      }
     },
     "8f9140ea15054ad59f58872cd3a7da0e": {
      "model_module": "@jupyter-widgets/controls",
      "model_module_version": "1.5.0",
      "model_name": "BoundedFloatTextModel",
      "state": {
       "description": "Scan max X (um)",
       "layout": "IPY_MODEL_d70511083a654761b0c380a3fc85fd75",
       "max": 50,
       "step": 0.001,
       "style": "IPY_MODEL_12bd4d883f144f6bb913996833ece07d",
       "value": 25.5
      }
     },
     "90103067cfb0412a82516bce5969aec9": {
      "model_module": "@jupyter-widgets/base",
      "model_module_version": "1.2.0",
      "model_name": "LayoutModel",
      "state": {}
     },
     "90a8534e2b29464cbbec729cf80ee848": {
      "model_module": "@jupyter-widgets/base",
      "model_module_version": "1.2.0",
      "model_name": "LayoutModel",
      "state": {
       "border": "solid 1px",
       "grid_template_areas": "\n                                        \"addOffset . . .\"\n                                        \"stageX stageY stageZ lsOffset\"\n                                        \"delOffset delRow . .\"\n                                    ",
       "grid_template_columns": "25% 25% 25% 25%",
       "grid_template_rows": "auto auto auto",
       "width": "100%"
      }
     },
     "910554a0b99a40919eba3c33fadf3e87": {
      "model_module": "@jupyter-widgets/base",
      "model_module_version": "1.2.0",
      "model_name": "LayoutModel",
      "state": {
       "grid_area": "largeFOV_begin_button",
       "width": "auto"
      }
     },
     "9130c88ca1dd41c3a392fc12d27f2c93": {
      "model_module": "@jupyter-widgets/controls",
      "model_module_version": "1.5.0",
      "model_name": "VBoxModel",
      "state": {
       "_dom_classes": [
        "widget-interact"
       ],
       "children": [
        "IPY_MODEL_ccc6f3c472aa4c5db4109b6d04583b1c",
        "IPY_MODEL_561c89faae744cbc89e3718dd012fbca",
        "IPY_MODEL_758a56593110420a8cf5368c59f9e829",
        "IPY_MODEL_033f4e615c8147cabd59c5b30ba0c24c"
       ],
       "layout": "IPY_MODEL_7354dd36fa7f49a0b0620cfaeb98768f"
      }
     },
     "916fa49876fa49f087da69fa01973f43": {
      "model_module": "@jupyter-widgets/controls",
      "model_module_version": "1.5.0",
      "model_name": "HBoxModel",
      "state": {
       "children": [
        "IPY_MODEL_c0a5fa1e7b31469d91e0104f870e91c3",
        "IPY_MODEL_d7456fd1f8b14db8a0d9b231613f0be6"
       ],
       "layout": "IPY_MODEL_63d3f9bbae284d8d87012aa607f80684"
      }
     },
     "9174480b3cf348bb82d3840b892b4188": {
      "model_module": "ipysheet",
      "model_module_version": "~0.4.4",
      "model_name": "CellRangeModel",
      "state": {
       "_view_module": null,
       "_view_module_version": "",
       "column_end": 2,
       "column_start": 2,
       "row_end": 3,
       "row_start": 3,
       "type": "numeric",
       "value": 25
      }
     },
     "91807c0029cc493983a08939ca4e7149": {
      "model_module": "@jupyter-widgets/controls",
      "model_module_version": "1.5.0",
      "model_name": "FloatSliderModel",
      "state": {
       "continuous_update": false,
       "description": "Exposure (ms)",
       "layout": "IPY_MODEL_2f97b9fc24b34e0a8994e6b869c67984",
       "min": 16.83,
       "step": 16.83,
       "style": "IPY_MODEL_3b622a0404c94073a27ee2c79f79dd24",
       "value": 16.83
      }
     },
     "9194ac91691a471292f853c12f4fe11b": {
      "model_module": "@jupyter-widgets/controls",
      "model_module_version": "1.5.0",
      "model_name": "DescriptionStyleModel",
      "state": {
       "description_width": ""
      }
     },
     "919777972a3d4dc084870e0cb0db0542": {
      "model_module": "@jupyter-widgets/base",
      "model_module_version": "1.2.0",
      "model_name": "LayoutModel",
      "state": {
       "width": "90%"
      }
     },
     "91d9ab7a2439421d89ccceb74a636e01": {
      "model_module": "ipysheet",
      "model_module_version": "~0.4.4",
      "model_name": "CellRangeModel",
      "state": {
       "_view_module": null,
       "_view_module_version": "",
       "column_end": 3,
       "column_start": 0,
       "row_end": 0,
       "row_start": 0,
       "squeeze_column": false,
       "type": "numeric",
       "value": [
        "",
        "",
        "",
        ""
       ]
      }
     },
     "91ebbd19670d45abbbe555c4bdd4b62e": {
      "model_module": "@jupyter-widgets/controls",
      "model_module_version": "1.5.0",
      "model_name": "VBoxModel",
      "state": {
       "children": [
        "IPY_MODEL_c0e554f8813549bba81c880b019fa979",
        "IPY_MODEL_916fa49876fa49f087da69fa01973f43",
        "IPY_MODEL_a39c7b0b85be4e4cb3bc720f49ff0f67",
        "IPY_MODEL_dd91e121d4f94f08b7b6bf2737b7b746"
       ],
       "layout": "IPY_MODEL_59262d663fed4c11bfe506fe49c9eb2c"
      }
     },
     "9226c54849a945778ddf5188c7b21a05": {
      "model_module": "@jupyter-widgets/controls",
      "model_module_version": "1.5.0",
      "model_name": "BoundedFloatTextModel",
      "state": {
       "description": "Total Duration (h)",
       "layout": "IPY_MODEL_eb052236f0f848f2ac5cc19c85e96d10",
       "step": 0.01,
       "style": "IPY_MODEL_6d323419feb0495580860f8e173ba8e2",
       "value": 0.01
      }
     },
     "9227fe270e594e35add43d84a09757bb": {
      "model_module": "@jupyter-widgets/base",
      "model_module_version": "1.2.0",
      "model_name": "LayoutModel",
      "state": {
       "grid_area": "lsOffset",
       "width": "auto"
      }
     },
     "922ac67d108f4228a682a10444053bf2": {
      "model_module": "@jupyter-widgets/controls",
      "model_module_version": "1.5.0",
      "model_name": "IntSliderModel",
      "state": {
       "continuous_update": false,
       "description": "Width",
       "layout": "IPY_MODEL_d50f3b1680904126ac835b601363fb84",
       "max": 1280,
       "style": "IPY_MODEL_b96981737116485dad70927c814082ba",
       "value": 10
      }
     },
     "925a6cb875d64bf99c04c30f90e202ce": {
      "model_module": "@jupyter-widgets/controls",
      "model_module_version": "1.5.0",
      "model_name": "GridBoxModel",
      "state": {
       "children": [
        "IPY_MODEL_3609bff30d0b4ca697ab06e8b9f2d5b2",
        "IPY_MODEL_feb67253218744d890dacbd59ffe3205",
        "IPY_MODEL_39e3ccdb5ffb4aa2a836a1e8557bbd50",
        "IPY_MODEL_6fdaf9ef23d54192868a0fc7b8a1d09f",
        "IPY_MODEL_a0b27ceb5bbb416dbb065b157c9a96fe",
        "IPY_MODEL_0e2207c13f7342df918cb8e591c66c33",
        "IPY_MODEL_a858d8aaed674c53bc2f4834d0c99eff"
       ],
       "layout": "IPY_MODEL_90a8534e2b29464cbbec729cf80ee848"
      }
     },
     "926b62eae0544b7cb7a1ec8390858fbb": {
      "model_module": "@jupyter-widgets/controls",
      "model_module_version": "1.5.0",
      "model_name": "ButtonStyleModel",
      "state": {}
     },
     "928674cfc0b74262b3f4ee4921ff27e1": {
      "model_module": "@jupyter-widgets/controls",
      "model_module_version": "1.5.0",
      "model_name": "VBoxModel",
      "state": {
       "children": [
        "IPY_MODEL_f0878d31714b4a5bbec7f38348648b89",
        "IPY_MODEL_c82283b87f0c47829fae8c6ba150aa91",
        "IPY_MODEL_f53e20eeb03b4b14b882ae75e1a920a4"
       ],
       "layout": "IPY_MODEL_4874ae6a718247d5b72eecf1b0dee522"
      }
     },
     "92a8e7167e6243fb98e816ff7f0fe152": {
      "model_module": "@jupyter-widgets/controls",
      "model_module_version": "1.5.0",
      "model_name": "ButtonStyleModel",
      "state": {}
     },
     "92b57cbcb148423f83b7af00655282ab": {
      "model_module": "@jupyter-widgets/base",
      "model_module_version": "1.2.0",
      "model_name": "LayoutModel",
      "state": {
       "grid_area": "minX",
       "width": "auto"
      }
     },
     "92c5064857fb48fea76325e2f49ecb17": {
      "model_module": "@jupyter-widgets/controls",
      "model_module_version": "1.5.0",
      "model_name": "SliderStyleModel",
      "state": {
       "description_width": ""
      }
     },
     "9326a43b8b9e42d5ae16f0396563464d": {
      "model_module": "@jupyter-widgets/controls",
      "model_module_version": "1.5.0",
      "model_name": "ButtonModel",
      "state": {
       "button_style": "danger",
       "description": "Begin Experiment",
       "layout": "IPY_MODEL_45de4e4d2aba4e8d999968926441c263",
       "style": "IPY_MODEL_f4c9efe7c24149f8ad88a1cdbb8447db"
      }
     },
     "933304609c6941e9810f180f9ae78791": {
      "model_module": "ipysheet",
      "model_module_version": "~0.4.4",
      "model_name": "CellRangeModel",
      "state": {
       "_view_module": null,
       "_view_module_version": "",
       "column_end": 3,
       "column_start": 0,
       "row_end": 3,
       "row_start": 3,
       "squeeze_column": false,
       "type": "numeric",
       "value": [
        25,
        25,
        25,
        0
       ]
      }
     },
     "9344756acc7d492a96ddbd080009a537": {
      "model_module": "ipysheet",
      "model_module_version": "~0.4.4",
      "model_name": "CellRangeModel",
      "state": {
       "_view_module": null,
       "_view_module_version": "",
       "column_end": 3,
       "column_start": 0,
       "row_end": 3,
       "row_start": 3,
       "squeeze_column": false,
       "type": "numeric",
       "value": [
        "",
        "",
        "",
        ""
       ]
      }
     },
     "93532142fba942718a182e9d70245dd6": {
      "model_module": "@jupyter-widgets/base",
      "model_module_version": "1.2.0",
      "model_name": "LayoutModel",
      "state": {
       "width": "90%"
      }
     },
     "93b14fbfbe844e738ac04c32180680db": {
      "model_module": "@jupyter-widgets/controls",
      "model_module_version": "1.5.0",
      "model_name": "IntSliderModel",
      "state": {
       "continuous_update": false,
       "description": "Blue",
       "layout": "IPY_MODEL_17fba54d599f489a98d40c94b1a44318",
       "max": 255,
       "style": "IPY_MODEL_fe2aa1983fa042cfbbc85172b93e907a"
      }
     },
     "93d0cd7cafa441d194a18f2772c9ea25": {
      "model_module": "@jupyter-widgets/controls",
      "model_module_version": "1.5.0",
      "model_name": "SliderStyleModel",
      "state": {
       "description_width": ""
      }
     },
     "94289a09302748b9a818cbe01b3df73f": {
      "model_module": "@jupyter-widgets/controls",
      "model_module_version": "1.5.0",
      "model_name": "DescriptionStyleModel",
      "state": {
       "description_width": "initial"
      }
     },
     "943b7d1ad85244439938692a61a3731f": {
      "model_module": "@jupyter-widgets/controls",
      "model_module_version": "1.5.0",
      "model_name": "ButtonModel",
      "state": {
       "description": "Exit",
       "layout": "IPY_MODEL_4f6115a9a5d544d9a3e786acea711281",
       "style": "IPY_MODEL_7cea265e58174295ba32c37e8eb4b39f"
      }
     },
     "953a41f5e1504e22afe7a7f533c719be": {
      "model_module": "@jupyter-widgets/controls",
      "model_module_version": "1.5.0",
      "model_name": "ButtonModel",
      "state": {
       "description": "Add Offset",
       "layout": "IPY_MODEL_bf85c7a4837142d8a44d11018b525bab",
       "style": "IPY_MODEL_87435ad7110a441c90628872106831ca"
      }
     },
     "957c3ac85b8d4424bc18fd56364604cd": {
      "model_module": "@jupyter-widgets/base",
      "model_module_version": "1.2.0",
      "model_name": "LayoutModel",
      "state": {
       "grid_area": "deltaZ",
       "width": "auto"
      }
     },
     "95a1b4b67b3b44d29830ef2fc5f7dfd8": {
      "model_module": "@jupyter-widgets/base",
      "model_module_version": "1.2.0",
      "model_name": "LayoutModel",
      "state": {}
     },
     "960bc1eea49c4dd5bad611978227256e": {
      "model_module": "ipysheet",
      "model_module_version": "~0.4.4",
      "model_name": "CellRangeModel",
      "state": {
       "_view_module": null,
       "_view_module_version": "",
       "column_end": 2,
       "column_start": 2,
       "row_end": 4,
       "row_start": 4,
       "type": "numeric",
       "value": 25
      }
     },
     "962b9ce61c7944158a2fdd1182eb0ac9": {
      "model_module": "ipysheet",
      "model_module_version": "~0.4.4",
      "model_name": "CellRangeModel",
      "state": {
       "_view_module": null,
       "_view_module_version": "",
       "column_end": 3,
       "column_start": 0,
       "row_end": 4,
       "row_start": 4,
       "squeeze_column": false,
       "type": "numeric",
       "value": [
        "",
        "",
        "",
        ""
       ]
      }
     },
     "964b59bc321e47088b17834ed7a42853": {
      "model_module": "@jupyter-widgets/controls",
      "model_module_version": "1.5.0",
      "model_name": "IntSliderModel",
      "state": {
       "continuous_update": false,
       "description": "Width",
       "layout": "IPY_MODEL_2d062f8be55e491e9d43f8669f7e0626",
       "max": 1280,
       "style": "IPY_MODEL_6485eb523424472485cef1c7b7610f73",
       "value": 10
      }
     },
     "966039bd41ad422a83e3ac633245e3ca": {
      "model_module": "@jupyter-widgets/controls",
      "model_module_version": "1.5.0",
      "model_name": "ButtonStyleModel",
      "state": {}
     },
     "966d7c8999c64296b39cedef02feb8bf": {
      "model_module": "@jupyter-widgets/controls",
      "model_module_version": "1.5.0",
      "model_name": "ButtonStyleModel",
      "state": {}
     },
     "96829f0078064bcbaaa89c9dc8b58c62": {
      "model_module": "@jupyter-widgets/controls",
      "model_module_version": "1.5.0",
      "model_name": "ButtonStyleModel",
      "state": {}
     },
     "96877f2845724004b43764a91b44dac5": {
      "model_module": "@jupyter-widgets/base",
      "model_module_version": "1.2.0",
      "model_name": "LayoutModel",
      "state": {
       "width": "90%"
      }
     },
     "96ae2a2fe1254724b71f7d21b9c3bc74": {
      "model_module": "@jupyter-widgets/base",
      "model_module_version": "1.2.0",
      "model_name": "LayoutModel",
      "state": {}
     },
     "96f11ec7823d420f97081a8c418650b6": {
      "model_module": "ipysheet",
      "model_module_version": "~0.4.4",
      "model_name": "CellRangeModel",
      "state": {
       "_view_module": null,
       "_view_module_version": "",
       "column_end": 3,
       "column_start": 0,
       "row_end": 3,
       "row_start": 3,
       "squeeze_column": false,
       "type": "numeric",
       "value": [
        "",
        "",
        "",
        ""
       ]
      }
     },
     "96faac905de6430db9311df8d497f4c3": {
      "model_module": "@jupyter-widgets/controls",
      "model_module_version": "1.5.0",
      "model_name": "IntSliderModel",
      "state": {
       "continuous_update": false,
       "description": "Frame",
       "layout": "IPY_MODEL_c6d7b0c8267e4db980b0ae866c1c23a0",
       "max": 10000000,
       "style": "IPY_MODEL_f83566242c90405b8c86d6b80d750790"
      }
     },
     "96fcaedcaa714c1e8890c5a3f6566434": {
      "model_module": "ipysheet",
      "model_module_version": "~0.4.4",
      "model_name": "CellRangeModel",
      "state": {
       "_view_module": null,
       "_view_module_version": "",
       "column_end": 3,
       "column_start": 0,
       "row_end": 8,
       "row_start": 8,
       "squeeze_column": false,
       "type": "numeric",
       "value": [
        "",
        "",
        "",
        ""
       ]
      }
     },
     "972ed34d235640b8a065487b8c65f527": {
      "model_module": "@jupyter-widgets/controls",
      "model_module_version": "1.5.0",
      "model_name": "DescriptionStyleModel",
      "state": {
       "description_width": "initial"
      }
     },
     "97322b19dc884d1eb816a5b27037dc70": {
      "model_module": "@jupyter-widgets/base",
      "model_module_version": "1.2.0",
      "model_name": "LayoutModel",
      "state": {
       "grid_template_areas": "\n                                        \". . largeFOV_begin_button\"\n                                    ",
       "grid_template_columns": "40% 40% 20%",
       "grid_template_rows": "auto",
       "width": "100%"
      }
     },
     "9741bb91880d4ff7aedf9e76b0355420": {
      "model_module": "@jupyter-widgets/controls",
      "model_module_version": "1.5.0",
      "model_name": "FloatSliderModel",
      "state": {
       "continuous_update": false,
       "description": "Exposure (ms)",
       "layout": "IPY_MODEL_93532142fba942718a182e9d70245dd6",
       "min": 16.83,
       "step": 16.83,
       "style": "IPY_MODEL_495a86002486495eaaede98ab36973fc",
       "value": 16.83
      }
     },
     "974cccbf32184e3e9256bab9cf83c7b0": {
      "model_module": "ipysheet",
      "model_module_version": "~0.4.4",
      "model_name": "CellRangeModel",
      "state": {
       "_view_module": null,
       "_view_module_version": "",
       "column_end": 3,
       "column_start": 0,
       "row_end": 2,
       "row_start": 2,
       "squeeze_column": false,
       "type": "numeric",
       "value": [
        "",
        "",
        "",
        ""
       ]
      }
     },
     "9754b0055df54aeea83b5af1d3990aa4": {
      "model_module": "@jupyter-widgets/controls",
      "model_module_version": "1.5.0",
      "model_name": "VBoxModel",
      "state": {
       "_dom_classes": [
        "widget-interact"
       ],
       "children": [
        "IPY_MODEL_c96583ea7c0f4e5eb9954dd98a9c782c",
        "IPY_MODEL_6824b77fdc764df5bb8e7b8f168a6933",
        "IPY_MODEL_93b14fbfbe844e738ac04c32180680db",
        "IPY_MODEL_964b59bc321e47088b17834ed7a42853",
        "IPY_MODEL_d8dcc477ac7045a99f755c534f2f2048",
        "IPY_MODEL_ac8232a678e248eea30dea50b053bc41",
        "IPY_MODEL_a1ad2f539138403b952b67c0134c1a1e",
        "IPY_MODEL_9d39df3182e74ab593344f96e5310dea",
        "IPY_MODEL_c369b18f84e44bdb9f154414ba99fce5"
       ],
       "layout": "IPY_MODEL_52a8d4f64a7b4a8e85cadccd6bec8b10"
      }
     },
     "97655924417640b9a74fb916b09f1033": {
      "model_module": "@jupyter-widgets/controls",
      "model_module_version": "1.5.0",
      "model_name": "DescriptionStyleModel",
      "state": {
       "description_width": "initial"
      }
     },
     "9767edfaad054ea393ff133deac65e86": {
      "model_module": "@jupyter-widgets/controls",
      "model_module_version": "1.5.0",
      "model_name": "TabModel",
      "state": {
       "_titles": {
        "0": "Light sheet scan",
        "1": "Wide Field",
        "2": "Large FOV"
       },
       "children": [
        "IPY_MODEL_1c01df53b6e64693b21e72ca5eb95632",
        "IPY_MODEL_ff40a808fe284118ac45129b13dae709",
        "IPY_MODEL_04f5e32627d842dbbbe15cb95510818c"
       ],
       "layout": "IPY_MODEL_5a45aaef490649d8ab1e22c9bb426baa",
       "selected_index": 2
      }
     },
     "979c90e15e194896bb6cf5f8893ddbf0": {
      "model_module": "@jupyter-widgets/controls",
      "model_module_version": "1.5.0",
      "model_name": "ButtonModel",
      "state": {
       "description": "Add Offset",
       "layout": "IPY_MODEL_a6b2618269884d8da60c5d54e7667080",
       "style": "IPY_MODEL_5908c19485b748e1a69dc2e3359a2d3a"
      }
     },
     "9863994b74974128b5365a7781dedd2c": {
      "model_module": "@jupyter-widgets/controls",
      "model_module_version": "1.5.0",
      "model_name": "IntSliderModel",
      "state": {
       "continuous_update": false,
       "description": "Scan Step",
       "layout": "IPY_MODEL_60dca6b5391d4e8da348b31a53d79b12",
       "max": 10,
       "min": 1,
       "style": "IPY_MODEL_755844497c7c4edda9eebf00c857eabf",
       "value": 10
      }
     },
     "98766ba27c2249d9bad234a7c77de964": {
      "model_module": "@jupyter-widgets/controls",
      "model_module_version": "1.5.0",
      "model_name": "BoundedIntTextModel",
      "state": {
       "description": "Delete row",
       "layout": "IPY_MODEL_12dbae392441489d88d140abfca40ae1",
       "max": 1,
       "min": 1,
       "style": "IPY_MODEL_78dfb43aeb214a6a9cac96c062438a38",
       "value": 1
      }
     },
     "98c85c7875c04db995ab0bf664dd9d59": {
      "model_module": "@jupyter-widgets/base",
      "model_module_version": "1.2.0",
      "model_name": "LayoutModel",
      "state": {}
     },
     "98dae39663ac42598eb4a9c554a8680a": {
      "model_module": "@jupyter-widgets/base",
      "model_module_version": "1.2.0",
      "model_name": "LayoutModel",
      "state": {}
     },
     "98f076e18ed64181bbaa5a78c0ab4135": {
      "model_module": "@jupyter-widgets/controls",
      "model_module_version": "1.5.0",
      "model_name": "IntSliderModel",
      "state": {
       "continuous_update": false,
       "description": "Scan Step",
       "layout": "IPY_MODEL_73534ddb8fc444e9af4b2058dfba7070",
       "max": 10,
       "min": 1,
       "style": "IPY_MODEL_7605664dcf124efc9b9de70918417fb6",
       "value": 10
      }
     },
     "991f5598441d4306a4fcf1d4455852bb": {
      "model_module": "@jupyter-widgets/controls",
      "model_module_version": "1.5.0",
      "model_name": "ButtonModel",
      "state": {
       "description": "Delete Offset",
       "layout": "IPY_MODEL_5a73ccfb82b04291a458d2f5e98ab26f",
       "style": "IPY_MODEL_651ecfd208dd4a64ab3dd85d513989b7"
      }
     },
     "99621c42b3584c0c89230f86046322eb": {
      "model_module": "ipysheet",
      "model_module_version": "~0.4.4",
      "model_name": "CellRangeModel",
      "state": {
       "_view_module": null,
       "_view_module_version": "",
       "column_end": 3,
       "column_start": 0,
       "row_end": 3,
       "row_start": 3,
       "squeeze_column": false,
       "type": "text",
       "value": [
        "",
        "",
        "",
        ""
       ]
      }
     },
     "996e62044e3b4cc9889d6f5c8614a11a": {
      "model_module": "ipysheet",
      "model_module_version": "~0.4.4",
      "model_name": "CellRangeModel",
      "state": {
       "_view_module": null,
       "_view_module_version": "",
       "column_end": 3,
       "column_start": 0,
       "squeeze_column": false,
       "type": "text",
       "value": [
        "",
        "",
        "",
        ""
       ]
      }
     },
     "99ae0a3fc59240e38c0aa47b3d70609e": {
      "model_module": "ipysheet",
      "model_module_version": "~0.4.4",
      "model_name": "CellRangeModel",
      "state": {
       "_view_module": null,
       "_view_module_version": "",
       "column_end": 2,
       "column_start": 2,
       "row_end": 4,
       "row_start": 4,
       "type": "numeric",
       "value": 25
      }
     },
     "99b16dd3aee248a8993b7fdccbf2014d": {
      "model_module": "@jupyter-widgets/base",
      "model_module_version": "1.2.0",
      "model_name": "LayoutModel",
      "state": {
       "grid_area": "stageY",
       "width": "auto"
      }
     },
     "9a53c3deb3f04cedbbaba6003732d985": {
      "model_module": "ipysheet",
      "model_module_version": "~0.4.4",
      "model_name": "SheetModel",
      "state": {
       "cells": [
        "IPY_MODEL_85afa7091cad4d9faa6ee5e598986872",
        "IPY_MODEL_409454fb2f4646df9f0619716c55d156",
        "IPY_MODEL_e92c6bb59eec495c9f35d7011dfd626a",
        "IPY_MODEL_88faeb5a47d54570b1ee3cc10508610c",
        "IPY_MODEL_bb7db1ba98fd4e1c8497c8a192a8d190"
       ],
       "column_headers": [
        "X",
        "Y",
        "Z",
        "Offset"
       ],
       "layout": "IPY_MODEL_e83c264c9af14562a79e495e368617ec",
       "rows": 20
      }
     },
     "9a6f032417a7464a89c90ee4954b7123": {
      "model_module": "@jupyter-widgets/controls",
      "model_module_version": "1.5.0",
      "model_name": "ButtonModel",
      "state": {
       "description": "Stop Acquisition",
       "layout": "IPY_MODEL_414177ae52d24ae496b83939d17c8600",
       "style": "IPY_MODEL_bf369b6768484c55b1d4f1ff0075d0e7"
      }
     },
     "9a96a9f16fd94aaaa794ccba34ed70bf": {
      "model_module": "@jupyter-widgets/controls",
      "model_module_version": "1.5.0",
      "model_name": "ButtonStyleModel",
      "state": {}
     },
     "9aad6af1cd374870ad1543b7f9fc7fb4": {
      "model_module": "@jupyter-widgets/controls",
      "model_module_version": "1.5.0",
      "model_name": "VBoxModel",
      "state": {
       "children": [
        "IPY_MODEL_de7f68aac8164b82b071d5b708dd2ae0",
        "IPY_MODEL_2ae9530c5be745ba8551d7272bacd0bf"
       ],
       "layout": "IPY_MODEL_6c6d941d61f24b3cbeb8a653b8635b3a"
      }
     },
     "9aee0a0cd510460f9b435d245af42e7c": {
      "model_module": "@jupyter-widgets/controls",
      "model_module_version": "1.5.0",
      "model_name": "DescriptionStyleModel",
      "state": {
       "description_width": "initial"
      }
     },
     "9b01553fdd1d423b9fca66bffb42bc52": {
      "model_module": "@jupyter-widgets/controls",
      "model_module_version": "1.5.0",
      "model_name": "LabelModel",
      "state": {
       "layout": "IPY_MODEL_3427b780e0914596bb3a0ffa025c2ee9",
       "style": "IPY_MODEL_d8f7fa1952f84ec49cc21a181b014042",
       "value": "Please stop acquisition and laser first to start experiment"
      }
     },
     "9b1717ace09549958487f536a725457a": {
      "model_module": "@jupyter-widgets/controls",
      "model_module_version": "1.5.0",
      "model_name": "ButtonModel",
      "state": {
       "button_style": "danger",
       "description": "Begin Experiment",
       "layout": "IPY_MODEL_d3a49fc1161b4a3e9f50cf0c160358ee",
       "style": "IPY_MODEL_966039bd41ad422a83e3ac633245e3ca"
      }
     },
     "9b3790bb22b441e88ab4feceaf6da3f1": {
      "model_module": "@jupyter-widgets/base",
      "model_module_version": "1.2.0",
      "model_name": "LayoutModel",
      "state": {
       "width": "90%"
      }
     },
     "9b3939c063df463ea7ed3d1621b14474": {
      "model_module": "ipysheet",
      "model_module_version": "~0.4.4",
      "model_name": "CellRangeModel",
      "state": {
       "_view_module": null,
       "_view_module_version": "",
       "row_end": 5,
       "row_start": 5,
       "type": "text",
       "value": 25
      }
     },
     "9b52c33b5c5f449eb3637fc955606aab": {
      "model_module": "@jupyter-widgets/controls",
      "model_module_version": "1.5.0",
      "model_name": "HBoxModel",
      "state": {
       "children": [
        "IPY_MODEL_11423121a86946a4ae847b561910e65e",
        "IPY_MODEL_9aad6af1cd374870ad1543b7f9fc7fb4"
       ],
       "layout": "IPY_MODEL_84ea3905a8ef4135b76c6ad3b9d19f88"
      }
     },
     "9b8d1f6da31e47bb83ba5c0c1ed3c01c": {
      "buffers": [
       {
        "data": "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",
        "encoding": "base64",
        "path": [
         "value"
        ]
       }
      ],
      "model_module": "@jupyter-widgets/controls",
      "model_module_version": "1.5.0",
      "model_name": "ImageModel",
      "state": {
       "format": "jpeg",
       "height": "500",
       "layout": "IPY_MODEL_10b841e71169468aa272b663d2423bcc",
       "value": {},
       "width": "1000"
      }
     },
     "9bba4bbbbdc5430e9dbc1b535b3fcfca": {
      "model_module": "@jupyter-widgets/controls",
      "model_module_version": "1.5.0",
      "model_name": "DescriptionStyleModel",
      "state": {
       "description_width": "initial"
      }
     },
     "9c08da02346c43749fbd7942a7b1d486": {
      "model_module": "@jupyter-widgets/controls",
      "model_module_version": "1.5.0",
      "model_name": "VBoxModel",
      "state": {
       "children": [
        "IPY_MODEL_45c08c3ab21d4b38887f9bcad8e7aa7c",
        "IPY_MODEL_c7d37861d40648db84bb31eb8040d8fd"
       ],
       "layout": "IPY_MODEL_241bc4b581ae43edbee63431dcae16a4"
      }
     },
     "9c2f0e9997a04acea29ef0cc7829983f": {
      "model_module": "@jupyter-widgets/controls",
      "model_module_version": "1.5.0",
      "model_name": "IntSliderModel",
      "state": {
       "continuous_update": false,
       "description": "Blue",
       "layout": "IPY_MODEL_96877f2845724004b43764a91b44dac5",
       "max": 255,
       "style": "IPY_MODEL_3e82d2e7169f401797a912d12749eaa5"
      }
     },
     "9c5a1ba174c84e3da24449b89de781c3": {
      "model_module": "@jupyter-widgets/controls",
      "model_module_version": "1.5.0",
      "model_name": "BoundedFloatTextModel",
      "state": {
       "description": "Stage Y (um)",
       "layout": "IPY_MODEL_cd14be235dbb4999a099b41da4d548af",
       "max": 50,
       "step": 0.001,
       "style": "IPY_MODEL_cded58fc790049179d0eb235dfb9a92d",
       "value": 25
      }
     },
     "9c7ea4cc3dc64c5483b411d7fa528139": {
      "model_module": "@jupyter-widgets/controls",
      "model_module_version": "1.5.0",
      "model_name": "BoundedFloatTextModel",
      "state": {
       "description": "Scan min Y (um)",
       "layout": "IPY_MODEL_d4aa8e02e46c4107b8918be56a04b169",
       "max": 50,
       "step": 0.001,
       "style": "IPY_MODEL_d94e45480b9349158884854e47353aac",
       "value": 24.5
      }
     },
     "9cc57cf0c5fb4db4a238347c5b437ad9": {
      "model_module": "ipysheet",
      "model_module_version": "~0.4.4",
      "model_name": "CellRangeModel",
      "state": {
       "_view_module": null,
       "_view_module_version": "",
       "column_end": 3,
       "column_start": 0,
       "row_end": 5,
       "row_start": 5,
       "squeeze_column": false,
       "type": "numeric",
       "value": [
        "",
        "",
        "",
        ""
       ]
      }
     },
     "9cc5d6def8ba4fa1b44c3befe0b31d38": {
      "model_module": "@jupyter-widgets/base",
      "model_module_version": "1.2.0",
      "model_name": "LayoutModel",
      "state": {}
     },
     "9d0c86dd148b4e26bbaf375198626da1": {
      "model_module": "@jupyter-widgets/base",
      "model_module_version": "1.2.0",
      "model_name": "LayoutModel",
      "state": {
       "width": "50%"
      }
     },
     "9d1a95a40a914d7b9d90b18b54771473": {
      "model_module": "@jupyter-widgets/controls",
      "model_module_version": "1.5.0",
      "model_name": "DescriptionStyleModel",
      "state": {
       "description_width": "initial"
      }
     },
     "9d39df3182e74ab593344f96e5310dea": {
      "model_module": "@jupyter-widgets/controls",
      "model_module_version": "1.5.0",
      "model_name": "CheckboxModel",
      "state": {
       "description": "Flip90",
       "disabled": false,
       "layout": "IPY_MODEL_6da12b0704e9430e945f516c79f32756",
       "style": "IPY_MODEL_473dbb4bfe3649a98fd859e2f35e42b3",
       "value": true
      }
     },
     "9d3d5029eb364432a4a641ec7320bbdf": {
      "model_module": "@jupyter-widgets/controls",
      "model_module_version": "1.5.0",
      "model_name": "ButtonStyleModel",
      "state": {}
     },
     "9d57e47efee346a3ad73cb8a44300cf8": {
      "model_module": "@jupyter-widgets/controls",
      "model_module_version": "1.5.0",
      "model_name": "BoundedFloatTextModel",
      "state": {
       "description": "Scan min Z (um)",
       "layout": "IPY_MODEL_fa79c2215a424f1dac007d944c8ffb32",
       "max": 50,
       "step": 0.001,
       "style": "IPY_MODEL_d07632c4880b43978b6401065d9b66e3",
       "value": 24.5
      }
     },
     "9d7ad32d4395469c8cd3f015ba14d8ad": {
      "model_module": "ipysheet",
      "model_module_version": "~0.4.4",
      "model_name": "CellRangeModel",
      "state": {
       "_view_module": null,
       "_view_module_version": "",
       "row_end": 0,
       "row_start": 0,
       "type": "numeric",
       "value": 49.5
      }
     },
     "9d97acc90a1a465ca54eb89c8b39127f": {
      "model_module": "@jupyter-widgets/controls",
      "model_module_version": "1.5.0",
      "model_name": "SliderStyleModel",
      "state": {
       "description_width": "initial"
      }
     },
     "9de8853705a44b1f8d96177718d9e636": {
      "model_module": "@jupyter-widgets/controls",
      "model_module_version": "1.5.0",
      "model_name": "BoundedIntTextModel",
      "state": {
       "description": "Light Sheet Offset",
       "layout": "IPY_MODEL_b33aec0d133a42c2918077b9ebbd9bb6",
       "max": 300,
       "min": -300,
       "style": "IPY_MODEL_233025bc27e545e9bad0609773e1ab45",
       "value": 5
      }
     },
     "9e10721528374897968a78cb5b63dfed": {
      "model_module": "@jupyter-widgets/base",
      "model_module_version": "1.2.0",
      "model_name": "LayoutModel",
      "state": {
       "grid_template_areas": "\n                                        \". . largeFOV_begin_button\"\n                                    ",
       "grid_template_columns": "40% 40% 20%",
       "grid_template_rows": "auto",
       "width": "100%"
      }
     },
     "9e19bfd648304d3ba941ebb62a948b6f": {
      "model_module": "@jupyter-widgets/base",
      "model_module_version": "1.2.0",
      "model_name": "LayoutModel",
      "state": {
       "width": "50%"
      }
     },
     "9e1e007747814b0db1317f622a30236a": {
      "model_module": "@jupyter-widgets/controls",
      "model_module_version": "1.5.0",
      "model_name": "IntRangeSliderModel",
      "state": {
       "_model_name": "IntRangeSliderModel",
       "_view_name": "IntRangeSliderView",
       "continuous_update": false,
       "description": "Range",
       "layout": "IPY_MODEL_29e7b5109120445681419ad2e630ed8d",
       "max": 65535,
       "style": "IPY_MODEL_4e680897b9324568948e57accf7d6662",
       "value": [
        0,
        65535
       ]
      }
     },
     "9e7480903d954d4f8675f72d5aa0fc77": {
      "model_module": "@jupyter-widgets/base",
      "model_module_version": "1.2.0",
      "model_name": "LayoutModel",
      "state": {
       "width": "90%"
      }
     },
     "9e8668e4ba7a462ca39e224085d7d27c": {
      "model_module": "@jupyter-widgets/controls",
      "model_module_version": "1.5.0",
      "model_name": "ButtonStyleModel",
      "state": {}
     },
     "9f04900861e94ad3886e6c317a65c202": {
      "model_module": "@jupyter-widgets/controls",
      "model_module_version": "1.5.0",
      "model_name": "IntSliderModel",
      "state": {
       "continuous_update": false,
       "description": "Center",
       "layout": "IPY_MODEL_f995f784a0414ceb93dd948d9b37b3fc",
       "max": 200,
       "min": -200,
       "style": "IPY_MODEL_3a8faa0cb6cd4e47a347d4651593dda0"
      }
     },
     "9f49bc551ee14407bd66e6e66e0d75bf": {
      "model_module": "ipysheet",
      "model_module_version": "~0.4.4",
      "model_name": "CellRangeModel",
      "state": {
       "_view_module": null,
       "_view_module_version": "",
       "column_end": 3,
       "column_start": 0,
       "row_end": 0,
       "row_start": 0,
       "squeeze_column": false,
       "type": "numeric",
       "value": [
        "",
        "",
        "",
        ""
       ]
      }
     },
     "9f71e455c8c94604bcf785ad75bfc79e": {
      "model_module": "@jupyter-widgets/base",
      "model_module_version": "1.2.0",
      "model_name": "LayoutModel",
      "state": {
       "border": "solid 1px",
       "grid_template_areas": "\n                                        \"minX minY minZ\"\n                                        \"maxX maxY maxZ\"\n                                        \"deltaZ overlap .\"\n                                    ",
       "grid_template_columns": "30% 30% 30%",
       "grid_template_rows": "auto auto",
       "width": "100%"
      }
     },
     "9f9232d8db294473bc41201c0ca49501": {
      "model_module": "@jupyter-widgets/base",
      "model_module_version": "1.2.0",
      "model_name": "LayoutModel",
      "state": {
       "grid_area": "delRow",
       "width": "auto"
      }
     },
     "9fc16bc9c62d442eae33a0e7597af057": {
      "model_module": "@jupyter-widgets/base",
      "model_module_version": "1.2.0",
      "model_name": "LayoutModel",
      "state": {
       "width": "90%"
      }
     },
     "9fdd019733f84d80beefa5ede195c5be": {
      "model_module": "ipysheet",
      "model_module_version": "~0.4.4",
      "model_name": "CellRangeModel",
      "state": {
       "_view_module": null,
       "_view_module_version": "",
       "column_end": 3,
       "column_start": 0,
       "row_end": 2,
       "row_start": 2,
       "squeeze_column": false,
       "type": "numeric",
       "value": [
        "",
        "",
        "",
        ""
       ]
      }
     },
     "9fe428c12e214fc7ad3a91c36782927c": {
      "model_module": "@jupyter-widgets/base",
      "model_module_version": "1.2.0",
      "model_name": "LayoutModel",
      "state": {}
     },
     "a02e56b14f0c45e783eb04b107247f0f": {
      "model_module": "@jupyter-widgets/controls",
      "model_module_version": "1.5.0",
      "model_name": "ButtonStyleModel",
      "state": {}
     },
     "a055a17e885644aa986fe51892d4515c": {
      "model_module": "ipysheet",
      "model_module_version": "~0.4.4",
      "model_name": "CellRangeModel",
      "state": {
       "_view_module": null,
       "_view_module_version": "",
       "column_end": 3,
       "column_start": 0,
       "row_end": 2,
       "row_start": 2,
       "squeeze_column": false,
       "type": "numeric",
       "value": [
        "",
        "",
        "",
        ""
       ]
      }
     },
     "a08039be838a4df6aeed96bc486d7aa3": {
      "model_module": "@jupyter-widgets/controls",
      "model_module_version": "1.5.0",
      "model_name": "DescriptionStyleModel",
      "state": {
       "description_width": "initial"
      }
     },
     "a0b27ceb5bbb416dbb065b157c9a96fe": {
      "model_module": "@jupyter-widgets/controls",
      "model_module_version": "1.5.0",
      "model_name": "BoundedFloatTextModel",
      "state": {
       "description": "Stage Z (um)",
       "layout": "IPY_MODEL_2145552e96db42fb9d92fe8e8f614c92",
       "max": 50,
       "step": 0.001,
       "style": "IPY_MODEL_d9e9c2f010e84c888b1c4ad952da4dff",
       "value": 25
      }
     },
     "a0e013e668f04fd5b15b75d55f47e1fa": {
      "model_module": "ipysheet",
      "model_module_version": "~0.4.4",
      "model_name": "CellRangeModel",
      "state": {
       "_view_module": null,
       "_view_module_version": "",
       "column_end": 3,
       "column_start": 0,
       "row_end": 0,
       "row_start": 0,
       "squeeze_column": false,
       "type": "numeric",
       "value": [
        "",
        "",
        "",
        ""
       ]
      }
     },
     "a11525e8ff1f4b449b6d65ae142068ee": {
      "model_module": "@jupyter-widgets/controls",
      "model_module_version": "1.5.0",
      "model_name": "ButtonModel",
      "state": {
       "description": "Preview Scan",
       "layout": "IPY_MODEL_e7429ba90593460c9b2e653798dabab2",
       "style": "IPY_MODEL_1a5b10054634449fa9944fbba66ace61"
      }
     },
     "a14644a068f64062a8e1c0f13f77c878": {
      "model_module": "@jupyter-widgets/controls",
      "model_module_version": "1.5.0",
      "model_name": "VBoxModel",
      "state": {
       "children": [
        "IPY_MODEL_be87d3681d2b44eb85eea61ad67270f6",
        "IPY_MODEL_928674cfc0b74262b3f4ee4921ff27e1"
       ],
       "layout": "IPY_MODEL_3577a658efe4499f9084ec7be3f1c074"
      }
     },
     "a1865f19a7684ec1a2e27bca6dcad4e2": {
      "model_module": "@jupyter-widgets/controls",
      "model_module_version": "1.5.0",
      "model_name": "DescriptionStyleModel",
      "state": {
       "description_width": "initial"
      }
     },
     "a1ad2f539138403b952b67c0134c1a1e": {
      "model_module": "@jupyter-widgets/controls",
      "model_module_version": "1.5.0",
      "model_name": "IntSliderModel",
      "state": {
       "continuous_update": false,
       "description": "Offset",
       "layout": "IPY_MODEL_7773c53b20f84178af75f36968808655",
       "max": 300,
       "min": -300,
       "style": "IPY_MODEL_8d17a73216a5403b9f50b7c9fa046ba0"
      }
     },
     "a1b0577360624722b4080668ebe1a1e2": {
      "model_module": "@jupyter-widgets/controls",
      "model_module_version": "1.5.0",
      "model_name": "IntSliderModel",
      "state": {
       "continuous_update": false,
       "description": "Offset",
       "layout": "IPY_MODEL_c06b3a490ee049afac7a09056550ea05",
       "max": 300,
       "min": -300,
       "style": "IPY_MODEL_316141f63a3245dbadee3db172e49328",
       "value": -9
      }
     },
     "a1f4d9c503d24e1baba1deed5ed20f41": {
      "model_module": "@jupyter-widgets/controls",
      "model_module_version": "1.5.0",
      "model_name": "IntSliderModel",
      "state": {
       "continuous_update": false,
       "description": "Blue",
       "layout": "IPY_MODEL_6f65f15aa05e4b338d7e44d429d74e70",
       "max": 255,
       "style": "IPY_MODEL_eac3d492c71448f49335022ec40e1fc4"
      }
     },
     "a217bebf4bad49f79e1aef9c0c00230e": {
      "model_module": "@jupyter-widgets/base",
      "model_module_version": "1.2.0",
      "model_name": "LayoutModel",
      "state": {}
     },
     "a219c00428764b9a931ced6c05041720": {
      "model_module": "@jupyter-widgets/controls",
      "model_module_version": "1.5.0",
      "model_name": "SliderStyleModel",
      "state": {
       "description_width": ""
      }
     },
     "a231c6961b8446cdaf2cd3db5452122a": {
      "model_module": "ipysheet",
      "model_module_version": "~0.4.4",
      "model_name": "CellRangeModel",
      "state": {
       "_view_module": null,
       "_view_module_version": "",
       "column_end": 0,
       "column_start": 0,
       "row_end": 2,
       "row_start": 2,
       "type": "numeric",
       "value": 25
      }
     },
     "a245df2cce0d4eb7b76e1ab03a5f6d6a": {
      "model_module": "@jupyter-widgets/controls",
      "model_module_version": "1.5.0",
      "model_name": "BoundedFloatTextModel",
      "state": {
       "description": "Scan min Z (um)",
       "layout": "IPY_MODEL_1dec90388452411f93b3ec70d87ab880",
       "max": 50,
       "step": 0.001,
       "style": "IPY_MODEL_0e5b79c56c29413fb75bed74e1c61294",
       "value": 24.5
      }
     },
     "a25db6589ada4420b3e5c48c188d2d50": {
      "model_module": "@jupyter-widgets/controls",
      "model_module_version": "1.5.0",
      "model_name": "VBoxModel",
      "state": {
       "children": [
        "IPY_MODEL_c8dc8fc9511740dcb3df0a9da1a3081d",
        "IPY_MODEL_9863994b74974128b5365a7781dedd2c",
        "IPY_MODEL_8bc241bd79ca47629fe5690155641878"
       ],
       "layout": "IPY_MODEL_c815edc982fc4de08774ef2710fdb73b"
      }
     },
     "a32552f037b4430fa06d06901306864a": {
      "model_module": "@jupyter-widgets/controls",
      "model_module_version": "1.5.0",
      "model_name": "ButtonModel",
      "state": {
       "description": "WideField",
       "layout": "IPY_MODEL_199a9aeb8859420b821d394b87a98f2b",
       "style": "IPY_MODEL_f947d1a6c0484951b31f02e5be14fd84"
      }
     },
     "a33b8525bd7441289dd702f5bd62a1b7": {
      "model_module": "@jupyter-widgets/controls",
      "model_module_version": "1.5.0",
      "model_name": "SliderStyleModel",
      "state": {
       "description_width": ""
      }
     },
     "a341da4ffd1b417d8b109d18d95ec49a": {
      "model_module": "ipysheet",
      "model_module_version": "~0.4.4",
      "model_name": "CellRangeModel",
      "state": {
       "_view_module": null,
       "_view_module_version": "",
       "column_end": 2,
       "column_start": 2,
       "row_end": 5,
       "row_start": 5,
       "type": "text",
       "value": 25
      }
     },
     "a34ac16c37664adab9804898dab8076f": {
      "model_module": "@jupyter-widgets/controls",
      "model_module_version": "1.5.0",
      "model_name": "ButtonStyleModel",
      "state": {}
     },
     "a351b0654a8d4084bd744cc527d33bd4": {
      "model_module": "ipysheet",
      "model_module_version": "~0.4.4",
      "model_name": "CellRangeModel",
      "state": {
       "_view_module": null,
       "_view_module_version": "",
       "column_end": 3,
       "column_start": 0,
       "squeeze_column": false,
       "type": "text",
       "value": [
        "",
        "",
        "",
        ""
       ]
      }
     },
     "a37032ec15c649eb8633b4281df6c0ce": {
      "model_module": "@jupyter-widgets/controls",
      "model_module_version": "1.5.0",
      "model_name": "DescriptionStyleModel",
      "state": {
       "description_width": "initial"
      }
     },
     "a395e828e85c40d5b8eb40f24c4ca2ba": {
      "model_module": "@jupyter-widgets/controls",
      "model_module_version": "1.5.0",
      "model_name": "BoundedIntTextModel",
      "state": {
       "description": "3D Volume #",
       "layout": "IPY_MODEL_e5b29c68d69f433e9afa6f973cd36013",
       "max": 100000,
       "min": 1,
       "style": "IPY_MODEL_bd526e32704a41d7acc7a7e21dcefdfa",
       "value": 1
      }
     },
     "a39c7b0b85be4e4cb3bc720f49ff0f67": {
      "model_module": "@jupyter-widgets/controls",
      "model_module_version": "1.5.0",
      "model_name": "TabModel",
      "state": {
       "_titles": {
        "0": "Light sheet scan",
        "1": "Wide Field",
        "2": "Large FOV"
       },
       "children": [
        "IPY_MODEL_7f9b1a72fab94ba2bac499f89b7fc2b7",
        "IPY_MODEL_d0eb8cd9865449a8bc49b25ca1258572",
        "IPY_MODEL_d374bfd45fcf4b2c8b8e48cdd43323dd"
       ],
       "layout": "IPY_MODEL_31d74b4ca73b42df914d5bd6eb8e0b62",
       "selected_index": 2
      }
     },
     "a3ebc9b014174ef3ab35502ed34e28fa": {
      "model_module": "@jupyter-widgets/controls",
      "model_module_version": "1.5.0",
      "model_name": "BoundedFloatTextModel",
      "state": {
       "description": "delta Z (um)",
       "layout": "IPY_MODEL_4d871f3bc01346e1a23dacf47bba3c06",
       "max": 10,
       "min": 0.001,
       "step": 0.001,
       "style": "IPY_MODEL_21333aa405e74a38a4cf8f5a4b351a6c",
       "value": 0.1
      }
     },
     "a3feb01399734315bd044db3d8a44858": {
      "model_module": "@jupyter-widgets/controls",
      "model_module_version": "1.5.0",
      "model_name": "SliderStyleModel",
      "state": {
       "description_width": ""
      }
     },
     "a43e844745eb44cf84dcf26526a00e61": {
      "model_module": "@jupyter-widgets/controls",
      "model_module_version": "1.5.0",
      "model_name": "SliderStyleModel",
      "state": {
       "description_width": "initial"
      }
     },
     "a46606003a804a3c9d5f35ea34e0de8d": {
      "model_module": "ipysheet",
      "model_module_version": "~0.4.4",
      "model_name": "CellRangeModel",
      "state": {
       "_view_module": null,
       "_view_module_version": "",
       "column_end": 3,
       "column_start": 0,
       "row_end": 4,
       "row_start": 4,
       "squeeze_column": false,
       "type": "numeric",
       "value": [
        "",
        "",
        "",
        ""
       ]
      }
     },
     "a46b4aef484d4d1198ef048f8d1cdade": {
      "model_module": "@jupyter-widgets/controls",
      "model_module_version": "1.5.0",
      "model_name": "DescriptionStyleModel",
      "state": {
       "description_width": "initial"
      }
     },
     "a472c13d24314ca7bc35b67961aa54ee": {
      "model_module": "@jupyter-widgets/controls",
      "model_module_version": "1.5.0",
      "model_name": "BoundedFloatTextModel",
      "state": {
       "description": "Overlap ratio (%)",
       "layout": "IPY_MODEL_6d1c58ee7bea460ba0435b82407ab60a",
       "max": 50,
       "step": 1,
       "style": "IPY_MODEL_9d1a95a40a914d7b9d90b18b54771473",
       "value": 20
      }
     },
     "a48429a7f15d4f92b5df59f80722e695": {
      "model_module": "@jupyter-widgets/controls",
      "model_module_version": "1.5.0",
      "model_name": "DescriptionStyleModel",
      "state": {
       "description_width": ""
      }
     },
     "a484e19282644f5ba77c6bbd82cef857": {
      "model_module": "@jupyter-widgets/controls",
      "model_module_version": "1.5.0",
      "model_name": "CheckboxModel",
      "state": {
       "description": "Flip90",
       "disabled": false,
       "layout": "IPY_MODEL_391443ba736945d19dc3e7a8a6301aad",
       "style": "IPY_MODEL_b4d87cdfbb224f7d83f8d31dd998db08",
       "value": true
      }
     },
     "a4d6e2046735408aa097b662bd74cf7c": {
      "model_module": "@jupyter-widgets/controls",
      "model_module_version": "1.5.0",
      "model_name": "DescriptionStyleModel",
      "state": {
       "description_width": "initial"
      }
     },
     "a50bae4bff9840a1b5dec03091612e8f": {
      "model_module": "ipysheet",
      "model_module_version": "~0.4.4",
      "model_name": "CellRangeModel",
      "state": {
       "_view_module": null,
       "_view_module_version": "",
       "column_end": 3,
       "column_start": 0,
       "squeeze_column": false,
       "type": "numeric",
       "value": [
        "",
        "",
        "",
        ""
       ]
      }
     },
     "a5432bb5239f4a73a65bafc5c44fe340": {
      "model_module": "@jupyter-widgets/base",
      "model_module_version": "1.2.0",
      "model_name": "LayoutModel",
      "state": {
       "grid_area": "maxZ",
       "width": "auto"
      }
     },
     "a5665c8079a844b1b2527621220607de": {
      "model_module": "@jupyter-widgets/controls",
      "model_module_version": "1.5.0",
      "model_name": "BoundedFloatTextModel",
      "state": {
       "description": "Stage Y (um)",
       "layout": "IPY_MODEL_248e54f916f54f96b316632c7363d61b",
       "max": 50,
       "step": 0.001,
       "style": "IPY_MODEL_229666bb696a4e54a44b0ed7a20fe730",
       "value": 25
      }
     },
     "a574b782edff435dbb64e194f3ce3c28": {
      "model_module": "@jupyter-widgets/base",
      "model_module_version": "1.2.0",
      "model_name": "LayoutModel",
      "state": {}
     },
     "a5761a9eff19429ca4d4cce96648cbd5": {
      "model_module": "@jupyter-widgets/controls",
      "model_module_version": "1.5.0",
      "model_name": "BoundedIntTextModel",
      "state": {
       "description": "3D Volume #",
       "layout": "IPY_MODEL_80ee1f2f2a5e4ab6a87b975ae23fb47d",
       "max": 100000,
       "min": 1,
       "style": "IPY_MODEL_5f27fd9d347645878ec622b3d7641997",
       "value": 1
      }
     },
     "a5b9d0811ee940e9a1a305e9822a880b": {
      "model_module": "@jupyter-widgets/base",
      "model_module_version": "1.2.0",
      "model_name": "LayoutModel",
      "state": {
       "width": "90%"
      }
     },
     "a5d14cd131524a90b7bb48b4c374ce82": {
      "model_module": "@jupyter-widgets/controls",
      "model_module_version": "1.5.0",
      "model_name": "ButtonModel",
      "state": {
       "button_style": "danger",
       "description": "Begin Experiment",
       "layout": "IPY_MODEL_a602cbeccdab4418823aacca26926ea3",
       "style": "IPY_MODEL_c87d68e49e1e49608fd5a3e4d41e34fa"
      }
     },
     "a602cbeccdab4418823aacca26926ea3": {
      "model_module": "@jupyter-widgets/base",
      "model_module_version": "1.2.0",
      "model_name": "LayoutModel",
      "state": {
       "grid_area": "largeFOV_begin_button",
       "width": "auto"
      }
     },
     "a604ddad0f384030a07c41b1e03baa0c": {
      "model_module": "@jupyter-widgets/base",
      "model_module_version": "1.2.0",
      "model_name": "LayoutModel",
      "state": {
       "width": "90%"
      }
     },
     "a65a3474c5d942be8b507583aa00d097": {
      "model_module": "@jupyter-widgets/controls",
      "model_module_version": "1.5.0",
      "model_name": "VBoxModel",
      "state": {
       "children": [
        "IPY_MODEL_9a6f032417a7464a89c90ee4954b7123",
        "IPY_MODEL_ef5b346cfdc742809c2cc6ff1f8dd276"
       ],
       "layout": "IPY_MODEL_11e819dea0e94a828b82fbdb3e034be0"
      }
     },
     "a6702e2b548748b198594271478bb8a8": {
      "model_module": "ipysheet",
      "model_module_version": "~0.4.4",
      "model_name": "CellRangeModel",
      "state": {
       "_view_module": null,
       "_view_module_version": "",
       "column_end": 0,
       "column_start": 0,
       "row_end": 3,
       "row_start": 3,
       "type": "numeric",
       "value": 25
      }
     },
     "a6b2618269884d8da60c5d54e7667080": {
      "model_module": "@jupyter-widgets/base",
      "model_module_version": "1.2.0",
      "model_name": "LayoutModel",
      "state": {
       "grid_area": "addOffset",
       "width": "auto"
      }
     },
     "a738ec767a524b1ebd569c00207222a8": {
      "model_module": "@jupyter-widgets/controls",
      "model_module_version": "1.5.0",
      "model_name": "BoundedFloatTextModel",
      "state": {
       "description": "Scan min Y (um)",
       "layout": "IPY_MODEL_6433995870ee432c834194295d013abc",
       "max": 50,
       "step": 0.001,
       "style": "IPY_MODEL_7c0a600910b749ddb5ceade1227ad6a2",
       "value": 24.5
      }
     },
     "a77dec942d9e4fd582f74b43e261c4f9": {
      "model_module": "ipysheet",
      "model_module_version": "~0.4.4",
      "model_name": "CellRangeModel",
      "state": {
       "_view_module": null,
       "_view_module_version": "",
       "column_end": 3,
       "column_start": 0,
       "row_end": 5,
       "row_start": 5,
       "squeeze_column": false,
       "type": "numeric",
       "value": [
        "",
        "",
        "",
        ""
       ]
      }
     },
     "a7893954a31b466183757af6e21fbff8": {
      "model_module": "@jupyter-widgets/base",
      "model_module_version": "1.2.0",
      "model_name": "LayoutModel",
      "state": {
       "grid_area": "maxX",
       "width": "auto"
      }
     },
     "a7a4e5ac14854af6a0a39f90cd41bf70": {
      "model_module": "@jupyter-widgets/base",
      "model_module_version": "1.2.0",
      "model_name": "LayoutModel",
      "state": {
       "grid_area": "maxY",
       "width": "auto"
      }
     },
     "a83c697512ae41099dd2f0eaca6962e3": {
      "model_module": "@jupyter-widgets/controls",
      "model_module_version": "1.5.0",
      "model_name": "HBoxModel",
      "state": {
       "children": [
        "IPY_MODEL_40198c63c57747b2a2d307c2e3531f17",
        "IPY_MODEL_5b7563c517d74c589c9b38ce02789aa6"
       ],
       "layout": "IPY_MODEL_ea69fbb3c7b14b97bcdfec79ae2060f2"
      }
     },
     "a846d236e19a4a8796aeb8789df2f197": {
      "model_module": "@jupyter-widgets/controls",
      "model_module_version": "1.5.0",
      "model_name": "GridBoxModel",
      "state": {
       "children": [
        "IPY_MODEL_6c0c9cb1994348dabf90ce138827bd35",
        "IPY_MODEL_c547581a6a824111b2791a0aaf6eacab",
        "IPY_MODEL_a245df2cce0d4eb7b76e1ab03a5f6d6a",
        "IPY_MODEL_c2bb6c3af6804dfdb2b89d065bd82aec",
        "IPY_MODEL_6dd03cd9af614ffd8ce76e3ffe64d83a",
        "IPY_MODEL_542d7a68885e41979ab2c884903d99f7",
        "IPY_MODEL_818b5c810d0840f3a09cb10e5f3a20f4",
        "IPY_MODEL_a472c13d24314ca7bc35b67961aa54ee"
       ],
       "layout": "IPY_MODEL_3cf820c7f2fa4a6fbfb2fa25f803de51"
      }
     },
     "a858d8aaed674c53bc2f4834d0c99eff": {
      "model_module": "@jupyter-widgets/controls",
      "model_module_version": "1.5.0",
      "model_name": "BoundedIntTextModel",
      "state": {
       "description": "Delete row",
       "layout": "IPY_MODEL_4c9ca2cc25b64ef580861131bbc3cd61",
       "max": 1,
       "min": 1,
       "style": "IPY_MODEL_7e250989a6d64272bb6a5ae9f2d30ed8",
       "value": 1
      }
     },
     "a85cc1036a2a4a00b2c929a920e904f9": {
      "model_module": "@jupyter-widgets/base",
      "model_module_version": "1.2.0",
      "model_name": "LayoutModel",
      "state": {
       "grid_area": "deltaZ",
       "width": "auto"
      }
     },
     "a8b709ea64634138952220f65511e62c": {
      "model_module": "@jupyter-widgets/base",
      "model_module_version": "1.2.0",
      "model_name": "LayoutModel",
      "state": {
       "grid_area": "largeFOV_begin_button",
       "width": "auto"
      }
     },
     "a8ebc31cd40e4928a34d189102ca31e1": {
      "model_module": "@jupyter-widgets/controls",
      "model_module_version": "1.5.0",
      "model_name": "DescriptionStyleModel",
      "state": {
       "description_width": "initial"
      }
     },
     "a94cf734d6e148b3917de066a1ed2df9": {
      "model_module": "ipysheet",
      "model_module_version": "~0.4.4",
      "model_name": "CellRangeModel",
      "state": {
       "_view_module": null,
       "_view_module_version": "",
       "column_end": 3,
       "column_start": 3,
       "row_end": 3,
       "row_start": 3,
       "type": "numeric",
       "value": 0
      }
     },
     "a97dfc3e58364671bec5bbb72be9f143": {
      "model_module": "@jupyter-widgets/base",
      "model_module_version": "1.2.0",
      "model_name": "LayoutModel",
      "state": {
       "border": "solid 1px",
       "grid_template_areas": "\n                                        \"minX minY minZ\"\n                                        \"maxX maxY maxZ\"\n                                        \"deltaZ overlap .\"\n                                    ",
       "grid_template_columns": "30% 30% 30%",
       "grid_template_rows": "auto auto",
       "width": "100%"
      }
     },
     "a99af1ff30784e709719dbd622b00d6c": {
      "buffers": [
       {
        "data": "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",
        "encoding": "base64",
        "path": [
         "value"
        ]
       }
      ],
      "model_module": "@jupyter-widgets/controls",
      "model_module_version": "1.5.0",
      "model_name": "ImageModel",
      "state": {
       "format": "jpeg",
       "height": "500",
       "layout": "IPY_MODEL_0f932b8f487c4c40a44bc63a49befbe9",
       "value": {},
       "width": "1000"
      }
     },
     "a9a12756639b438b8afcb738d6d78834": {
      "model_module": "@jupyter-widgets/controls",
      "model_module_version": "1.5.0",
      "model_name": "DescriptionStyleModel",
      "state": {
       "description_width": "initial"
      }
     },
     "aa04dc6cea6c48adba1803a2bb91eba1": {
      "model_module": "@jupyter-widgets/controls",
      "model_module_version": "1.5.0",
      "model_name": "ButtonStyleModel",
      "state": {}
     },
     "aa2c839a275a448cb2bd92777862cc3d": {
      "model_module": "@jupyter-widgets/controls",
      "model_module_version": "1.5.0",
      "model_name": "SliderStyleModel",
      "state": {
       "description_width": ""
      }
     },
     "aa4c0394a5ec4fbcbf489dc48071bcdf": {
      "model_module": "ipysheet",
      "model_module_version": "~0.4.4",
      "model_name": "CellRangeModel",
      "state": {
       "_view_module": null,
       "_view_module_version": "",
       "row_end": 4,
       "row_start": 4,
       "type": "text",
       "value": ""
      }
     },
     "aa70bd616f944753be6e1be7dfa1b045": {
      "model_module": "@jupyter-widgets/controls",
      "model_module_version": "1.5.0",
      "model_name": "LabelModel",
      "state": {
       "layout": "IPY_MODEL_1cf162cf0ea143a78c2b896dfc6084e2",
       "style": "IPY_MODEL_f8a1dad4c72841ba8124898f5b810ce3",
       "value": "Please stop acquisition and laser first to start experiment"
      }
     },
     "aacadea5b1364cf9898489222be856f2": {
      "model_module": "@jupyter-widgets/controls",
      "model_module_version": "1.5.0",
      "model_name": "IntSliderModel",
      "state": {
       "continuous_update": false,
       "description": "Scan Range",
       "layout": "IPY_MODEL_d371e96423a949f5910b4ee5929c4d5f",
       "max": 1280,
       "min": 1,
       "style": "IPY_MODEL_c8a8a41faf574e82975e8c1abd384207",
       "value": 100
      }
     },
     "aadf8ddefae84d4ab6ec70e5e95e88a6": {
      "model_module": "@jupyter-widgets/base",
      "model_module_version": "1.2.0",
      "model_name": "LayoutModel",
      "state": {
       "grid_template_areas": "\n                                        \". . largeFOV_begin_button\"\n                                    ",
       "grid_template_columns": "40% 40% 20%",
       "grid_template_rows": "auto",
       "width": "100%"
      }
     },
     "ab14da0d9b304a50ad3f7d950bdefc5a": {
      "model_module": "@jupyter-widgets/controls",
      "model_module_version": "1.5.0",
      "model_name": "ButtonStyleModel",
      "state": {}
     },
     "ab276fff3c8a4076b13b114c28b98b0a": {
      "model_module": "@jupyter-widgets/base",
      "model_module_version": "1.2.0",
      "model_name": "LayoutModel",
      "state": {
       "height": "auto",
       "width": "auto"
      }
     },
     "ab32d68a83214a91ae548f2597e76d8f": {
      "model_module": "@jupyter-widgets/controls",
      "model_module_version": "1.5.0",
      "model_name": "IntSliderModel",
      "state": {
       "continuous_update": false,
       "description": "Green",
       "layout": "IPY_MODEL_6e72918e58da4cdebf8fc38eba1e9016",
       "max": 255,
       "style": "IPY_MODEL_74be4918c31543338a6cca636c31e3b3"
      }
     },
     "ab44082e15714e9aa61c96ee6b8af0c7": {
      "model_module": "ipysheet",
      "model_module_version": "~0.4.4",
      "model_name": "CellRangeModel",
      "state": {
       "_view_module": null,
       "_view_module_version": "",
       "column_end": 2,
       "column_start": 2,
       "row_end": 5,
       "row_start": 5,
       "type": "text",
       "value": ""
      }
     },
     "ab9b27dc52984de79d64e0be42c2edf2": {
      "model_module": "@jupyter-widgets/base",
      "model_module_version": "1.2.0",
      "model_name": "LayoutModel",
      "state": {
       "width": "90%"
      }
     },
     "aba3a948a68e4a6eae707d8f70fcc426": {
      "model_module": "@jupyter-widgets/controls",
      "model_module_version": "1.5.0",
      "model_name": "ButtonStyleModel",
      "state": {}
     },
     "abb98a311273474586c42c7f320288d4": {
      "model_module": "@jupyter-widgets/controls",
      "model_module_version": "1.5.0",
      "model_name": "BoundedFloatTextModel",
      "state": {
       "description": "Stage Z (um)",
       "layout": "IPY_MODEL_625e36a7b0f144d28e6a088302bcd9aa",
       "max": 50,
       "step": 0.001,
       "style": "IPY_MODEL_5ef4b96079014241b9b1e95a8ad1a037",
       "value": 25
      }
     },
     "abef0c6c157142d7a0ba5a91073b12ba": {
      "model_module": "@jupyter-widgets/controls",
      "model_module_version": "1.5.0",
      "model_name": "DescriptionStyleModel",
      "state": {
       "description_width": "initial"
      }
     },
     "ac6583bc86b04a1e964e73f997c5c380": {
      "model_module": "@jupyter-widgets/controls",
      "model_module_version": "1.5.0",
      "model_name": "GridBoxModel",
      "state": {
       "children": [
        "IPY_MODEL_29bb8ba137234912b48512d5e6ff64b4",
        "IPY_MODEL_3dc60ecd3b29457a8dfbebf6d29bd58a",
        "IPY_MODEL_1ec29ab7864e49a2bc41ebbddb1a8b04",
        "IPY_MODEL_ecab3c3cd44a4971a0fad38bc2227055",
        "IPY_MODEL_e60c4e6665f94ad991de56c477ee64e2",
        "IPY_MODEL_e0f563253f9440ccb40b2c6a1373f574",
        "IPY_MODEL_d43a6c3efcd9489fa3b2d875c5a144aa"
       ],
       "layout": "IPY_MODEL_2ce115b2079c48f2a57684c8ebaad134"
      }
     },
     "ac8232a678e248eea30dea50b053bc41": {
      "model_module": "@jupyter-widgets/controls",
      "model_module_version": "1.5.0",
      "model_name": "IntSliderModel",
      "state": {
       "continuous_update": false,
       "description": "Center",
       "layout": "IPY_MODEL_2e89e975d6104f56bcb55d714ea69580",
       "max": 200,
       "min": -200,
       "style": "IPY_MODEL_1bc4294961c149a3928565530577a64c"
      }
     },
     "ac863ef1f6fa495d9f2423d68a75f7cd": {
      "model_module": "@jupyter-widgets/controls",
      "model_module_version": "1.5.0",
      "model_name": "SliderStyleModel",
      "state": {
       "description_width": ""
      }
     },
     "aca4f5e7fc7b4f46883d542953113219": {
      "model_module": "@jupyter-widgets/controls",
      "model_module_version": "1.5.0",
      "model_name": "BoundedFloatTextModel",
      "state": {
       "description": "Total Duration (h)",
       "layout": "IPY_MODEL_5213be02fb7c479e8222f45c22a9406f",
       "step": 0.01,
       "style": "IPY_MODEL_6ec1e4d8c9954ce1bb07e048fb914cea",
       "value": 0.01
      }
     },
     "acb480322520450fa388d24a99876a30": {
      "model_module": "@jupyter-widgets/base",
      "model_module_version": "1.2.0",
      "model_name": "LayoutModel",
      "state": {
       "height": "auto",
       "width": "auto"
      }
     },
     "acfd6cc0428a424eb35aea5b02fb973a": {
      "model_module": "@jupyter-widgets/base",
      "model_module_version": "1.2.0",
      "model_name": "LayoutModel",
      "state": {
       "grid_area": "minX",
       "width": "auto"
      }
     },
     "ad179b3ad41f406cb52c9593334033da": {
      "model_module": "@jupyter-widgets/output",
      "model_module_version": "1.0.0",
      "model_name": "OutputModel",
      "state": {
       "layout": "IPY_MODEL_b0a5ab2a27ac4945b4d83f066d2f32cf"
      }
     },
     "ad2f5472f23343a38b2e0507267b9350": {
      "model_module": "@jupyter-widgets/controls",
      "model_module_version": "1.5.0",
      "model_name": "IntSliderModel",
      "state": {
       "continuous_update": false,
       "description": "Green",
       "layout": "IPY_MODEL_0358b7e8649a4874b5f0bc683088ae75",
       "max": 255,
       "style": "IPY_MODEL_a219c00428764b9a931ced6c05041720"
      }
     },
     "ad479381775447978f131e6febfae027": {
      "model_module": "@jupyter-widgets/base",
      "model_module_version": "1.2.0",
      "model_name": "LayoutModel",
      "state": {
       "width": "90%"
      }
     },
     "ad740b514d9b441ca9a72815a2686e52": {
      "model_module": "@jupyter-widgets/controls",
      "model_module_version": "1.5.0",
      "model_name": "ButtonModel",
      "state": {
       "description": "Snapshot",
       "layout": "IPY_MODEL_4e7da5c73386407c9bbcd93d27f13e4c",
       "style": "IPY_MODEL_d353e549f2ae4ff081d5e4f3214adfe1"
      }
     },
     "ada87ada24544b66b2ae50a7ff76b980": {
      "model_module": "@jupyter-widgets/controls",
      "model_module_version": "1.5.0",
      "model_name": "LabelModel",
      "state": {
       "layout": "IPY_MODEL_3c6d140afc4c4b1fb993ca8708497657",
       "style": "IPY_MODEL_e0dee7128a264746a05daf661d386e10",
       "value": "Please stop acquisition and laser first to start experiment"
      }
     },
     "adbe973d30cf40a3a8c1b89b57c11b2d": {
      "model_module": "@jupyter-widgets/base",
      "model_module_version": "1.2.0",
      "model_name": "LayoutModel",
      "state": {}
     },
     "ae07ae1df8d74c73b3f638ee85bd5d2d": {
      "model_module": "ipysheet",
      "model_module_version": "~0.4.4",
      "model_name": "CellRangeModel",
      "state": {
       "_view_module": null,
       "_view_module_version": "",
       "row_end": 2,
       "row_start": 2,
       "type": "numeric",
       "value": 25
      }
     },
     "aeab54efe7284380a6b86e1693e3bba6": {
      "model_module": "@jupyter-widgets/controls",
      "model_module_version": "1.5.0",
      "model_name": "DescriptionStyleModel",
      "state": {
       "description_width": "initial"
      }
     },
     "aedbf352cc614c4c88af955e0955f3b8": {
      "model_module": "@jupyter-widgets/base",
      "model_module_version": "1.2.0",
      "model_name": "LayoutModel",
      "state": {
       "width": "90%"
      }
     },
     "af01df6aa9264781ba3a2bee47c3006d": {
      "model_module": "@jupyter-widgets/controls",
      "model_module_version": "1.5.0",
      "model_name": "VBoxModel",
      "state": {
       "_dom_classes": [
        "widget-interact"
       ],
       "children": [
        "IPY_MODEL_488d90bf20674d25ac49c9453894b15c",
        "IPY_MODEL_ebf388b44bbb43558db78a44c530e2e8",
        "IPY_MODEL_21315a0e82c84ae8ae9518539a23e8cf",
        "IPY_MODEL_61a5dd0cba7143fc95383124cd70c1e7",
        "IPY_MODEL_f2ede2a320af4a93b20ac48941948b80",
        "IPY_MODEL_9f04900861e94ad3886e6c317a65c202",
        "IPY_MODEL_5c3c513e4ad24fa68f263eadad0bdd82",
        "IPY_MODEL_17dc5b188dda4f93adb4c127ef154ed4",
        "IPY_MODEL_4a7b37b016c845a1bb30bebc8660502c"
       ],
       "layout": "IPY_MODEL_855a704a0a1648d19f2488d1e3995ac2"
      }
     },
     "aff3c74acdf24d1ebce29c26384e4034": {
      "model_module": "ipysheet",
      "model_module_version": "~0.4.4",
      "model_name": "CellRangeModel",
      "state": {
       "_view_module": null,
       "_view_module_version": "",
       "column_end": 3,
       "column_start": 0,
       "row_end": 5,
       "row_start": 5,
       "squeeze_column": false,
       "type": "numeric",
       "value": [
        25,
        25,
        25,
        5
       ]
      }
     },
     "b019aeb59ab74e54b204069835f5d5f6": {
      "model_module": "@jupyter-widgets/base",
      "model_module_version": "1.2.0",
      "model_name": "LayoutModel",
      "state": {
       "width": "90%"
      }
     },
     "b0a5ab2a27ac4945b4d83f066d2f32cf": {
      "model_module": "@jupyter-widgets/base",
      "model_module_version": "1.2.0",
      "model_name": "LayoutModel",
      "state": {}
     },
     "b0f94a0d2e3b45f9b7df4b2724c53a4d": {
      "model_module": "@jupyter-widgets/base",
      "model_module_version": "1.2.0",
      "model_name": "LayoutModel",
      "state": {}
     },
     "b10ded88f4714abda615c5076cf70a70": {
      "model_module": "@jupyter-widgets/controls",
      "model_module_version": "1.5.0",
      "model_name": "ButtonModel",
      "state": {
       "description": "Delete Offset",
       "layout": "IPY_MODEL_033c2870b4dd44a2b630b438c4d44e0d",
       "style": "IPY_MODEL_a34ac16c37664adab9804898dab8076f"
      }
     },
     "b13b1c10eabd4d058bcad650eaeafb2b": {
      "model_module": "@jupyter-widgets/controls",
      "model_module_version": "1.5.0",
      "model_name": "IntSliderModel",
      "state": {
       "continuous_update": false,
       "description": "Center",
       "layout": "IPY_MODEL_3c0edeae96744cfeb7badfefc312df9d",
       "max": 200,
       "min": -200,
       "style": "IPY_MODEL_33af0d5c438f42b39fe38c571865d322"
      }
     },
     "b149fbb8d9de40c48ab5164bf5447253": {
      "model_module": "ipysheet",
      "model_module_version": "~0.4.4",
      "model_name": "CellRangeModel",
      "state": {
       "_view_module": null,
       "_view_module_version": "",
       "type": "numeric",
       "value": 49
      }
     },
     "b18177f718ea408285249a5a74473474": {
      "model_module": "@jupyter-widgets/controls",
      "model_module_version": "1.5.0",
      "model_name": "IntSliderModel",
      "state": {
       "continuous_update": false,
       "description": "Frame rate (HZ)",
       "layout": "IPY_MODEL_1ddc2b028dc143ee88d9121883787f8c",
       "max": 30,
       "min": 1,
       "style": "IPY_MODEL_fc22c6c5d7cc4a2eb10cb5fec596bb88",
       "value": 10
      }
     },
     "b1bc541216fb45b6b998968814bb2365": {
      "model_module": "@jupyter-widgets/controls",
      "model_module_version": "1.5.0",
      "model_name": "IntSliderModel",
      "state": {
       "continuous_update": false,
       "description": "Blue",
       "layout": "IPY_MODEL_e2f9255c2d6a40579cd5008b397a49f7",
       "max": 255,
       "style": "IPY_MODEL_72a9fd4208ee42e48e3ab0318838299e"
      }
     },
     "b1c2fc36560248d29feb38545c2ef9ae": {
      "model_module": "@jupyter-widgets/controls",
      "model_module_version": "1.5.0",
      "model_name": "DescriptionStyleModel",
      "state": {
       "description_width": "initial"
      }
     },
     "b1c81827dd934eefaa4810b16c5fe896": {
      "model_module": "@jupyter-widgets/controls",
      "model_module_version": "1.5.0",
      "model_name": "VBoxModel",
      "state": {
       "children": [
        "IPY_MODEL_f0c5f27531ee4fff81b2541252ffe997",
        "IPY_MODEL_a25db6589ada4420b3e5c48c188d2d50"
       ],
       "layout": "IPY_MODEL_e7d7ee2dfb3349caa208ae9927d5e474"
      }
     },
     "b23b7fed31a446e1ba0cc361426cb581": {
      "model_module": "@jupyter-widgets/controls",
      "model_module_version": "1.5.0",
      "model_name": "GridBoxModel",
      "state": {
       "children": [
        "IPY_MODEL_5ebe70ca3ab14ddf8573433fbd274fae",
        "IPY_MODEL_b10ded88f4714abda615c5076cf70a70",
        "IPY_MODEL_8855b7b90b84457f8645f398bd2280e1",
        "IPY_MODEL_715992297f8747ff88c253da1f5f4e00",
        "IPY_MODEL_f79cb0f5a5094ebf83eb77788b9fd950",
        "IPY_MODEL_5884e7d7ac554672bc600a20c4f6a8cc",
        "IPY_MODEL_b79fe5bb7b454be3ae73b94499e9da5b"
       ],
       "layout": "IPY_MODEL_2e8e84d6d433438bb6cd7e474638063b"
      }
     },
     "b255642ce5344e6c8db3b91adbf29f59": {
      "model_module": "@jupyter-widgets/base",
      "model_module_version": "1.2.0",
      "model_name": "LayoutModel",
      "state": {
       "grid_area": "overlap",
       "width": "auto"
      }
     },
     "b26409b1c3894927be61f15bad9a4344": {
      "model_module": "ipysheet",
      "model_module_version": "~0.4.4",
      "model_name": "CellRangeModel",
      "state": {
       "_view_module": null,
       "_view_module_version": "",
       "column_end": 2,
       "column_start": 2,
       "row_end": 4,
       "row_start": 4,
       "type": "text",
       "value": ""
      }
     },
     "b297271485d24efb8589bb77dbbb2164": {
      "model_module": "@jupyter-widgets/controls",
      "model_module_version": "1.5.0",
      "model_name": "IntSliderModel",
      "state": {
       "continuous_update": false,
       "description": "Blue",
       "layout": "IPY_MODEL_5ad331d745fa4e2cbb8315d12d7ab60b",
       "max": 255,
       "style": "IPY_MODEL_d60e19e516394e09a4241f6993a63425"
      }
     },
     "b2c7107eed664c57b15f79c6234357ff": {
      "model_module": "@jupyter-widgets/controls",
      "model_module_version": "1.5.0",
      "model_name": "DescriptionStyleModel",
      "state": {
       "description_width": "initial"
      }
     },
     "b3237a4f74b7415e838e9de2f2897bc3": {
      "model_module": "@jupyter-widgets/controls",
      "model_module_version": "1.5.0",
      "model_name": "DescriptionStyleModel",
      "state": {
       "description_width": "initial"
      }
     },
     "b33aec0d133a42c2918077b9ebbd9bb6": {
      "model_module": "@jupyter-widgets/base",
      "model_module_version": "1.2.0",
      "model_name": "LayoutModel",
      "state": {
       "grid_area": "lsOffset",
       "width": "auto"
      }
     },
     "b4175e4e57c741d2bcb2f23ecfe4852c": {
      "model_module": "@jupyter-widgets/controls",
      "model_module_version": "1.5.0",
      "model_name": "BoundedFloatTextModel",
      "state": {
       "description": "Scan max Y (um)",
       "layout": "IPY_MODEL_fd39a8b07f584bc69c17b827f0cc537e",
       "max": 50,
       "step": 0.001,
       "style": "IPY_MODEL_f0cbeeeb94874f52a44807f3c0298129",
       "value": 25.5
      }
     },
     "b44243b3b75a47b189f725448d35a3f3": {
      "model_module": "@jupyter-widgets/controls",
      "model_module_version": "1.5.0",
      "model_name": "DescriptionStyleModel",
      "state": {
       "description_width": "initial"
      }
     },
     "b47df24c09204e428bb8be7c1bf57099": {
      "model_module": "@jupyter-widgets/base",
      "model_module_version": "1.2.0",
      "model_name": "LayoutModel",
      "state": {
       "width": "90%"
      }
     },
     "b490adef6eb7458c9c965acb6863dfc2": {
      "model_module": "@jupyter-widgets/controls",
      "model_module_version": "1.5.0",
      "model_name": "DescriptionStyleModel",
      "state": {
       "description_width": "initial"
      }
     },
     "b4968bbf604d41fd95b409de40473fde": {
      "model_module": "@jupyter-widgets/controls",
      "model_module_version": "1.5.0",
      "model_name": "GridBoxModel",
      "state": {
       "children": [
        "IPY_MODEL_6826e8e8041442c6ac66a34f4292579d"
       ],
       "layout": "IPY_MODEL_aadf8ddefae84d4ab6ec70e5e95e88a6"
      }
     },
     "b4d87cdfbb224f7d83f8d31dd998db08": {
      "model_module": "@jupyter-widgets/controls",
      "model_module_version": "1.5.0",
      "model_name": "DescriptionStyleModel",
      "state": {
       "description_width": ""
      }
     },
     "b4f9469657c74f59a1db52752cdd36db": {
      "model_module": "@jupyter-widgets/controls",
      "model_module_version": "1.5.0",
      "model_name": "IntSliderModel",
      "state": {
       "continuous_update": false,
       "description": "Scan Step",
       "layout": "IPY_MODEL_b64ef58c7a35448a9c052e9f5ac1b99f",
       "max": 10,
       "min": 1,
       "style": "IPY_MODEL_c8ec24433ec9419fa6283011187f318e",
       "value": 10
      }
     },
     "b5164ea60dd84c2282a1aed490326af6": {
      "model_module": "@jupyter-widgets/base",
      "model_module_version": "1.2.0",
      "model_name": "LayoutModel",
      "state": {
       "grid_area": "delOffset",
       "width": "auto"
      }
     },
     "b52a63824d2948319318345f83e5df5e": {
      "model_module": "@jupyter-widgets/base",
      "model_module_version": "1.2.0",
      "model_name": "LayoutModel",
      "state": {}
     },
     "b57c075dc7404cc0942f9de9d244c8ad": {
      "model_module": "@jupyter-widgets/base",
      "model_module_version": "1.2.0",
      "model_name": "LayoutModel",
      "state": {
       "width": "50%"
      }
     },
     "b60992a981bd4e5eaa61728b961ede69": {
      "model_module": "@jupyter-widgets/base",
      "model_module_version": "1.2.0",
      "model_name": "LayoutModel",
      "state": {
       "width": "50%"
      }
     },
     "b60a5028ca2c4369bc8d48b2a0715fcb": {
      "model_module": "@jupyter-widgets/base",
      "model_module_version": "1.2.0",
      "model_name": "LayoutModel",
      "state": {
       "border": "solid 1px",
       "grid_template_areas": "\n                                        \"minX minY minZ\"\n                                        \"maxX maxY maxZ\"\n                                        \"deltaZ overlap .\"\n                                    ",
       "grid_template_columns": "30% 30% 30%",
       "grid_template_rows": "auto auto",
       "width": "100%"
      }
     },
     "b62f3d56784045e7be160096e1b1ad32": {
      "model_module": "@jupyter-widgets/controls",
      "model_module_version": "1.5.0",
      "model_name": "DescriptionStyleModel",
      "state": {
       "description_width": "initial"
      }
     },
     "b638adfbc5c44b0eab2fcc7f9bb8a73f": {
      "model_module": "@jupyter-widgets/controls",
      "model_module_version": "1.5.0",
      "model_name": "ButtonStyleModel",
      "state": {}
     },
     "b64ef58c7a35448a9c052e9f5ac1b99f": {
      "model_module": "@jupyter-widgets/base",
      "model_module_version": "1.2.0",
      "model_name": "LayoutModel",
      "state": {
       "width": "90%"
      }
     },
     "b6e0ccd42c3641478135d9d5ca57cbaf": {
      "model_module": "@jupyter-widgets/base",
      "model_module_version": "1.2.0",
      "model_name": "LayoutModel",
      "state": {
       "grid_area": "stageX",
       "width": "auto"
      }
     },
     "b767a9e952fd409e8b7e1a76d97e2d8c": {
      "model_module": "@jupyter-widgets/base",
      "model_module_version": "1.2.0",
      "model_name": "LayoutModel",
      "state": {
       "grid_template_areas": "\n                                        \". . largeFOV_begin_button\"\n                                    ",
       "grid_template_columns": "40% 40% 20%",
       "grid_template_rows": "auto",
       "width": "100%"
      }
     },
     "b79fe5bb7b454be3ae73b94499e9da5b": {
      "model_module": "@jupyter-widgets/controls",
      "model_module_version": "1.5.0",
      "model_name": "BoundedIntTextModel",
      "state": {
       "description": "Delete row",
       "layout": "IPY_MODEL_9f9232d8db294473bc41201c0ca49501",
       "max": 1,
       "min": 1,
       "style": "IPY_MODEL_d49841c6be8b426493ef170979220bb8",
       "value": 1
      }
     },
     "b7d09ed786574752827f81cef6434f39": {
      "model_module": "@jupyter-widgets/base",
      "model_module_version": "1.2.0",
      "model_name": "LayoutModel",
      "state": {
       "height": "auto",
       "width": "auto"
      }
     },
     "b7eea2fbf7b242e181973b6e0779bf22": {
      "model_module": "@jupyter-widgets/base",
      "model_module_version": "1.2.0",
      "model_name": "LayoutModel",
      "state": {}
     },
     "b89d0f1fcd704af5b5212a37ed8efc34": {
      "model_module": "@jupyter-widgets/controls",
      "model_module_version": "1.5.0",
      "model_name": "DescriptionStyleModel",
      "state": {
       "description_width": "initial"
      }
     },
     "b8d9be17d1dc4f6285b454f5a53ca4a8": {
      "model_module": "ipysheet",
      "model_module_version": "~0.4.4",
      "model_name": "CellRangeModel",
      "state": {
       "_view_module": null,
       "_view_module_version": "",
       "column_end": 3,
       "column_start": 3,
       "row_end": 0,
       "row_start": 0,
       "type": "numeric",
       "value": 0
      }
     },
     "b9045248efde46dfb3f0faf1f5c564ab": {
      "model_module": "@jupyter-widgets/base",
      "model_module_version": "1.2.0",
      "model_name": "LayoutModel",
      "state": {
       "width": "90%"
      }
     },
     "b9630419729344e78c335b257892fe77": {
      "model_module": "@jupyter-widgets/controls",
      "model_module_version": "1.5.0",
      "model_name": "ButtonStyleModel",
      "state": {}
     },
     "b96981737116485dad70927c814082ba": {
      "model_module": "@jupyter-widgets/controls",
      "model_module_version": "1.5.0",
      "model_name": "SliderStyleModel",
      "state": {
       "description_width": ""
      }
     },
     "b976a15caf4a4f15be069a2a207e5afc": {
      "model_module": "@jupyter-widgets/base",
      "model_module_version": "1.2.0",
      "model_name": "LayoutModel",
      "state": {
       "grid_area": "maxY",
       "width": "auto"
      }
     },
     "b9c9b0c20b77405c9fbc6a037ee197d9": {
      "model_module": "@jupyter-widgets/base",
      "model_module_version": "1.2.0",
      "model_name": "LayoutModel",
      "state": {
       "grid_area": "delOffset",
       "width": "auto"
      }
     },
     "ba16a7f0a4ab446e8e935893fb3c1ca6": {
      "model_module": "@jupyter-widgets/base",
      "model_module_version": "1.2.0",
      "model_name": "LayoutModel",
      "state": {
       "width": "90%"
      }
     },
     "ba3d74bea29a4591872aaf5938637a92": {
      "model_module": "@jupyter-widgets/controls",
      "model_module_version": "1.5.0",
      "model_name": "SliderStyleModel",
      "state": {
       "description_width": "initial"
      }
     },
     "ba922be02cf44ba69979e9ee9f4bfcd6": {
      "model_module": "@jupyter-widgets/base",
      "model_module_version": "1.2.0",
      "model_name": "LayoutModel",
      "state": {
       "grid_area": "maxZ",
       "width": "auto"
      }
     },
     "baa330b154504eb88101f1e59e4514fc": {
      "model_module": "@jupyter-widgets/output",
      "model_module_version": "1.0.0",
      "model_name": "OutputModel",
      "state": {
       "layout": "IPY_MODEL_5a03ad25330c4ee0b523e7f3efabbb3a"
      }
     },
     "bafe4b492fc148bdb9c41ae5008b9098": {
      "model_module": "@jupyter-widgets/controls",
      "model_module_version": "1.5.0",
      "model_name": "BoundedIntTextModel",
      "state": {
       "description": "Light Sheet Offset",
       "layout": "IPY_MODEL_1c86f1e91f6b47a4a3a405e42c02cade",
       "max": 300,
       "min": -300,
       "style": "IPY_MODEL_846416b4efb9469c887109eafc8451fe",
       "value": 5
      }
     },
     "bb41aff37c724c68962adbe5206e8605": {
      "model_module": "@jupyter-widgets/controls",
      "model_module_version": "1.5.0",
      "model_name": "BoundedFloatTextModel",
      "state": {
       "description": "Scan max X (um)",
       "layout": "IPY_MODEL_5add980b86194dabbc0e37cc8a909775",
       "max": 50,
       "step": 0.001,
       "style": "IPY_MODEL_a8ebc31cd40e4928a34d189102ca31e1",
       "value": 25.5
      }
     },
     "bb5094018ae84ef09c0fbd8ca860f6c9": {
      "model_module": "@jupyter-widgets/base",
      "model_module_version": "1.2.0",
      "model_name": "LayoutModel",
      "state": {}
     },
     "bb5c5fb99104465292c54042cf0f0a04": {
      "model_module": "@jupyter-widgets/controls",
      "model_module_version": "1.5.0",
      "model_name": "ButtonStyleModel",
      "state": {}
     },
     "bb7db1ba98fd4e1c8497c8a192a8d190": {
      "model_module": "ipysheet",
      "model_module_version": "~0.4.4",
      "model_name": "CellRangeModel",
      "state": {
       "_view_module": null,
       "_view_module_version": "",
       "column_end": 3,
       "column_start": 0,
       "row_end": 4,
       "row_start": 4,
       "squeeze_column": false,
       "type": "numeric",
       "value": [
        25,
        25,
        25,
        5
       ]
      }
     },
     "bc246759c13941c8baeccc3cfe435497": {
      "model_module": "@jupyter-widgets/controls",
      "model_module_version": "1.5.0",
      "model_name": "DescriptionStyleModel",
      "state": {
       "description_width": "initial"
      }
     },
     "bc7709b8cb3f4fc5934f2c0ed8d8278a": {
      "model_module": "@jupyter-widgets/controls",
      "model_module_version": "1.5.0",
      "model_name": "SliderStyleModel",
      "state": {
       "description_width": "initial"
      }
     },
     "bca782a6fcc64805b469006c9f94616b": {
      "model_module": "@jupyter-widgets/base",
      "model_module_version": "1.2.0",
      "model_name": "LayoutModel",
      "state": {
       "width": "90%"
      }
     },
     "bd4a9e5b05044bac9599107bc6393f8d": {
      "model_module": "@jupyter-widgets/controls",
      "model_module_version": "1.5.0",
      "model_name": "SliderStyleModel",
      "state": {
       "description_width": "initial"
      }
     },
     "bd526e32704a41d7acc7a7e21dcefdfa": {
      "model_module": "@jupyter-widgets/controls",
      "model_module_version": "1.5.0",
      "model_name": "DescriptionStyleModel",
      "state": {
       "description_width": "initial"
      }
     },
     "bd815f8edd6944ca8191f3417beeadd3": {
      "model_module": "ipysheet",
      "model_module_version": "~0.4.4",
      "model_name": "CellRangeModel",
      "state": {
       "_view_module": null,
       "_view_module_version": "",
       "column_end": 3,
       "column_start": 0,
       "row_end": 2,
       "row_start": 2,
       "squeeze_column": false,
       "type": "text",
       "value": [
        "",
        "",
        "",
        ""
       ]
      }
     },
     "bd891bc27961421abb6e13414500ba40": {
      "model_module": "@jupyter-widgets/base",
      "model_module_version": "1.2.0",
      "model_name": "LayoutModel",
      "state": {}
     },
     "be87d3681d2b44eb85eea61ad67270f6": {
      "model_module": "@jupyter-widgets/controls",
      "model_module_version": "1.5.0",
      "model_name": "VBoxModel",
      "state": {
       "children": [
        "IPY_MODEL_88d6afed16604b55ba9ac5c05b556e73",
        "IPY_MODEL_4c4afa39a0b8461a94b07d94a829037c",
        "IPY_MODEL_a5761a9eff19429ca4d4cce96648cbd5",
        "IPY_MODEL_5ba2c44e9d304c278e56383d6450cce8",
        "IPY_MODEL_443182bbeb0545209b9b165b822326b0"
       ],
       "layout": "IPY_MODEL_2ee1ced7adcb4c938c8c3223f6011ddf"
      }
     },
     "be91a793d86342af81bfa551d17b91af": {
      "model_module": "@jupyter-widgets/controls",
      "model_module_version": "1.5.0",
      "model_name": "ButtonModel",
      "state": {
       "description": "Stop Acquisition",
       "layout": "IPY_MODEL_40af3f7b2b9d4842a2634a39cce77019",
       "style": "IPY_MODEL_6007397e16d042fda93a6d11d723651c"
      }
     },
     "beb789f32a0a4f089fb7695b455ce6c0": {
      "model_module": "@jupyter-widgets/controls",
      "model_module_version": "1.5.0",
      "model_name": "VBoxModel",
      "state": {
       "children": [
        "IPY_MODEL_c9ac9b2c658b4d2d952bc8b9b4f7b415",
        "IPY_MODEL_a32552f037b4430fa06d06901306864a"
       ],
       "layout": "IPY_MODEL_4075ef47aaeb46ebaafeeb9fd7bb532c"
      }
     },
     "bf07e94adc094da8a3415d181c849d19": {
      "model_module": "@jupyter-widgets/controls",
      "model_module_version": "1.5.0",
      "model_name": "DescriptionStyleModel",
      "state": {
       "description_width": "initial"
      }
     },
     "bf369b6768484c55b1d4f1ff0075d0e7": {
      "model_module": "@jupyter-widgets/controls",
      "model_module_version": "1.5.0",
      "model_name": "ButtonStyleModel",
      "state": {}
     },
     "bf60a98538ff492b9a442fa9559f3e28": {
      "model_module": "@jupyter-widgets/controls",
      "model_module_version": "1.5.0",
      "model_name": "BoundedFloatTextModel",
      "state": {
       "description": "Scan min X (um)",
       "layout": "IPY_MODEL_786acddc19df41ee83fe3ef20b936b67",
       "max": 50,
       "step": 0.001,
       "style": "IPY_MODEL_b44243b3b75a47b189f725448d35a3f3",
       "value": 24.5
      }
     },
     "bf85c7a4837142d8a44d11018b525bab": {
      "model_module": "@jupyter-widgets/base",
      "model_module_version": "1.2.0",
      "model_name": "LayoutModel",
      "state": {
       "grid_area": "addOffset",
       "width": "auto"
      }
     },
     "bf8e56bda9424ed69a9e7b218c5900b7": {
      "model_module": "ipysheet",
      "model_module_version": "~0.4.4",
      "model_name": "CellRangeModel",
      "state": {
       "_view_module": null,
       "_view_module_version": "",
       "column_end": 3,
       "column_start": 0,
       "row_end": 6,
       "row_start": 6,
       "squeeze_column": false,
       "type": "text",
       "value": [
        "",
        "",
        "",
        ""
       ]
      }
     },
     "bf99db5c7da84ddd9518cbc01f790f1e": {
      "model_module": "@jupyter-widgets/controls",
      "model_module_version": "1.5.0",
      "model_name": "DescriptionStyleModel",
      "state": {
       "description_width": "initial"
      }
     },
     "c00c393d96be4b2e88c5b13706e868bf": {
      "model_module": "@jupyter-widgets/base",
      "model_module_version": "1.2.0",
      "model_name": "LayoutModel",
      "state": {}
     },
     "c046c7cb36554f719a534ab77dea30c2": {
      "model_module": "@jupyter-widgets/controls",
      "model_module_version": "1.5.0",
      "model_name": "BoundedFloatTextModel",
      "state": {
       "description": "Overlap ratio (%)",
       "layout": "IPY_MODEL_026417d0efe94fb9945b22f460cf0b50",
       "max": 50,
       "step": 1,
       "style": "IPY_MODEL_e908876fe68b4f5393372a26ac65af5d",
       "value": 20
      }
     },
     "c06b3a490ee049afac7a09056550ea05": {
      "model_module": "@jupyter-widgets/base",
      "model_module_version": "1.2.0",
      "model_name": "LayoutModel",
      "state": {
       "width": "90%"
      }
     },
     "c08c730ad83f43b28600b735a4a5fae1": {
      "model_module": "@jupyter-widgets/controls",
      "model_module_version": "1.5.0",
      "model_name": "IntSliderModel",
      "state": {
       "continuous_update": false,
       "description": "Frame",
       "layout": "IPY_MODEL_e15ef7d8ee794fee88bec650604fe2c9",
       "max": 10000000,
       "style": "IPY_MODEL_7dd3f0cf29e3420390f1ca4d695eb533"
      }
     },
     "c091f32df50840b18ccc8e6723faf9a2": {
      "model_module": "@jupyter-widgets/controls",
      "model_module_version": "1.5.0",
      "model_name": "DescriptionStyleModel",
      "state": {
       "description_width": "initial"
      }
     },
     "c0a5fa1e7b31469d91e0104f870e91c3": {
      "model_module": "@jupyter-widgets/controls",
      "model_module_version": "1.5.0",
      "model_name": "VBoxModel",
      "state": {
       "children": [
        "IPY_MODEL_15d542c4b64e491888b39e2deadc5a56",
        "IPY_MODEL_dbaab2eb7c6b46aab4bd88eeaf324b02"
       ],
       "layout": "IPY_MODEL_0d3a80ac05564d55aeee131e0b89b80c"
      }
     },
     "c0bcb56f5ecf436c8d06ea30c65b5b0a": {
      "model_module": "@jupyter-widgets/controls",
      "model_module_version": "1.5.0",
      "model_name": "GridBoxModel",
      "state": {
       "children": [
        "IPY_MODEL_4d61a7df6ad84837823f7c89278da5b8",
        "IPY_MODEL_44a4b18a76094cf49fef31820f693ffd",
        "IPY_MODEL_9d57e47efee346a3ad73cb8a44300cf8",
        "IPY_MODEL_2e65c9d4f67f446693713663ca73fdbb",
        "IPY_MODEL_cc602b56cdd44c508f294fe0e8489885",
        "IPY_MODEL_6536ec41b65845d2b715087d7697dabf",
        "IPY_MODEL_6eb4a60982214550b14b612f0edba6c2",
        "IPY_MODEL_c046c7cb36554f719a534ab77dea30c2"
       ],
       "layout": "IPY_MODEL_531a932f3b57479ea378fe1f2adb7e47"
      }
     },
     "c0de1fc4c5de48918bcaafd88303081d": {
      "model_module": "@jupyter-widgets/controls",
      "model_module_version": "1.5.0",
      "model_name": "BoundedFloatTextModel",
      "state": {
       "description": "Stage Z (um)",
       "layout": "IPY_MODEL_782443bda44843b7a5e9dcddb4ba85b1",
       "max": 50,
       "step": 0.001,
       "style": "IPY_MODEL_5d700223d13548629170c3104cee0b55",
       "value": 25
      }
     },
     "c0e554f8813549bba81c880b019fa979": {
      "model_module": "@jupyter-widgets/controls",
      "model_module_version": "1.5.0",
      "model_name": "VBoxModel",
      "state": {
       "children": [
        "IPY_MODEL_daacfc6d81f44280bf84add7feef2b61",
        "IPY_MODEL_dc05b60b885749bc959ef27113fbf517",
        "IPY_MODEL_7b42e5db7eac46aaab5b7efc96c9c690"
       ],
       "layout": "IPY_MODEL_e87bcbfaadfb4502a076670861ee91c5"
      }
     },
     "c0e70098530348c4b220f7572dbd1434": {
      "model_module": "@jupyter-widgets/base",
      "model_module_version": "1.2.0",
      "model_name": "LayoutModel",
      "state": {
       "grid_area": "lsOffset",
       "width": "auto"
      }
     },
     "c0ec515948ff4eb3b2b5f13ca3c1905b": {
      "model_module": "@jupyter-widgets/controls",
      "model_module_version": "1.5.0",
      "model_name": "GridBoxModel",
      "state": {
       "children": [
        "IPY_MODEL_691e763b976e4a0f82a5b79ceba88601"
       ],
       "layout": "IPY_MODEL_9e10721528374897968a78cb5b63dfed"
      }
     },
     "c14ad31893914c01903602379f8cdb7a": {
      "model_module": "ipysheet",
      "model_module_version": "~0.4.4",
      "model_name": "CellRangeModel",
      "state": {
       "_view_module": null,
       "_view_module_version": "",
       "row_end": 0,
       "row_start": 0,
       "type": "numeric",
       "value": 49.5
      }
     },
     "c1681ac852884728ac2cc895a88169ea": {
      "model_module": "@jupyter-widgets/controls",
      "model_module_version": "1.5.0",
      "model_name": "BoundedFloatTextModel",
      "state": {
       "description": "Scan max Z (um)",
       "layout": "IPY_MODEL_c222e93e0f7349b3b7626e57ce31ab01",
       "max": 50,
       "step": 0.001,
       "style": "IPY_MODEL_4815d46666cd496abd014cfebdc17a10",
       "value": 25.5
      }
     },
     "c169dd78c3714cdc8a0b97397e2c2f9e": {
      "model_module": "@jupyter-widgets/controls",
      "model_module_version": "1.5.0",
      "model_name": "HBoxModel",
      "state": {
       "children": [
        "IPY_MODEL_40198c63c57747b2a2d307c2e3531f17",
        "IPY_MODEL_5b7563c517d74c589c9b38ce02789aa6"
       ],
       "layout": "IPY_MODEL_4e2f586bdd6f4b59bbffebcacfae277d"
      }
     },
     "c1a3f87538e84709a4ec8f0c98232a2b": {
      "model_module": "@jupyter-widgets/controls",
      "model_module_version": "1.5.0",
      "model_name": "DescriptionStyleModel",
      "state": {
       "description_width": "initial"
      }
     },
     "c1e675e3da4d459c9b050033e11e42c0": {
      "model_module": "ipysheet",
      "model_module_version": "~0.4.4",
      "model_name": "CellRangeModel",
      "state": {
       "_view_module": null,
       "_view_module_version": "",
       "column_end": 3,
       "column_start": 0,
       "row_end": 2,
       "row_start": 2,
       "squeeze_column": false,
       "type": "numeric",
       "value": [
        "",
        "",
        "",
        ""
       ]
      }
     },
     "c1ea1b3be2c24c2a9175d86c3fc7a70f": {
      "model_module": "ipysheet",
      "model_module_version": "~0.4.4",
      "model_name": "CellRangeModel",
      "state": {
       "_view_module": null,
       "_view_module_version": "",
       "column_end": 2,
       "column_start": 2,
       "type": "numeric",
       "value": 26.5
      }
     },
     "c222e93e0f7349b3b7626e57ce31ab01": {
      "model_module": "@jupyter-widgets/base",
      "model_module_version": "1.2.0",
      "model_name": "LayoutModel",
      "state": {
       "grid_area": "maxZ",
       "width": "auto"
      }
     },
     "c29f93837cde4b739139b312d7d4e33f": {
      "model_module": "@jupyter-widgets/base",
      "model_module_version": "1.2.0",
      "model_name": "LayoutModel",
      "state": {
       "grid_area": "minX",
       "width": "auto"
      }
     },
     "c2bb6c3af6804dfdb2b89d065bd82aec": {
      "model_module": "@jupyter-widgets/controls",
      "model_module_version": "1.5.0",
      "model_name": "BoundedFloatTextModel",
      "state": {
       "description": "Scan max X (um)",
       "layout": "IPY_MODEL_6d1776fda7284841afbad518ce125c71",
       "max": 50,
       "step": 0.001,
       "style": "IPY_MODEL_71ada0c0f58c441cba807a3a9da0751e",
       "value": 25.5
      }
     },
     "c30364250b834e4e906dcfc3cde299f7": {
      "model_module": "@jupyter-widgets/controls",
      "model_module_version": "1.5.0",
      "model_name": "GridBoxModel",
      "state": {
       "children": [
        "IPY_MODEL_23903fe1baa447ad944417735738746c"
       ],
       "layout": "IPY_MODEL_e95740f801b94e4a8ca33b9a5ebcc9ea"
      }
     },
     "c3126d8ac9ad4bae873fe37971971bed": {
      "model_module": "ipysheet",
      "model_module_version": "~0.4.4",
      "model_name": "CellRangeModel",
      "state": {
       "_view_module": null,
       "_view_module_version": "",
       "column_end": 3,
       "column_start": 0,
       "row_end": 2,
       "row_start": 2,
       "squeeze_column": false,
       "type": "numeric",
       "value": [
        25,
        25,
        25,
        0
       ]
      }
     },
     "c3326a454aa145a0a0aadd55b8a3dc7f": {
      "model_module": "@jupyter-widgets/controls",
      "model_module_version": "1.5.0",
      "model_name": "DescriptionStyleModel",
      "state": {
       "description_width": "initial"
      }
     },
     "c35186d342184ea588ac0df3eefbf9dd": {
      "model_module": "@jupyter-widgets/base",
      "model_module_version": "1.2.0",
      "model_name": "LayoutModel",
      "state": {}
     },
     "c369b18f84e44bdb9f154414ba99fce5": {
      "model_module": "@jupyter-widgets/output",
      "model_module_version": "1.0.0",
      "model_name": "OutputModel",
      "state": {
       "layout": "IPY_MODEL_266c3c3dbfb14eba927c5ae7841fb3f5"
      }
     },
     "c42089d0ec5f4f119e0ca42580e5030e": {
      "model_module": "@jupyter-widgets/controls",
      "model_module_version": "1.5.0",
      "model_name": "VBoxModel",
      "state": {
       "children": [
        "IPY_MODEL_cffa9affbfa54592ae2e715c71547170",
        "IPY_MODEL_cea523a6658b47a6ae8b5f8f4fcef888",
        "IPY_MODEL_a11525e8ff1f4b449b6d65ae142068ee"
       ],
       "layout": "IPY_MODEL_d9cdd7149d924534853ff8694d8a7d47"
      }
     },
     "c4217297e6164ca9842cc0d3e3223b2d": {
      "model_module": "@jupyter-widgets/controls",
      "model_module_version": "1.5.0",
      "model_name": "SliderStyleModel",
      "state": {
       "description_width": "initial"
      }
     },
     "c424fd652b4f459bbfb8ba97fe7d12f2": {
      "model_module": "@jupyter-widgets/controls",
      "model_module_version": "1.5.0",
      "model_name": "BoundedIntTextModel",
      "state": {
       "description": "3D Volume #",
       "layout": "IPY_MODEL_8c4ee53f741748ab882519a79997e302",
       "max": 100000,
       "min": 1,
       "style": "IPY_MODEL_972ed34d235640b8a065487b8c65f527",
       "value": 1
      }
     },
     "c44be809d4034f73990bb571a230e166": {
      "model_module": "@jupyter-widgets/base",
      "model_module_version": "1.2.0",
      "model_name": "LayoutModel",
      "state": {
       "grid_area": "delRow",
       "width": "auto"
      }
     },
     "c45fac6f0b6e485aba2291b560a972e4": {
      "model_module": "@jupyter-widgets/controls",
      "model_module_version": "1.5.0",
      "model_name": "DescriptionStyleModel",
      "state": {
       "description_width": "initial"
      }
     },
     "c4919633a48640c99a3b718dc98a2086": {
      "model_module": "@jupyter-widgets/controls",
      "model_module_version": "1.5.0",
      "model_name": "ButtonStyleModel",
      "state": {}
     },
     "c4f761e5f3284f36a180c522247a5908": {
      "model_module": "@jupyter-widgets/controls",
      "model_module_version": "1.5.0",
      "model_name": "ButtonStyleModel",
      "state": {}
     },
     "c547581a6a824111b2791a0aaf6eacab": {
      "model_module": "@jupyter-widgets/controls",
      "model_module_version": "1.5.0",
      "model_name": "BoundedFloatTextModel",
      "state": {
       "description": "Scan min Y (um)",
       "layout": "IPY_MODEL_021bee16db6247c1b0e4e428351483de",
       "max": 50,
       "step": 0.001,
       "style": "IPY_MODEL_66d3f3c5366740e19867ec332d809104",
       "value": 24.5
      }
     },
     "c5640452e7be40f19245f8dd197485b6": {
      "model_module": "@jupyter-widgets/base",
      "model_module_version": "1.2.0",
      "model_name": "LayoutModel",
      "state": {}
     },
     "c56c366f411d461099f1c53523db27f3": {
      "model_module": "@jupyter-widgets/controls",
      "model_module_version": "1.5.0",
      "model_name": "DescriptionStyleModel",
      "state": {
       "description_width": "initial"
      }
     },
     "c640fcd47724429ebda023f2ac540999": {
      "model_module": "@jupyter-widgets/base",
      "model_module_version": "1.2.0",
      "model_name": "LayoutModel",
      "state": {
       "width": "90%"
      }
     },
     "c6d7b0c8267e4db980b0ae866c1c23a0": {
      "model_module": "@jupyter-widgets/base",
      "model_module_version": "1.2.0",
      "model_name": "LayoutModel",
      "state": {}
     },
     "c706d7d51f4b4c1f81530618a63d4898": {
      "model_module": "ipysheet",
      "model_module_version": "~0.4.4",
      "model_name": "CellRangeModel",
      "state": {
       "_view_module": null,
       "_view_module_version": "",
       "row_end": 4,
       "row_start": 4,
       "type": "numeric",
       "value": 25
      }
     },
     "c709294565e14ac5b9433b2b8b4f036b": {
      "model_module": "@jupyter-widgets/controls",
      "model_module_version": "1.5.0",
      "model_name": "DescriptionStyleModel",
      "state": {
       "description_width": "initial"
      }
     },
     "c731a2a634d24e13991f8fa53f817bc2": {
      "model_module": "@jupyter-widgets/controls",
      "model_module_version": "1.5.0",
      "model_name": "SliderStyleModel",
      "state": {
       "description_width": "initial"
      }
     },
     "c74128a1c9b44e2e800d9566be3444d0": {
      "model_module": "@jupyter-widgets/controls",
      "model_module_version": "1.5.0",
      "model_name": "ButtonStyleModel",
      "state": {}
     },
     "c7647c6e3f69466eb7cf7613c7bd8e27": {
      "model_module": "@jupyter-widgets/output",
      "model_module_version": "1.0.0",
      "model_name": "OutputModel",
      "state": {
       "layout": "IPY_MODEL_5aa07fc64f6d48809478c6050a0f7ea3"
      }
     },
     "c7ccae3826cd47b28c8dffa224d6345c": {
      "model_module": "@jupyter-widgets/controls",
      "model_module_version": "1.5.0",
      "model_name": "DescriptionStyleModel",
      "state": {
       "description_width": "initial"
      }
     },
     "c7d37861d40648db84bb31eb8040d8fd": {
      "model_module": "@jupyter-widgets/controls",
      "model_module_version": "1.5.0",
      "model_name": "VBoxModel",
      "state": {
       "_dom_classes": [
        "widget-interact"
       ],
       "children": [
        "IPY_MODEL_025848094019404abfc6525aceec9122",
        "IPY_MODEL_f9fc0258b0a54c7ead9b54709b2c6508",
        "IPY_MODEL_a1f4d9c503d24e1baba1deed5ed20f41",
        "IPY_MODEL_922ac67d108f4228a682a10444053bf2",
        "IPY_MODEL_14d87b3fb6744a648c8bf4c1a6494f44",
        "IPY_MODEL_839ff60751f9471c9ab700a36dd61013",
        "IPY_MODEL_e6dd4a79fc6b48bc84d202f59e9c4cca",
        "IPY_MODEL_4a10d225e0384fa6a38d00f889459e35",
        "IPY_MODEL_6f28d8aa1e8a475e9d1018b472e6712d"
       ],
       "layout": "IPY_MODEL_6ba98cab23ae415e97c9026cb6c6c83b"
      }
     },
     "c7ecaaeb00f547828a3d31d3835819b7": {
      "model_module": "ipysheet",
      "model_module_version": "~0.4.4",
      "model_name": "CellRangeModel",
      "state": {
       "_view_module": null,
       "_view_module_version": "",
       "column_end": 2,
       "column_start": 2,
       "row_end": 0,
       "row_start": 0,
       "type": "numeric",
       "value": 26.7
      }
     },
     "c7efbda69e8e457eb06299aabe640094": {
      "model_module": "@jupyter-widgets/controls",
      "model_module_version": "1.5.0",
      "model_name": "IntSliderModel",
      "state": {
       "continuous_update": false,
       "description": "Frame",
       "layout": "IPY_MODEL_f3a0299358274775a6caf23f9182ed2d",
       "max": 10000000,
       "style": "IPY_MODEL_63dde2666460413dbcee9f20d302ea8d"
      }
     },
     "c815edc982fc4de08774ef2710fdb73b": {
      "model_module": "@jupyter-widgets/base",
      "model_module_version": "1.2.0",
      "model_name": "LayoutModel",
      "state": {
       "width": "70%"
      }
     },
     "c82283b87f0c47829fae8c6ba150aa91": {
      "model_module": "@jupyter-widgets/controls",
      "model_module_version": "1.5.0",
      "model_name": "IntSliderModel",
      "state": {
       "continuous_update": false,
       "description": "Scan Step",
       "layout": "IPY_MODEL_7216f09446a043559c12f0b1fd152029",
       "max": 10,
       "min": 1,
       "style": "IPY_MODEL_6bc62e9ed25044739fc02bb62fa0efe9",
       "value": 10
      }
     },
     "c86442d7d2bc4b8d9f261b8c5511be6d": {
      "model_module": "ipysheet",
      "model_module_version": "~0.4.4",
      "model_name": "CellRangeModel",
      "state": {
       "_view_module": null,
       "_view_module_version": "",
       "column_end": 0,
       "column_start": 0,
       "type": "numeric",
       "value": 26.6
      }
     },
     "c876eed1c8a14555a9509a8984ffa91d": {
      "model_module": "ipysheet",
      "model_module_version": "~0.4.4",
      "model_name": "CellRangeModel",
      "state": {
       "_view_module": null,
       "_view_module_version": "",
       "row_end": 0,
       "row_start": 0,
       "type": "numeric",
       "value": 49.5
      }
     },
     "c87d68e49e1e49608fd5a3e4d41e34fa": {
      "model_module": "@jupyter-widgets/controls",
      "model_module_version": "1.5.0",
      "model_name": "ButtonStyleModel",
      "state": {}
     },
     "c88954239179419a86eb5844873be7ca": {
      "model_module": "@jupyter-widgets/controls",
      "model_module_version": "1.5.0",
      "model_name": "DescriptionStyleModel",
      "state": {
       "description_width": "initial"
      }
     },
     "c8a8a41faf574e82975e8c1abd384207": {
      "model_module": "@jupyter-widgets/controls",
      "model_module_version": "1.5.0",
      "model_name": "SliderStyleModel",
      "state": {
       "description_width": ""
      }
     },
     "c8ac40590b67498eb1d2d2cefed7dd8b": {
      "model_module": "@jupyter-widgets/base",
      "model_module_version": "1.2.0",
      "model_name": "LayoutModel",
      "state": {
       "width": "50%"
      }
     },
     "c8dc8fc9511740dcb3df0a9da1a3081d": {
      "model_module": "@jupyter-widgets/controls",
      "model_module_version": "1.5.0",
      "model_name": "IntSliderModel",
      "state": {
       "continuous_update": false,
       "description": "Scan Range",
       "layout": "IPY_MODEL_6e9c19954a3a45679de5dce0f5d9a460",
       "max": 1280,
       "min": 1,
       "style": "IPY_MODEL_93d0cd7cafa441d194a18f2772c9ea25",
       "value": 100
      }
     },
     "c8dd4c942b56430890651a8472f05df0": {
      "model_module": "@jupyter-widgets/base",
      "model_module_version": "1.2.0",
      "model_name": "LayoutModel",
      "state": {
       "width": "90%"
      }
     },
     "c8ec24433ec9419fa6283011187f318e": {
      "model_module": "@jupyter-widgets/controls",
      "model_module_version": "1.5.0",
      "model_name": "SliderStyleModel",
      "state": {
       "description_width": ""
      }
     },
     "c901cf92d328453aa007789422d01de5": {
      "model_module": "@jupyter-widgets/controls",
      "model_module_version": "1.5.0",
      "model_name": "ButtonModel",
      "state": {
       "description": "Preview Scan",
       "layout": "IPY_MODEL_3525d1e2044d40a18893f7307c5affe8",
       "style": "IPY_MODEL_2046993a85bf43818c95bcffc33ac44b"
      }
     },
     "c9024d16284642229a9cfbf442d159e3": {
      "model_module": "@jupyter-widgets/controls",
      "model_module_version": "1.5.0",
      "model_name": "VBoxModel",
      "state": {
       "children": [
        "IPY_MODEL_e7e2bfda42ae4fc0842c542f53573245",
        "IPY_MODEL_d5749938f346462c82eca65c91c51a7b",
        "IPY_MODEL_925a6cb875d64bf99c04c30f90e202ce",
        "IPY_MODEL_3350f17f24864ee8877602ba0c59f578"
       ],
       "layout": "IPY_MODEL_c8dd4c942b56430890651a8472f05df0"
      }
     },
     "c9521c5422354e479af21d183e7be3d4": {
      "model_module": "@jupyter-widgets/controls",
      "model_module_version": "1.5.0",
      "model_name": "DescriptionStyleModel",
      "state": {
       "description_width": "initial"
      }
     },
     "c96583ea7c0f4e5eb9954dd98a9c782c": {
      "model_module": "@jupyter-widgets/controls",
      "model_module_version": "1.5.0",
      "model_name": "IntSliderModel",
      "state": {
       "continuous_update": false,
       "description": "Red",
       "layout": "IPY_MODEL_0338935e5b934edf9d207de8248c102d",
       "max": 255,
       "style": "IPY_MODEL_e6bc59c3c218481481f741841a27ad94"
      }
     },
     "c9ac9b2c658b4d2d952bc8b9b4f7b415": {
      "model_module": "@jupyter-widgets/controls",
      "model_module_version": "1.5.0",
      "model_name": "BoundedIntTextModel",
      "state": {
       "description": "WideField Frames",
       "layout": "IPY_MODEL_664c103c64e64caa88d4b52de00ffe83",
       "max": 10000,
       "min": 1,
       "style": "IPY_MODEL_1076ba7dbee64c268339693d0ea50b05",
       "value": 1
      }
     },
     "c9b941da98cc412192766a0fe4fe4f74": {
      "model_module": "@jupyter-widgets/base",
      "model_module_version": "1.2.0",
      "model_name": "LayoutModel",
      "state": {
       "width": "90%"
      }
     },
     "c9e03dd3fc9f4bce874f3dc910545e4f": {
      "model_module": "ipysheet",
      "model_module_version": "~0.4.4",
      "model_name": "CellRangeModel",
      "state": {
       "_view_module": null,
       "_view_module_version": "",
       "column_end": 3,
       "column_start": 0,
       "row_end": 0,
       "row_start": 0,
       "squeeze_column": false,
       "type": "numeric",
       "value": [
        "",
        "",
        "",
        ""
       ]
      }
     },
     "c9e45337cdd443d8802ca9fd424d86af": {
      "model_module": "@jupyter-widgets/base",
      "model_module_version": "1.2.0",
      "model_name": "LayoutModel",
      "state": {
       "width": "90%"
      }
     },
     "ca3363c63e5d4649910b9196e714d598": {
      "model_module": "@jupyter-widgets/controls",
      "model_module_version": "1.5.0",
      "model_name": "VBoxModel",
      "state": {
       "children": [
        "IPY_MODEL_f89b9e1eb3b24949909862ec043fa426",
        "IPY_MODEL_182d49cd464048b8b6bb3797be8714a6"
       ],
       "layout": "IPY_MODEL_fdcf03e529eb4ec290149dbcc876455f"
      }
     },
     "ca5a982e75d341289832a05aa37d0e16": {
      "model_module": "@jupyter-widgets/controls",
      "model_module_version": "1.5.0",
      "model_name": "ButtonStyleModel",
      "state": {}
     },
     "ca6af887c91d413a94b41b7eca22a074": {
      "model_module": "@jupyter-widgets/controls",
      "model_module_version": "1.5.0",
      "model_name": "DescriptionStyleModel",
      "state": {
       "description_width": "initial"
      }
     },
     "ca7ae29ab7414a3c893ad1b8859120af": {
      "model_module": "@jupyter-widgets/controls",
      "model_module_version": "1.5.0",
      "model_name": "BoundedIntTextModel",
      "state": {
       "description": "Delete row",
       "layout": "IPY_MODEL_c44be809d4034f73990bb571a230e166",
       "max": 1,
       "min": 1,
       "style": "IPY_MODEL_4a44081568ab49a283f016496fed0262",
       "value": 1
      }
     },
     "ca7c8148b53f443ca73c64b934b5197b": {
      "model_module": "@jupyter-widgets/controls",
      "model_module_version": "1.5.0",
      "model_name": "BoundedFloatTextModel",
      "state": {
       "description": "Scan max Z (um)",
       "layout": "IPY_MODEL_10c4a95827b0462b939eec79d65ac633",
       "max": 50,
       "step": 0.001,
       "style": "IPY_MODEL_c7ccae3826cd47b28c8dffa224d6345c",
       "value": 25.5
      }
     },
     "ca8244a614cd4dc3a90810b7f6da46d0": {
      "model_module": "@jupyter-widgets/controls",
      "model_module_version": "1.5.0",
      "model_name": "DescriptionStyleModel",
      "state": {
       "description_width": "initial"
      }
     },
     "cabe58ab48bf47f7bdebb1c7aa1fe48d": {
      "model_module": "ipysheet",
      "model_module_version": "~0.4.4",
      "model_name": "CellRangeModel",
      "state": {
       "_view_module": null,
       "_view_module_version": "",
       "column_end": 3,
       "column_start": 0,
       "row_end": 4,
       "row_start": 4,
       "squeeze_column": false,
       "type": "numeric",
       "value": [
        "",
        "",
        "",
        ""
       ]
      }
     },
     "caf45987112e42769871039b83594216": {
      "model_module": "@jupyter-widgets/controls",
      "model_module_version": "1.5.0",
      "model_name": "TextModel",
      "state": {
       "description": "Saving to:",
       "layout": "IPY_MODEL_9fc16bc9c62d442eae33a0e7597af057",
       "placeholder": "Saving path",
       "style": "IPY_MODEL_e529445218c7403995f72bf0ea29041d",
       "value": "/media/yannan/Samsung_T5/acquisition"
      }
     },
     "cb05a74ed1f84f6a88e92b3f796ec25f": {
      "model_module": "ipysheet",
      "model_module_version": "~0.4.4",
      "model_name": "CellRangeModel",
      "state": {
       "_view_module": null,
       "_view_module_version": "",
       "column_end": 2,
       "column_start": 2,
       "row_end": 2,
       "row_start": 2,
       "type": "numeric",
       "value": 25
      }
     },
     "cb26c433412c47ae9b276f38bdf31d27": {
      "model_module": "@jupyter-widgets/controls",
      "model_module_version": "1.5.0",
      "model_name": "ButtonStyleModel",
      "state": {}
     },
     "cb5b3861c1f2404b835b43e7ed43e024": {
      "model_module": "ipysheet",
      "model_module_version": "~0.4.4",
      "model_name": "CellRangeModel",
      "state": {
       "_view_module": null,
       "_view_module_version": "",
       "column_end": 0,
       "column_start": 0,
       "row_end": 4,
       "row_start": 4,
       "type": "numeric",
       "value": 25
      }
     },
     "cb711995401a4da09e3df66d3706a2be": {
      "model_module": "@jupyter-widgets/base",
      "model_module_version": "1.2.0",
      "model_name": "LayoutModel",
      "state": {
       "grid_area": "maxX",
       "width": "auto"
      }
     },
     "cb7fa15e6d044783a256bcd039116114": {
      "model_module": "@jupyter-widgets/controls",
      "model_module_version": "1.5.0",
      "model_name": "IntSliderModel",
      "state": {
       "continuous_update": false,
       "description": "Height",
       "layout": "IPY_MODEL_c640fcd47724429ebda023f2ac540999",
       "max": 720,
       "style": "IPY_MODEL_7d25911939974c11b55e12ed80a98c92",
       "value": 200
      }
     },
     "cc3a50bfc92044279d34da227536ceee": {
      "model_module": "@jupyter-widgets/controls",
      "model_module_version": "1.5.0",
      "model_name": "IntSliderModel",
      "state": {
       "continuous_update": false,
       "description": "Gain",
       "layout": "IPY_MODEL_76f68d07cd9d4ef5b0ad3dc17d45b1f8",
       "max": 47,
       "min": 1,
       "style": "IPY_MODEL_e96c5553c4f9484db054d1e9a37fd53c",
       "value": 1
      }
     },
     "cc602b56cdd44c508f294fe0e8489885": {
      "model_module": "@jupyter-widgets/controls",
      "model_module_version": "1.5.0",
      "model_name": "BoundedFloatTextModel",
      "state": {
       "description": "Scan max Y (um)",
       "layout": "IPY_MODEL_b976a15caf4a4f15be069a2a207e5afc",
       "max": 50,
       "step": 0.001,
       "style": "IPY_MODEL_ca8244a614cd4dc3a90810b7f6da46d0",
       "value": 25.5
      }
     },
     "ccaff02ac39949ea9f20aede58800d82": {
      "model_module": "ipysheet",
      "model_module_version": "~0.4.4",
      "model_name": "SheetModel",
      "state": {
       "cells": [
        "IPY_MODEL_fdb7e14eda9142748dea4bd1a0d0a744",
        "IPY_MODEL_d06a94b1cd94442aa6959ab2f3461868",
        "IPY_MODEL_618f17b9792b464098ea8d058b91656d",
        "IPY_MODEL_46a418377773436698a28460905d1511",
        "IPY_MODEL_10e1d1b4030344c69b3c96678ab79d0a",
        "IPY_MODEL_e73f4d8685ea425aa24ab7f19e3147b5",
        "IPY_MODEL_2b87516f73a24ceb9f5723dbbae5178c",
        "IPY_MODEL_a50bae4bff9840a1b5dec03091612e8f",
        "IPY_MODEL_974cccbf32184e3e9256bab9cf83c7b0",
        "IPY_MODEL_9344756acc7d492a96ddbd080009a537",
        "IPY_MODEL_cabe58ab48bf47f7bdebb1c7aa1fe48d",
        "IPY_MODEL_2a52d23c1c9d49f3a0673fd85cdca2d2",
        "IPY_MODEL_91d9ab7a2439421d89ccceb74a636e01",
        "IPY_MODEL_d8a310fbdabf41b6bd12ffd02681a16b",
        "IPY_MODEL_25b6dc1e091d4279831193d13d5af357",
        "IPY_MODEL_234baf873d8344c980b507e1b39e812e",
        "IPY_MODEL_f0b89c55739e4ad197ed9b5123a71eed",
        "IPY_MODEL_99621c42b3584c0c89230f86046322eb",
        "IPY_MODEL_239ba5ccd2af40eebb28523663219222",
        "IPY_MODEL_5459489eb3944eb68117417fcdd8334d",
        "IPY_MODEL_d5f59f7a30d04f73848d9ef392c13107",
        "IPY_MODEL_e2bb0fff46594cbaa83ddeb7695e8996",
        "IPY_MODEL_fd58072f17bc4b74bf3bd3fe08485b58",
        "IPY_MODEL_233d72c8af3e49f380faf5e9ec8d1ad2"
       ],
       "column_headers": [
        "X",
        "Y",
        "Z",
        "Offset"
       ],
       "layout": "IPY_MODEL_6a9cb92cb4654804a0f7eacf86094c92",
       "rows": 20
      }
     },
     "ccc6f3c472aa4c5db4109b6d04583b1c": {
      "model_module": "@jupyter-widgets/controls",
      "model_module_version": "1.5.0",
      "model_name": "IntSliderModel",
      "state": {
       "continuous_update": false,
       "description": "Frame rate (HZ)",
       "layout": "IPY_MODEL_61cf2103c9cb439cac7034360c46ae89",
       "max": 30,
       "min": 1,
       "style": "IPY_MODEL_6b02ab5d882d4c41be03203ead545d34",
       "value": 10
      }
     },
     "cce8b0a5f2c642c29eb3312b64b3a451": {
      "model_module": "@jupyter-widgets/base",
      "model_module_version": "1.2.0",
      "model_name": "LayoutModel",
      "state": {
       "width": "90%"
      }
     },
     "cd14be235dbb4999a099b41da4d548af": {
      "model_module": "@jupyter-widgets/base",
      "model_module_version": "1.2.0",
      "model_name": "LayoutModel",
      "state": {
       "grid_area": "stageY",
       "width": "auto"
      }
     },
     "cd1dc912fa0e4e72812361026f3e2f52": {
      "model_module": "@jupyter-widgets/base",
      "model_module_version": "1.2.0",
      "model_name": "LayoutModel",
      "state": {
       "grid_area": "delOffset",
       "width": "auto"
      }
     },
     "cdc39e3bd251464698059d63e7184e8b": {
      "model_module": "@jupyter-widgets/base",
      "model_module_version": "1.2.0",
      "model_name": "LayoutModel",
      "state": {
       "width": "90%"
      }
     },
     "cded58fc790049179d0eb235dfb9a92d": {
      "model_module": "@jupyter-widgets/controls",
      "model_module_version": "1.5.0",
      "model_name": "DescriptionStyleModel",
      "state": {
       "description_width": "initial"
      }
     },
     "cdf2d847d34d4a34b7232d8ffcdc196e": {
      "model_module": "@jupyter-widgets/controls",
      "model_module_version": "1.5.0",
      "model_name": "DescriptionStyleModel",
      "state": {
       "description_width": "initial"
      }
     },
     "cdf654fbb6fd47709ffcc1a0397ff9f6": {
      "model_module": "@jupyter-widgets/controls",
      "model_module_version": "1.5.0",
      "model_name": "DescriptionStyleModel",
      "state": {
       "description_width": "initial"
      }
     },
     "ce17bad1847749f88b63f4456e9949aa": {
      "model_module": "ipysheet",
      "model_module_version": "~0.4.4",
      "model_name": "CellRangeModel",
      "state": {
       "_view_module": null,
       "_view_module_version": "",
       "column_end": 2,
       "column_start": 2,
       "row_end": 0,
       "row_start": 0,
       "type": "numeric",
       "value": 26.7
      }
     },
     "ce5551ea10e543ffa799d7580a5e3b13": {
      "model_module": "@jupyter-widgets/controls",
      "model_module_version": "1.5.0",
      "model_name": "SliderStyleModel",
      "state": {
       "description_width": ""
      }
     },
     "ce9dd68e47194e268cb47d2e57700dfd": {
      "model_module": "@jupyter-widgets/base",
      "model_module_version": "1.2.0",
      "model_name": "LayoutModel",
      "state": {}
     },
     "cea523a6658b47a6ae8b5f8f4fcef888": {
      "model_module": "@jupyter-widgets/controls",
      "model_module_version": "1.5.0",
      "model_name": "IntSliderModel",
      "state": {
       "continuous_update": false,
       "description": "Scan Step",
       "layout": "IPY_MODEL_aedbf352cc614c4c88af955e0955f3b8",
       "max": 10,
       "min": 1,
       "style": "IPY_MODEL_61016370dc764d8482a3882fe345be8a",
       "value": 10
      }
     },
     "cedfea8249da460d8c870b4e25cf6bd2": {
      "model_module": "@jupyter-widgets/base",
      "model_module_version": "1.2.0",
      "model_name": "LayoutModel",
      "state": {
       "width": "90%"
      }
     },
     "cee03dc0308242e4a0a08d8c34739e73": {
      "model_module": "@jupyter-widgets/base",
      "model_module_version": "1.2.0",
      "model_name": "LayoutModel",
      "state": {}
     },
     "cf83cac70dc44a0f88eb7b674b6e0965": {
      "model_module": "@jupyter-widgets/base",
      "model_module_version": "1.2.0",
      "model_name": "LayoutModel",
      "state": {
       "grid_area": "addOffset",
       "width": "auto"
      }
     },
     "cffa9affbfa54592ae2e715c71547170": {
      "model_module": "@jupyter-widgets/controls",
      "model_module_version": "1.5.0",
      "model_name": "IntSliderModel",
      "state": {
       "continuous_update": false,
       "description": "Scan Range",
       "layout": "IPY_MODEL_dbe883eeaf594252b401cb9b6438028b",
       "max": 1280,
       "min": 1,
       "style": "IPY_MODEL_ce5551ea10e543ffa799d7580a5e3b13",
       "value": 100
      }
     },
     "d065e188d2ef4e85af0fc0b59cef1ecc": {
      "model_module": "@jupyter-widgets/base",
      "model_module_version": "1.2.0",
      "model_name": "LayoutModel",
      "state": {
       "grid_area": "minY",
       "width": "auto"
      }
     },
     "d06a94b1cd94442aa6959ab2f3461868": {
      "model_module": "ipysheet",
      "model_module_version": "~0.4.4",
      "model_name": "CellRangeModel",
      "state": {
       "_view_module": null,
       "_view_module_version": "",
       "column_end": 3,
       "column_start": 0,
       "squeeze_column": false,
       "type": "numeric",
       "value": [
        "",
        "",
        "",
        ""
       ]
      }
     },
     "d07632c4880b43978b6401065d9b66e3": {
      "model_module": "@jupyter-widgets/controls",
      "model_module_version": "1.5.0",
      "model_name": "DescriptionStyleModel",
      "state": {
       "description_width": "initial"
      }
     },
     "d0eb8cd9865449a8bc49b25ca1258572": {
      "model_module": "@jupyter-widgets/controls",
      "model_module_version": "1.5.0",
      "model_name": "VBoxModel",
      "state": {
       "children": [
        "IPY_MODEL_715ce74e2769476fa55b375736f921a2",
        "IPY_MODEL_1a43241d29254aa194fde5405b0b792d"
       ],
       "layout": "IPY_MODEL_9e19bfd648304d3ba941ebb62a948b6f"
      }
     },
     "d0ed150762ce4ec29da590f5a5ec8f56": {
      "model_module": "ipysheet",
      "model_module_version": "~0.4.4",
      "model_name": "CellRangeModel",
      "state": {
       "_view_module": null,
       "_view_module_version": "",
       "column_end": 3,
       "column_start": 3,
       "row_end": 3,
       "row_start": 3,
       "type": "numeric",
       "value": 0
      }
     },
     "d101c360d7f14fa4974c0e6367087008": {
      "model_module": "@jupyter-widgets/controls",
      "model_module_version": "1.5.0",
      "model_name": "ButtonStyleModel",
      "state": {}
     },
     "d10c28883b694dc4bf5d2ccea7264300": {
      "model_module": "@jupyter-widgets/base",
      "model_module_version": "1.2.0",
      "model_name": "LayoutModel",
      "state": {
       "width": "50%"
      }
     },
     "d11d46ee3c7d41a78f15b3725c9537e2": {
      "model_module": "@jupyter-widgets/controls",
      "model_module_version": "1.5.0",
      "model_name": "IntSliderModel",
      "state": {
       "continuous_update": false,
       "description": "Frame",
       "layout": "IPY_MODEL_542701ad4add4ecbb8049b6521d167eb",
       "max": 10000000,
       "style": "IPY_MODEL_3fdd7eb254f44e2881d5d53b0adb6780"
      }
     },
     "d1772b814ec44e759ffe96d99633cdae": {
      "model_module": "@jupyter-widgets/controls",
      "model_module_version": "1.5.0",
      "model_name": "IntSliderModel",
      "state": {
       "continuous_update": false,
       "description": "Red",
       "layout": "IPY_MODEL_0a6e6a3a22214ae1880081644cdf71c1",
       "max": 255,
       "style": "IPY_MODEL_ac863ef1f6fa495d9f2423d68a75f7cd"
      }
     },
     "d1b1bad806a743c9b09fa1d764f8fbed": {
      "model_module": "@jupyter-widgets/base",
      "model_module_version": "1.2.0",
      "model_name": "LayoutModel",
      "state": {
       "width": "90%"
      }
     },
     "d1c87c06be504d0a9c1eea7cb621faed": {
      "model_module": "ipysheet",
      "model_module_version": "~0.4.4",
      "model_name": "CellRangeModel",
      "state": {
       "_view_module": null,
       "_view_module_version": "",
       "column_end": 3,
       "column_start": 0,
       "row_end": 7,
       "row_start": 7,
       "squeeze_column": false,
       "type": "numeric",
       "value": [
        "",
        "",
        "",
        ""
       ]
      }
     },
     "d1e01b2d1cf44c0b9921861fce030d65": {
      "model_module": "@jupyter-widgets/controls",
      "model_module_version": "1.5.0",
      "model_name": "SliderStyleModel",
      "state": {
       "description_width": "initial"
      }
     },
     "d27e65104039415a8fc1e5c951c0756e": {
      "model_module": "ipysheet",
      "model_module_version": "~0.4.4",
      "model_name": "CellRangeModel",
      "state": {
       "_view_module": null,
       "_view_module_version": "",
       "column_end": 3,
       "column_start": 3,
       "row_end": 0,
       "row_start": 0,
       "type": "numeric",
       "value": 0
      }
     },
     "d2a4092b9a0d4ab2ba5f5c7588ed063f": {
      "model_module": "@jupyter-widgets/controls",
      "model_module_version": "1.5.0",
      "model_name": "DescriptionStyleModel",
      "state": {
       "description_width": "initial"
      }
     },
     "d2b7d871bb854bc4a481d47c94e0ee0b": {
      "model_module": "@jupyter-widgets/controls",
      "model_module_version": "1.5.0",
      "model_name": "VBoxModel",
      "state": {
       "children": [
        "IPY_MODEL_76b30a31605a499c8626c4fa30a260b3",
        "IPY_MODEL_04858ff4898f4a7d94170bc1d309dab7",
        "IPY_MODEL_3c854293e4e7416cb47c961a26451b39",
        "IPY_MODEL_f5e0a54bf17f4820bbba233dc17e5c40"
       ],
       "layout": "IPY_MODEL_2be9f538a8e84343a209c203fe5c578f"
      }
     },
     "d322ee43e966404693999ae689b25f46": {
      "model_module": "@jupyter-widgets/controls",
      "model_module_version": "1.5.0",
      "model_name": "GridBoxModel",
      "state": {
       "children": [
        "IPY_MODEL_1e669101535442728dbb394dadeb06da"
       ],
       "layout": "IPY_MODEL_1e74df5c08534a9597ce272fe9c03abc"
      }
     },
     "d33a272a2af24d7383114214cda19cc7": {
      "model_module": "@jupyter-widgets/controls",
      "model_module_version": "1.5.0",
      "model_name": "BoundedFloatTextModel",
      "state": {
       "description": "Scan max X (um)",
       "layout": "IPY_MODEL_a7893954a31b466183757af6e21fbff8",
       "max": 50,
       "step": 0.001,
       "style": "IPY_MODEL_b3237a4f74b7415e838e9de2f2897bc3",
       "value": 25.5
      }
     },
     "d33b86fefa824534a5c7e0a7a0771bf1": {
      "model_module": "@jupyter-widgets/base",
      "model_module_version": "1.2.0",
      "model_name": "LayoutModel",
      "state": {
       "width": "90%"
      }
     },
     "d353e549f2ae4ff081d5e4f3214adfe1": {
      "model_module": "@jupyter-widgets/controls",
      "model_module_version": "1.5.0",
      "model_name": "ButtonStyleModel",
      "state": {}
     },
     "d371e96423a949f5910b4ee5929c4d5f": {
      "model_module": "@jupyter-widgets/base",
      "model_module_version": "1.2.0",
      "model_name": "LayoutModel",
      "state": {
       "width": "90%"
      }
     },
     "d374bfd45fcf4b2c8b8e48cdd43323dd": {
      "model_module": "@jupyter-widgets/controls",
      "model_module_version": "1.5.0",
      "model_name": "VBoxModel",
      "state": {
       "children": [
        "IPY_MODEL_c0ec515948ff4eb3b2b5f13ca3c1905b",
        "IPY_MODEL_dd32be2e735f48e3aaba9970fef07304",
        "IPY_MODEL_f6c0f405772e4ff1a73f411af4d0ed6f",
        "IPY_MODEL_9a53c3deb3f04cedbbaba6003732d985"
       ],
       "layout": "IPY_MODEL_c9b941da98cc412192766a0fe4fe4f74"
      }
     },
     "d3a49fc1161b4a3e9f50cf0c160358ee": {
      "model_module": "@jupyter-widgets/base",
      "model_module_version": "1.2.0",
      "model_name": "LayoutModel",
      "state": {
       "grid_area": "largeFOV_begin_button",
       "width": "auto"
      }
     },
     "d3ddf4f50e184527aeee4862ab30468e": {
      "model_module": "ipysheet",
      "model_module_version": "~0.4.4",
      "model_name": "CellRangeModel",
      "state": {
       "_view_module": null,
       "_view_module_version": "",
       "column_end": 3,
       "column_start": 0,
       "row_end": 0,
       "row_start": 0,
       "squeeze_column": false,
       "type": "numeric",
       "value": [
        "",
        "",
        "",
        ""
       ]
      }
     },
     "d40dc75309f845d387b1ebf5ea8c8b2b": {
      "model_module": "@jupyter-widgets/controls",
      "model_module_version": "1.5.0",
      "model_name": "ButtonStyleModel",
      "state": {}
     },
     "d43a6c3efcd9489fa3b2d875c5a144aa": {
      "model_module": "@jupyter-widgets/controls",
      "model_module_version": "1.5.0",
      "model_name": "BoundedIntTextModel",
      "state": {
       "description": "Delete row",
       "layout": "IPY_MODEL_80a78630322c41fe8ae744c6c3f0dc69",
       "max": 4,
       "min": 1,
       "style": "IPY_MODEL_e4ffb0d6ba7748598cd95b1aff47dc29",
       "value": 4
      }
     },
     "d45d51605b3e4d9bbedb9795eb1d65da": {
      "model_module": "@jupyter-widgets/controls",
      "model_module_version": "1.5.0",
      "model_name": "SliderStyleModel",
      "state": {
       "description_width": ""
      }
     },
     "d49841c6be8b426493ef170979220bb8": {
      "model_module": "@jupyter-widgets/controls",
      "model_module_version": "1.5.0",
      "model_name": "DescriptionStyleModel",
      "state": {
       "description_width": "initial"
      }
     },
     "d4aa8e02e46c4107b8918be56a04b169": {
      "model_module": "@jupyter-widgets/base",
      "model_module_version": "1.2.0",
      "model_name": "LayoutModel",
      "state": {
       "grid_area": "minY",
       "width": "auto"
      }
     },
     "d4ac30537bbb45a5a1d853e3e68c7106": {
      "model_module": "ipysheet",
      "model_module_version": "~0.4.4",
      "model_name": "CellRangeModel",
      "state": {
       "_view_module": null,
       "_view_module_version": "",
       "column_end": 3,
       "column_start": 0,
       "squeeze_column": false,
       "type": "numeric",
       "value": [
        "",
        "",
        "",
        ""
       ]
      }
     },
     "d4b2053654304fa7afecd96aecdf546a": {
      "model_module": "@jupyter-widgets/controls",
      "model_module_version": "1.5.0",
      "model_name": "GridBoxModel",
      "state": {
       "children": [
        "IPY_MODEL_9b1717ace09549958487f536a725457a"
       ],
       "layout": "IPY_MODEL_b767a9e952fd409e8b7e1a76d97e2d8c"
      }
     },
     "d4b86f2b1ba642fdb1aedbe0fabefabb": {
      "model_module": "@jupyter-widgets/base",
      "model_module_version": "1.2.0",
      "model_name": "LayoutModel",
      "state": {
       "width": "50%"
      }
     },
     "d4f333f11aa24a829d217b97ca76972a": {
      "model_module": "@jupyter-widgets/controls",
      "model_module_version": "1.5.0",
      "model_name": "BoundedFloatTextModel",
      "state": {
       "description": "Total Duration (h)",
       "layout": "IPY_MODEL_a604ddad0f384030a07c41b1e03baa0c",
       "step": 0.01,
       "style": "IPY_MODEL_23c0ad0296584b2ba9881d8ab66e03c0",
       "value": 0.01
      }
     },
     "d50772f724fa4100972d32703042f8ba": {
      "model_module": "@jupyter-widgets/controls",
      "model_module_version": "1.5.0",
      "model_name": "ButtonStyleModel",
      "state": {}
     },
     "d50a5b9f269547f7813cb21b247d06bc": {
      "model_module": "@jupyter-widgets/base",
      "model_module_version": "1.2.0",
      "model_name": "LayoutModel",
      "state": {
       "width": "90%"
      }
     },
     "d50f3b1680904126ac835b601363fb84": {
      "model_module": "@jupyter-widgets/base",
      "model_module_version": "1.2.0",
      "model_name": "LayoutModel",
      "state": {
       "width": "90%"
      }
     },
     "d5337591dd52424bad7b969f953b82af": {
      "model_module": "@jupyter-widgets/controls",
      "model_module_version": "1.5.0",
      "model_name": "DescriptionStyleModel",
      "state": {
       "description_width": "initial"
      }
     },
     "d54f401b07a04f9aab7e0854865821f4": {
      "model_module": "@jupyter-widgets/controls",
      "model_module_version": "1.5.0",
      "model_name": "SliderStyleModel",
      "state": {
       "description_width": ""
      }
     },
     "d5749938f346462c82eca65c91c51a7b": {
      "model_module": "@jupyter-widgets/controls",
      "model_module_version": "1.5.0",
      "model_name": "GridBoxModel",
      "state": {
       "children": [
        "IPY_MODEL_79fc6ee5c3264ec38298244b800186de",
        "IPY_MODEL_a738ec767a524b1ebd569c00207222a8",
        "IPY_MODEL_7dbbabac6e46462b9bf5e6db66ca147b",
        "IPY_MODEL_8f9140ea15054ad59f58872cd3a7da0e",
        "IPY_MODEL_b4175e4e57c741d2bcb2f23ecfe4852c",
        "IPY_MODEL_fef030a5cbb348d2816d61d065b30c18",
        "IPY_MODEL_64bf840f78014167a51df16dc1e26c78",
        "IPY_MODEL_6348dac755394ec1bede7ff1da8243ca"
       ],
       "layout": "IPY_MODEL_e940504cf63b4abfa83d8a94f2d4a003"
      }
     },
     "d593797b15f04ef686a47f3fc260067b": {
      "model_module": "@jupyter-widgets/controls",
      "model_module_version": "1.5.0",
      "model_name": "GridBoxModel",
      "state": {
       "children": [
        "IPY_MODEL_353e3cd3dcd448a8a7bbd874b427eaf1",
        "IPY_MODEL_1e20a11e5a984ecd89c327143ab96670",
        "IPY_MODEL_e8e63715427a48d19c2335cb4ff0b8a1",
        "IPY_MODEL_70cfcc02ee3d483cab1ab58168e890e5",
        "IPY_MODEL_e5c4d40e458044c983a4b0189dcbf376",
        "IPY_MODEL_06c6cca694f441938bb2aa5426877016",
        "IPY_MODEL_41bf7845d3634703a7cc5e960fbbe176",
        "IPY_MODEL_72d38bd450a7497a8da3c9259b659ca1"
       ],
       "layout": "IPY_MODEL_9f71e455c8c94604bcf785ad75bfc79e"
      }
     },
     "d59401ac86864e659a4c97f1c1d888ae": {
      "model_module": "@jupyter-widgets/base",
      "model_module_version": "1.2.0",
      "model_name": "LayoutModel",
      "state": {
       "grid_area": "stageY",
       "width": "auto"
      }
     },
     "d599ac898d754aaabb36c087442b8acd": {
      "model_module": "@jupyter-widgets/base",
      "model_module_version": "1.2.0",
      "model_name": "LayoutModel",
      "state": {
       "grid_area": "deltaZ",
       "width": "auto"
      }
     },
     "d5d2319dc0f945c494b96bc99ba17aa0": {
      "model_module": "ipysheet",
      "model_module_version": "~0.4.4",
      "model_name": "CellRangeModel",
      "state": {
       "_view_module": null,
       "_view_module_version": "",
       "column_end": 3,
       "column_start": 0,
       "row_end": 2,
       "row_start": 2,
       "squeeze_column": false,
       "type": "numeric",
       "value": [
        25,
        25,
        25,
        5
       ]
      }
     },
     "d5f59f7a30d04f73848d9ef392c13107": {
      "model_module": "ipysheet",
      "model_module_version": "~0.4.4",
      "model_name": "CellRangeModel",
      "state": {
       "_view_module": null,
       "_view_module_version": "",
       "column_end": 3,
       "column_start": 0,
       "row_end": 2,
       "row_start": 2,
       "squeeze_column": false,
       "type": "text",
       "value": [
        "",
        "",
        "",
        ""
       ]
      }
     },
     "d5f9db9c992a445d95a1bffbac7a52ad": {
      "model_module": "@jupyter-widgets/output",
      "model_module_version": "1.0.0",
      "model_name": "OutputModel",
      "state": {
       "layout": "IPY_MODEL_29854744305f4bc3882d6543e6ccee65"
      }
     },
     "d60e19e516394e09a4241f6993a63425": {
      "model_module": "@jupyter-widgets/controls",
      "model_module_version": "1.5.0",
      "model_name": "SliderStyleModel",
      "state": {
       "description_width": ""
      }
     },
     "d610f322f41446c593774871ccda063f": {
      "model_module": "@jupyter-widgets/base",
      "model_module_version": "1.2.0",
      "model_name": "LayoutModel",
      "state": {
       "width": "50%"
      }
     },
     "d6168ed461474165b11a7fc150991747": {
      "model_module": "@jupyter-widgets/base",
      "model_module_version": "1.2.0",
      "model_name": "LayoutModel",
      "state": {
       "border": "solid 1px",
       "grid_template_areas": "\n                                        \"minX minY minZ\"\n                                        \"maxX maxY maxZ\"\n                                        \"deltaZ overlap .\"\n                                    ",
       "grid_template_columns": "30% 30% 30%",
       "grid_template_rows": "auto auto",
       "width": "100%"
      }
     },
     "d6800c6279c14e2ba2911a51c700fa71": {
      "model_module": "@jupyter-widgets/controls",
      "model_module_version": "1.5.0",
      "model_name": "DescriptionStyleModel",
      "state": {
       "description_width": "initial"
      }
     },
     "d70511083a654761b0c380a3fc85fd75": {
      "model_module": "@jupyter-widgets/base",
      "model_module_version": "1.2.0",
      "model_name": "LayoutModel",
      "state": {
       "grid_area": "maxX",
       "width": "auto"
      }
     },
     "d7456fd1f8b14db8a0d9b231613f0be6": {
      "model_module": "@jupyter-widgets/controls",
      "model_module_version": "1.5.0",
      "model_name": "VBoxModel",
      "state": {
       "children": [
        "IPY_MODEL_6f7acf98d9ba447f9ca7f12170048abc",
        "IPY_MODEL_ecf07e4960a64c2db19f520c42b7a2b9"
       ],
       "layout": "IPY_MODEL_814d5d254d7c427b94d3a7b4efefa476"
      }
     },
     "d74a8a9dbcff46b9a8ae530719fa6e80": {
      "model_module": "ipysheet",
      "model_module_version": "~0.4.4",
      "model_name": "CellRangeModel",
      "state": {
       "_view_module": null,
       "_view_module_version": "",
       "column_end": 3,
       "column_start": 3,
       "row_end": 5,
       "row_start": 5,
       "type": "text",
       "value": ""
      }
     },
     "d7e69fed86784b3b849255649c75e595": {
      "model_module": "@jupyter-widgets/controls",
      "model_module_version": "1.5.0",
      "model_name": "IntSliderModel",
      "state": {
       "continuous_update": false,
       "description": "Height",
       "layout": "IPY_MODEL_cedfea8249da460d8c870b4e25cf6bd2",
       "max": 720,
       "style": "IPY_MODEL_d45d51605b3e4d9bbedb9795eb1d65da",
       "value": 200
      }
     },
     "d81a63f38cb64a00901400adf6274dc6": {
      "model_module": "@jupyter-widgets/controls",
      "model_module_version": "1.5.0",
      "model_name": "IntRangeSliderModel",
      "state": {
       "_model_name": "IntRangeSliderModel",
       "_view_name": "IntRangeSliderView",
       "continuous_update": false,
       "description": "Range",
       "layout": "IPY_MODEL_5d2099ddbccb4df789eff681c37d1b5c",
       "max": 65535,
       "style": "IPY_MODEL_dd1a53be8a334292980968bc44e9552e",
       "value": [
        0,
        65535
       ]
      }
     },
     "d8a310fbdabf41b6bd12ffd02681a16b": {
      "model_module": "ipysheet",
      "model_module_version": "~0.4.4",
      "model_name": "CellRangeModel",
      "state": {
       "_view_module": null,
       "_view_module_version": "",
       "column_end": 3,
       "column_start": 0,
       "squeeze_column": false,
       "type": "numeric",
       "value": [
        "",
        "",
        "",
        ""
       ]
      }
     },
     "d8d6db7f0b0846b2925ad58c55ccd55a": {
      "model_module": "@jupyter-widgets/controls",
      "model_module_version": "1.5.0",
      "model_name": "BoundedFloatTextModel",
      "state": {
       "description": "Scan max Y (um)",
       "layout": "IPY_MODEL_a7a4e5ac14854af6a0a39f90cd41bf70",
       "max": 50,
       "step": 0.001,
       "style": "IPY_MODEL_a08039be838a4df6aeed96bc486d7aa3",
       "value": 25.5
      }
     },
     "d8dcc477ac7045a99f755c534f2f2048": {
      "model_module": "@jupyter-widgets/controls",
      "model_module_version": "1.5.0",
      "model_name": "IntSliderModel",
      "state": {
       "continuous_update": false,
       "description": "Height",
       "layout": "IPY_MODEL_834bae92083e4583b086740311631e6e",
       "max": 720,
       "style": "IPY_MODEL_1c3cfda22b2548f38bb887b7820a35d2",
       "value": 200
      }
     },
     "d8f7fa1952f84ec49cc21a181b014042": {
      "model_module": "@jupyter-widgets/controls",
      "model_module_version": "1.5.0",
      "model_name": "DescriptionStyleModel",
      "state": {
       "description_width": ""
      }
     },
     "d946e250652c4e1d8d232a1c43cd1295": {
      "model_module": "ipysheet",
      "model_module_version": "~0.4.4",
      "model_name": "CellRangeModel",
      "state": {
       "_view_module": null,
       "_view_module_version": "",
       "column_end": 3,
       "column_start": 0,
       "row_end": 7,
       "row_start": 7,
       "squeeze_column": false,
       "type": "text",
       "value": [
        "",
        "",
        "",
        ""
       ]
      }
     },
     "d94e45480b9349158884854e47353aac": {
      "model_module": "@jupyter-widgets/controls",
      "model_module_version": "1.5.0",
      "model_name": "DescriptionStyleModel",
      "state": {
       "description_width": "initial"
      }
     },
     "d9cdd7149d924534853ff8694d8a7d47": {
      "model_module": "@jupyter-widgets/base",
      "model_module_version": "1.2.0",
      "model_name": "LayoutModel",
      "state": {
       "width": "70%"
      }
     },
     "d9e9c2f010e84c888b1c4ad952da4dff": {
      "model_module": "@jupyter-widgets/controls",
      "model_module_version": "1.5.0",
      "model_name": "DescriptionStyleModel",
      "state": {
       "description_width": "initial"
      }
     },
     "d9fc54d909924069a7c6d9eca1a00fd2": {
      "model_module": "ipysheet",
      "model_module_version": "~0.4.4",
      "model_name": "CellRangeModel",
      "state": {
       "_view_module": null,
       "_view_module_version": "",
       "column_end": 3,
       "column_start": 3,
       "row_end": 4,
       "row_start": 4,
       "type": "numeric",
       "value": 0
      }
     },
     "da6a6887a919483884a89fd223a57af1": {
      "model_module": "ipysheet",
      "model_module_version": "~0.4.4",
      "model_name": "CellRangeModel",
      "state": {
       "_view_module": null,
       "_view_module_version": "",
       "column_end": 3,
       "column_start": 0,
       "row_end": 6,
       "row_start": 6,
       "squeeze_column": false,
       "type": "numeric",
       "value": [
        "",
        "",
        "",
        ""
       ]
      }
     },
     "daacfc6d81f44280bf84add7feef2b61": {
      "model_module": "@jupyter-widgets/controls",
      "model_module_version": "1.5.0",
      "model_name": "IntRangeSliderModel",
      "state": {
       "_model_name": "IntRangeSliderModel",
       "_view_name": "IntRangeSliderView",
       "continuous_update": false,
       "description": "Range",
       "layout": "IPY_MODEL_6e471c3ff4ef462aab84d5d26928cc0d",
       "max": 65535,
       "style": "IPY_MODEL_639fa68447c546b9ac560bd599e7369c",
       "value": [
        0,
        65535
       ]
      }
     },
     "dadf5d549e204e5595ce8c001f5fb284": {
      "model_module": "@jupyter-widgets/controls",
      "model_module_version": "1.5.0",
      "model_name": "BoundedFloatTextModel",
      "state": {
       "description": "Scan max X (um)",
       "layout": "IPY_MODEL_78c6a9bcfc96471397613e1f3ebaf20b",
       "max": 50,
       "step": 0.001,
       "style": "IPY_MODEL_0c754fa9057f43e8aa9dc843d776be8f",
       "value": 25.5
      }
     },
     "db206e55c16248538af60b86c4866763": {
      "model_module": "@jupyter-widgets/base",
      "model_module_version": "1.2.0",
      "model_name": "LayoutModel",
      "state": {
       "grid_area": "stageZ",
       "width": "auto"
      }
     },
     "db7a1c48d73a4b23a43eb8c1b3a2fe38": {
      "model_module": "@jupyter-widgets/base",
      "model_module_version": "1.2.0",
      "model_name": "LayoutModel",
      "state": {
       "grid_area": "delRow",
       "width": "auto"
      }
     },
     "db87ad31f7eb4ecd93f5d38bcf80d737": {
      "model_module": "ipysheet",
      "model_module_version": "~0.4.4",
      "model_name": "CellRangeModel",
      "state": {
       "_view_module": null,
       "_view_module_version": "",
       "column_end": 0,
       "column_start": 0,
       "row_end": 0,
       "row_start": 0,
       "type": "numeric",
       "value": 25.6
      }
     },
     "dbaab2eb7c6b46aab4bd88eeaf324b02": {
      "model_module": "@jupyter-widgets/controls",
      "model_module_version": "1.5.0",
      "model_name": "VBoxModel",
      "state": {
       "_dom_classes": [
        "widget-interact"
       ],
       "children": [
        "IPY_MODEL_b18177f718ea408285249a5a74473474",
        "IPY_MODEL_ec2529b351e74a288a719bc31b6d7428",
        "IPY_MODEL_ef57a6a7bdf6420f82c7b48e21f90287",
        "IPY_MODEL_49aca2ae43bd482380972dc5cc84ae27"
       ],
       "layout": "IPY_MODEL_3af4818bdd5940f9b285ff69840861e0"
      }
     },
     "dbe27ff0ee484818a7fd6705e6fe44a7": {
      "model_module": "@jupyter-widgets/controls",
      "model_module_version": "1.5.0",
      "model_name": "VBoxModel",
      "state": {
       "children": [
        "IPY_MODEL_dc32de5c94e44955b37d249a676515bb",
        "IPY_MODEL_8e38a7fb36af413e8224cc90fa324d2d"
       ],
       "layout": "IPY_MODEL_644ae8b029d04c26a0c999cff0f316de"
      }
     },
     "dbe883eeaf594252b401cb9b6438028b": {
      "model_module": "@jupyter-widgets/base",
      "model_module_version": "1.2.0",
      "model_name": "LayoutModel",
      "state": {
       "width": "90%"
      }
     },
     "dc05b60b885749bc959ef27113fbf517": {
      "model_module": "@jupyter-widgets/controls",
      "model_module_version": "1.5.0",
      "model_name": "ButtonModel",
      "state": {
       "description": "Snapshot",
       "layout": "IPY_MODEL_dc6fa617084744aca8f764ffcbdb4d6e",
       "style": "IPY_MODEL_8949db31fd6c43c2b041a06ca523c3f6"
      }
     },
     "dc15bf6580ed43b891b275615458e4cd": {
      "model_module": "@jupyter-widgets/controls",
      "model_module_version": "1.5.0",
      "model_name": "ButtonStyleModel",
      "state": {}
     },
     "dc32de5c94e44955b37d249a676515bb": {
      "model_module": "@jupyter-widgets/controls",
      "model_module_version": "1.5.0",
      "model_name": "BoundedIntTextModel",
      "state": {
       "description": "WideField Frames",
       "layout": "IPY_MODEL_bca782a6fcc64805b469006c9f94616b",
       "max": 10000,
       "min": 1,
       "style": "IPY_MODEL_09c890bca33d41bf8b1c5739da449434",
       "value": 1
      }
     },
     "dc4531ca4d774d7cb8650a56c5fdd66a": {
      "model_module": "@jupyter-widgets/controls",
      "model_module_version": "1.5.0",
      "model_name": "VBoxModel",
      "state": {
       "children": [
        "IPY_MODEL_f29a4c6e5e3b4fa19e07efdf054230f8",
        "IPY_MODEL_9b52c33b5c5f449eb3637fc955606aab",
        "IPY_MODEL_2b2b7e4bfb4948ddbb8ecd6943dd458b",
        "IPY_MODEL_8701d06be8b24ff3b69cc9b070d8a50f"
       ],
       "layout": "IPY_MODEL_f4ceb599a13e416f98cfce3b1557e5bf"
      }
     },
     "dc5dea9ededa4bb0ac3ad7508416e3e8": {
      "model_module": "@jupyter-widgets/controls",
      "model_module_version": "1.5.0",
      "model_name": "DescriptionStyleModel",
      "state": {
       "description_width": "initial"
      }
     },
     "dc6fa617084744aca8f764ffcbdb4d6e": {
      "model_module": "@jupyter-widgets/base",
      "model_module_version": "1.2.0",
      "model_name": "LayoutModel",
      "state": {}
     },
     "dc806d5b8ee344e2817206d21b59abde": {
      "model_module": "@jupyter-widgets/base",
      "model_module_version": "1.2.0",
      "model_name": "LayoutModel",
      "state": {
       "width": "90%"
      }
     },
     "dcb00231a9be40b5b433d52fa2e90c4a": {
      "model_module": "@jupyter-widgets/base",
      "model_module_version": "1.2.0",
      "model_name": "LayoutModel",
      "state": {
       "width": "90%"
      }
     },
     "dd1a53be8a334292980968bc44e9552e": {
      "model_module": "@jupyter-widgets/controls",
      "model_module_version": "1.5.0",
      "model_name": "SliderStyleModel",
      "state": {
       "description_width": "initial"
      }
     },
     "dd32be2e735f48e3aaba9970fef07304": {
      "model_module": "@jupyter-widgets/controls",
      "model_module_version": "1.5.0",
      "model_name": "GridBoxModel",
      "state": {
       "children": [
        "IPY_MODEL_bf60a98538ff492b9a442fa9559f3e28",
        "IPY_MODEL_5b07027a079c4ba39dddd5e9c54e37fc",
        "IPY_MODEL_77ebd524c46d4a02bfa59a6e9aec6074",
        "IPY_MODEL_0d8a624a926f45649bd1f76b002df8c9",
        "IPY_MODEL_fbc31a44a75f4b778e5167135d679e51",
        "IPY_MODEL_ca7c8148b53f443ca73c64b934b5197b",
        "IPY_MODEL_a3ebc9b014174ef3ab35502ed34e28fa",
        "IPY_MODEL_212e73c0c76f4585862ad87fa423445c"
       ],
       "layout": "IPY_MODEL_a97dfc3e58364671bec5bbb72be9f143"
      }
     },
     "dd75ec7772bf403e95c59cba1c9ad5c0": {
      "model_module": "ipysheet",
      "model_module_version": "~0.4.4",
      "model_name": "CellRangeModel",
      "state": {
       "_view_module": null,
       "_view_module_version": "",
       "column_end": 0,
       "column_start": 0,
       "row_end": 2,
       "row_start": 2,
       "type": "numeric",
       "value": 25
      }
     },
     "dd76118fc9ec42049e0017e1c1d4026c": {
      "model_module": "@jupyter-widgets/base",
      "model_module_version": "1.2.0",
      "model_name": "LayoutModel",
      "state": {
       "grid_area": "stageX",
       "width": "auto"
      }
     },
     "dd773d73970b4597b6d30e424a085673": {
      "model_module": "@jupyter-widgets/controls",
      "model_module_version": "1.5.0",
      "model_name": "IntSliderModel",
      "state": {
       "continuous_update": false,
       "description": "Scan Range",
       "layout": "IPY_MODEL_2e33795829ac446587e78a719eb12724",
       "max": 1280,
       "min": 1,
       "style": "IPY_MODEL_a3feb01399734315bd044db3d8a44858",
       "value": 100
      }
     },
     "dd91e121d4f94f08b7b6bf2737b7b746": {
      "model_module": "@jupyter-widgets/controls",
      "model_module_version": "1.5.0",
      "model_name": "ButtonModel",
      "state": {
       "description": "Exit",
       "layout": "IPY_MODEL_6f77e889186948e9b6623d17d951a117",
       "style": "IPY_MODEL_396bdb5d749446eebb6cdad3c7c3bb03"
      }
     },
     "ddd7eb28a5f940d7aa40db07bc4f3487": {
      "model_module": "@jupyter-widgets/base",
      "model_module_version": "1.2.0",
      "model_name": "LayoutModel",
      "state": {
       "grid_area": "maxX",
       "width": "auto"
      }
     },
     "de217bc8623c474da21270e48f7acbfd": {
      "model_module": "@jupyter-widgets/base",
      "model_module_version": "1.2.0",
      "model_name": "LayoutModel",
      "state": {
       "grid_area": "stageZ",
       "width": "auto"
      }
     },
     "de7f68aac8164b82b071d5b708dd2ae0": {
      "model_module": "@jupyter-widgets/controls",
      "model_module_version": "1.5.0",
      "model_name": "ButtonModel",
      "state": {
       "description": "Stop Illumination",
       "layout": "IPY_MODEL_83c708f78acf455b89ddf65f1f55a50d",
       "style": "IPY_MODEL_dc15bf6580ed43b891b275615458e4cd"
      }
     },
     "de97cfe3baab41779f70329d06339913": {
      "model_module": "ipysheet",
      "model_module_version": "~0.4.4",
      "model_name": "CellRangeModel",
      "state": {
       "_view_module": null,
       "_view_module_version": "",
       "column_end": 3,
       "column_start": 0,
       "row_end": 4,
       "row_start": 4,
       "squeeze_column": false,
       "type": "numeric",
       "value": [
        "",
        "",
        "",
        ""
       ]
      }
     },
     "decea33883774d4f96762469cefdff6d": {
      "model_module": "@jupyter-widgets/controls",
      "model_module_version": "1.5.0",
      "model_name": "DescriptionStyleModel",
      "state": {
       "description_width": "initial"
      }
     },
     "e01ba8e429464894b55dbc475446759e": {
      "model_module": "@jupyter-widgets/base",
      "model_module_version": "1.2.0",
      "model_name": "LayoutModel",
      "state": {
       "grid_area": "delOffset",
       "width": "auto"
      }
     },
     "e0546294ec794e26aec99c5940bafc5d": {
      "model_module": "@jupyter-widgets/base",
      "model_module_version": "1.2.0",
      "model_name": "LayoutModel",
      "state": {
       "width": "90%"
      }
     },
     "e05f548b05124de6a52ef73ba98ee227": {
      "model_module": "@jupyter-widgets/controls",
      "model_module_version": "1.5.0",
      "model_name": "BoundedFloatTextModel",
      "state": {
       "description": "Stage X (um)",
       "layout": "IPY_MODEL_b6e0ccd42c3641478135d9d5ca57cbaf",
       "max": 50,
       "step": 0.001,
       "style": "IPY_MODEL_d6800c6279c14e2ba2911a51c700fa71",
       "value": 25
      }
     },
     "e07ba76ba44c4ff8b540c95169a746ab": {
      "model_module": "@jupyter-widgets/controls",
      "model_module_version": "1.5.0",
      "model_name": "BoundedFloatTextModel",
      "state": {
       "description": "Exp Inverval (h)",
       "layout": "IPY_MODEL_3fc528b82acf4333a928a5b4bdec1d17",
       "min": 0.01,
       "step": 0.01,
       "style": "IPY_MODEL_c709294565e14ac5b9433b2b8b4f036b",
       "value": 0.01
      }
     },
     "e0903b2f7be74827bb7a1d07bf4342e3": {
      "model_module": "@jupyter-widgets/controls",
      "model_module_version": "1.5.0",
      "model_name": "DescriptionStyleModel",
      "state": {
       "description_width": "initial"
      }
     },
     "e0dee7128a264746a05daf661d386e10": {
      "model_module": "@jupyter-widgets/controls",
      "model_module_version": "1.5.0",
      "model_name": "DescriptionStyleModel",
      "state": {
       "description_width": ""
      }
     },
     "e0f563253f9440ccb40b2c6a1373f574": {
      "model_module": "@jupyter-widgets/controls",
      "model_module_version": "1.5.0",
      "model_name": "BoundedIntTextModel",
      "state": {
       "description": "Light Sheet Offset",
       "layout": "IPY_MODEL_9227fe270e594e35add43d84a09757bb",
       "max": 300,
       "min": -300,
       "style": "IPY_MODEL_5747e247c9134a46a4c4124bf81d174b",
       "value": 5
      }
     },
     "e15ef7d8ee794fee88bec650604fe2c9": {
      "model_module": "@jupyter-widgets/base",
      "model_module_version": "1.2.0",
      "model_name": "LayoutModel",
      "state": {}
     },
     "e1fdc3a259f6400ea22bea0da6f03a9f": {
      "model_module": "@jupyter-widgets/base",
      "model_module_version": "1.2.0",
      "model_name": "LayoutModel",
      "state": {
       "width": "90%"
      }
     },
     "e20164f898eb47c0b49b3c794f0abd4d": {
      "model_module": "ipysheet",
      "model_module_version": "~0.4.4",
      "model_name": "CellRangeModel",
      "state": {
       "_view_module": null,
       "_view_module_version": "",
       "column_end": 3,
       "column_start": 0,
       "row_end": 6,
       "row_start": 6,
       "squeeze_column": false,
       "type": "numeric",
       "value": [
        "",
        "",
        "",
        ""
       ]
      }
     },
     "e222a7d61d784ab9b1d2d2e587317050": {
      "model_module": "@jupyter-widgets/controls",
      "model_module_version": "1.5.0",
      "model_name": "ButtonModel",
      "state": {
       "button_style": "danger",
       "description": "Begin Experiment",
       "layout": "IPY_MODEL_7560f64ca6d64d0090d488929bc85a62",
       "style": "IPY_MODEL_aa04dc6cea6c48adba1803a2bb91eba1"
      }
     },
     "e2bb0fff46594cbaa83ddeb7695e8996": {
      "model_module": "ipysheet",
      "model_module_version": "~0.4.4",
      "model_name": "CellRangeModel",
      "state": {
       "_view_module": null,
       "_view_module_version": "",
       "column_end": 3,
       "column_start": 0,
       "row_end": 0,
       "row_start": 0,
       "squeeze_column": false,
       "type": "numeric",
       "value": [
        "",
        "",
        "",
        ""
       ]
      }
     },
     "e2f9255c2d6a40579cd5008b397a49f7": {
      "model_module": "@jupyter-widgets/base",
      "model_module_version": "1.2.0",
      "model_name": "LayoutModel",
      "state": {
       "width": "90%"
      }
     },
     "e30351df9958466bb3e7fbd452735887": {
      "model_module": "ipysheet",
      "model_module_version": "~0.4.4",
      "model_name": "SheetModel",
      "state": {
       "cells": [
        "IPY_MODEL_e72e019ee71945b68311b8a1ac7346b5",
        "IPY_MODEL_7c8e094cbb2e40dda998b234fa2bdce8",
        "IPY_MODEL_5745a13013a8444ea51309f46906a6cd",
        "IPY_MODEL_16f34fa034a74d158e2d2f348063d248",
        "IPY_MODEL_6bbb010115604470ab3cc86dcff78ff6",
        "IPY_MODEL_420c33bacf8d4849874ad4305ac5803d",
        "IPY_MODEL_43ddaf1784dd465f897ab0586b5b3e18",
        "IPY_MODEL_62f2f473462c4cd29a9b50dfd6f2de81",
        "IPY_MODEL_d5d2319dc0f945c494b96bc99ba17aa0",
        "IPY_MODEL_143e0988c20f44218ed52572ce065474",
        "IPY_MODEL_71a3cbfc143c4f279f61b9e2e71b48cb",
        "IPY_MODEL_030c4c8f1a68473196d4a9089a972f85",
        "IPY_MODEL_100e43d24e974defb213a4f081bb5578",
        "IPY_MODEL_ab44082e15714e9aa61c96ee6b8af0c7",
        "IPY_MODEL_d74a8a9dbcff46b9a8ae530719fa6e80",
        "IPY_MODEL_e3c5e531557a43a39572068067f4d42a",
        "IPY_MODEL_f171f50fe6014089b357eb3c4056d685",
        "IPY_MODEL_aa4c0394a5ec4fbcbf489dc48071bcdf",
        "IPY_MODEL_b26409b1c3894927be61f15bad9a4344",
        "IPY_MODEL_2c8dd3f59292488f8a8e681d1d69ec5e",
        "IPY_MODEL_08b3055c1e4a44649d503d91efdaf0ab"
       ],
       "column_headers": [
        "X",
        "Y",
        "Z",
        "Offset"
       ],
       "layout": "IPY_MODEL_b7d09ed786574752827f81cef6434f39",
       "rows": 20
      }
     },
     "e35dc462e497445aa8f0db7bd6de251c": {
      "model_module": "@jupyter-widgets/base",
      "model_module_version": "1.2.0",
      "model_name": "LayoutModel",
      "state": {
       "grid_area": "delRow",
       "width": "auto"
      }
     },
     "e36f79de196c4c129f21cd7d78905870": {
      "model_module": "@jupyter-widgets/controls",
      "model_module_version": "1.5.0",
      "model_name": "BoundedIntTextModel",
      "state": {
       "description": "Delete row",
       "layout": "IPY_MODEL_e35dc462e497445aa8f0db7bd6de251c",
       "max": 5,
       "min": 1,
       "style": "IPY_MODEL_a46b4aef484d4d1198ef048f8d1cdade",
       "value": 1
      }
     },
     "e38cbfd889024e04bc19255d510ed409": {
      "model_module": "@jupyter-widgets/base",
      "model_module_version": "1.2.0",
      "model_name": "LayoutModel",
      "state": {
       "width": "90%"
      }
     },
     "e3b7dfcf4fc24683bb1521d71a11baa9": {
      "model_module": "@jupyter-widgets/base",
      "model_module_version": "1.2.0",
      "model_name": "LayoutModel",
      "state": {}
     },
     "e3c5e531557a43a39572068067f4d42a": {
      "model_module": "ipysheet",
      "model_module_version": "~0.4.4",
      "model_name": "CellRangeModel",
      "state": {
       "_view_module": null,
       "_view_module_version": "",
       "column_end": 3,
       "column_start": 0,
       "row_end": 5,
       "row_start": 5,
       "squeeze_column": false,
       "type": "text",
       "value": [
        "",
        "",
        "",
        ""
       ]
      }
     },
     "e42f6169921446dd9cef614f9af55f0d": {
      "model_module": "@jupyter-widgets/base",
      "model_module_version": "1.2.0",
      "model_name": "LayoutModel",
      "state": {
       "width": "70%"
      }
     },
     "e449c09f8d0f4121928e9bf1e18e2773": {
      "model_module": "@jupyter-widgets/base",
      "model_module_version": "1.2.0",
      "model_name": "LayoutModel",
      "state": {
       "width": "90%"
      }
     },
     "e4585e75debb4af5a594872ad5d8d607": {
      "model_module": "ipysheet",
      "model_module_version": "~0.4.4",
      "model_name": "CellRangeModel",
      "state": {
       "_view_module": null,
       "_view_module_version": "",
       "column_end": 3,
       "column_start": 0,
       "row_end": 0,
       "row_start": 0,
       "squeeze_column": false,
       "type": "text",
       "value": [
        "",
        "",
        "",
        ""
       ]
      }
     },
     "e47c699b8e75477d93d3770facebd31e": {
      "model_module": "ipysheet",
      "model_module_version": "~0.4.4",
      "model_name": "CellRangeModel",
      "state": {
       "_view_module": null,
       "_view_module_version": "",
       "column_end": 3,
       "column_start": 0,
       "row_end": 0,
       "row_start": 0,
       "squeeze_column": false,
       "type": "numeric",
       "value": [
        "",
        "",
        "",
        ""
       ]
      }
     },
     "e4f0f75d87ac4e788139edcde713f056": {
      "model_module": "@jupyter-widgets/controls",
      "model_module_version": "1.5.0",
      "model_name": "SliderStyleModel",
      "state": {
       "description_width": "initial"
      }
     },
     "e4ffb0d6ba7748598cd95b1aff47dc29": {
      "model_module": "@jupyter-widgets/controls",
      "model_module_version": "1.5.0",
      "model_name": "DescriptionStyleModel",
      "state": {
       "description_width": "initial"
      }
     },
     "e529445218c7403995f72bf0ea29041d": {
      "model_module": "@jupyter-widgets/controls",
      "model_module_version": "1.5.0",
      "model_name": "DescriptionStyleModel",
      "state": {
       "description_width": "initial"
      }
     },
     "e53f4356779b4968ac3b5e45ccbd2cae": {
      "model_module": "ipysheet",
      "model_module_version": "~0.4.4",
      "model_name": "CellRangeModel",
      "state": {
       "_view_module": null,
       "_view_module_version": "",
       "column_end": 2,
       "column_start": 2,
       "type": "numeric",
       "value": 26.5
      }
     },
     "e5b29c68d69f433e9afa6f973cd36013": {
      "model_module": "@jupyter-widgets/base",
      "model_module_version": "1.2.0",
      "model_name": "LayoutModel",
      "state": {
       "width": "90%"
      }
     },
     "e5c4d40e458044c983a4b0189dcbf376": {
      "model_module": "@jupyter-widgets/controls",
      "model_module_version": "1.5.0",
      "model_name": "BoundedFloatTextModel",
      "state": {
       "description": "Scan max Y (um)",
       "layout": "IPY_MODEL_2cf8cf75923c49969c1b7316f65640e4",
       "max": 50,
       "step": 0.001,
       "style": "IPY_MODEL_c88954239179419a86eb5844873be7ca",
       "value": 25.5
      }
     },
     "e5e6c666168848788855fc3d8bef9990": {
      "model_module": "@jupyter-widgets/base",
      "model_module_version": "1.2.0",
      "model_name": "LayoutModel",
      "state": {
       "grid_area": "addOffset",
       "width": "auto"
      }
     },
     "e5f455adcec547bfa73c3a4b8623d900": {
      "model_module": "@jupyter-widgets/controls",
      "model_module_version": "1.5.0",
      "model_name": "DescriptionStyleModel",
      "state": {
       "description_width": "initial"
      }
     },
     "e5fad192924f430f8474a6be1d8ccaba": {
      "model_module": "@jupyter-widgets/controls",
      "model_module_version": "1.5.0",
      "model_name": "DescriptionStyleModel",
      "state": {
       "description_width": "initial"
      }
     },
     "e607549dc67642aab5d6f9f4a55e061d": {
      "model_module": "@jupyter-widgets/controls",
      "model_module_version": "1.5.0",
      "model_name": "IntSliderModel",
      "state": {
       "continuous_update": false,
       "description": "Gain",
       "layout": "IPY_MODEL_31cc359bc34b4c7a94d62d75060a24f0",
       "max": 47,
       "min": 1,
       "style": "IPY_MODEL_9d97acc90a1a465ca54eb89c8b39127f",
       "value": 1
      }
     },
     "e60c4e6665f94ad991de56c477ee64e2": {
      "model_module": "@jupyter-widgets/controls",
      "model_module_version": "1.5.0",
      "model_name": "BoundedFloatTextModel",
      "state": {
       "description": "Stage Z (um)",
       "layout": "IPY_MODEL_17f183e48bfe4395be82b75436ddbc68",
       "max": 50,
       "step": 0.001,
       "style": "IPY_MODEL_1b3dfab0f2434e83a39c6dd41c6285cd",
       "value": 25
      }
     },
     "e649f012e3c64886a57cd4df6251477e": {
      "model_module": "@jupyter-widgets/controls",
      "model_module_version": "1.5.0",
      "model_name": "ButtonModel",
      "state": {
       "description": "Snapshot",
       "layout": "IPY_MODEL_98dae39663ac42598eb4a9c554a8680a",
       "style": "IPY_MODEL_45b735bf0e7f4be3b4cc1ea8a4842b4c"
      }
     },
     "e661d4cdbe9042b0989f22c023e18811": {
      "model_module": "@jupyter-widgets/controls",
      "model_module_version": "1.5.0",
      "model_name": "VBoxModel",
      "state": {
       "children": [
        "IPY_MODEL_482477bd35364a8ab844a7e9b706fade",
        "IPY_MODEL_ad740b514d9b441ca9a72815a2686e52",
        "IPY_MODEL_6bc3f8bd0c63451691d03b6a01b382c1"
       ],
       "layout": "IPY_MODEL_40a7a7ab56664415b9e34f2461fd7ac9"
      }
     },
     "e6750208e94b493a9b4e9ed860be1120": {
      "model_module": "ipysheet",
      "model_module_version": "~0.4.4",
      "model_name": "CellRangeModel",
      "state": {
       "_view_module": null,
       "_view_module_version": "",
       "column_end": 3,
       "column_start": 0,
       "row_end": 5,
       "row_start": 5,
       "squeeze_column": false,
       "type": "numeric",
       "value": [
        "",
        "",
        "",
        ""
       ]
      }
     },
     "e68707b9b3dc41e787f3d989f40dfabf": {
      "model_module": "ipysheet",
      "model_module_version": "~0.4.4",
      "model_name": "CellRangeModel",
      "state": {
       "_view_module": null,
       "_view_module_version": "",
       "column_end": 3,
       "column_start": 0,
       "row_end": 0,
       "row_start": 0,
       "squeeze_column": false,
       "type": "numeric",
       "value": [
        "",
        "",
        "",
        ""
       ]
      }
     },
     "e6bc59c3c218481481f741841a27ad94": {
      "model_module": "@jupyter-widgets/controls",
      "model_module_version": "1.5.0",
      "model_name": "SliderStyleModel",
      "state": {
       "description_width": ""
      }
     },
     "e6dd4a79fc6b48bc84d202f59e9c4cca": {
      "model_module": "@jupyter-widgets/controls",
      "model_module_version": "1.5.0",
      "model_name": "IntSliderModel",
      "state": {
       "continuous_update": false,
       "description": "Offset",
       "layout": "IPY_MODEL_79a10c1766bb4f0384c81a4fb88d009f",
       "max": 300,
       "min": -300,
       "style": "IPY_MODEL_48e65d182e1c49f080f1612b933dfa2a"
      }
     },
     "e6f4bc292cd44f01b9265a879e8cc710": {
      "model_module": "@jupyter-widgets/controls",
      "model_module_version": "1.5.0",
      "model_name": "BoundedFloatTextModel",
      "state": {
       "description": "Scan min Y (um)",
       "layout": "IPY_MODEL_679963343f2541beb4a8eaacf64be70b",
       "max": 50,
       "step": 0.001,
       "style": "IPY_MODEL_73e374c8507a4800b1749ffb0f29c0ec",
       "value": 24.5
      }
     },
     "e6fbf59f4ccf468c9c6c51185b6f07d1": {
      "model_module": "@jupyter-widgets/output",
      "model_module_version": "1.0.0",
      "model_name": "OutputModel",
      "state": {
       "layout": "IPY_MODEL_35339b542a50497f954ea42f95898ccc"
      }
     },
     "e72e019ee71945b68311b8a1ac7346b5": {
      "model_module": "ipysheet",
      "model_module_version": "~0.4.4",
      "model_name": "CellRangeModel",
      "state": {
       "_view_module": null,
       "_view_module_version": "",
       "column_end": 3,
       "column_start": 0,
       "row_end": 0,
       "row_start": 0,
       "squeeze_column": false,
       "type": "numeric",
       "value": [
        25,
        25,
        25,
        0
       ]
      }
     },
     "e72e1ce9e00a4fc5acd7867e673dcab1": {
      "model_module": "@jupyter-widgets/controls",
      "model_module_version": "1.5.0",
      "model_name": "SliderStyleModel",
      "state": {
       "description_width": ""
      }
     },
     "e73f4d8685ea425aa24ab7f19e3147b5": {
      "model_module": "ipysheet",
      "model_module_version": "~0.4.4",
      "model_name": "CellRangeModel",
      "state": {
       "_view_module": null,
       "_view_module_version": "",
       "column_end": 3,
       "column_start": 0,
       "row_end": 5,
       "row_start": 5,
       "squeeze_column": false,
       "type": "numeric",
       "value": [
        "",
        "",
        "",
        ""
       ]
      }
     },
     "e7429ba90593460c9b2e653798dabab2": {
      "model_module": "@jupyter-widgets/base",
      "model_module_version": "1.2.0",
      "model_name": "LayoutModel",
      "state": {}
     },
     "e7d7ee2dfb3349caa208ae9927d5e474": {
      "model_module": "@jupyter-widgets/base",
      "model_module_version": "1.2.0",
      "model_name": "LayoutModel",
      "state": {}
     },
     "e7e2bfda42ae4fc0842c542f53573245": {
      "model_module": "@jupyter-widgets/controls",
      "model_module_version": "1.5.0",
      "model_name": "GridBoxModel",
      "state": {
       "children": [
        "IPY_MODEL_e222a7d61d784ab9b1d2d2e587317050"
       ],
       "layout": "IPY_MODEL_71541cc013df4db2accd58a0b500a54c"
      }
     },
     "e80b93910a384820ae4d236a5fb0ed3e": {
      "model_module": "@jupyter-widgets/base",
      "model_module_version": "1.2.0",
      "model_name": "LayoutModel",
      "state": {
       "width": "90%"
      }
     },
     "e83c264c9af14562a79e495e368617ec": {
      "model_module": "@jupyter-widgets/base",
      "model_module_version": "1.2.0",
      "model_name": "LayoutModel",
      "state": {
       "height": "auto",
       "width": "auto"
      }
     },
     "e87bcbfaadfb4502a076670861ee91c5": {
      "model_module": "@jupyter-widgets/base",
      "model_module_version": "1.2.0",
      "model_name": "LayoutModel",
      "state": {}
     },
     "e89cb359809b4175bde14289b400589c": {
      "model_module": "@jupyter-widgets/controls",
      "model_module_version": "1.5.0",
      "model_name": "BoundedFloatTextModel",
      "state": {
       "description": "Stage X (um)",
       "layout": "IPY_MODEL_113be71d30c64a6d9129c89a384fe6fb",
       "max": 50,
       "step": 0.001,
       "style": "IPY_MODEL_39df149cd2d043558f1d71956a4d4f59",
       "value": 25
      }
     },
     "e8e63715427a48d19c2335cb4ff0b8a1": {
      "model_module": "@jupyter-widgets/controls",
      "model_module_version": "1.5.0",
      "model_name": "BoundedFloatTextModel",
      "state": {
       "description": "Scan min Z (um)",
       "layout": "IPY_MODEL_f681211cfe554bbfa568c0ae374c4b61",
       "max": 50,
       "step": 0.001,
       "style": "IPY_MODEL_620bc8401a6a4b88834677eea3e52697",
       "value": 24.5
      }
     },
     "e8ea6c5d4817444dab33430c5976a6ea": {
      "model_module": "@jupyter-widgets/controls",
      "model_module_version": "1.5.0",
      "model_name": "VBoxModel",
      "state": {
       "children": [
        "IPY_MODEL_aa70bd616f944753be6e1be7dfa1b045",
        "IPY_MODEL_44b254965a9e41108748a9ae47d00c6c",
        "IPY_MODEL_6f06da8e47db4657977e9c4c1bb15801",
        "IPY_MODEL_63056304993244dfa70575d99bb81a8f",
        "IPY_MODEL_24511fe83cd5400faa7394a5f56964ae"
       ],
       "layout": "IPY_MODEL_9d0c86dd148b4e26bbaf375198626da1"
      }
     },
     "e8fa179cc2a64844b94f128ce8ec6cf4": {
      "model_module": "@jupyter-widgets/controls",
      "model_module_version": "1.5.0",
      "model_name": "VBoxModel",
      "state": {
       "children": [
        "IPY_MODEL_04ecf7dc3d4446d5a04f7bdbaa3a9ca6",
        "IPY_MODEL_c42089d0ec5f4f119e0ca42580e5030e"
       ],
       "layout": "IPY_MODEL_45a37de041cb4c3096e5688ff68692fe"
      }
     },
     "e908876fe68b4f5393372a26ac65af5d": {
      "model_module": "@jupyter-widgets/controls",
      "model_module_version": "1.5.0",
      "model_name": "DescriptionStyleModel",
      "state": {
       "description_width": "initial"
      }
     },
     "e916524865b045ad8a647cb0c6f39dac": {
      "model_module": "@jupyter-widgets/controls",
      "model_module_version": "1.5.0",
      "model_name": "ButtonModel",
      "state": {
       "description": "Start Acquisition",
       "layout": "IPY_MODEL_c5640452e7be40f19245f8dd197485b6",
       "style": "IPY_MODEL_581029e524694b859e45a61ed7c38c34"
      }
     },
     "e92c6bb59eec495c9f35d7011dfd626a": {
      "model_module": "ipysheet",
      "model_module_version": "~0.4.4",
      "model_name": "CellRangeModel",
      "state": {
       "_view_module": null,
       "_view_module_version": "",
       "column_end": 3,
       "column_start": 0,
       "row_end": 2,
       "row_start": 2,
       "squeeze_column": false,
       "type": "numeric",
       "value": [
        25,
        25,
        25,
        8
       ]
      }
     },
     "e940504cf63b4abfa83d8a94f2d4a003": {
      "model_module": "@jupyter-widgets/base",
      "model_module_version": "1.2.0",
      "model_name": "LayoutModel",
      "state": {
       "border": "solid 1px",
       "grid_template_areas": "\n                                        \"minX minY minZ\"\n                                        \"maxX maxY maxZ\"\n                                        \"deltaZ overlap .\"\n                                    ",
       "grid_template_columns": "30% 30% 30%",
       "grid_template_rows": "auto auto",
       "width": "100%"
      }
     },
     "e95740f801b94e4a8ca33b9a5ebcc9ea": {
      "model_module": "@jupyter-widgets/base",
      "model_module_version": "1.2.0",
      "model_name": "LayoutModel",
      "state": {
       "grid_template_areas": "\n                                        \". . largeFOV_begin_button\"\n                                    ",
       "grid_template_columns": "40% 40% 20%",
       "grid_template_rows": "auto",
       "width": "100%"
      }
     },
     "e96c5553c4f9484db054d1e9a37fd53c": {
      "model_module": "@jupyter-widgets/controls",
      "model_module_version": "1.5.0",
      "model_name": "SliderStyleModel",
      "state": {
       "description_width": "initial"
      }
     },
     "e984dcfdcb244236876a7384577c57a4": {
      "model_module": "@jupyter-widgets/base",
      "model_module_version": "1.2.0",
      "model_name": "LayoutModel",
      "state": {}
     },
     "ea0f97443e8a41b9908a9200e5057527": {
      "model_module": "@jupyter-widgets/base",
      "model_module_version": "1.2.0",
      "model_name": "LayoutModel",
      "state": {
       "width": "90%"
      }
     },
     "ea2f8e98c8e04ca4ae4244c968112b52": {
      "model_module": "@jupyter-widgets/base",
      "model_module_version": "1.2.0",
      "model_name": "LayoutModel",
      "state": {}
     },
     "ea3497f3642644989e68ca1d138020d7": {
      "model_module": "@jupyter-widgets/controls",
      "model_module_version": "1.5.0",
      "model_name": "DescriptionStyleModel",
      "state": {
       "description_width": "initial"
      }
     },
     "ea69fbb3c7b14b97bcdfec79ae2060f2": {
      "model_module": "@jupyter-widgets/base",
      "model_module_version": "1.2.0",
      "model_name": "LayoutModel",
      "state": {}
     },
     "ea764238b37d4230a4f2b77fefbf39e9": {
      "model_module": "@jupyter-widgets/base",
      "model_module_version": "1.2.0",
      "model_name": "LayoutModel",
      "state": {
       "width": "90%"
      }
     },
     "eac3d492c71448f49335022ec40e1fc4": {
      "model_module": "@jupyter-widgets/controls",
      "model_module_version": "1.5.0",
      "model_name": "SliderStyleModel",
      "state": {
       "description_width": ""
      }
     },
     "eb052236f0f848f2ac5cc19c85e96d10": {
      "model_module": "@jupyter-widgets/base",
      "model_module_version": "1.2.0",
      "model_name": "LayoutModel",
      "state": {
       "width": "90%"
      }
     },
     "eb5e0d6983df4f6e9d65876214d9a363": {
      "model_module": "@jupyter-widgets/controls",
      "model_module_version": "1.5.0",
      "model_name": "BoundedFloatTextModel",
      "state": {
       "description": "Stage Y (um)",
       "layout": "IPY_MODEL_48d3cc2d997747a9a36364419c628133",
       "max": 50,
       "step": 0.001,
       "style": "IPY_MODEL_aeab54efe7284380a6b86e1693e3bba6",
       "value": 25
      }
     },
     "ebc1c36870c0481ca476fc8bd45046fa": {
      "model_module": "@jupyter-widgets/base",
      "model_module_version": "1.2.0",
      "model_name": "LayoutModel",
      "state": {}
     },
     "ebf388b44bbb43558db78a44c530e2e8": {
      "model_module": "@jupyter-widgets/controls",
      "model_module_version": "1.5.0",
      "model_name": "IntSliderModel",
      "state": {
       "continuous_update": false,
       "description": "Green",
       "layout": "IPY_MODEL_5852998624d5464498ba3d08791e73f4",
       "max": 255,
       "style": "IPY_MODEL_a33b8525bd7441289dd702f5bd62a1b7"
      }
     },
     "ec2350536ea64eb6a6b1466496aa5654": {
      "model_module": "@jupyter-widgets/controls",
      "model_module_version": "1.5.0",
      "model_name": "DescriptionStyleModel",
      "state": {
       "description_width": "initial"
      }
     },
     "ec2529b351e74a288a719bc31b6d7428": {
      "model_module": "@jupyter-widgets/controls",
      "model_module_version": "1.5.0",
      "model_name": "FloatSliderModel",
      "state": {
       "continuous_update": false,
       "description": "Exposure (ms)",
       "layout": "IPY_MODEL_38abb58577f54537b26cda856d1a5996",
       "min": 16.83,
       "step": 16.83,
       "style": "IPY_MODEL_d1e01b2d1cf44c0b9921861fce030d65",
       "value": 16.83
      }
     },
     "ecab3c3cd44a4971a0fad38bc2227055": {
      "model_module": "@jupyter-widgets/controls",
      "model_module_version": "1.5.0",
      "model_name": "BoundedFloatTextModel",
      "state": {
       "description": "Stage Y (um)",
       "layout": "IPY_MODEL_6906b0bfe1b84e15b500e496f23b944c",
       "max": 50,
       "step": 0.001,
       "style": "IPY_MODEL_bf99db5c7da84ddd9518cbc01f790f1e",
       "value": 25
      }
     },
     "ecca3b7df67a462988f92e83698d91ea": {
      "model_module": "ipysheet",
      "model_module_version": "~0.4.4",
      "model_name": "CellRangeModel",
      "state": {
       "_view_module": null,
       "_view_module_version": "",
       "row_end": 3,
       "row_start": 3,
       "type": "text",
       "value": 25
      }
     },
     "ecf07e4960a64c2db19f520c42b7a2b9": {
      "model_module": "@jupyter-widgets/controls",
      "model_module_version": "1.5.0",
      "model_name": "VBoxModel",
      "state": {
       "_dom_classes": [
        "widget-interact"
       ],
       "children": [
        "IPY_MODEL_d1772b814ec44e759ffe96d99633cdae",
        "IPY_MODEL_2b554f7d76354c39b96c8ee749f6a539",
        "IPY_MODEL_9c2f0e9997a04acea29ef0cc7829983f",
        "IPY_MODEL_5c20658ed76a41b9b267a847a3ac5961",
        "IPY_MODEL_16fcd9ebe5ae4866a070acd0c419ac98",
        "IPY_MODEL_0d6311c5649b4309816afae9596a37f7",
        "IPY_MODEL_7e7f1b0a852f48839bb85bf32721935e",
        "IPY_MODEL_ed881492ed1f4db0a971fc058d06dbce",
        "IPY_MODEL_e6fbf59f4ccf468c9c6c51185b6f07d1"
       ],
       "layout": "IPY_MODEL_8f31de65499c413ab253baaac75a9aaa"
      }
     },
     "ed1fdabfd15c4d689aa16e879e3d550a": {
      "model_module": "@jupyter-widgets/controls",
      "model_module_version": "1.5.0",
      "model_name": "ButtonStyleModel",
      "state": {}
     },
     "ed881492ed1f4db0a971fc058d06dbce": {
      "model_module": "@jupyter-widgets/controls",
      "model_module_version": "1.5.0",
      "model_name": "CheckboxModel",
      "state": {
       "description": "Flip90",
       "disabled": false,
       "layout": "IPY_MODEL_4b9b9b6ce71044f9af57e24f12dbee51",
       "style": "IPY_MODEL_5767b2577cd44ba88225892ec4c7dd1b",
       "value": true
      }
     },
     "ed8ab8dd65c24c36a40d5b321cb961a0": {
      "model_module": "@jupyter-widgets/controls",
      "model_module_version": "1.5.0",
      "model_name": "BoundedIntTextModel",
      "state": {
       "description": "Light Sheet Offset",
       "layout": "IPY_MODEL_42dc12712f204b77a4f261665abdd245",
       "max": 300,
       "min": -300,
       "style": "IPY_MODEL_24d9953eef8145cb9ca4bef3169f16f2",
       "value": 5
      }
     },
     "ee0d28b740ad4b388d6279f89a1085b4": {
      "model_module": "@jupyter-widgets/controls",
      "model_module_version": "1.5.0",
      "model_name": "BoundedIntTextModel",
      "state": {
       "description": "Delete row",
       "layout": "IPY_MODEL_db7a1c48d73a4b23a43eb8c1b3a2fe38",
       "max": 1,
       "min": 1,
       "style": "IPY_MODEL_94289a09302748b9a818cbe01b3df73f",
       "value": 1
      }
     },
     "ee1f438e2efc4e2e925f165b8654cc28": {
      "model_module": "@jupyter-widgets/controls",
      "model_module_version": "1.5.0",
      "model_name": "DescriptionStyleModel",
      "state": {
       "description_width": "initial"
      }
     },
     "ee6e0693516c48f2aeafa4da41c41851": {
      "model_module": "@jupyter-widgets/base",
      "model_module_version": "1.2.0",
      "model_name": "LayoutModel",
      "state": {}
     },
     "ef57a6a7bdf6420f82c7b48e21f90287": {
      "model_module": "@jupyter-widgets/controls",
      "model_module_version": "1.5.0",
      "model_name": "IntSliderModel",
      "state": {
       "continuous_update": false,
       "description": "Gain",
       "layout": "IPY_MODEL_ad479381775447978f131e6febfae027",
       "max": 47,
       "min": 1,
       "style": "IPY_MODEL_1959285c24cf4dda90e4c2433d3a939d",
       "value": 1
      }
     },
     "ef5b346cfdc742809c2cc6ff1f8dd276": {
      "model_module": "@jupyter-widgets/controls",
      "model_module_version": "1.5.0",
      "model_name": "VBoxModel",
      "state": {
       "_dom_classes": [
        "widget-interact"
       ],
       "children": [
        "IPY_MODEL_316cb419f6364553868a93392519ec9c",
        "IPY_MODEL_638d7bf5eb8e4eb5a6a56fa868bb17f7",
        "IPY_MODEL_2b4f411adfd343ce8f68366a05141c8f",
        "IPY_MODEL_8269480bd5ec439492b18137fb2100e9"
       ],
       "layout": "IPY_MODEL_e984dcfdcb244236876a7384577c57a4"
      }
     },
     "efacb02684e64c55b05dc98cb51de620": {
      "model_module": "@jupyter-widgets/controls",
      "model_module_version": "1.5.0",
      "model_name": "ButtonModel",
      "state": {
       "description": "Snapshot",
       "layout": "IPY_MODEL_19c3f906ba9f4fba8720fec8ed2edfb4",
       "style": "IPY_MODEL_7398a984a0ab4aa1bf67908150967070"
      }
     },
     "efd5a18382444cf9980d7935464d02fc": {
      "model_module": "@jupyter-widgets/controls",
      "model_module_version": "1.5.0",
      "model_name": "DescriptionStyleModel",
      "state": {
       "description_width": "initial"
      }
     },
     "eff731c8d8b14ea1ab59bce9c6bad6f9": {
      "model_module": "@jupyter-widgets/controls",
      "model_module_version": "1.5.0",
      "model_name": "ButtonModel",
      "state": {
       "description": "Snapshot",
       "layout": "IPY_MODEL_86afebbaefb04d6f9bd4e79c9d075355",
       "style": "IPY_MODEL_c4f761e5f3284f36a180c522247a5908"
      }
     },
     "f033c681c95c43698380eae88a1977a5": {
      "model_module": "@jupyter-widgets/controls",
      "model_module_version": "1.5.0",
      "model_name": "VBoxModel",
      "state": {
       "children": [
        "IPY_MODEL_712cabca357344dd81f4a0ef808bc22e",
        "IPY_MODEL_4c1d704fd4f74f008259ea243aaa5c4b"
       ],
       "layout": "IPY_MODEL_ffc78f47d0bd42aeacd7094560f9cf91"
      }
     },
     "f0878d31714b4a5bbec7f38348648b89": {
      "model_module": "@jupyter-widgets/controls",
      "model_module_version": "1.5.0",
      "model_name": "IntSliderModel",
      "state": {
       "continuous_update": false,
       "description": "Scan Range",
       "layout": "IPY_MODEL_7f720a81895c466ca9a9b6f12b906fde",
       "max": 1280,
       "min": 1,
       "style": "IPY_MODEL_1073f4191e344758833d0a3c19387075",
       "value": 100
      }
     },
     "f0a2afdf223f4a33b81c172427e1e46c": {
      "model_module": "@jupyter-widgets/base",
      "model_module_version": "1.2.0",
      "model_name": "LayoutModel",
      "state": {
       "width": "90%"
      }
     },
     "f0b89c55739e4ad197ed9b5123a71eed": {
      "model_module": "ipysheet",
      "model_module_version": "~0.4.4",
      "model_name": "CellRangeModel",
      "state": {
       "_view_module": null,
       "_view_module_version": "",
       "column_end": 3,
       "column_start": 0,
       "row_end": 4,
       "row_start": 4,
       "squeeze_column": false,
       "type": "text",
       "value": [
        "",
        "",
        "",
        ""
       ]
      }
     },
     "f0c5f27531ee4fff81b2541252ffe997": {
      "model_module": "@jupyter-widgets/controls",
      "model_module_version": "1.5.0",
      "model_name": "VBoxModel",
      "state": {
       "children": [
        "IPY_MODEL_2c174e530846460d93543412fd96e364",
        "IPY_MODEL_caf45987112e42769871039b83594216",
        "IPY_MODEL_a395e828e85c40d5b8eb40f24c4ca2ba",
        "IPY_MODEL_43ea921a0fd241bca1de5356db884fea",
        "IPY_MODEL_3a080a0b718a4a31b8d7aa5546b2850c"
       ],
       "layout": "IPY_MODEL_c8ac40590b67498eb1d2d2cefed7dd8b"
      }
     },
     "f0cbeeeb94874f52a44807f3c0298129": {
      "model_module": "@jupyter-widgets/controls",
      "model_module_version": "1.5.0",
      "model_name": "DescriptionStyleModel",
      "state": {
       "description_width": "initial"
      }
     },
     "f0e72a8698cd464da9578f0aa96b4922": {
      "model_module": "@jupyter-widgets/controls",
      "model_module_version": "1.5.0",
      "model_name": "SliderStyleModel",
      "state": {
       "description_width": "initial"
      }
     },
     "f13ad93f85d141418925ef8409ae9b1d": {
      "model_module": "@jupyter-widgets/controls",
      "model_module_version": "1.5.0",
      "model_name": "IntSliderModel",
      "state": {
       "continuous_update": false,
       "description": "Frame rate (HZ)",
       "layout": "IPY_MODEL_5ee48308cc8a4c16b7db305cb0cfaf86",
       "max": 30,
       "min": 1,
       "style": "IPY_MODEL_e4f0f75d87ac4e788139edcde713f056",
       "value": 10
      }
     },
     "f171f50fe6014089b357eb3c4056d685": {
      "model_module": "ipysheet",
      "model_module_version": "~0.4.4",
      "model_name": "CellRangeModel",
      "state": {
       "_view_module": null,
       "_view_module_version": "",
       "column_end": 0,
       "column_start": 0,
       "row_end": 4,
       "row_start": 4,
       "type": "text",
       "value": ""
      }
     },
     "f1bd88eefd774905967b521cd0f65194": {
      "model_module": "@jupyter-widgets/base",
      "model_module_version": "1.2.0",
      "model_name": "LayoutModel",
      "state": {}
     },
     "f22e25f1dd48455d8ba92022da8ace81": {
      "model_module": "@jupyter-widgets/base",
      "model_module_version": "1.2.0",
      "model_name": "LayoutModel",
      "state": {
       "width": "90%"
      }
     },
     "f266436d74f54fbab4ba0bba6fdf72d0": {
      "model_module": "ipysheet",
      "model_module_version": "~0.4.4",
      "model_name": "CellRangeModel",
      "state": {
       "_view_module": null,
       "_view_module_version": "",
       "column_end": 2,
       "column_start": 2,
       "row_end": 0,
       "row_start": 0,
       "type": "numeric",
       "value": 26.7
      }
     },
     "f29a4c6e5e3b4fa19e07efdf054230f8": {
      "model_module": "@jupyter-widgets/controls",
      "model_module_version": "1.5.0",
      "model_name": "VBoxModel",
      "state": {
       "children": [
        "IPY_MODEL_9e1e007747814b0db1317f622a30236a",
        "IPY_MODEL_eff731c8d8b14ea1ab59bce9c6bad6f9",
        "IPY_MODEL_691fba9c7d25429ebbd0ad7818c16105"
       ],
       "layout": "IPY_MODEL_ce9dd68e47194e268cb47d2e57700dfd"
      }
     },
     "f2ab3531d8194be8a3252c44d827ead3": {
      "model_module": "@jupyter-widgets/base",
      "model_module_version": "1.2.0",
      "model_name": "LayoutModel",
      "state": {}
     },
     "f2ede2a320af4a93b20ac48941948b80": {
      "model_module": "@jupyter-widgets/controls",
      "model_module_version": "1.5.0",
      "model_name": "IntSliderModel",
      "state": {
       "continuous_update": false,
       "description": "Height",
       "layout": "IPY_MODEL_f3efdf81ade342e9b626bfecddedbec8",
       "max": 720,
       "style": "IPY_MODEL_92c5064857fb48fea76325e2f49ecb17",
       "value": 200
      }
     },
     "f3a0299358274775a6caf23f9182ed2d": {
      "model_module": "@jupyter-widgets/base",
      "model_module_version": "1.2.0",
      "model_name": "LayoutModel",
      "state": {}
     },
     "f3ac4d72443f4413a9c5eeffd9bdeadf": {
      "model_module": "@jupyter-widgets/controls",
      "model_module_version": "1.5.0",
      "model_name": "VBoxModel",
      "state": {
       "children": [
        "IPY_MODEL_e916524865b045ad8a647cb0c6f39dac",
        "IPY_MODEL_2738ac0259f04dfbbab16afbec9541eb"
       ],
       "layout": "IPY_MODEL_52d7fa521c514fb98940c5ec4d06c5f5"
      }
     },
     "f3efdf81ade342e9b626bfecddedbec8": {
      "model_module": "@jupyter-widgets/base",
      "model_module_version": "1.2.0",
      "model_name": "LayoutModel",
      "state": {
       "width": "90%"
      }
     },
     "f421955b4a3d470284385f374d00eda5": {
      "model_module": "@jupyter-widgets/base",
      "model_module_version": "1.2.0",
      "model_name": "LayoutModel",
      "state": {}
     },
     "f428ae92fb0b434eb3698c4be41f015f": {
      "model_module": "ipysheet",
      "model_module_version": "~0.4.4",
      "model_name": "CellRangeModel",
      "state": {
       "_view_module": null,
       "_view_module_version": "",
       "column_end": 2,
       "column_start": 2,
       "row_end": 5,
       "row_start": 5,
       "type": "numeric",
       "value": 25
      }
     },
     "f4481e7f5ba04156aa3c23254600b91f": {
      "model_module": "@jupyter-widgets/base",
      "model_module_version": "1.2.0",
      "model_name": "LayoutModel",
      "state": {
       "grid_area": "delRow",
       "width": "auto"
      }
     },
     "f4c9efe7c24149f8ad88a1cdbb8447db": {
      "model_module": "@jupyter-widgets/controls",
      "model_module_version": "1.5.0",
      "model_name": "ButtonStyleModel",
      "state": {}
     },
     "f4ceb599a13e416f98cfce3b1557e5bf": {
      "model_module": "@jupyter-widgets/base",
      "model_module_version": "1.2.0",
      "model_name": "LayoutModel",
      "state": {}
     },
     "f502bd55d77442caa01f53c08d4ba450": {
      "model_module": "ipysheet",
      "model_module_version": "~0.4.4",
      "model_name": "CellRangeModel",
      "state": {
       "_view_module": null,
       "_view_module_version": "",
       "column_end": 0,
       "column_start": 0,
       "row_end": 6,
       "row_start": 6,
       "type": "text",
       "value": ""
      }
     },
     "f5323419c2474ef78f05bb73c42fbe0c": {
      "model_module": "@jupyter-widgets/controls",
      "model_module_version": "1.5.0",
      "model_name": "DescriptionStyleModel",
      "state": {
       "description_width": "initial"
      }
     },
     "f53828dace2f49cbb1b893d64d3675ae": {
      "model_module": "@jupyter-widgets/base",
      "model_module_version": "1.2.0",
      "model_name": "LayoutModel",
      "state": {
       "grid_area": "overlap",
       "width": "auto"
      }
     },
     "f53e20eeb03b4b14b882ae75e1a920a4": {
      "model_module": "@jupyter-widgets/controls",
      "model_module_version": "1.5.0",
      "model_name": "ButtonModel",
      "state": {
       "description": "Preview Scan",
       "layout": "IPY_MODEL_b52a63824d2948319318345f83e5df5e",
       "style": "IPY_MODEL_3fb5ce1b5992450e96e79e648d83bd95"
      }
     },
     "f53e5fb45af84550b790cafa0b1b382b": {
      "model_module": "@jupyter-widgets/controls",
      "model_module_version": "1.5.0",
      "model_name": "ButtonStyleModel",
      "state": {}
     },
     "f5907a8e80f741d0a40d43bbbf3f8acd": {
      "model_module": "@jupyter-widgets/controls",
      "model_module_version": "1.5.0",
      "model_name": "BoundedFloatTextModel",
      "state": {
       "description": "delta Z (um)",
       "layout": "IPY_MODEL_f6e77134145b49c29fc9cbedd5a38d4a",
       "max": 10,
       "min": 0.001,
       "step": 0.001,
       "style": "IPY_MODEL_d2a4092b9a0d4ab2ba5f5c7588ed063f",
       "value": 0.1
      }
     },
     "f5913ebc591140ed814c9e921afb50f2": {
      "model_module": "@jupyter-widgets/controls",
      "model_module_version": "1.5.0",
      "model_name": "ButtonModel",
      "state": {
       "description": "Snapshot",
       "layout": "IPY_MODEL_89726ff1796248b08ecb4205788bedcf",
       "style": "IPY_MODEL_50c0e75b720a4c9294aafb2653c4432d"
      }
     },
     "f5a73f13139e4e668501f073b7ce3b43": {
      "model_module": "@jupyter-widgets/controls",
      "model_module_version": "1.5.0",
      "model_name": "HBoxModel",
      "state": {
       "children": [
        "IPY_MODEL_f3ac4d72443f4413a9c5eeffd9bdeadf",
        "IPY_MODEL_f033c681c95c43698380eae88a1977a5"
       ],
       "layout": "IPY_MODEL_738bfba6e7ef4caa9e6e9319a142f339"
      }
     },
     "f5d0e9583ac24952afebac9f2ea156ab": {
      "model_module": "ipysheet",
      "model_module_version": "~0.4.4",
      "model_name": "SheetModel",
      "state": {
       "layout": "IPY_MODEL_8d5abd57b661492cad29c941bd1a6a4c",
       "rows": 20
      }
     },
     "f5e0a54bf17f4820bbba233dc17e5c40": {
      "model_module": "@jupyter-widgets/controls",
      "model_module_version": "1.5.0",
      "model_name": "ButtonModel",
      "state": {
       "description": "Exit",
       "layout": "IPY_MODEL_cee03dc0308242e4a0a08d8c34739e73",
       "style": "IPY_MODEL_d40dc75309f845d387b1ebf5ea8c8b2b"
      }
     },
     "f605c9b9874342eea2130dc265ba8fac": {
      "model_module": "@jupyter-widgets/base",
      "model_module_version": "1.2.0",
      "model_name": "LayoutModel",
      "state": {}
     },
     "f681211cfe554bbfa568c0ae374c4b61": {
      "model_module": "@jupyter-widgets/base",
      "model_module_version": "1.2.0",
      "model_name": "LayoutModel",
      "state": {
       "grid_area": "minZ",
       "width": "auto"
      }
     },
     "f6c0f405772e4ff1a73f411af4d0ed6f": {
      "model_module": "@jupyter-widgets/controls",
      "model_module_version": "1.5.0",
      "model_name": "GridBoxModel",
      "state": {
       "children": [
        "IPY_MODEL_979c90e15e194896bb6cf5f8893ddbf0",
        "IPY_MODEL_3f70fc209c804bba87035a600b7ec334",
        "IPY_MODEL_238b6c72ed74439bb8be6ba68414f990",
        "IPY_MODEL_a5665c8079a844b1b2527621220607de",
        "IPY_MODEL_5629f2244945430e8cd3106da7391662",
        "IPY_MODEL_bafe4b492fc148bdb9c41ae5008b9098",
        "IPY_MODEL_e36f79de196c4c129f21cd7d78905870"
       ],
       "layout": "IPY_MODEL_6dfec860c72e4c3393585c6cfeabc8c9"
      }
     },
     "f6dfb547886a47e6b1f4326fa5614b7e": {
      "model_module": "@jupyter-widgets/controls",
      "model_module_version": "1.5.0",
      "model_name": "DescriptionStyleModel",
      "state": {
       "description_width": "initial"
      }
     },
     "f6e77134145b49c29fc9cbedd5a38d4a": {
      "model_module": "@jupyter-widgets/base",
      "model_module_version": "1.2.0",
      "model_name": "LayoutModel",
      "state": {
       "grid_area": "deltaZ",
       "width": "auto"
      }
     },
     "f6f98894766c4f12ae1fe53c577d300f": {
      "model_module": "@jupyter-widgets/controls",
      "model_module_version": "1.5.0",
      "model_name": "ButtonModel",
      "state": {
       "description": "Start Acquisition",
       "layout": "IPY_MODEL_f2ab3531d8194be8a3252c44d827ead3",
       "style": "IPY_MODEL_b9630419729344e78c335b257892fe77"
      }
     },
     "f72de42f27fb471ea6f330559e1cf204": {
      "model_module": "@jupyter-widgets/controls",
      "model_module_version": "1.5.0",
      "model_name": "DescriptionStyleModel",
      "state": {
       "description_width": "initial"
      }
     },
     "f79cb0f5a5094ebf83eb77788b9fd950": {
      "model_module": "@jupyter-widgets/controls",
      "model_module_version": "1.5.0",
      "model_name": "BoundedFloatTextModel",
      "state": {
       "description": "Stage Z (um)",
       "layout": "IPY_MODEL_3b92e3c88f15443b9cd12d51ecee4792",
       "max": 50,
       "step": 0.001,
       "style": "IPY_MODEL_b1c2fc36560248d29feb38545c2ef9ae",
       "value": 25
      }
     },
     "f7eeb3054c37476eb2f9dbbc52b7aaad": {
      "model_module": "@jupyter-widgets/controls",
      "model_module_version": "1.5.0",
      "model_name": "TextModel",
      "state": {
       "description": "Saving to:",
       "layout": "IPY_MODEL_8ba7233d80054f0db6d3eda370f9e3d6",
       "placeholder": "Saving path",
       "style": "IPY_MODEL_88bdf05231b748e79acccc7eb13d87cf",
       "value": "/media/yannan/Samsung_T5/acquisition"
      }
     },
     "f83566242c90405b8c86d6b80d750790": {
      "model_module": "@jupyter-widgets/controls",
      "model_module_version": "1.5.0",
      "model_name": "SliderStyleModel",
      "state": {
       "description_width": "initial"
      }
     },
     "f83d3811b80d4275adafade34ad154b4": {
      "model_module": "@jupyter-widgets/base",
      "model_module_version": "1.2.0",
      "model_name": "LayoutModel",
      "state": {
       "grid_area": "lsOffset",
       "width": "auto"
      }
     },
     "f841908b58734801882fd188b792ce61": {
      "model_module": "@jupyter-widgets/base",
      "model_module_version": "1.2.0",
      "model_name": "LayoutModel",
      "state": {
       "border": "solid 1px",
       "grid_template_areas": "\n                                        \"addOffset . . .\"\n                                        \"stageX stageY stageZ lsOffset\"\n                                        \"delOffset delRow . .\"\n                                    ",
       "grid_template_columns": "25% 25% 25% 25%",
       "grid_template_rows": "auto auto auto",
       "width": "100%"
      }
     },
     "f845f13255874db19797d8faad0e7da9": {
      "model_module": "@jupyter-widgets/controls",
      "model_module_version": "1.5.0",
      "model_name": "SliderStyleModel",
      "state": {
       "description_width": "initial"
      }
     },
     "f84ac46e943b4f37bf42cf860551acd4": {
      "model_module": "@jupyter-widgets/controls",
      "model_module_version": "1.5.0",
      "model_name": "ButtonModel",
      "state": {
       "description": "Add Offset",
       "layout": "IPY_MODEL_7cf1c2852e2d4af39d337e6acb11d3b4",
       "style": "IPY_MODEL_62b04b3c2c434c36b9d4b8db56b34827"
      }
     },
     "f89b9e1eb3b24949909862ec043fa426": {
      "model_module": "@jupyter-widgets/controls",
      "model_module_version": "1.5.0",
      "model_name": "BoundedIntTextModel",
      "state": {
       "description": "WideField Frames",
       "layout": "IPY_MODEL_6ada4adca2fd4ebfb00f0702b9ab2801",
       "max": 10000,
       "min": 1,
       "style": "IPY_MODEL_88f2c9ec98c646afa43396039236173c",
       "value": 1
      }
     },
     "f89e51444ba046efb31cb3f5cb38edbc": {
      "model_module": "@jupyter-widgets/base",
      "model_module_version": "1.2.0",
      "model_name": "LayoutModel",
      "state": {
       "width": "70%"
      }
     },
     "f8a1dad4c72841ba8124898f5b810ce3": {
      "model_module": "@jupyter-widgets/controls",
      "model_module_version": "1.5.0",
      "model_name": "DescriptionStyleModel",
      "state": {
       "description_width": ""
      }
     },
     "f8e8d629be43499ebef4367c9c3d37c2": {
      "model_module": "@jupyter-widgets/controls",
      "model_module_version": "1.5.0",
      "model_name": "SliderStyleModel",
      "state": {
       "description_width": ""
      }
     },
     "f944ea103f014b918bd534d6253b4ca7": {
      "model_module": "ipysheet",
      "model_module_version": "~0.4.4",
      "model_name": "SheetModel",
      "state": {
       "cells": [
        "IPY_MODEL_2d539fdda0034ab5a934afd08cca30f3",
        "IPY_MODEL_04a0c3e835e7476685e9f74d7003d6d5",
        "IPY_MODEL_c3126d8ac9ad4bae873fe37971971bed",
        "IPY_MODEL_933304609c6941e9810f180f9ae78791",
        "IPY_MODEL_7c177c946ce1417da7ebad894c7ec155",
        "IPY_MODEL_aff3c74acdf24d1ebce29c26384e4034",
        "IPY_MODEL_db87ad31f7eb4ecd93f5d38bcf80d737",
        "IPY_MODEL_1b27511f6f834731a797dc0dac8aa98b",
        "IPY_MODEL_018bf8d26e3944009ab8e1732c1e1a12",
        "IPY_MODEL_8668b36f54304e5693b91ca4f178ab5a",
        "IPY_MODEL_63f3cead437c46b2b9bf2baf36062e1d",
        "IPY_MODEL_fd2d4f9073954df8ab2778e0aef875bc",
        "IPY_MODEL_c1ea1b3be2c24c2a9175d86c3fc7a70f",
        "IPY_MODEL_4cf702a32a3146908bd1f9bffc74fde3",
        "IPY_MODEL_a231c6961b8446cdaf2cd3db5452122a",
        "IPY_MODEL_7432149447b74a709dcb11ec5a7b931f",
        "IPY_MODEL_22f0487ec6ff447caef62f6a4c909dd2",
        "IPY_MODEL_49abf1a3b9834a2ba871aaadb278c9f5",
        "IPY_MODEL_5986e03fcc4042e1854d91811bc9d562",
        "IPY_MODEL_7b2bb000c21d4e8bae1b7133eb8c8c87",
        "IPY_MODEL_9174480b3cf348bb82d3840b892b4188",
        "IPY_MODEL_86ab18bbd48347fdaad579e5a0be2f89",
        "IPY_MODEL_cb5b3861c1f2404b835b43e7ed43e024",
        "IPY_MODEL_5425a21d66e14fd58ec7a16a1979a9d9",
        "IPY_MODEL_99ae0a3fc59240e38c0aa47b3d70609e",
        "IPY_MODEL_652defc2267a4064a25fcbb2617d8bbe",
        "IPY_MODEL_5f528afdfff14c24be62da1eab2f48cb",
        "IPY_MODEL_9b3939c063df463ea7ed3d1621b14474",
        "IPY_MODEL_a341da4ffd1b417d8b109d18d95ec49a",
        "IPY_MODEL_2a0eabc513b545d9813c806413bbcb8e",
        "IPY_MODEL_68497ab14866462e906ed1fde3da7426",
        "IPY_MODEL_c876eed1c8a14555a9509a8984ffa91d",
        "IPY_MODEL_ce17bad1847749f88b63f4456e9949aa",
        "IPY_MODEL_d27e65104039415a8fc1e5c951c0756e",
        "IPY_MODEL_80214c1dc65041b59726722ae31d379e",
        "IPY_MODEL_40f9d3a845514efcb980f7e9e8b8375d",
        "IPY_MODEL_77e6051183904dbfbb1f790444560926",
        "IPY_MODEL_4fc43b3fd63e4c06bd51537fcc6ebfcf",
        "IPY_MODEL_07172ab11c264062af412e4fe44e31dc",
        "IPY_MODEL_6ea00ac955e34b7f85664bc16d9f3fb5",
        "IPY_MODEL_69247b89f7de4420befaebc735ca600b",
        "IPY_MODEL_37e070d3939d41a1867b63ad936fe320",
        "IPY_MODEL_127ea4cf8d9c47eea6ae31686778a1aa",
        "IPY_MODEL_8a1a2c54926c486186dd50b0977f7e4c",
        "IPY_MODEL_08650596c2744c16bd4b0f80169b35c9",
        "IPY_MODEL_a94cf734d6e148b3917de066a1ed2df9",
        "IPY_MODEL_34d72d292417450092fdf69394ac6a1b",
        "IPY_MODEL_51821f303f6a436d884f07256e1f0d1b",
        "IPY_MODEL_685cb3fc37a44c19b5661278f0e33942",
        "IPY_MODEL_4da9d94f371342c4b7314f747a7a1c67",
        "IPY_MODEL_3d8d053236034388ae54f06d0936df3e",
        "IPY_MODEL_c14ad31893914c01903602379f8cdb7a",
        "IPY_MODEL_f266436d74f54fbab4ba0bba6fdf72d0",
        "IPY_MODEL_696cc6aac7ed4f939e65777cffbc1e9b",
        "IPY_MODEL_c86442d7d2bc4b8d9f261b8c5511be6d",
        "IPY_MODEL_14e872b2006f46d9b978a9886f9ea048",
        "IPY_MODEL_2277a0c6d6514f6a94c76c2ef0eff3ef",
        "IPY_MODEL_344785eec2f1458095c726bcc49b1e13",
        "IPY_MODEL_7fd26f7083f94363a6943f87a5894561",
        "IPY_MODEL_ae07ae1df8d74c73b3f638ee85bd5d2d",
        "IPY_MODEL_cb05a74ed1f84f6a88e92b3f796ec25f",
        "IPY_MODEL_6661d99c692342589d6ee00ea305f4e1",
        "IPY_MODEL_24c7c3cd248e4deeb2c9407697e20d75",
        "IPY_MODEL_ecca3b7df67a462988f92e83698d91ea",
        "IPY_MODEL_118104858f644295afa5df537bd337d2",
        "IPY_MODEL_7104a3fefa824d1b856c4025066beb07",
        "IPY_MODEL_7bb0dfec06fc465bbb605b42e762d868",
        "IPY_MODEL_8e2513a256874f2d82528fc2e1359446",
        "IPY_MODEL_0bb984aff1e7452e9c8f4c0fd4b6554e",
        "IPY_MODEL_f966c5d1094b46ee9c27fdaf92691edd",
        "IPY_MODEL_07154b4b73b742c6be08954a6975d9ee",
        "IPY_MODEL_9d7ad32d4395469c8cd3f015ba14d8ad",
        "IPY_MODEL_c7ecaaeb00f547828a3d31d3835819b7",
        "IPY_MODEL_b8d9be17d1dc4f6285b454f5a53ca4a8",
        "IPY_MODEL_45340c3f0c55418db367b4c7a3a47e9b",
        "IPY_MODEL_b149fbb8d9de40c48ab5164bf5447253",
        "IPY_MODEL_e53f4356779b4968ac3b5e45ccbd2cae",
        "IPY_MODEL_04f8d1b686184a66a0fa795008160aff",
        "IPY_MODEL_dd75ec7772bf403e95c59cba1c9ad5c0",
        "IPY_MODEL_8d419bf4d6b54a90b9ee3a1db978b17b",
        "IPY_MODEL_888c4416993743568a11dcf697ad9827",
        "IPY_MODEL_53123148dc684eb481b6113c916ee442",
        "IPY_MODEL_a6702e2b548748b198594271478bb8a8",
        "IPY_MODEL_345b93a5857649028919514cecd4bc19",
        "IPY_MODEL_339c50ab8ff149629480d0e6ad7d2cd8",
        "IPY_MODEL_d0ed150762ce4ec29da590f5a5ec8f56",
        "IPY_MODEL_06bba82c1da3439cbd05648c08bca7a7",
        "IPY_MODEL_c706d7d51f4b4c1f81530618a63d4898",
        "IPY_MODEL_960bc1eea49c4dd5bad611978227256e",
        "IPY_MODEL_d9fc54d909924069a7c6d9eca1a00fd2",
        "IPY_MODEL_16950d15bab446bf83cab2b9bccfac48",
        "IPY_MODEL_41b018afc2124667b0e82a9830ebbaa4",
        "IPY_MODEL_f428ae92fb0b434eb3698c4be41f015f",
        "IPY_MODEL_3ce1570b14c740068fb99646866fed0b",
        "IPY_MODEL_f502bd55d77442caa01f53c08d4ba450",
        "IPY_MODEL_3a41caef7f3845739bbbde8830b4e5bf",
        "IPY_MODEL_51cc6b7dcfdf41a1a58166567ae2fd0c",
        "IPY_MODEL_fe7405afe191459cba4d11735e7c044a"
       ],
       "column_headers": [
        "X",
        "Y",
        "Z",
        "Offset"
       ],
       "layout": "IPY_MODEL_7a34fab359ff4c68a02ccd202d1a84f8",
       "rows": 20
      }
     },
     "f947d1a6c0484951b31f02e5be14fd84": {
      "model_module": "@jupyter-widgets/controls",
      "model_module_version": "1.5.0",
      "model_name": "ButtonStyleModel",
      "state": {}
     },
     "f966c5d1094b46ee9c27fdaf92691edd": {
      "model_module": "ipysheet",
      "model_module_version": "~0.4.4",
      "model_name": "CellRangeModel",
      "state": {
       "_view_module": null,
       "_view_module_version": "",
       "column_end": 3,
       "column_start": 0,
       "row_end": 6,
       "row_start": 6,
       "squeeze_column": false,
       "type": "numeric",
       "value": [
        "",
        "",
        "",
        ""
       ]
      }
     },
     "f995f784a0414ceb93dd948d9b37b3fc": {
      "model_module": "@jupyter-widgets/base",
      "model_module_version": "1.2.0",
      "model_name": "LayoutModel",
      "state": {
       "width": "90%"
      }
     },
     "f9d9a8fc179c41eab603b2015f285f62": {
      "model_module": "@jupyter-widgets/controls",
      "model_module_version": "1.5.0",
      "model_name": "TabModel",
      "state": {
       "_titles": {
        "0": "Light sheet scan",
        "1": "Wide Field",
        "2": "Large FOV"
       },
       "children": [
        "IPY_MODEL_e8fa179cc2a64844b94f128ce8ec6cf4",
        "IPY_MODEL_3f433d1a6bc646389487179daa2c3537",
        "IPY_MODEL_66af387d6ceb4714beb14be4f9a758a3"
       ],
       "layout": "IPY_MODEL_8de7b91fd7a84f70b5173df56539eaa1",
       "selected_index": 2
      }
     },
     "f9fc0258b0a54c7ead9b54709b2c6508": {
      "model_module": "@jupyter-widgets/controls",
      "model_module_version": "1.5.0",
      "model_name": "IntSliderModel",
      "state": {
       "continuous_update": false,
       "description": "Green",
       "layout": "IPY_MODEL_2fe980afd1c24dce96469f1ff99b7980",
       "max": 255,
       "style": "IPY_MODEL_45754a55224d4c1b8f5f50db0f7ced72"
      }
     },
     "fa79c2215a424f1dac007d944c8ffb32": {
      "model_module": "@jupyter-widgets/base",
      "model_module_version": "1.2.0",
      "model_name": "LayoutModel",
      "state": {
       "grid_area": "minZ",
       "width": "auto"
      }
     },
     "fb1f218d7bad4df79b7e962ab47a9627": {
      "model_module": "ipysheet",
      "model_module_version": "~0.4.4",
      "model_name": "CellRangeModel",
      "state": {
       "_view_module": null,
       "_view_module_version": "",
       "column_end": 3,
       "column_start": 0,
       "row_end": 0,
       "row_start": 0,
       "squeeze_column": false,
       "type": "numeric",
       "value": [
        "",
        "",
        "",
        ""
       ]
      }
     },
     "fb24887703604965bf8db6aca0f4a841": {
      "model_module": "@jupyter-widgets/base",
      "model_module_version": "1.2.0",
      "model_name": "LayoutModel",
      "state": {
       "grid_area": "addOffset",
       "width": "auto"
      }
     },
     "fb2752bc991642489b9ef2a5e63cf4f5": {
      "model_module": "@jupyter-widgets/base",
      "model_module_version": "1.2.0",
      "model_name": "LayoutModel",
      "state": {
       "width": "70%"
      }
     },
     "fb2fc14595b9401c837567c748a55001": {
      "model_module": "@jupyter-widgets/controls",
      "model_module_version": "1.5.0",
      "model_name": "ButtonStyleModel",
      "state": {}
     },
     "fb4665de110c433ea272a38d6097a41a": {
      "model_module": "@jupyter-widgets/controls",
      "model_module_version": "1.5.0",
      "model_name": "IntSliderModel",
      "state": {
       "continuous_update": false,
       "description": "Gain",
       "layout": "IPY_MODEL_84350d686e5242d3b1d66d6b820fd9c2",
       "max": 47,
       "min": 1,
       "style": "IPY_MODEL_81b9f4c7de8b4bf19614852302213834",
       "value": 1
      }
     },
     "fbc31a44a75f4b778e5167135d679e51": {
      "model_module": "@jupyter-widgets/controls",
      "model_module_version": "1.5.0",
      "model_name": "BoundedFloatTextModel",
      "state": {
       "description": "Scan max Y (um)",
       "layout": "IPY_MODEL_82a209faa8f84bbabbcefb84cccabdca",
       "max": 50,
       "step": 0.001,
       "style": "IPY_MODEL_9bba4bbbbdc5430e9dbc1b535b3fcfca",
       "value": 25.5
      }
     },
     "fc086ec1bfe344318e0eee08fcbfeb94": {
      "model_module": "@jupyter-widgets/base",
      "model_module_version": "1.2.0",
      "model_name": "LayoutModel",
      "state": {}
     },
     "fc22c6c5d7cc4a2eb10cb5fec596bb88": {
      "model_module": "@jupyter-widgets/controls",
      "model_module_version": "1.5.0",
      "model_name": "SliderStyleModel",
      "state": {
       "description_width": "initial"
      }
     },
     "fc2d9ec9bd3646a7887715d416ab8e0a": {
      "model_module": "@jupyter-widgets/base",
      "model_module_version": "1.2.0",
      "model_name": "LayoutModel",
      "state": {}
     },
     "fc9ed7c61fe24db8a6d0141360754cf2": {
      "model_module": "@jupyter-widgets/base",
      "model_module_version": "1.2.0",
      "model_name": "LayoutModel",
      "state": {
       "height": "auto",
       "width": "auto"
      }
     },
     "fd2d4f9073954df8ab2778e0aef875bc": {
      "model_module": "ipysheet",
      "model_module_version": "~0.4.4",
      "model_name": "CellRangeModel",
      "state": {
       "_view_module": null,
       "_view_module_version": "",
       "type": "numeric",
       "value": 49
      }
     },
     "fd31a72eb87e4cc5aba73615c4180213": {
      "model_module": "@jupyter-widgets/controls",
      "model_module_version": "1.5.0",
      "model_name": "DescriptionStyleModel",
      "state": {
       "description_width": "initial"
      }
     },
     "fd39a8b07f584bc69c17b827f0cc537e": {
      "model_module": "@jupyter-widgets/base",
      "model_module_version": "1.2.0",
      "model_name": "LayoutModel",
      "state": {
       "grid_area": "maxY",
       "width": "auto"
      }
     },
     "fd58072f17bc4b74bf3bd3fe08485b58": {
      "model_module": "ipysheet",
      "model_module_version": "~0.4.4",
      "model_name": "CellRangeModel",
      "state": {
       "_view_module": null,
       "_view_module_version": "",
       "column_end": 3,
       "column_start": 0,
       "squeeze_column": false,
       "type": "text",
       "value": [
        "",
        "",
        "",
        ""
       ]
      }
     },
     "fd8884732e624927b6d86716a068b49e": {
      "model_module": "@jupyter-widgets/base",
      "model_module_version": "1.2.0",
      "model_name": "LayoutModel",
      "state": {}
     },
     "fdb7e14eda9142748dea4bd1a0d0a744": {
      "model_module": "ipysheet",
      "model_module_version": "~0.4.4",
      "model_name": "CellRangeModel",
      "state": {
       "_view_module": null,
       "_view_module_version": "",
       "column_end": 3,
       "column_start": 0,
       "row_end": 0,
       "row_start": 0,
       "squeeze_column": false,
       "type": "numeric",
       "value": [
        "",
        "",
        "",
        ""
       ]
      }
     },
     "fdcf03e529eb4ec290149dbcc876455f": {
      "model_module": "@jupyter-widgets/base",
      "model_module_version": "1.2.0",
      "model_name": "LayoutModel",
      "state": {
       "width": "50%"
      }
     },
     "fe20405937064b52b473bdeb0ab1d416": {
      "model_module": "@jupyter-widgets/controls",
      "model_module_version": "1.5.0",
      "model_name": "DescriptionStyleModel",
      "state": {
       "description_width": "initial"
      }
     },
     "fe2aa1983fa042cfbbc85172b93e907a": {
      "model_module": "@jupyter-widgets/controls",
      "model_module_version": "1.5.0",
      "model_name": "SliderStyleModel",
      "state": {
       "description_width": ""
      }
     },
     "fe6a66976aa94e3494cde4a82b39b9ec": {
      "model_module": "@jupyter-widgets/controls",
      "model_module_version": "1.5.0",
      "model_name": "ButtonModel",
      "state": {
       "description": "Add Offset",
       "layout": "IPY_MODEL_fb24887703604965bf8db6aca0f4a841",
       "style": "IPY_MODEL_cb26c433412c47ae9b276f38bdf31d27"
      }
     },
     "fe7405afe191459cba4d11735e7c044a": {
      "model_module": "ipysheet",
      "model_module_version": "~0.4.4",
      "model_name": "CellRangeModel",
      "state": {
       "_view_module": null,
       "_view_module_version": "",
       "column_end": 3,
       "column_start": 3,
       "row_end": 6,
       "row_start": 6,
       "type": "text",
       "value": ""
      }
     },
     "feb67253218744d890dacbd59ffe3205": {
      "model_module": "@jupyter-widgets/controls",
      "model_module_version": "1.5.0",
      "model_name": "ButtonModel",
      "state": {
       "description": "Delete Offset",
       "layout": "IPY_MODEL_cd1dc912fa0e4e72812361026f3e2f52",
       "style": "IPY_MODEL_ed1fdabfd15c4d689aa16e879e3d550a"
      }
     },
     "fef030a5cbb348d2816d61d065b30c18": {
      "model_module": "@jupyter-widgets/controls",
      "model_module_version": "1.5.0",
      "model_name": "BoundedFloatTextModel",
      "state": {
       "description": "Scan max Z (um)",
       "layout": "IPY_MODEL_228ea62fd15446ada2d789438ef2879e",
       "max": 50,
       "step": 0.001,
       "style": "IPY_MODEL_5a1a6bb49e3f41518622152b8fa228af",
       "value": 25.5
      }
     },
     "ff354afae42d4cd68a448627544f2cec": {
      "model_module": "@jupyter-widgets/controls",
      "model_module_version": "1.5.0",
      "model_name": "DescriptionStyleModel",
      "state": {
       "description_width": "initial"
      }
     },
     "ff3be810aa9c4636893996078dae9c16": {
      "model_module": "@jupyter-widgets/controls",
      "model_module_version": "1.5.0",
      "model_name": "SliderStyleModel",
      "state": {
       "description_width": ""
      }
     },
     "ff40a808fe284118ac45129b13dae709": {
      "model_module": "@jupyter-widgets/controls",
      "model_module_version": "1.5.0",
      "model_name": "VBoxModel",
      "state": {
       "children": [
        "IPY_MODEL_5473ff5a3ba44bab8861adbef1888664",
        "IPY_MODEL_02a2c1df691a41bfa18a44ec9bc2872c"
       ],
       "layout": "IPY_MODEL_69ced4b1ea1042e4bf8785011dc00f34"
      }
     },
     "ff4712e862814fc58e31c3667a15493b": {
      "model_module": "@jupyter-widgets/controls",
      "model_module_version": "1.5.0",
      "model_name": "IntSliderModel",
      "state": {
       "continuous_update": false,
       "description": "Frame rate (HZ)",
       "layout": "IPY_MODEL_2900ee2dc6574b13927217aaadf94c6f",
       "max": 30,
       "min": 1,
       "style": "IPY_MODEL_0fafe238ebe14cb3b32cc39444eba295",
       "value": 10
      }
     },
     "ff8b0eb6784f4b45b8259de1b55d0106": {
      "model_module": "@jupyter-widgets/base",
      "model_module_version": "1.2.0",
      "model_name": "LayoutModel",
      "state": {
       "border": "solid 1px",
       "grid_template_areas": "\n                                        \"addOffset . . .\"\n                                        \"stageX stageY stageZ lsOffset\"\n                                        \"delOffset delRow . .\"\n                                    ",
       "grid_template_columns": "25% 25% 25% 25%",
       "grid_template_rows": "auto auto auto",
       "width": "100%"
      }
     },
     "ffc28c012cf54a9bbbcbba7a3f84826b": {
      "model_module": "@jupyter-widgets/controls",
      "model_module_version": "1.5.0",
      "model_name": "GridBoxModel",
      "state": {
       "children": [
        "IPY_MODEL_019bb8a8874b4b409bd7b5dab89d80c1",
        "IPY_MODEL_47d27b98d6044ad69fdf8bf03951c21b",
        "IPY_MODEL_5fbf433d4163472db140ba3c787efbb1",
        "IPY_MODEL_d33a272a2af24d7383114214cda19cc7",
        "IPY_MODEL_569aa1672c404e8695c090d5e5599fa8",
        "IPY_MODEL_c1681ac852884728ac2cc895a88169ea",
        "IPY_MODEL_f5907a8e80f741d0a40d43bbbf3f8acd",
        "IPY_MODEL_01a1a021021c4c158affe031e3bb4bc8"
       ],
       "layout": "IPY_MODEL_d6168ed461474165b11a7fc150991747"
      }
     },
     "ffc78f47d0bd42aeacd7094560f9cf91": {
      "model_module": "@jupyter-widgets/base",
      "model_module_version": "1.2.0",
      "model_name": "LayoutModel",
      "state": {
       "width": "50%"
      }
     },
     "ffe77c4bb5e840049e4e2c7437852975": {
      "model_module": "@jupyter-widgets/base",
      "model_module_version": "1.2.0",
      "model_name": "LayoutModel",
      "state": {
       "grid_area": "minZ",
       "width": "auto"
      }
     }
    },
    "version_major": 2,
    "version_minor": 0
   }
  }
 },
 "nbformat": 4,
 "nbformat_minor": 2
}
